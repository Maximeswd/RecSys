{
 "cells": [
  {
   "attachments": {},
   "cell_type": "markdown",
   "metadata": {},
   "source": [
    "## Imports and constants"
   ]
  },
  {
   "cell_type": "code",
   "execution_count": 1,
   "metadata": {},
   "outputs": [],
   "source": [
    "import pandas as pd\n",
    "import numpy as np\n",
    "import plotly.express as px\n",
    "import plotly.graph_objects as go"
   ]
  },
  {
   "cell_type": "code",
   "execution_count": 2,
   "metadata": {},
   "outputs": [],
   "source": [
    "PROPENSITIES = {'original': \"Original\", 'bb-item-user': \"BB Item-User\", 'bb-item': 'BB Item'}\n",
    "RESULTS_FILE = 'aoa_all.csv'"
   ]
  },
  {
   "cell_type": "code",
   "execution_count": 3,
   "metadata": {},
   "outputs": [],
   "source": [
    "METHODS = { 'bpr': 'BPR',\n",
    "            'ubpr' : 'UBPR',\n",
    "            'dubpr': 'DUBPR',\n",
    "            'relmf' : 'RelMF',\n",
    "            'dumf': 'DUMF',\n",
    "            'expomf' : 'ExpoMF',\n",
    "            'ip' : 'ItemPop',\n",
    "            'wmf' : 'WMF',\n",
    "        }"
   ]
  },
  {
   "attachments": {},
   "cell_type": "markdown",
   "metadata": {},
   "source": [
    "## Define functions for loading and plotting results"
   ]
  },
  {
   "cell_type": "code",
   "execution_count": 4,
   "metadata": {},
   "outputs": [],
   "source": [
    "def load_df(results_path, data, propensity, method, results_file):\n",
    "    try :\n",
    "        df = pd.read_csv(f\"{results_path}/{data}/{propensity}/{method}/results/{results_file}\")\n",
    "    except:\n",
    "        print(f\"Error loading {results_path}/{data}/{propensity}/{method}/results/{results_file}\")\n",
    "        print(f\"It is required to run the models for {data} dataset with {propensity} propensity and {method} method\")\n",
    "        raise Exception(\"Missing results\")\n",
    "    df = df.rename(columns={'Unnamed: 0': 'Metric@K'})\n",
    "    metrics =  df['Metric@K'].to_list()\n",
    "    df = df.iloc[:, 1:].transpose()\n",
    "    df.columns = metrics\n",
    "    df.reset_index(inplace=True, drop=True)\n",
    "    df['Method'] = method\n",
    "    df = df.melt(id_vars=['Method'], var_name='Metric@K', value_name='Value')\n",
    "    df['Propensity'] = PROPENSITIES[propensity]\n",
    "    df['Metric'] = df['Metric@K'].apply(lambda x: x.split('@')[0])\n",
    "    df['K'] = df['Metric@K'].apply(lambda x: x.split('@')[1])\n",
    "    return df"
   ]
  },
  {
   "cell_type": "code",
   "execution_count": 5,
   "metadata": {},
   "outputs": [],
   "source": [
    "def load_results(results_path, data):\n",
    "    \"\"\"Load all results for a given dataset\"\"\"\n",
    "    dfs = []\n",
    "    for propensity in PROPENSITIES.keys():\n",
    "        for method in METHODS.keys():\n",
    "            df = load_df(results_path, data, propensity, method, RESULTS_FILE)\n",
    "            dfs.append(df)\n",
    "    return pd.concat(dfs)\n",
    "\n",
    "def plot_metric(df, metric, methods=None, propensities=None):\n",
    "    \"\"\"Plot a metric for given methods and propensities\"\"\"\n",
    "    if methods:\n",
    "        df = df[df['Method'].isin(methods)]\n",
    "    if propensities:\n",
    "        df = df[df['Propensity'].isin(propensities)]\n",
    "    df = df[df['Metric'] == metric]\n",
    "    fig = px.box(df, x=\"Metric@K\", y=\"Value\", color=\"Method\", facet_col=\"Propensity\")\n",
    "    fig.update_traces(quartilemethod=\"exclusive\")\n",
    "    fig.for_each_xaxis(lambda x: x.update({'title': f\"{metric}@K\"}) if x.title.text == 'Metric@K' else x)\n",
    "    fig.show()\n"
   ]
  },
  {
   "cell_type": "code",
   "execution_count": 6,
   "metadata": {},
   "outputs": [],
   "source": [
    "_propensities = ['Original', 'BB Item-User']\n",
    "_methods = ['bpr', 'dubpr', 'dumf',  'relmf', 'ubpr']"
   ]
  },
  {
   "attachments": {},
   "cell_type": "markdown",
   "metadata": {},
   "source": [
    "## Plot metrics for Coat dataset"
   ]
  },
  {
   "cell_type": "code",
   "execution_count": 7,
   "metadata": {},
   "outputs": [],
   "source": [
    "coat_df =load_results(\"logs\", \"coat\")"
   ]
  },
  {
   "attachments": {},
   "cell_type": "markdown",
   "metadata": {},
   "source": [
    "### DCG@K"
   ]
  },
  {
   "cell_type": "code",
   "execution_count": 8,
   "metadata": {},
   "outputs": [
    {
     "data": {
      "application/vnd.plotly.v1+json": {
       "config": {
        "plotlyServerURL": "https://plot.ly"
       },
       "data": [
        {
         "alignmentgroup": "True",
         "hovertemplate": "Method=bpr<br>Propensity=Original<br>Metric@K=%{x}<br>Value=%{y}<extra></extra>",
         "legendgroup": "bpr",
         "marker": {
          "color": "#636efa"
         },
         "name": "bpr",
         "notched": false,
         "offsetgroup": "bpr",
         "orientation": "v",
         "quartilemethod": "exclusive",
         "showlegend": true,
         "type": "box",
         "x": [
          "DCG@3",
          "DCG@3",
          "DCG@3",
          "DCG@3",
          "DCG@3",
          "DCG@3",
          "DCG@3",
          "DCG@3",
          "DCG@3",
          "DCG@3",
          "DCG@5",
          "DCG@5",
          "DCG@5",
          "DCG@5",
          "DCG@5",
          "DCG@5",
          "DCG@5",
          "DCG@5",
          "DCG@5",
          "DCG@5",
          "DCG@8",
          "DCG@8",
          "DCG@8",
          "DCG@8",
          "DCG@8",
          "DCG@8",
          "DCG@8",
          "DCG@8",
          "DCG@8",
          "DCG@8"
         ],
         "x0": " ",
         "xaxis": "x",
         "y": [
          0.108794932914048,
          0.1194393915352022,
          0.1002814608238047,
          0.1126934913766916,
          0.1157492193177495,
          0.1007206355905181,
          0.1070587806492699,
          0.1089235070601893,
          0.1032040072157725,
          0.0906223085410319,
          0.1323198386097697,
          0.1380067783865629,
          0.1208377369636105,
          0.134132158287854,
          0.1388188203291305,
          0.1208623099998692,
          0.1241711358555762,
          0.1347430898245595,
          0.1185394233385797,
          0.1237082641952888,
          0.146507725376981,
          0.1582765104702015,
          0.1479780852751365,
          0.1556943721520758,
          0.1636322906698723,
          0.1475961104727632,
          0.1448067031904822,
          0.1502714786838173,
          0.1436042954976658,
          0.1406312232544561
         ],
         "y0": " ",
         "yaxis": "y"
        },
        {
         "alignmentgroup": "True",
         "hovertemplate": "Method=bpr<br>Propensity=BB Item-User<br>Metric@K=%{x}<br>Value=%{y}<extra></extra>",
         "legendgroup": "bpr",
         "marker": {
          "color": "#636efa"
         },
         "name": "bpr",
         "notched": false,
         "offsetgroup": "bpr",
         "orientation": "v",
         "quartilemethod": "exclusive",
         "showlegend": false,
         "type": "box",
         "x": [
          "DCG@3",
          "DCG@3",
          "DCG@3",
          "DCG@3",
          "DCG@3",
          "DCG@3",
          "DCG@3",
          "DCG@3",
          "DCG@3",
          "DCG@3",
          "DCG@5",
          "DCG@5",
          "DCG@5",
          "DCG@5",
          "DCG@5",
          "DCG@5",
          "DCG@5",
          "DCG@5",
          "DCG@5",
          "DCG@5",
          "DCG@8",
          "DCG@8",
          "DCG@8",
          "DCG@8",
          "DCG@8",
          "DCG@8",
          "DCG@8",
          "DCG@8",
          "DCG@8",
          "DCG@8"
         ],
         "x0": " ",
         "xaxis": "x2",
         "y": [
          0.1137988310466086,
          0.1039600289120488,
          0.1162294821833422,
          0.1082595981618925,
          0.1011390045034021,
          0.1030800835225105,
          0.0993118833789496,
          0.1045766748986196,
          0.1098718197147456,
          0.1165088690933377,
          0.1242523699383618,
          0.1236875968842369,
          0.1291754492569491,
          0.1244259210289839,
          0.1234300708899549,
          0.1220391348330326,
          0.1270155950266822,
          0.1286161730679906,
          0.1284987272507782,
          0.1311021985820679,
          0.1443411288871118,
          0.1475725397663771,
          0.1504001040012187,
          0.1476697294550478,
          0.1388215526461299,
          0.1403465233645676,
          0.1439744265904847,
          0.1473416080730875,
          0.1521753996253131,
          0.1518150196330444
         ],
         "y0": " ",
         "yaxis": "y2"
        },
        {
         "alignmentgroup": "True",
         "hovertemplate": "Method=ubpr<br>Propensity=Original<br>Metric@K=%{x}<br>Value=%{y}<extra></extra>",
         "legendgroup": "ubpr",
         "marker": {
          "color": "#EF553B"
         },
         "name": "ubpr",
         "notched": false,
         "offsetgroup": "ubpr",
         "orientation": "v",
         "quartilemethod": "exclusive",
         "showlegend": true,
         "type": "box",
         "x": [
          "DCG@3",
          "DCG@3",
          "DCG@3",
          "DCG@3",
          "DCG@3",
          "DCG@3",
          "DCG@3",
          "DCG@3",
          "DCG@3",
          "DCG@3",
          "DCG@5",
          "DCG@5",
          "DCG@5",
          "DCG@5",
          "DCG@5",
          "DCG@5",
          "DCG@5",
          "DCG@5",
          "DCG@5",
          "DCG@5",
          "DCG@8",
          "DCG@8",
          "DCG@8",
          "DCG@8",
          "DCG@8",
          "DCG@8",
          "DCG@8",
          "DCG@8",
          "DCG@8",
          "DCG@8"
         ],
         "x0": " ",
         "xaxis": "x",
         "y": [
          0.1059299848474088,
          0.1077362676889863,
          0.1176456621868654,
          0.1074723671184813,
          0.1129653528813588,
          0.1183649621465668,
          0.1047636565284626,
          0.110714212913193,
          0.1127945930556589,
          0.1137127973511522,
          0.1284980980293749,
          0.1399177685513757,
          0.1363536180178917,
          0.1296570761280447,
          0.1299763385949409,
          0.1418819801363702,
          0.1297945486811645,
          0.1344589058356669,
          0.1299725487736878,
          0.1291195054149735,
          0.1466490664318094,
          0.1557376178180082,
          0.1558343002338548,
          0.1584791943335488,
          0.1553732660114012,
          0.1569428919636031,
          0.1473278321537615,
          0.1580525648176797,
          0.1485582930827185,
          0.1444917395011017
         ],
         "y0": " ",
         "yaxis": "y"
        },
        {
         "alignmentgroup": "True",
         "hovertemplate": "Method=ubpr<br>Propensity=BB Item-User<br>Metric@K=%{x}<br>Value=%{y}<extra></extra>",
         "legendgroup": "ubpr",
         "marker": {
          "color": "#EF553B"
         },
         "name": "ubpr",
         "notched": false,
         "offsetgroup": "ubpr",
         "orientation": "v",
         "quartilemethod": "exclusive",
         "showlegend": false,
         "type": "box",
         "x": [
          "DCG@3",
          "DCG@3",
          "DCG@3",
          "DCG@3",
          "DCG@3",
          "DCG@3",
          "DCG@3",
          "DCG@3",
          "DCG@3",
          "DCG@3",
          "DCG@5",
          "DCG@5",
          "DCG@5",
          "DCG@5",
          "DCG@5",
          "DCG@5",
          "DCG@5",
          "DCG@5",
          "DCG@5",
          "DCG@5",
          "DCG@8",
          "DCG@8",
          "DCG@8",
          "DCG@8",
          "DCG@8",
          "DCG@8",
          "DCG@8",
          "DCG@8",
          "DCG@8",
          "DCG@8"
         ],
         "x0": " ",
         "xaxis": "x2",
         "y": [
          0.1021946413032983,
          0.1047056012150388,
          0.0966936215650125,
          0.0991740037234542,
          0.0989318111975922,
          0.0993950165257941,
          0.0997065940005628,
          0.101417007009887,
          0.1211377750406753,
          0.1133305282775536,
          0.1260244762857344,
          0.1255471316335018,
          0.118795000710507,
          0.1258058093344363,
          0.1179573516360218,
          0.1136992769624694,
          0.1193135221804697,
          0.1242461084594925,
          0.1392569038868203,
          0.1336814174655012,
          0.1485718173411442,
          0.1489171423184035,
          0.1428071769057488,
          0.1463118691008392,
          0.1382518079456493,
          0.1337850903781558,
          0.1422681631378326,
          0.1493770202767119,
          0.1570683440708435,
          0.1538366008475796
         ],
         "y0": " ",
         "yaxis": "y2"
        },
        {
         "alignmentgroup": "True",
         "hovertemplate": "Method=dubpr<br>Propensity=Original<br>Metric@K=%{x}<br>Value=%{y}<extra></extra>",
         "legendgroup": "dubpr",
         "marker": {
          "color": "#00cc96"
         },
         "name": "dubpr",
         "notched": false,
         "offsetgroup": "dubpr",
         "orientation": "v",
         "quartilemethod": "exclusive",
         "showlegend": true,
         "type": "box",
         "x": [
          "DCG@3",
          "DCG@3",
          "DCG@3",
          "DCG@3",
          "DCG@3",
          "DCG@3",
          "DCG@3",
          "DCG@3",
          "DCG@3",
          "DCG@3",
          "DCG@5",
          "DCG@5",
          "DCG@5",
          "DCG@5",
          "DCG@5",
          "DCG@5",
          "DCG@5",
          "DCG@5",
          "DCG@5",
          "DCG@5",
          "DCG@8",
          "DCG@8",
          "DCG@8",
          "DCG@8",
          "DCG@8",
          "DCG@8",
          "DCG@8",
          "DCG@8",
          "DCG@8",
          "DCG@8"
         ],
         "x0": " ",
         "xaxis": "x",
         "y": [
          0.1007860343586291,
          0.1112655248039631,
          0.1173768900369957,
          0.1120504110873854,
          0.1170412323671278,
          0.101813274094276,
          0.1123901404715192,
          0.113289669075994,
          0.1055725622404707,
          0.1058752495804064,
          0.1196603639299266,
          0.131041903265956,
          0.1362563980969604,
          0.1346347911873432,
          0.1366072480950646,
          0.1227357155186248,
          0.1345208056941322,
          0.1332679160663622,
          0.1317281126924708,
          0.1284777667817553,
          0.1386552991507921,
          0.1460992766059302,
          0.153519100566933,
          0.1525576071425681,
          0.1525077119503909,
          0.1428281258982116,
          0.1543324346416748,
          0.1538292731035466,
          0.1466975005589726,
          0.1491668006830186
         ],
         "y0": " ",
         "yaxis": "y"
        },
        {
         "alignmentgroup": "True",
         "hovertemplate": "Method=dubpr<br>Propensity=BB Item-User<br>Metric@K=%{x}<br>Value=%{y}<extra></extra>",
         "legendgroup": "dubpr",
         "marker": {
          "color": "#00cc96"
         },
         "name": "dubpr",
         "notched": false,
         "offsetgroup": "dubpr",
         "orientation": "v",
         "quartilemethod": "exclusive",
         "showlegend": false,
         "type": "box",
         "x": [
          "DCG@3",
          "DCG@3",
          "DCG@3",
          "DCG@3",
          "DCG@3",
          "DCG@3",
          "DCG@3",
          "DCG@3",
          "DCG@3",
          "DCG@3",
          "DCG@5",
          "DCG@5",
          "DCG@5",
          "DCG@5",
          "DCG@5",
          "DCG@5",
          "DCG@5",
          "DCG@5",
          "DCG@5",
          "DCG@5",
          "DCG@8",
          "DCG@8",
          "DCG@8",
          "DCG@8",
          "DCG@8",
          "DCG@8",
          "DCG@8",
          "DCG@8",
          "DCG@8",
          "DCG@8"
         ],
         "x0": " ",
         "xaxis": "x2",
         "y": [
          0.1038735337563096,
          0.1105437875411882,
          0.1041481459934668,
          0.1162206946460883,
          0.0981309485367753,
          0.0995114314519024,
          0.1187986133365645,
          0.1055298944569608,
          0.1022641079342511,
          0.1099521827269586,
          0.1271970108003603,
          0.1376502131966946,
          0.1230590764026848,
          0.134401202854324,
          0.122720324373486,
          0.1167494207650959,
          0.1352118340692825,
          0.1323396384866428,
          0.116764713062451,
          0.1324436927961496,
          0.1475022832394334,
          0.1585812551993989,
          0.1411033830861165,
          0.1574693813273991,
          0.1399702821380506,
          0.1456440190370691,
          0.147601174685684,
          0.149785789505473,
          0.1434779323231993,
          0.1518640252253669
         ],
         "y0": " ",
         "yaxis": "y2"
        },
        {
         "alignmentgroup": "True",
         "hovertemplate": "Method=relmf<br>Propensity=Original<br>Metric@K=%{x}<br>Value=%{y}<extra></extra>",
         "legendgroup": "relmf",
         "marker": {
          "color": "#ab63fa"
         },
         "name": "relmf",
         "notched": false,
         "offsetgroup": "relmf",
         "orientation": "v",
         "quartilemethod": "exclusive",
         "showlegend": true,
         "type": "box",
         "x": [
          "DCG@3",
          "DCG@3",
          "DCG@3",
          "DCG@3",
          "DCG@3",
          "DCG@3",
          "DCG@3",
          "DCG@3",
          "DCG@3",
          "DCG@3",
          "DCG@5",
          "DCG@5",
          "DCG@5",
          "DCG@5",
          "DCG@5",
          "DCG@5",
          "DCG@5",
          "DCG@5",
          "DCG@5",
          "DCG@5",
          "DCG@8",
          "DCG@8",
          "DCG@8",
          "DCG@8",
          "DCG@8",
          "DCG@8",
          "DCG@8",
          "DCG@8",
          "DCG@8",
          "DCG@8"
         ],
         "x0": " ",
         "xaxis": "x",
         "y": [
          0.1162519656840751,
          0.112612791418681,
          0.1036135495786767,
          0.1147729252453293,
          0.1114055674862979,
          0.1136894330101215,
          0.1076768882265477,
          0.098734490116942,
          0.1137775844622485,
          0.109565151418373,
          0.1421449437451885,
          0.1297016990141201,
          0.1272522394615822,
          0.1392924792942247,
          0.1362044928830593,
          0.1439972188762545,
          0.1300788757363493,
          0.1239035527478612,
          0.1410282817491404,
          0.1290159708657189,
          0.1679739432809004,
          0.1493993597193886,
          0.1462538679704688,
          0.1577669453049004,
          0.1561060652496631,
          0.1594422137867863,
          0.1517202682014013,
          0.1510191445221421,
          0.159331350215692,
          0.1472167351002146
         ],
         "y0": " ",
         "yaxis": "y"
        },
        {
         "alignmentgroup": "True",
         "hovertemplate": "Method=relmf<br>Propensity=BB Item-User<br>Metric@K=%{x}<br>Value=%{y}<extra></extra>",
         "legendgroup": "relmf",
         "marker": {
          "color": "#ab63fa"
         },
         "name": "relmf",
         "notched": false,
         "offsetgroup": "relmf",
         "orientation": "v",
         "quartilemethod": "exclusive",
         "showlegend": false,
         "type": "box",
         "x": [
          "DCG@3",
          "DCG@3",
          "DCG@3",
          "DCG@3",
          "DCG@3",
          "DCG@3",
          "DCG@3",
          "DCG@3",
          "DCG@3",
          "DCG@3",
          "DCG@5",
          "DCG@5",
          "DCG@5",
          "DCG@5",
          "DCG@5",
          "DCG@5",
          "DCG@5",
          "DCG@5",
          "DCG@5",
          "DCG@5",
          "DCG@8",
          "DCG@8",
          "DCG@8",
          "DCG@8",
          "DCG@8",
          "DCG@8",
          "DCG@8",
          "DCG@8",
          "DCG@8",
          "DCG@8"
         ],
         "x0": " ",
         "xaxis": "x2",
         "y": [
          0.1116961959835411,
          0.1064413103342185,
          0.1077226903631595,
          0.1157791639321103,
          0.1104119528419011,
          0.1181624856451791,
          0.1127306151573086,
          0.1109438624352915,
          0.1180248054937892,
          0.1079497944793336,
          0.1436470607383486,
          0.1312436184006931,
          0.1353906881574892,
          0.145749481310917,
          0.1332480215606783,
          0.1496324187529366,
          0.1401490528199119,
          0.1331503776192756,
          0.1429566574928709,
          0.1262217951850243,
          0.1687304477766185,
          0.1503563751295377,
          0.1594908515632735,
          0.164098441379951,
          0.1615282905561914,
          0.1650966133682699,
          0.162759985987444,
          0.1595152463001783,
          0.1619404995492005,
          0.151933135534673
         ],
         "y0": " ",
         "yaxis": "y2"
        },
        {
         "alignmentgroup": "True",
         "hovertemplate": "Method=dumf<br>Propensity=Original<br>Metric@K=%{x}<br>Value=%{y}<extra></extra>",
         "legendgroup": "dumf",
         "marker": {
          "color": "#FFA15A"
         },
         "name": "dumf",
         "notched": false,
         "offsetgroup": "dumf",
         "orientation": "v",
         "quartilemethod": "exclusive",
         "showlegend": true,
         "type": "box",
         "x": [
          "DCG@3",
          "DCG@3",
          "DCG@3",
          "DCG@3",
          "DCG@3",
          "DCG@3",
          "DCG@3",
          "DCG@3",
          "DCG@3",
          "DCG@3",
          "DCG@5",
          "DCG@5",
          "DCG@5",
          "DCG@5",
          "DCG@5",
          "DCG@5",
          "DCG@5",
          "DCG@5",
          "DCG@5",
          "DCG@5",
          "DCG@8",
          "DCG@8",
          "DCG@8",
          "DCG@8",
          "DCG@8",
          "DCG@8",
          "DCG@8",
          "DCG@8",
          "DCG@8",
          "DCG@8"
         ],
         "x0": " ",
         "xaxis": "x",
         "y": [
          0.1141559007854704,
          0.1081039691977097,
          0.1032022420099898,
          0.1106829125363648,
          0.1150813565272461,
          0.1195753664090679,
          0.1005954904001932,
          0.1179074821737973,
          0.1284283036526564,
          0.1158308277783895,
          0.140537605609797,
          0.1269658246058791,
          0.1303551554271748,
          0.1433602968313453,
          0.1438108849449134,
          0.1450560746075958,
          0.1258981114692401,
          0.1456847552295519,
          0.1493170179239249,
          0.1307984681036711,
          0.163558168693972,
          0.1505834870064918,
          0.1511846002887069,
          0.1605398289062447,
          0.1582856452188948,
          0.1620949326882667,
          0.1464423260843556,
          0.1662184098159788,
          0.1714632568658652,
          0.1545686086347979
         ],
         "y0": " ",
         "yaxis": "y"
        },
        {
         "alignmentgroup": "True",
         "hovertemplate": "Method=dumf<br>Propensity=BB Item-User<br>Metric@K=%{x}<br>Value=%{y}<extra></extra>",
         "legendgroup": "dumf",
         "marker": {
          "color": "#FFA15A"
         },
         "name": "dumf",
         "notched": false,
         "offsetgroup": "dumf",
         "orientation": "v",
         "quartilemethod": "exclusive",
         "showlegend": false,
         "type": "box",
         "x": [
          "DCG@3",
          "DCG@3",
          "DCG@3",
          "DCG@3",
          "DCG@3",
          "DCG@3",
          "DCG@3",
          "DCG@3",
          "DCG@3",
          "DCG@3",
          "DCG@5",
          "DCG@5",
          "DCG@5",
          "DCG@5",
          "DCG@5",
          "DCG@5",
          "DCG@5",
          "DCG@5",
          "DCG@5",
          "DCG@5",
          "DCG@8",
          "DCG@8",
          "DCG@8",
          "DCG@8",
          "DCG@8",
          "DCG@8",
          "DCG@8",
          "DCG@8",
          "DCG@8",
          "DCG@8"
         ],
         "x0": " ",
         "xaxis": "x2",
         "y": [
          0.1141559007854704,
          0.1073787625844091,
          0.1032022420099898,
          0.1106829125363648,
          0.1150813565272461,
          0.1195753664090679,
          0.1005954904001932,
          0.1179074821737973,
          0.1284283036526564,
          0.1158308277783895,
          0.140537605609797,
          0.1268153306362568,
          0.1303551554271748,
          0.1433602968313453,
          0.1438108849449134,
          0.1450560746075958,
          0.1258981114692401,
          0.1456847552295519,
          0.1493170179239249,
          0.1307984681036711,
          0.163558168693972,
          0.1503935553579476,
          0.1511846002887069,
          0.1593904036188884,
          0.1582856452188948,
          0.1620949326882667,
          0.1464423260843556,
          0.1662184098159788,
          0.1714895486518132,
          0.1545686086347979
         ],
         "y0": " ",
         "yaxis": "y2"
        }
       ],
       "layout": {
        "annotations": [
         {
          "font": {},
          "showarrow": false,
          "text": "Propensity=Original",
          "x": 0.245,
          "xanchor": "center",
          "xref": "paper",
          "y": 1,
          "yanchor": "bottom",
          "yref": "paper"
         },
         {
          "font": {},
          "showarrow": false,
          "text": "Propensity=BB Item-User",
          "x": 0.755,
          "xanchor": "center",
          "xref": "paper",
          "y": 1,
          "yanchor": "bottom",
          "yref": "paper"
         }
        ],
        "boxmode": "group",
        "legend": {
         "title": {
          "text": "Method"
         },
         "tracegroupgap": 0
        },
        "margin": {
         "t": 60
        },
        "template": {
         "data": {
          "bar": [
           {
            "error_x": {
             "color": "#2a3f5f"
            },
            "error_y": {
             "color": "#2a3f5f"
            },
            "marker": {
             "line": {
              "color": "#E5ECF6",
              "width": 0.5
             },
             "pattern": {
              "fillmode": "overlay",
              "size": 10,
              "solidity": 0.2
             }
            },
            "type": "bar"
           }
          ],
          "barpolar": [
           {
            "marker": {
             "line": {
              "color": "#E5ECF6",
              "width": 0.5
             },
             "pattern": {
              "fillmode": "overlay",
              "size": 10,
              "solidity": 0.2
             }
            },
            "type": "barpolar"
           }
          ],
          "carpet": [
           {
            "aaxis": {
             "endlinecolor": "#2a3f5f",
             "gridcolor": "white",
             "linecolor": "white",
             "minorgridcolor": "white",
             "startlinecolor": "#2a3f5f"
            },
            "baxis": {
             "endlinecolor": "#2a3f5f",
             "gridcolor": "white",
             "linecolor": "white",
             "minorgridcolor": "white",
             "startlinecolor": "#2a3f5f"
            },
            "type": "carpet"
           }
          ],
          "choropleth": [
           {
            "colorbar": {
             "outlinewidth": 0,
             "ticks": ""
            },
            "type": "choropleth"
           }
          ],
          "contour": [
           {
            "colorbar": {
             "outlinewidth": 0,
             "ticks": ""
            },
            "colorscale": [
             [
              0,
              "#0d0887"
             ],
             [
              0.1111111111111111,
              "#46039f"
             ],
             [
              0.2222222222222222,
              "#7201a8"
             ],
             [
              0.3333333333333333,
              "#9c179e"
             ],
             [
              0.4444444444444444,
              "#bd3786"
             ],
             [
              0.5555555555555556,
              "#d8576b"
             ],
             [
              0.6666666666666666,
              "#ed7953"
             ],
             [
              0.7777777777777778,
              "#fb9f3a"
             ],
             [
              0.8888888888888888,
              "#fdca26"
             ],
             [
              1,
              "#f0f921"
             ]
            ],
            "type": "contour"
           }
          ],
          "contourcarpet": [
           {
            "colorbar": {
             "outlinewidth": 0,
             "ticks": ""
            },
            "type": "contourcarpet"
           }
          ],
          "heatmap": [
           {
            "colorbar": {
             "outlinewidth": 0,
             "ticks": ""
            },
            "colorscale": [
             [
              0,
              "#0d0887"
             ],
             [
              0.1111111111111111,
              "#46039f"
             ],
             [
              0.2222222222222222,
              "#7201a8"
             ],
             [
              0.3333333333333333,
              "#9c179e"
             ],
             [
              0.4444444444444444,
              "#bd3786"
             ],
             [
              0.5555555555555556,
              "#d8576b"
             ],
             [
              0.6666666666666666,
              "#ed7953"
             ],
             [
              0.7777777777777778,
              "#fb9f3a"
             ],
             [
              0.8888888888888888,
              "#fdca26"
             ],
             [
              1,
              "#f0f921"
             ]
            ],
            "type": "heatmap"
           }
          ],
          "heatmapgl": [
           {
            "colorbar": {
             "outlinewidth": 0,
             "ticks": ""
            },
            "colorscale": [
             [
              0,
              "#0d0887"
             ],
             [
              0.1111111111111111,
              "#46039f"
             ],
             [
              0.2222222222222222,
              "#7201a8"
             ],
             [
              0.3333333333333333,
              "#9c179e"
             ],
             [
              0.4444444444444444,
              "#bd3786"
             ],
             [
              0.5555555555555556,
              "#d8576b"
             ],
             [
              0.6666666666666666,
              "#ed7953"
             ],
             [
              0.7777777777777778,
              "#fb9f3a"
             ],
             [
              0.8888888888888888,
              "#fdca26"
             ],
             [
              1,
              "#f0f921"
             ]
            ],
            "type": "heatmapgl"
           }
          ],
          "histogram": [
           {
            "marker": {
             "pattern": {
              "fillmode": "overlay",
              "size": 10,
              "solidity": 0.2
             }
            },
            "type": "histogram"
           }
          ],
          "histogram2d": [
           {
            "colorbar": {
             "outlinewidth": 0,
             "ticks": ""
            },
            "colorscale": [
             [
              0,
              "#0d0887"
             ],
             [
              0.1111111111111111,
              "#46039f"
             ],
             [
              0.2222222222222222,
              "#7201a8"
             ],
             [
              0.3333333333333333,
              "#9c179e"
             ],
             [
              0.4444444444444444,
              "#bd3786"
             ],
             [
              0.5555555555555556,
              "#d8576b"
             ],
             [
              0.6666666666666666,
              "#ed7953"
             ],
             [
              0.7777777777777778,
              "#fb9f3a"
             ],
             [
              0.8888888888888888,
              "#fdca26"
             ],
             [
              1,
              "#f0f921"
             ]
            ],
            "type": "histogram2d"
           }
          ],
          "histogram2dcontour": [
           {
            "colorbar": {
             "outlinewidth": 0,
             "ticks": ""
            },
            "colorscale": [
             [
              0,
              "#0d0887"
             ],
             [
              0.1111111111111111,
              "#46039f"
             ],
             [
              0.2222222222222222,
              "#7201a8"
             ],
             [
              0.3333333333333333,
              "#9c179e"
             ],
             [
              0.4444444444444444,
              "#bd3786"
             ],
             [
              0.5555555555555556,
              "#d8576b"
             ],
             [
              0.6666666666666666,
              "#ed7953"
             ],
             [
              0.7777777777777778,
              "#fb9f3a"
             ],
             [
              0.8888888888888888,
              "#fdca26"
             ],
             [
              1,
              "#f0f921"
             ]
            ],
            "type": "histogram2dcontour"
           }
          ],
          "mesh3d": [
           {
            "colorbar": {
             "outlinewidth": 0,
             "ticks": ""
            },
            "type": "mesh3d"
           }
          ],
          "parcoords": [
           {
            "line": {
             "colorbar": {
              "outlinewidth": 0,
              "ticks": ""
             }
            },
            "type": "parcoords"
           }
          ],
          "pie": [
           {
            "automargin": true,
            "type": "pie"
           }
          ],
          "scatter": [
           {
            "fillpattern": {
             "fillmode": "overlay",
             "size": 10,
             "solidity": 0.2
            },
            "type": "scatter"
           }
          ],
          "scatter3d": [
           {
            "line": {
             "colorbar": {
              "outlinewidth": 0,
              "ticks": ""
             }
            },
            "marker": {
             "colorbar": {
              "outlinewidth": 0,
              "ticks": ""
             }
            },
            "type": "scatter3d"
           }
          ],
          "scattercarpet": [
           {
            "marker": {
             "colorbar": {
              "outlinewidth": 0,
              "ticks": ""
             }
            },
            "type": "scattercarpet"
           }
          ],
          "scattergeo": [
           {
            "marker": {
             "colorbar": {
              "outlinewidth": 0,
              "ticks": ""
             }
            },
            "type": "scattergeo"
           }
          ],
          "scattergl": [
           {
            "marker": {
             "colorbar": {
              "outlinewidth": 0,
              "ticks": ""
             }
            },
            "type": "scattergl"
           }
          ],
          "scattermapbox": [
           {
            "marker": {
             "colorbar": {
              "outlinewidth": 0,
              "ticks": ""
             }
            },
            "type": "scattermapbox"
           }
          ],
          "scatterpolar": [
           {
            "marker": {
             "colorbar": {
              "outlinewidth": 0,
              "ticks": ""
             }
            },
            "type": "scatterpolar"
           }
          ],
          "scatterpolargl": [
           {
            "marker": {
             "colorbar": {
              "outlinewidth": 0,
              "ticks": ""
             }
            },
            "type": "scatterpolargl"
           }
          ],
          "scatterternary": [
           {
            "marker": {
             "colorbar": {
              "outlinewidth": 0,
              "ticks": ""
             }
            },
            "type": "scatterternary"
           }
          ],
          "surface": [
           {
            "colorbar": {
             "outlinewidth": 0,
             "ticks": ""
            },
            "colorscale": [
             [
              0,
              "#0d0887"
             ],
             [
              0.1111111111111111,
              "#46039f"
             ],
             [
              0.2222222222222222,
              "#7201a8"
             ],
             [
              0.3333333333333333,
              "#9c179e"
             ],
             [
              0.4444444444444444,
              "#bd3786"
             ],
             [
              0.5555555555555556,
              "#d8576b"
             ],
             [
              0.6666666666666666,
              "#ed7953"
             ],
             [
              0.7777777777777778,
              "#fb9f3a"
             ],
             [
              0.8888888888888888,
              "#fdca26"
             ],
             [
              1,
              "#f0f921"
             ]
            ],
            "type": "surface"
           }
          ],
          "table": [
           {
            "cells": {
             "fill": {
              "color": "#EBF0F8"
             },
             "line": {
              "color": "white"
             }
            },
            "header": {
             "fill": {
              "color": "#C8D4E3"
             },
             "line": {
              "color": "white"
             }
            },
            "type": "table"
           }
          ]
         },
         "layout": {
          "annotationdefaults": {
           "arrowcolor": "#2a3f5f",
           "arrowhead": 0,
           "arrowwidth": 1
          },
          "autotypenumbers": "strict",
          "coloraxis": {
           "colorbar": {
            "outlinewidth": 0,
            "ticks": ""
           }
          },
          "colorscale": {
           "diverging": [
            [
             0,
             "#8e0152"
            ],
            [
             0.1,
             "#c51b7d"
            ],
            [
             0.2,
             "#de77ae"
            ],
            [
             0.3,
             "#f1b6da"
            ],
            [
             0.4,
             "#fde0ef"
            ],
            [
             0.5,
             "#f7f7f7"
            ],
            [
             0.6,
             "#e6f5d0"
            ],
            [
             0.7,
             "#b8e186"
            ],
            [
             0.8,
             "#7fbc41"
            ],
            [
             0.9,
             "#4d9221"
            ],
            [
             1,
             "#276419"
            ]
           ],
           "sequential": [
            [
             0,
             "#0d0887"
            ],
            [
             0.1111111111111111,
             "#46039f"
            ],
            [
             0.2222222222222222,
             "#7201a8"
            ],
            [
             0.3333333333333333,
             "#9c179e"
            ],
            [
             0.4444444444444444,
             "#bd3786"
            ],
            [
             0.5555555555555556,
             "#d8576b"
            ],
            [
             0.6666666666666666,
             "#ed7953"
            ],
            [
             0.7777777777777778,
             "#fb9f3a"
            ],
            [
             0.8888888888888888,
             "#fdca26"
            ],
            [
             1,
             "#f0f921"
            ]
           ],
           "sequentialminus": [
            [
             0,
             "#0d0887"
            ],
            [
             0.1111111111111111,
             "#46039f"
            ],
            [
             0.2222222222222222,
             "#7201a8"
            ],
            [
             0.3333333333333333,
             "#9c179e"
            ],
            [
             0.4444444444444444,
             "#bd3786"
            ],
            [
             0.5555555555555556,
             "#d8576b"
            ],
            [
             0.6666666666666666,
             "#ed7953"
            ],
            [
             0.7777777777777778,
             "#fb9f3a"
            ],
            [
             0.8888888888888888,
             "#fdca26"
            ],
            [
             1,
             "#f0f921"
            ]
           ]
          },
          "colorway": [
           "#636efa",
           "#EF553B",
           "#00cc96",
           "#ab63fa",
           "#FFA15A",
           "#19d3f3",
           "#FF6692",
           "#B6E880",
           "#FF97FF",
           "#FECB52"
          ],
          "font": {
           "color": "#2a3f5f"
          },
          "geo": {
           "bgcolor": "white",
           "lakecolor": "white",
           "landcolor": "#E5ECF6",
           "showlakes": true,
           "showland": true,
           "subunitcolor": "white"
          },
          "hoverlabel": {
           "align": "left"
          },
          "hovermode": "closest",
          "mapbox": {
           "style": "light"
          },
          "paper_bgcolor": "white",
          "plot_bgcolor": "#E5ECF6",
          "polar": {
           "angularaxis": {
            "gridcolor": "white",
            "linecolor": "white",
            "ticks": ""
           },
           "bgcolor": "#E5ECF6",
           "radialaxis": {
            "gridcolor": "white",
            "linecolor": "white",
            "ticks": ""
           }
          },
          "scene": {
           "xaxis": {
            "backgroundcolor": "#E5ECF6",
            "gridcolor": "white",
            "gridwidth": 2,
            "linecolor": "white",
            "showbackground": true,
            "ticks": "",
            "zerolinecolor": "white"
           },
           "yaxis": {
            "backgroundcolor": "#E5ECF6",
            "gridcolor": "white",
            "gridwidth": 2,
            "linecolor": "white",
            "showbackground": true,
            "ticks": "",
            "zerolinecolor": "white"
           },
           "zaxis": {
            "backgroundcolor": "#E5ECF6",
            "gridcolor": "white",
            "gridwidth": 2,
            "linecolor": "white",
            "showbackground": true,
            "ticks": "",
            "zerolinecolor": "white"
           }
          },
          "shapedefaults": {
           "line": {
            "color": "#2a3f5f"
           }
          },
          "ternary": {
           "aaxis": {
            "gridcolor": "white",
            "linecolor": "white",
            "ticks": ""
           },
           "baxis": {
            "gridcolor": "white",
            "linecolor": "white",
            "ticks": ""
           },
           "bgcolor": "#E5ECF6",
           "caxis": {
            "gridcolor": "white",
            "linecolor": "white",
            "ticks": ""
           }
          },
          "title": {
           "x": 0.05
          },
          "xaxis": {
           "automargin": true,
           "gridcolor": "white",
           "linecolor": "white",
           "ticks": "",
           "title": {
            "standoff": 15
           },
           "zerolinecolor": "white",
           "zerolinewidth": 2
          },
          "yaxis": {
           "automargin": true,
           "gridcolor": "white",
           "linecolor": "white",
           "ticks": "",
           "title": {
            "standoff": 15
           },
           "zerolinecolor": "white",
           "zerolinewidth": 2
          }
         }
        },
        "xaxis": {
         "anchor": "y",
         "domain": [
          0,
          0.49
         ],
         "title": {
          "text": "DCG@K"
         }
        },
        "xaxis2": {
         "anchor": "y2",
         "domain": [
          0.51,
          1
         ],
         "matches": "x",
         "title": {
          "text": "DCG@K"
         }
        },
        "yaxis": {
         "anchor": "x",
         "domain": [
          0,
          1
         ],
         "title": {
          "text": "Value"
         }
        },
        "yaxis2": {
         "anchor": "x2",
         "domain": [
          0,
          1
         ],
         "matches": "y",
         "showticklabels": false
        }
       }
      }
     },
     "metadata": {},
     "output_type": "display_data"
    }
   ],
   "source": [
    "plot_metric(coat_df, 'DCG', methods=_methods, propensities=_propensities)\n"
   ]
  },
  {
   "attachments": {},
   "cell_type": "markdown",
   "metadata": {},
   "source": [
    "### MAP@K"
   ]
  },
  {
   "cell_type": "code",
   "execution_count": 9,
   "metadata": {},
   "outputs": [
    {
     "data": {
      "application/vnd.plotly.v1+json": {
       "config": {
        "plotlyServerURL": "https://plot.ly"
       },
       "data": [
        {
         "alignmentgroup": "True",
         "hovertemplate": "Method=bpr<br>Propensity=Original<br>Metric@K=%{x}<br>Value=%{y}<extra></extra>",
         "legendgroup": "bpr",
         "marker": {
          "color": "#636efa"
         },
         "name": "bpr",
         "notched": false,
         "offsetgroup": "bpr",
         "orientation": "v",
         "quartilemethod": "exclusive",
         "showlegend": true,
         "type": "box",
         "x": [
          "MAP@3",
          "MAP@3",
          "MAP@3",
          "MAP@3",
          "MAP@3",
          "MAP@3",
          "MAP@3",
          "MAP@3",
          "MAP@3",
          "MAP@3",
          "MAP@5",
          "MAP@5",
          "MAP@5",
          "MAP@5",
          "MAP@5",
          "MAP@5",
          "MAP@5",
          "MAP@5",
          "MAP@5",
          "MAP@5",
          "MAP@8",
          "MAP@8",
          "MAP@8",
          "MAP@8",
          "MAP@8",
          "MAP@8",
          "MAP@8",
          "MAP@8",
          "MAP@8",
          "MAP@8"
         ],
         "x0": " ",
         "xaxis": "x",
         "y": [
          0.0918803594234628,
          0.100322021528918,
          0.0833043696405765,
          0.0924646506112023,
          0.0956846378398102,
          0.0856045885787265,
          0.0858730158730158,
          0.0920815088487502,
          0.0882149698960043,
          0.0819649698960043,
          0.1072210819193578,
          0.1121646597336252,
          0.0978452837073526,
          0.1064231891990512,
          0.1100636745119503,
          0.0989565316548075,
          0.0972876299945265,
          0.1081525269111476,
          0.0992993979200875,
          0.103693623426382,
          0.1165676883780332,
          0.1256536932780775,
          0.1124076354679802,
          0.1207431125706987,
          0.124525394544791,
          0.1154432585294654,
          0.1103689563948184,
          0.1186909779237365,
          0.112839060911721,
          0.1143401751505199
         ],
         "y0": " ",
         "yaxis": "y"
        },
        {
         "alignmentgroup": "True",
         "hovertemplate": "Method=bpr<br>Propensity=BB Item-User<br>Metric@K=%{x}<br>Value=%{y}<extra></extra>",
         "legendgroup": "bpr",
         "marker": {
          "color": "#636efa"
         },
         "name": "bpr",
         "notched": false,
         "offsetgroup": "bpr",
         "orientation": "v",
         "quartilemethod": "exclusive",
         "showlegend": false,
         "type": "box",
         "x": [
          "MAP@3",
          "MAP@3",
          "MAP@3",
          "MAP@3",
          "MAP@3",
          "MAP@3",
          "MAP@3",
          "MAP@3",
          "MAP@3",
          "MAP@3",
          "MAP@5",
          "MAP@5",
          "MAP@5",
          "MAP@5",
          "MAP@5",
          "MAP@5",
          "MAP@5",
          "MAP@5",
          "MAP@5",
          "MAP@5",
          "MAP@8",
          "MAP@8",
          "MAP@8",
          "MAP@8",
          "MAP@8",
          "MAP@8",
          "MAP@8",
          "MAP@8",
          "MAP@8",
          "MAP@8"
         ],
         "x0": " ",
         "xaxis": "x2",
         "y": [
          0.0957532840722495,
          0.0860755336617405,
          0.0919027093596059,
          0.0914189928845101,
          0.0864461320926838,
          0.0841358784893267,
          0.0823576902025177,
          0.0883187374566685,
          0.0922379584017514,
          0.1054244207261448,
          0.1043248494800219,
          0.099207443897099,
          0.102148056923919,
          0.1016361521620142,
          0.1008121693121693,
          0.0963496168582375,
          0.09909934318555,
          0.1036728699142492,
          0.105045566502463,
          0.1150215061120233,
          0.1176795064769202,
          0.1135753251492167,
          0.1157706280788177,
          0.1153761745119503,
          0.1118514902129434,
          0.1075018277425912,
          0.1099304529282977,
          0.1156902285818541,
          0.119512759989053,
          0.1281215334792921
         ],
         "y0": " ",
         "yaxis": "y2"
        },
        {
         "alignmentgroup": "True",
         "hovertemplate": "Method=ubpr<br>Propensity=Original<br>Metric@K=%{x}<br>Value=%{y}<extra></extra>",
         "legendgroup": "ubpr",
         "marker": {
          "color": "#EF553B"
         },
         "name": "ubpr",
         "notched": false,
         "offsetgroup": "ubpr",
         "orientation": "v",
         "quartilemethod": "exclusive",
         "showlegend": true,
         "type": "box",
         "x": [
          "MAP@3",
          "MAP@3",
          "MAP@3",
          "MAP@3",
          "MAP@3",
          "MAP@3",
          "MAP@3",
          "MAP@3",
          "MAP@3",
          "MAP@3",
          "MAP@5",
          "MAP@5",
          "MAP@5",
          "MAP@5",
          "MAP@5",
          "MAP@5",
          "MAP@5",
          "MAP@5",
          "MAP@5",
          "MAP@5",
          "MAP@8",
          "MAP@8",
          "MAP@8",
          "MAP@8",
          "MAP@8",
          "MAP@8",
          "MAP@8",
          "MAP@8",
          "MAP@8",
          "MAP@8"
         ],
         "x0": " ",
         "xaxis": "x",
         "y": [
          0.0948433223864258,
          0.0916963145411421,
          0.1041632457580733,
          0.091337575259989,
          0.0991995073891625,
          0.0989620963327859,
          0.0878881590950556,
          0.0955696953110746,
          0.0987965243568691,
          0.0970826491516146,
          0.1109723590585659,
          0.1126941251596424,
          0.1177701833607006,
          0.1078627531472359,
          0.1102153119868637,
          0.113045566502463,
          0.104760901295384,
          0.1114778097062579,
          0.1112302955665024,
          0.1084496442255062,
          0.1238377039513123,
          0.1225008926942424,
          0.130660851122058,
          0.1246132320744389,
          0.1272367757447806,
          0.1238803822295201,
          0.117176795814111,
          0.1261398239372377,
          0.1229506216279615,
          0.1186057516876482
         ],
         "y0": " ",
         "yaxis": "y"
        },
        {
         "alignmentgroup": "True",
         "hovertemplate": "Method=ubpr<br>Propensity=BB Item-User<br>Metric@K=%{x}<br>Value=%{y}<extra></extra>",
         "legendgroup": "ubpr",
         "marker": {
          "color": "#EF553B"
         },
         "name": "ubpr",
         "notched": false,
         "offsetgroup": "ubpr",
         "orientation": "v",
         "quartilemethod": "exclusive",
         "showlegend": false,
         "type": "box",
         "x": [
          "MAP@3",
          "MAP@3",
          "MAP@3",
          "MAP@3",
          "MAP@3",
          "MAP@3",
          "MAP@3",
          "MAP@3",
          "MAP@3",
          "MAP@3",
          "MAP@5",
          "MAP@5",
          "MAP@5",
          "MAP@5",
          "MAP@5",
          "MAP@5",
          "MAP@5",
          "MAP@5",
          "MAP@5",
          "MAP@5",
          "MAP@8",
          "MAP@8",
          "MAP@8",
          "MAP@8",
          "MAP@8",
          "MAP@8",
          "MAP@8",
          "MAP@8",
          "MAP@8",
          "MAP@8"
         ],
         "x0": " ",
         "xaxis": "x2",
         "y": [
          0.0899277047983944,
          0.0918913063309615,
          0.0820377212187557,
          0.0881803046889253,
          0.0854353676336435,
          0.084534984491881,
          0.0879004743659916,
          0.0912064404305783,
          0.0979641032658274,
          0.0987002827951103,
          0.1048300036489691,
          0.1060509943440977,
          0.097554962598066,
          0.1057893632548804,
          0.0978613391716839,
          0.0951068235723408,
          0.1010243112570698,
          0.105920726144864,
          0.1112049352307972,
          0.1127580277321656,
          0.1197428274949826,
          0.1218216761800505,
          0.1122402390074803,
          0.1197659984491881,
          0.1123868021346469,
          0.1073447168139286,
          0.1159967159277504,
          0.1216545110381317,
          0.1243683634373289,
          0.1281042888419735
         ],
         "y0": " ",
         "yaxis": "y2"
        },
        {
         "alignmentgroup": "True",
         "hovertemplate": "Method=dubpr<br>Propensity=Original<br>Metric@K=%{x}<br>Value=%{y}<extra></extra>",
         "legendgroup": "dubpr",
         "marker": {
          "color": "#00cc96"
         },
         "name": "dubpr",
         "notched": false,
         "offsetgroup": "dubpr",
         "orientation": "v",
         "quartilemethod": "exclusive",
         "showlegend": true,
         "type": "box",
         "x": [
          "MAP@3",
          "MAP@3",
          "MAP@3",
          "MAP@3",
          "MAP@3",
          "MAP@3",
          "MAP@3",
          "MAP@3",
          "MAP@3",
          "MAP@3",
          "MAP@5",
          "MAP@5",
          "MAP@5",
          "MAP@5",
          "MAP@5",
          "MAP@5",
          "MAP@5",
          "MAP@5",
          "MAP@5",
          "MAP@5",
          "MAP@8",
          "MAP@8",
          "MAP@8",
          "MAP@8",
          "MAP@8",
          "MAP@8",
          "MAP@8",
          "MAP@8",
          "MAP@8",
          "MAP@8"
         ],
         "x0": " ",
         "xaxis": "x",
         "y": [
          0.0865957398284984,
          0.0916201423097974,
          0.0944889162561576,
          0.0940989326765188,
          0.0961163565042875,
          0.0883593322386425,
          0.0947475369458128,
          0.0983634373289545,
          0.0919937055281883,
          0.0912588943623426,
          0.09871273490239,
          0.1039464969896004,
          0.1072137383689107,
          0.1080960591133005,
          0.1096153986498814,
          0.1037491789819376,
          0.1100311986863711,
          0.1107281061850027,
          0.1086626984126984,
          0.1066860974274767,
          0.1118075087314619,
          0.1144781550551255,
          0.1188837037688638,
          0.1207809510777491,
          0.1189158717126697,
          0.1150495722235254,
          0.1232880176975004,
          0.1247834711470795,
          0.1174698275862069,
          0.1193381812495112
         ],
         "y0": " ",
         "yaxis": "y"
        },
        {
         "alignmentgroup": "True",
         "hovertemplate": "Method=dubpr<br>Propensity=BB Item-User<br>Metric@K=%{x}<br>Value=%{y}<extra></extra>",
         "legendgroup": "dubpr",
         "marker": {
          "color": "#00cc96"
         },
         "name": "dubpr",
         "notched": false,
         "offsetgroup": "dubpr",
         "orientation": "v",
         "quartilemethod": "exclusive",
         "showlegend": false,
         "type": "box",
         "x": [
          "MAP@3",
          "MAP@3",
          "MAP@3",
          "MAP@3",
          "MAP@3",
          "MAP@3",
          "MAP@3",
          "MAP@3",
          "MAP@3",
          "MAP@3",
          "MAP@5",
          "MAP@5",
          "MAP@5",
          "MAP@5",
          "MAP@5",
          "MAP@5",
          "MAP@5",
          "MAP@5",
          "MAP@5",
          "MAP@5",
          "MAP@8",
          "MAP@8",
          "MAP@8",
          "MAP@8",
          "MAP@8",
          "MAP@8",
          "MAP@8",
          "MAP@8",
          "MAP@8",
          "MAP@8"
         ],
         "x0": " ",
         "xaxis": "x2",
         "y": [
          0.0922587119138843,
          0.0945589308520343,
          0.0879880496259806,
          0.0960976555373107,
          0.0865991607370917,
          0.0904305783616128,
          0.1027232713008575,
          0.084732713008575,
          0.0910579729976281,
          0.0938631180441525,
          0.1080202061667578,
          0.1134838761174967,
          0.1005031016237912,
          0.1087116402116402,
          0.10202321656632,
          0.1039345466155811,
          0.1145864349571246,
          0.1018553183725597,
          0.1016400748038678,
          0.1092780058383506,
          0.1205640508118956,
          0.1260224509343967,
          0.1128397532384601,
          0.12481582805536,
          0.1146511585477102,
          0.1219334779888967,
          0.1242351076445904,
          0.1136473531941512,
          0.1177545416634086,
          0.1218160919540229
         ],
         "y0": " ",
         "yaxis": "y2"
        },
        {
         "alignmentgroup": "True",
         "hovertemplate": "Method=relmf<br>Propensity=Original<br>Metric@K=%{x}<br>Value=%{y}<extra></extra>",
         "legendgroup": "relmf",
         "marker": {
          "color": "#ab63fa"
         },
         "name": "relmf",
         "notched": false,
         "offsetgroup": "relmf",
         "orientation": "v",
         "quartilemethod": "exclusive",
         "showlegend": true,
         "type": "box",
         "x": [
          "MAP@3",
          "MAP@3",
          "MAP@3",
          "MAP@3",
          "MAP@3",
          "MAP@3",
          "MAP@3",
          "MAP@3",
          "MAP@3",
          "MAP@3",
          "MAP@5",
          "MAP@5",
          "MAP@5",
          "MAP@5",
          "MAP@5",
          "MAP@5",
          "MAP@5",
          "MAP@5",
          "MAP@5",
          "MAP@5",
          "MAP@8",
          "MAP@8",
          "MAP@8",
          "MAP@8",
          "MAP@8",
          "MAP@8",
          "MAP@8",
          "MAP@8",
          "MAP@8",
          "MAP@8"
         ],
         "x0": " ",
         "xaxis": "x",
         "y": [
          0.0928217934683452,
          0.0959396095602992,
          0.0889691662105455,
          0.0964424831235176,
          0.0950843824119686,
          0.0936774767378215,
          0.0888419084108739,
          0.0866217387338077,
          0.0990254971720488,
          0.0969884601350118,
          0.1104747765006385,
          0.1074675241744207,
          0.1074924283889801,
          0.1134961229702609,
          0.1107262817004196,
          0.1148836206896551,
          0.1051405537310709,
          0.104351076445904,
          0.1170329547527823,
          0.1104958492975734,
          0.1260384852216748,
          0.1216225678968905,
          0.1197792569134933,
          0.1268467807621132,
          0.1243869959861339,
          0.1250920110381317,
          0.1191299033023171,
          0.1216101874657909,
          0.1296470990695128,
          0.1222766602809706
         ],
         "y0": " ",
         "yaxis": "y"
        },
        {
         "alignmentgroup": "True",
         "hovertemplate": "Method=relmf<br>Propensity=BB Item-User<br>Metric@K=%{x}<br>Value=%{y}<extra></extra>",
         "legendgroup": "relmf",
         "marker": {
          "color": "#ab63fa"
         },
         "name": "relmf",
         "notched": false,
         "offsetgroup": "relmf",
         "orientation": "v",
         "quartilemethod": "exclusive",
         "showlegend": false,
         "type": "box",
         "x": [
          "MAP@3",
          "MAP@3",
          "MAP@3",
          "MAP@3",
          "MAP@3",
          "MAP@3",
          "MAP@3",
          "MAP@3",
          "MAP@3",
          "MAP@3",
          "MAP@5",
          "MAP@5",
          "MAP@5",
          "MAP@5",
          "MAP@5",
          "MAP@5",
          "MAP@5",
          "MAP@5",
          "MAP@5",
          "MAP@5",
          "MAP@8",
          "MAP@8",
          "MAP@8",
          "MAP@8",
          "MAP@8",
          "MAP@8",
          "MAP@8",
          "MAP@8",
          "MAP@8",
          "MAP@8"
         ],
         "x0": " ",
         "xaxis": "x2",
         "y": [
          0.0947566593687283,
          0.0924030742565225,
          0.0930113118044152,
          0.0978217934683451,
          0.0961619686188651,
          0.099577859879584,
          0.0984763273125342,
          0.0948113939062214,
          0.1035146414887794,
          0.0931283068783068,
          0.1150992975734355,
          0.1088758438241196,
          0.1119389253785805,
          0.1173639390622149,
          0.1122550173326035,
          0.120522509578544,
          0.1163622742200328,
          0.110297299762817,
          0.119588601532567,
          0.1062338761174968,
          0.1306969303046889,
          0.1221476008027732,
          0.1280761494252873,
          0.1301612648890973,
          0.1283121921182266,
          0.1315888638022258,
          0.131714627805145,
          0.1263984332238642,
          0.1326628580550994,
          0.121504584017515
         ],
         "y0": " ",
         "yaxis": "y2"
        },
        {
         "alignmentgroup": "True",
         "hovertemplate": "Method=dumf<br>Propensity=Original<br>Metric@K=%{x}<br>Value=%{y}<extra></extra>",
         "legendgroup": "dumf",
         "marker": {
          "color": "#FFA15A"
         },
         "name": "dumf",
         "notched": false,
         "offsetgroup": "dumf",
         "orientation": "v",
         "quartilemethod": "exclusive",
         "showlegend": true,
         "type": "box",
         "x": [
          "MAP@3",
          "MAP@3",
          "MAP@3",
          "MAP@3",
          "MAP@3",
          "MAP@3",
          "MAP@3",
          "MAP@3",
          "MAP@3",
          "MAP@3",
          "MAP@5",
          "MAP@5",
          "MAP@5",
          "MAP@5",
          "MAP@5",
          "MAP@5",
          "MAP@5",
          "MAP@5",
          "MAP@5",
          "MAP@5",
          "MAP@8",
          "MAP@8",
          "MAP@8",
          "MAP@8",
          "MAP@8",
          "MAP@8",
          "MAP@8",
          "MAP@8",
          "MAP@8",
          "MAP@8"
         ],
         "x0": " ",
         "xaxis": "x",
         "y": [
          0.0917154716292647,
          0.0887125980660463,
          0.087966839992702,
          0.0935654989965334,
          0.101947409231892,
          0.0980357142857142,
          0.0906378854223681,
          0.0998018153621601,
          0.1074131089217296,
          0.0955133643495712,
          0.1081744891443167,
          0.1027473544973544,
          0.1075916347381864,
          0.1151679894179894,
          0.1219398832329866,
          0.1170967432950191,
          0.1074628033205619,
          0.1192173189199051,
          0.1207259852216748,
          0.1060804825761722,
          0.1241118099538666,
          0.1180896164021164,
          0.1211637474913336,
          0.1274867790027888,
          0.131307528279511,
          0.1271822660098522,
          0.1197200654208043,
          0.1328347016967706,
          0.136146642948367,
          0.1206278963692756
         ],
         "y0": " ",
         "yaxis": "y"
        },
        {
         "alignmentgroup": "True",
         "hovertemplate": "Method=dumf<br>Propensity=BB Item-User<br>Metric@K=%{x}<br>Value=%{y}<extra></extra>",
         "legendgroup": "dumf",
         "marker": {
          "color": "#FFA15A"
         },
         "name": "dumf",
         "notched": false,
         "offsetgroup": "dumf",
         "orientation": "v",
         "quartilemethod": "exclusive",
         "showlegend": false,
         "type": "box",
         "x": [
          "MAP@3",
          "MAP@3",
          "MAP@3",
          "MAP@3",
          "MAP@3",
          "MAP@3",
          "MAP@3",
          "MAP@3",
          "MAP@3",
          "MAP@3",
          "MAP@5",
          "MAP@5",
          "MAP@5",
          "MAP@5",
          "MAP@5",
          "MAP@5",
          "MAP@5",
          "MAP@5",
          "MAP@5",
          "MAP@5",
          "MAP@8",
          "MAP@8",
          "MAP@8",
          "MAP@8",
          "MAP@8",
          "MAP@8",
          "MAP@8",
          "MAP@8",
          "MAP@8",
          "MAP@8"
         ],
         "x0": " ",
         "xaxis": "x2",
         "y": [
          0.0917154716292647,
          0.0879463145411421,
          0.087966839992702,
          0.0935654989965334,
          0.101947409231892,
          0.0980357142857142,
          0.0906378854223681,
          0.0998018153621601,
          0.1074131089217296,
          0.0955133643495712,
          0.1081744891443167,
          0.1025557836161284,
          0.1075916347381864,
          0.1151679894179894,
          0.1219398832329866,
          0.1170967432950191,
          0.1074628033205619,
          0.1192173189199051,
          0.1207259852216748,
          0.1060804825761722,
          0.1241118099538666,
          0.1178364691662105,
          0.1211637474913336,
          0.1270557445200302,
          0.131307528279511,
          0.1271822660098522,
          0.1197200654208043,
          0.1328347016967706,
          0.1362082193030468,
          0.1206278963692756
         ],
         "y0": " ",
         "yaxis": "y2"
        }
       ],
       "layout": {
        "annotations": [
         {
          "font": {},
          "showarrow": false,
          "text": "Propensity=Original",
          "x": 0.245,
          "xanchor": "center",
          "xref": "paper",
          "y": 1,
          "yanchor": "bottom",
          "yref": "paper"
         },
         {
          "font": {},
          "showarrow": false,
          "text": "Propensity=BB Item-User",
          "x": 0.755,
          "xanchor": "center",
          "xref": "paper",
          "y": 1,
          "yanchor": "bottom",
          "yref": "paper"
         }
        ],
        "boxmode": "group",
        "legend": {
         "title": {
          "text": "Method"
         },
         "tracegroupgap": 0
        },
        "margin": {
         "t": 60
        },
        "template": {
         "data": {
          "bar": [
           {
            "error_x": {
             "color": "#2a3f5f"
            },
            "error_y": {
             "color": "#2a3f5f"
            },
            "marker": {
             "line": {
              "color": "#E5ECF6",
              "width": 0.5
             },
             "pattern": {
              "fillmode": "overlay",
              "size": 10,
              "solidity": 0.2
             }
            },
            "type": "bar"
           }
          ],
          "barpolar": [
           {
            "marker": {
             "line": {
              "color": "#E5ECF6",
              "width": 0.5
             },
             "pattern": {
              "fillmode": "overlay",
              "size": 10,
              "solidity": 0.2
             }
            },
            "type": "barpolar"
           }
          ],
          "carpet": [
           {
            "aaxis": {
             "endlinecolor": "#2a3f5f",
             "gridcolor": "white",
             "linecolor": "white",
             "minorgridcolor": "white",
             "startlinecolor": "#2a3f5f"
            },
            "baxis": {
             "endlinecolor": "#2a3f5f",
             "gridcolor": "white",
             "linecolor": "white",
             "minorgridcolor": "white",
             "startlinecolor": "#2a3f5f"
            },
            "type": "carpet"
           }
          ],
          "choropleth": [
           {
            "colorbar": {
             "outlinewidth": 0,
             "ticks": ""
            },
            "type": "choropleth"
           }
          ],
          "contour": [
           {
            "colorbar": {
             "outlinewidth": 0,
             "ticks": ""
            },
            "colorscale": [
             [
              0,
              "#0d0887"
             ],
             [
              0.1111111111111111,
              "#46039f"
             ],
             [
              0.2222222222222222,
              "#7201a8"
             ],
             [
              0.3333333333333333,
              "#9c179e"
             ],
             [
              0.4444444444444444,
              "#bd3786"
             ],
             [
              0.5555555555555556,
              "#d8576b"
             ],
             [
              0.6666666666666666,
              "#ed7953"
             ],
             [
              0.7777777777777778,
              "#fb9f3a"
             ],
             [
              0.8888888888888888,
              "#fdca26"
             ],
             [
              1,
              "#f0f921"
             ]
            ],
            "type": "contour"
           }
          ],
          "contourcarpet": [
           {
            "colorbar": {
             "outlinewidth": 0,
             "ticks": ""
            },
            "type": "contourcarpet"
           }
          ],
          "heatmap": [
           {
            "colorbar": {
             "outlinewidth": 0,
             "ticks": ""
            },
            "colorscale": [
             [
              0,
              "#0d0887"
             ],
             [
              0.1111111111111111,
              "#46039f"
             ],
             [
              0.2222222222222222,
              "#7201a8"
             ],
             [
              0.3333333333333333,
              "#9c179e"
             ],
             [
              0.4444444444444444,
              "#bd3786"
             ],
             [
              0.5555555555555556,
              "#d8576b"
             ],
             [
              0.6666666666666666,
              "#ed7953"
             ],
             [
              0.7777777777777778,
              "#fb9f3a"
             ],
             [
              0.8888888888888888,
              "#fdca26"
             ],
             [
              1,
              "#f0f921"
             ]
            ],
            "type": "heatmap"
           }
          ],
          "heatmapgl": [
           {
            "colorbar": {
             "outlinewidth": 0,
             "ticks": ""
            },
            "colorscale": [
             [
              0,
              "#0d0887"
             ],
             [
              0.1111111111111111,
              "#46039f"
             ],
             [
              0.2222222222222222,
              "#7201a8"
             ],
             [
              0.3333333333333333,
              "#9c179e"
             ],
             [
              0.4444444444444444,
              "#bd3786"
             ],
             [
              0.5555555555555556,
              "#d8576b"
             ],
             [
              0.6666666666666666,
              "#ed7953"
             ],
             [
              0.7777777777777778,
              "#fb9f3a"
             ],
             [
              0.8888888888888888,
              "#fdca26"
             ],
             [
              1,
              "#f0f921"
             ]
            ],
            "type": "heatmapgl"
           }
          ],
          "histogram": [
           {
            "marker": {
             "pattern": {
              "fillmode": "overlay",
              "size": 10,
              "solidity": 0.2
             }
            },
            "type": "histogram"
           }
          ],
          "histogram2d": [
           {
            "colorbar": {
             "outlinewidth": 0,
             "ticks": ""
            },
            "colorscale": [
             [
              0,
              "#0d0887"
             ],
             [
              0.1111111111111111,
              "#46039f"
             ],
             [
              0.2222222222222222,
              "#7201a8"
             ],
             [
              0.3333333333333333,
              "#9c179e"
             ],
             [
              0.4444444444444444,
              "#bd3786"
             ],
             [
              0.5555555555555556,
              "#d8576b"
             ],
             [
              0.6666666666666666,
              "#ed7953"
             ],
             [
              0.7777777777777778,
              "#fb9f3a"
             ],
             [
              0.8888888888888888,
              "#fdca26"
             ],
             [
              1,
              "#f0f921"
             ]
            ],
            "type": "histogram2d"
           }
          ],
          "histogram2dcontour": [
           {
            "colorbar": {
             "outlinewidth": 0,
             "ticks": ""
            },
            "colorscale": [
             [
              0,
              "#0d0887"
             ],
             [
              0.1111111111111111,
              "#46039f"
             ],
             [
              0.2222222222222222,
              "#7201a8"
             ],
             [
              0.3333333333333333,
              "#9c179e"
             ],
             [
              0.4444444444444444,
              "#bd3786"
             ],
             [
              0.5555555555555556,
              "#d8576b"
             ],
             [
              0.6666666666666666,
              "#ed7953"
             ],
             [
              0.7777777777777778,
              "#fb9f3a"
             ],
             [
              0.8888888888888888,
              "#fdca26"
             ],
             [
              1,
              "#f0f921"
             ]
            ],
            "type": "histogram2dcontour"
           }
          ],
          "mesh3d": [
           {
            "colorbar": {
             "outlinewidth": 0,
             "ticks": ""
            },
            "type": "mesh3d"
           }
          ],
          "parcoords": [
           {
            "line": {
             "colorbar": {
              "outlinewidth": 0,
              "ticks": ""
             }
            },
            "type": "parcoords"
           }
          ],
          "pie": [
           {
            "automargin": true,
            "type": "pie"
           }
          ],
          "scatter": [
           {
            "fillpattern": {
             "fillmode": "overlay",
             "size": 10,
             "solidity": 0.2
            },
            "type": "scatter"
           }
          ],
          "scatter3d": [
           {
            "line": {
             "colorbar": {
              "outlinewidth": 0,
              "ticks": ""
             }
            },
            "marker": {
             "colorbar": {
              "outlinewidth": 0,
              "ticks": ""
             }
            },
            "type": "scatter3d"
           }
          ],
          "scattercarpet": [
           {
            "marker": {
             "colorbar": {
              "outlinewidth": 0,
              "ticks": ""
             }
            },
            "type": "scattercarpet"
           }
          ],
          "scattergeo": [
           {
            "marker": {
             "colorbar": {
              "outlinewidth": 0,
              "ticks": ""
             }
            },
            "type": "scattergeo"
           }
          ],
          "scattergl": [
           {
            "marker": {
             "colorbar": {
              "outlinewidth": 0,
              "ticks": ""
             }
            },
            "type": "scattergl"
           }
          ],
          "scattermapbox": [
           {
            "marker": {
             "colorbar": {
              "outlinewidth": 0,
              "ticks": ""
             }
            },
            "type": "scattermapbox"
           }
          ],
          "scatterpolar": [
           {
            "marker": {
             "colorbar": {
              "outlinewidth": 0,
              "ticks": ""
             }
            },
            "type": "scatterpolar"
           }
          ],
          "scatterpolargl": [
           {
            "marker": {
             "colorbar": {
              "outlinewidth": 0,
              "ticks": ""
             }
            },
            "type": "scatterpolargl"
           }
          ],
          "scatterternary": [
           {
            "marker": {
             "colorbar": {
              "outlinewidth": 0,
              "ticks": ""
             }
            },
            "type": "scatterternary"
           }
          ],
          "surface": [
           {
            "colorbar": {
             "outlinewidth": 0,
             "ticks": ""
            },
            "colorscale": [
             [
              0,
              "#0d0887"
             ],
             [
              0.1111111111111111,
              "#46039f"
             ],
             [
              0.2222222222222222,
              "#7201a8"
             ],
             [
              0.3333333333333333,
              "#9c179e"
             ],
             [
              0.4444444444444444,
              "#bd3786"
             ],
             [
              0.5555555555555556,
              "#d8576b"
             ],
             [
              0.6666666666666666,
              "#ed7953"
             ],
             [
              0.7777777777777778,
              "#fb9f3a"
             ],
             [
              0.8888888888888888,
              "#fdca26"
             ],
             [
              1,
              "#f0f921"
             ]
            ],
            "type": "surface"
           }
          ],
          "table": [
           {
            "cells": {
             "fill": {
              "color": "#EBF0F8"
             },
             "line": {
              "color": "white"
             }
            },
            "header": {
             "fill": {
              "color": "#C8D4E3"
             },
             "line": {
              "color": "white"
             }
            },
            "type": "table"
           }
          ]
         },
         "layout": {
          "annotationdefaults": {
           "arrowcolor": "#2a3f5f",
           "arrowhead": 0,
           "arrowwidth": 1
          },
          "autotypenumbers": "strict",
          "coloraxis": {
           "colorbar": {
            "outlinewidth": 0,
            "ticks": ""
           }
          },
          "colorscale": {
           "diverging": [
            [
             0,
             "#8e0152"
            ],
            [
             0.1,
             "#c51b7d"
            ],
            [
             0.2,
             "#de77ae"
            ],
            [
             0.3,
             "#f1b6da"
            ],
            [
             0.4,
             "#fde0ef"
            ],
            [
             0.5,
             "#f7f7f7"
            ],
            [
             0.6,
             "#e6f5d0"
            ],
            [
             0.7,
             "#b8e186"
            ],
            [
             0.8,
             "#7fbc41"
            ],
            [
             0.9,
             "#4d9221"
            ],
            [
             1,
             "#276419"
            ]
           ],
           "sequential": [
            [
             0,
             "#0d0887"
            ],
            [
             0.1111111111111111,
             "#46039f"
            ],
            [
             0.2222222222222222,
             "#7201a8"
            ],
            [
             0.3333333333333333,
             "#9c179e"
            ],
            [
             0.4444444444444444,
             "#bd3786"
            ],
            [
             0.5555555555555556,
             "#d8576b"
            ],
            [
             0.6666666666666666,
             "#ed7953"
            ],
            [
             0.7777777777777778,
             "#fb9f3a"
            ],
            [
             0.8888888888888888,
             "#fdca26"
            ],
            [
             1,
             "#f0f921"
            ]
           ],
           "sequentialminus": [
            [
             0,
             "#0d0887"
            ],
            [
             0.1111111111111111,
             "#46039f"
            ],
            [
             0.2222222222222222,
             "#7201a8"
            ],
            [
             0.3333333333333333,
             "#9c179e"
            ],
            [
             0.4444444444444444,
             "#bd3786"
            ],
            [
             0.5555555555555556,
             "#d8576b"
            ],
            [
             0.6666666666666666,
             "#ed7953"
            ],
            [
             0.7777777777777778,
             "#fb9f3a"
            ],
            [
             0.8888888888888888,
             "#fdca26"
            ],
            [
             1,
             "#f0f921"
            ]
           ]
          },
          "colorway": [
           "#636efa",
           "#EF553B",
           "#00cc96",
           "#ab63fa",
           "#FFA15A",
           "#19d3f3",
           "#FF6692",
           "#B6E880",
           "#FF97FF",
           "#FECB52"
          ],
          "font": {
           "color": "#2a3f5f"
          },
          "geo": {
           "bgcolor": "white",
           "lakecolor": "white",
           "landcolor": "#E5ECF6",
           "showlakes": true,
           "showland": true,
           "subunitcolor": "white"
          },
          "hoverlabel": {
           "align": "left"
          },
          "hovermode": "closest",
          "mapbox": {
           "style": "light"
          },
          "paper_bgcolor": "white",
          "plot_bgcolor": "#E5ECF6",
          "polar": {
           "angularaxis": {
            "gridcolor": "white",
            "linecolor": "white",
            "ticks": ""
           },
           "bgcolor": "#E5ECF6",
           "radialaxis": {
            "gridcolor": "white",
            "linecolor": "white",
            "ticks": ""
           }
          },
          "scene": {
           "xaxis": {
            "backgroundcolor": "#E5ECF6",
            "gridcolor": "white",
            "gridwidth": 2,
            "linecolor": "white",
            "showbackground": true,
            "ticks": "",
            "zerolinecolor": "white"
           },
           "yaxis": {
            "backgroundcolor": "#E5ECF6",
            "gridcolor": "white",
            "gridwidth": 2,
            "linecolor": "white",
            "showbackground": true,
            "ticks": "",
            "zerolinecolor": "white"
           },
           "zaxis": {
            "backgroundcolor": "#E5ECF6",
            "gridcolor": "white",
            "gridwidth": 2,
            "linecolor": "white",
            "showbackground": true,
            "ticks": "",
            "zerolinecolor": "white"
           }
          },
          "shapedefaults": {
           "line": {
            "color": "#2a3f5f"
           }
          },
          "ternary": {
           "aaxis": {
            "gridcolor": "white",
            "linecolor": "white",
            "ticks": ""
           },
           "baxis": {
            "gridcolor": "white",
            "linecolor": "white",
            "ticks": ""
           },
           "bgcolor": "#E5ECF6",
           "caxis": {
            "gridcolor": "white",
            "linecolor": "white",
            "ticks": ""
           }
          },
          "title": {
           "x": 0.05
          },
          "xaxis": {
           "automargin": true,
           "gridcolor": "white",
           "linecolor": "white",
           "ticks": "",
           "title": {
            "standoff": 15
           },
           "zerolinecolor": "white",
           "zerolinewidth": 2
          },
          "yaxis": {
           "automargin": true,
           "gridcolor": "white",
           "linecolor": "white",
           "ticks": "",
           "title": {
            "standoff": 15
           },
           "zerolinecolor": "white",
           "zerolinewidth": 2
          }
         }
        },
        "xaxis": {
         "anchor": "y",
         "domain": [
          0,
          0.49
         ],
         "title": {
          "text": "MAP@K"
         }
        },
        "xaxis2": {
         "anchor": "y2",
         "domain": [
          0.51,
          1
         ],
         "matches": "x",
         "title": {
          "text": "MAP@K"
         }
        },
        "yaxis": {
         "anchor": "x",
         "domain": [
          0,
          1
         ],
         "title": {
          "text": "Value"
         }
        },
        "yaxis2": {
         "anchor": "x2",
         "domain": [
          0,
          1
         ],
         "matches": "y",
         "showticklabels": false
        }
       }
      }
     },
     "metadata": {},
     "output_type": "display_data"
    }
   ],
   "source": [
    "plot_metric(coat_df, 'MAP', methods=_methods, propensities=_propensities)\n"
   ]
  },
  {
   "attachments": {},
   "cell_type": "markdown",
   "metadata": {},
   "source": [
    "### Recall@K"
   ]
  },
  {
   "cell_type": "code",
   "execution_count": 10,
   "metadata": {},
   "outputs": [
    {
     "data": {
      "application/vnd.plotly.v1+json": {
       "config": {
        "plotlyServerURL": "https://plot.ly"
       },
       "data": [
        {
         "alignmentgroup": "True",
         "hovertemplate": "Method=bpr<br>Propensity=Original<br>Metric@K=%{x}<br>Value=%{y}<extra></extra>",
         "legendgroup": "bpr",
         "marker": {
          "color": "#636efa"
         },
         "name": "bpr",
         "notched": false,
         "offsetgroup": "bpr",
         "orientation": "v",
         "quartilemethod": "exclusive",
         "showlegend": true,
         "type": "box",
         "x": [
          "Recall@3",
          "Recall@3",
          "Recall@3",
          "Recall@3",
          "Recall@3",
          "Recall@3",
          "Recall@3",
          "Recall@3",
          "Recall@3",
          "Recall@3",
          "Recall@5",
          "Recall@5",
          "Recall@5",
          "Recall@5",
          "Recall@5",
          "Recall@5",
          "Recall@5",
          "Recall@5",
          "Recall@5",
          "Recall@5",
          "Recall@8",
          "Recall@8",
          "Recall@8",
          "Recall@8",
          "Recall@8",
          "Recall@8",
          "Recall@8",
          "Recall@8",
          "Recall@8",
          "Recall@8"
         ],
         "x0": " ",
         "xaxis": "x",
         "y": [
          0.1193418171866447,
          0.1330391351943076,
          0.1140736179529283,
          0.121755610290093,
          0.127579365079365,
          0.1124644225506294,
          0.1201368363437328,
          0.1203188286808976,
          0.1178092501368363,
          0.0986521620142309,
          0.1684838533114395,
          0.1723152709359606,
          0.1584072249589491,
          0.1684263820470717,
          0.177051176792556,
          0.1550684181718664,
          0.1577599890530925,
          0.1756486042692939,
          0.1499781061850027,
          0.1705856595511768,
          0.2074671592775041,
          0.2282813355227148,
          0.2330569239189928,
          0.2294499178981938,
          0.2451737821565407,
          0.2287739463601532,
          0.2155883962780514,
          0.2189367816091954,
          0.2202353585112205,
          0.2176204159824849
         ],
         "y0": " ",
         "yaxis": "y"
        },
        {
         "alignmentgroup": "True",
         "hovertemplate": "Method=bpr<br>Propensity=BB Item-User<br>Metric@K=%{x}<br>Value=%{y}<extra></extra>",
         "legendgroup": "bpr",
         "marker": {
          "color": "#636efa"
         },
         "name": "bpr",
         "notched": false,
         "offsetgroup": "bpr",
         "orientation": "v",
         "quartilemethod": "exclusive",
         "showlegend": false,
         "type": "box",
         "x": [
          "Recall@3",
          "Recall@3",
          "Recall@3",
          "Recall@3",
          "Recall@3",
          "Recall@3",
          "Recall@3",
          "Recall@3",
          "Recall@3",
          "Recall@3",
          "Recall@5",
          "Recall@5",
          "Recall@5",
          "Recall@5",
          "Recall@5",
          "Recall@5",
          "Recall@5",
          "Recall@5",
          "Recall@5",
          "Recall@5",
          "Recall@8",
          "Recall@8",
          "Recall@8",
          "Recall@8",
          "Recall@8",
          "Recall@8",
          "Recall@8",
          "Recall@8",
          "Recall@8",
          "Recall@8"
         ],
         "x0": " ",
         "xaxis": "x2",
         "y": [
          0.1295812807881773,
          0.1097824302134646,
          0.1304529282977559,
          0.114475916803503,
          0.1106253420908593,
          0.1159126984126984,
          0.1108839627805145,
          0.1140736179529282,
          0.1169471811713191,
          0.1249452654625068,
          0.1527558839627805,
          0.1523576902025177,
          0.1576888341543514,
          0.1499685276409414,
          0.1585700602079912,
          0.1568746579091406,
          0.1692925561029009,
          0.1657827038861521,
          0.1574493705528188,
          0.1572235905856595,
          0.208544061302682,
          0.2186453201970443,
          0.2167775041050903,
          0.214459496442255,
          0.2011644772851669,
          0.2075779967159277,
          0.2161590038314176,
          0.2182676518883415,
          0.2234250136836343,
          0.214143404488232
         ],
         "y0": " ",
         "yaxis": "y2"
        },
        {
         "alignmentgroup": "True",
         "hovertemplate": "Method=ubpr<br>Propensity=Original<br>Metric@K=%{x}<br>Value=%{y}<extra></extra>",
         "legendgroup": "ubpr",
         "marker": {
          "color": "#EF553B"
         },
         "name": "ubpr",
         "notched": false,
         "offsetgroup": "ubpr",
         "orientation": "v",
         "quartilemethod": "exclusive",
         "showlegend": true,
         "type": "box",
         "x": [
          "Recall@3",
          "Recall@3",
          "Recall@3",
          "Recall@3",
          "Recall@3",
          "Recall@3",
          "Recall@3",
          "Recall@3",
          "Recall@3",
          "Recall@3",
          "Recall@5",
          "Recall@5",
          "Recall@5",
          "Recall@5",
          "Recall@5",
          "Recall@5",
          "Recall@5",
          "Recall@5",
          "Recall@5",
          "Recall@5",
          "Recall@8",
          "Recall@8",
          "Recall@8",
          "Recall@8",
          "Recall@8",
          "Recall@8",
          "Recall@8",
          "Recall@8",
          "Recall@8",
          "Recall@8"
         ],
         "x0": " ",
         "xaxis": "x",
         "y": [
          0.1173111658456486,
          0.1165544608648057,
          0.1275314723590585,
          0.1149931581828133,
          0.1231390257252326,
          0.1245812807881773,
          0.1133894362342638,
          0.1243897099069512,
          0.1230925013683634,
          0.1242788724685276,
          0.1656910235358511,
          0.185715654077723,
          0.1673152709359606,
          0.1620224411603721,
          0.1602367268746579,
          0.1762328954570333,
          0.1661617405582922,
          0.1747482211275314,
          0.1602750410509031,
          0.158511220580186,
          0.2165804597701149,
          0.2300766283524904,
          0.2211070060207991,
          0.2427449370552818,
          0.2309209085933223,
          0.2186261631089217,
          0.2156376573617952,
          0.2406472359058565,
          0.211139846743295,
          0.2020826491516146
         ],
         "y0": " ",
         "yaxis": "y"
        },
        {
         "alignmentgroup": "True",
         "hovertemplate": "Method=ubpr<br>Propensity=BB Item-User<br>Metric@K=%{x}<br>Value=%{y}<extra></extra>",
         "legendgroup": "ubpr",
         "marker": {
          "color": "#EF553B"
         },
         "name": "ubpr",
         "notched": false,
         "offsetgroup": "ubpr",
         "orientation": "v",
         "quartilemethod": "exclusive",
         "showlegend": false,
         "type": "box",
         "x": [
          "Recall@3",
          "Recall@3",
          "Recall@3",
          "Recall@3",
          "Recall@3",
          "Recall@3",
          "Recall@3",
          "Recall@3",
          "Recall@3",
          "Recall@3",
          "Recall@5",
          "Recall@5",
          "Recall@5",
          "Recall@5",
          "Recall@5",
          "Recall@5",
          "Recall@5",
          "Recall@5",
          "Recall@5",
          "Recall@5",
          "Recall@8",
          "Recall@8",
          "Recall@8",
          "Recall@8",
          "Recall@8",
          "Recall@8",
          "Recall@8",
          "Recall@8",
          "Recall@8",
          "Recall@8"
         ],
         "x0": " ",
         "xaxis": "x2",
         "y": [
          0.1093992884510125,
          0.1116981390257252,
          0.1047482211275314,
          0.1059756431308155,
          0.1056061850027367,
          0.1058360700602079,
          0.1104337712096332,
          0.1096291735084838,
          0.1307498631636562,
          0.1213533114395183,
          0.1611904761904762,
          0.1556527093596059,
          0.152707991242474,
          0.1623248494800219,
          0.1462328954570333,
          0.1361617405582922,
          0.1533388067870826,
          0.1589573070607553,
          0.168535851122058,
          0.1643404488232074,
          0.2245689655172413,
          0.2210727969348658,
          0.2195799124247399,
          0.2190298303229337,
          0.2012411056376573,
          0.1922523262178434,
          0.2166187739463601,
          0.2278215654077723,
          0.2164039408866994,
          0.2190708812260536
         ],
         "y0": " ",
         "yaxis": "y2"
        },
        {
         "alignmentgroup": "True",
         "hovertemplate": "Method=dubpr<br>Propensity=Original<br>Metric@K=%{x}<br>Value=%{y}<extra></extra>",
         "legendgroup": "dubpr",
         "marker": {
          "color": "#00cc96"
         },
         "name": "dubpr",
         "notched": false,
         "offsetgroup": "dubpr",
         "orientation": "v",
         "quartilemethod": "exclusive",
         "showlegend": true,
         "type": "box",
         "x": [
          "Recall@3",
          "Recall@3",
          "Recall@3",
          "Recall@3",
          "Recall@3",
          "Recall@3",
          "Recall@3",
          "Recall@3",
          "Recall@3",
          "Recall@3",
          "Recall@5",
          "Recall@5",
          "Recall@5",
          "Recall@5",
          "Recall@5",
          "Recall@5",
          "Recall@5",
          "Recall@5",
          "Recall@5",
          "Recall@5",
          "Recall@8",
          "Recall@8",
          "Recall@8",
          "Recall@8",
          "Recall@8",
          "Recall@8",
          "Recall@8",
          "Recall@8",
          "Recall@8",
          "Recall@8"
         ],
         "x0": " ",
         "xaxis": "x",
         "y": [
          0.1091694033935413,
          0.1216215106732348,
          0.131027640941434,
          0.1221483305966064,
          0.1275259989053092,
          0.1106294471811713,
          0.121947181171319,
          0.1256253420908593,
          0.1103571428571428,
          0.1116885604816639,
          0.1498344280240832,
          0.164039408866995,
          0.1720183360700602,
          0.170711548987411,
          0.1695279146141215,
          0.1551888341543514,
          0.1682443897099069,
          0.169575807334428,
          0.1656143951833607,
          0.160491242474001,
          0.2035782703886152,
          0.2064764641488779,
          0.2184250136836343,
          0.2206622879036672,
          0.2129652435686918,
          0.2104611384783798,
          0.2228653530377668,
          0.2269882320744389,
          0.2075725232621784,
          0.2180514504652435
         ],
         "y0": " ",
         "yaxis": "y"
        },
        {
         "alignmentgroup": "True",
         "hovertemplate": "Method=dubpr<br>Propensity=BB Item-User<br>Metric@K=%{x}<br>Value=%{y}<extra></extra>",
         "legendgroup": "dubpr",
         "marker": {
          "color": "#00cc96"
         },
         "name": "dubpr",
         "notched": false,
         "offsetgroup": "dubpr",
         "orientation": "v",
         "quartilemethod": "exclusive",
         "showlegend": false,
         "type": "box",
         "x": [
          "Recall@3",
          "Recall@3",
          "Recall@3",
          "Recall@3",
          "Recall@3",
          "Recall@3",
          "Recall@3",
          "Recall@3",
          "Recall@3",
          "Recall@3",
          "Recall@5",
          "Recall@5",
          "Recall@5",
          "Recall@5",
          "Recall@5",
          "Recall@5",
          "Recall@5",
          "Recall@5",
          "Recall@5",
          "Recall@5",
          "Recall@8",
          "Recall@8",
          "Recall@8",
          "Recall@8",
          "Recall@8",
          "Recall@8",
          "Recall@8",
          "Recall@8",
          "Recall@8",
          "Recall@8"
         ],
         "x0": " ",
         "xaxis": "x2",
         "y": [
          0.1101464148877942,
          0.1164969896004378,
          0.1142268746579091,
          0.1268418171866447,
          0.1052613574165298,
          0.104255610290093,
          0.1306923918992884,
          0.1156964969896004,
          0.1146866447728516,
          0.1212096332785988,
          0.1595238095238095,
          0.175719759168035,
          0.1542214012041598,
          0.1667460317460317,
          0.1579666119321292,
          0.141031746031746,
          0.1655719759168035,
          0.1739627805145046,
          0.1456486042692939,
          0.1695087575259989,
          0.2162848932676518,
          0.2346606458675424,
          0.2054802955665024,
          0.2299767378215654,
          0.2057991242474001,
          0.2216297208538587,
          0.199871373836891,
          0.2222085385878489,
          0.2203598795840175,
          0.222807881773399
         ],
         "y0": " ",
         "yaxis": "y2"
        },
        {
         "alignmentgroup": "True",
         "hovertemplate": "Method=relmf<br>Propensity=Original<br>Metric@K=%{x}<br>Value=%{y}<extra></extra>",
         "legendgroup": "relmf",
         "marker": {
          "color": "#ab63fa"
         },
         "name": "relmf",
         "notched": false,
         "offsetgroup": "relmf",
         "orientation": "v",
         "quartilemethod": "exclusive",
         "showlegend": true,
         "type": "box",
         "x": [
          "Recall@3",
          "Recall@3",
          "Recall@3",
          "Recall@3",
          "Recall@3",
          "Recall@3",
          "Recall@3",
          "Recall@3",
          "Recall@3",
          "Recall@3",
          "Recall@5",
          "Recall@5",
          "Recall@5",
          "Recall@5",
          "Recall@5",
          "Recall@5",
          "Recall@5",
          "Recall@5",
          "Recall@5",
          "Recall@5",
          "Recall@8",
          "Recall@8",
          "Recall@8",
          "Recall@8",
          "Recall@8",
          "Recall@8",
          "Recall@8",
          "Recall@8",
          "Recall@8",
          "Recall@8"
         ],
         "x0": " ",
         "xaxis": "x",
         "y": [
          0.1277654625068418,
          0.1243171866447728,
          0.112995347564313,
          0.1316406677613574,
          0.1252613574165298,
          0.1203420908593322,
          0.1141406677613574,
          0.1075314723590585,
          0.1227230432402846,
          0.120495347564313,
          0.1841105637657361,
          0.1612889983579638,
          0.1626491516146688,
          0.1842747673782156,
          0.1779282977558839,
          0.1863136288998358,
          0.1619458128078817,
          0.1608675424192665,
          0.1813464696223317,
          0.1625205254515599,
          0.2560550082101806,
          0.2153735632183907,
          0.2155938697318007,
          0.2350205254515599,
          0.2319074986316365,
          0.2294211822660098,
          0.221643404488232,
          0.2355268199233716,
          0.2320361247947454,
          0.2130760810071155
         ],
         "y0": " ",
         "yaxis": "y"
        },
        {
         "alignmentgroup": "True",
         "hovertemplate": "Method=relmf<br>Propensity=BB Item-User<br>Metric@K=%{x}<br>Value=%{y}<extra></extra>",
         "legendgroup": "relmf",
         "marker": {
          "color": "#ab63fa"
         },
         "name": "relmf",
         "notched": false,
         "offsetgroup": "relmf",
         "orientation": "v",
         "quartilemethod": "exclusive",
         "showlegend": false,
         "type": "box",
         "x": [
          "Recall@3",
          "Recall@3",
          "Recall@3",
          "Recall@3",
          "Recall@3",
          "Recall@3",
          "Recall@3",
          "Recall@3",
          "Recall@3",
          "Recall@3",
          "Recall@5",
          "Recall@5",
          "Recall@5",
          "Recall@5",
          "Recall@5",
          "Recall@5",
          "Recall@5",
          "Recall@5",
          "Recall@5",
          "Recall@5",
          "Recall@8",
          "Recall@8",
          "Recall@8",
          "Recall@8",
          "Recall@8",
          "Recall@8",
          "Recall@8",
          "Recall@8",
          "Recall@8",
          "Recall@8"
         ],
         "x0": " ",
         "xaxis": "x2",
         "y": [
          0.1200068418171866,
          0.115207991242474,
          0.117995347564313,
          0.1246291735084838,
          0.1216694033935413,
          0.1268938149972632,
          0.1207498631636562,
          0.1173015873015873,
          0.1261713191023536,
          0.118943623426382,
          0.1878461959496442,
          0.1693404488232074,
          0.177591680350301,
          0.1897345374931582,
          0.1717214012041598,
          0.194675697865353,
          0.1814094143404488,
          0.1641434044882321,
          0.180307881773399,
          0.1581622879036672,
          0.2577791461412151,
          0.222175697865353,
          0.2447126436781609,
          0.2409633278598795,
          0.2488423645320197,
          0.2377298850574712,
          0.2440571975916803,
          0.2388847837985769,
          0.2337889983579638,
          0.2298385331143952
         ],
         "y0": " ",
         "yaxis": "y2"
        },
        {
         "alignmentgroup": "True",
         "hovertemplate": "Method=dumf<br>Propensity=Original<br>Metric@K=%{x}<br>Value=%{y}<extra></extra>",
         "legendgroup": "dumf",
         "marker": {
          "color": "#FFA15A"
         },
         "name": "dumf",
         "notched": false,
         "offsetgroup": "dumf",
         "orientation": "v",
         "quartilemethod": "exclusive",
         "showlegend": true,
         "type": "box",
         "x": [
          "Recall@3",
          "Recall@3",
          "Recall@3",
          "Recall@3",
          "Recall@3",
          "Recall@3",
          "Recall@3",
          "Recall@3",
          "Recall@3",
          "Recall@3",
          "Recall@5",
          "Recall@5",
          "Recall@5",
          "Recall@5",
          "Recall@5",
          "Recall@5",
          "Recall@5",
          "Recall@5",
          "Recall@5",
          "Recall@5",
          "Recall@8",
          "Recall@8",
          "Recall@8",
          "Recall@8",
          "Recall@8",
          "Recall@8",
          "Recall@8",
          "Recall@8",
          "Recall@8",
          "Recall@8"
         ],
         "x0": " ",
         "xaxis": "x",
         "y": [
          0.1212999452654624,
          0.1176751505199781,
          0.1136521620142309,
          0.1183648056923919,
          0.1285659551176792,
          0.1275643130815544,
          0.1089682539682539,
          0.1239682539682539,
          0.1393322386425834,
          0.1277367268746579,
          0.1779611384783798,
          0.1585686918445538,
          0.171227422003284,
          0.186975916803503,
          0.1884168035030103,
          0.1808059660645867,
          0.1644991789819376,
          0.182907772304324,
          0.1844417077175698,
          0.1583538587848932,
          0.2404748221127531,
          0.224243295019157,
          0.2290613026819923,
          0.2347892720306513,
          0.2287506841817186,
          0.2282621784345921,
          0.221988232074439,
          0.2396401204159825,
          0.2455897646414887,
          0.2244170771756978
         ],
         "y0": " ",
         "yaxis": "y"
        },
        {
         "alignmentgroup": "True",
         "hovertemplate": "Method=dumf<br>Propensity=BB Item-User<br>Metric@K=%{x}<br>Value=%{y}<extra></extra>",
         "legendgroup": "dumf",
         "marker": {
          "color": "#FFA15A"
         },
         "name": "dumf",
         "notched": false,
         "offsetgroup": "dumf",
         "orientation": "v",
         "quartilemethod": "exclusive",
         "showlegend": false,
         "type": "box",
         "x": [
          "Recall@3",
          "Recall@3",
          "Recall@3",
          "Recall@3",
          "Recall@3",
          "Recall@3",
          "Recall@3",
          "Recall@3",
          "Recall@3",
          "Recall@3",
          "Recall@5",
          "Recall@5",
          "Recall@5",
          "Recall@5",
          "Recall@5",
          "Recall@5",
          "Recall@5",
          "Recall@5",
          "Recall@5",
          "Recall@5",
          "Recall@8",
          "Recall@8",
          "Recall@8",
          "Recall@8",
          "Recall@8",
          "Recall@8",
          "Recall@8",
          "Recall@8",
          "Recall@8",
          "Recall@8"
         ],
         "x0": " ",
         "xaxis": "x2",
         "y": [
          0.1212999452654624,
          0.1165257252326217,
          0.1136521620142309,
          0.1183648056923919,
          0.1285659551176792,
          0.1275643130815544,
          0.1089682539682539,
          0.1239682539682539,
          0.1393322386425834,
          0.1277367268746579,
          0.1779611384783798,
          0.1585686918445538,
          0.171227422003284,
          0.186975916803503,
          0.1884168035030103,
          0.1808059660645867,
          0.1644991789819376,
          0.182907772304324,
          0.1844417077175698,
          0.1583538587848932,
          0.2404748221127531,
          0.224243295019157,
          0.2290613026819923,
          0.2313409961685823,
          0.2287506841817186,
          0.2282621784345921,
          0.221988232074439,
          0.2396401204159825,
          0.2455897646414887,
          0.2244170771756978
         ],
         "y0": " ",
         "yaxis": "y2"
        }
       ],
       "layout": {
        "annotations": [
         {
          "font": {},
          "showarrow": false,
          "text": "Propensity=Original",
          "x": 0.245,
          "xanchor": "center",
          "xref": "paper",
          "y": 1,
          "yanchor": "bottom",
          "yref": "paper"
         },
         {
          "font": {},
          "showarrow": false,
          "text": "Propensity=BB Item-User",
          "x": 0.755,
          "xanchor": "center",
          "xref": "paper",
          "y": 1,
          "yanchor": "bottom",
          "yref": "paper"
         }
        ],
        "boxmode": "group",
        "legend": {
         "title": {
          "text": "Method"
         },
         "tracegroupgap": 0
        },
        "margin": {
         "t": 60
        },
        "template": {
         "data": {
          "bar": [
           {
            "error_x": {
             "color": "#2a3f5f"
            },
            "error_y": {
             "color": "#2a3f5f"
            },
            "marker": {
             "line": {
              "color": "#E5ECF6",
              "width": 0.5
             },
             "pattern": {
              "fillmode": "overlay",
              "size": 10,
              "solidity": 0.2
             }
            },
            "type": "bar"
           }
          ],
          "barpolar": [
           {
            "marker": {
             "line": {
              "color": "#E5ECF6",
              "width": 0.5
             },
             "pattern": {
              "fillmode": "overlay",
              "size": 10,
              "solidity": 0.2
             }
            },
            "type": "barpolar"
           }
          ],
          "carpet": [
           {
            "aaxis": {
             "endlinecolor": "#2a3f5f",
             "gridcolor": "white",
             "linecolor": "white",
             "minorgridcolor": "white",
             "startlinecolor": "#2a3f5f"
            },
            "baxis": {
             "endlinecolor": "#2a3f5f",
             "gridcolor": "white",
             "linecolor": "white",
             "minorgridcolor": "white",
             "startlinecolor": "#2a3f5f"
            },
            "type": "carpet"
           }
          ],
          "choropleth": [
           {
            "colorbar": {
             "outlinewidth": 0,
             "ticks": ""
            },
            "type": "choropleth"
           }
          ],
          "contour": [
           {
            "colorbar": {
             "outlinewidth": 0,
             "ticks": ""
            },
            "colorscale": [
             [
              0,
              "#0d0887"
             ],
             [
              0.1111111111111111,
              "#46039f"
             ],
             [
              0.2222222222222222,
              "#7201a8"
             ],
             [
              0.3333333333333333,
              "#9c179e"
             ],
             [
              0.4444444444444444,
              "#bd3786"
             ],
             [
              0.5555555555555556,
              "#d8576b"
             ],
             [
              0.6666666666666666,
              "#ed7953"
             ],
             [
              0.7777777777777778,
              "#fb9f3a"
             ],
             [
              0.8888888888888888,
              "#fdca26"
             ],
             [
              1,
              "#f0f921"
             ]
            ],
            "type": "contour"
           }
          ],
          "contourcarpet": [
           {
            "colorbar": {
             "outlinewidth": 0,
             "ticks": ""
            },
            "type": "contourcarpet"
           }
          ],
          "heatmap": [
           {
            "colorbar": {
             "outlinewidth": 0,
             "ticks": ""
            },
            "colorscale": [
             [
              0,
              "#0d0887"
             ],
             [
              0.1111111111111111,
              "#46039f"
             ],
             [
              0.2222222222222222,
              "#7201a8"
             ],
             [
              0.3333333333333333,
              "#9c179e"
             ],
             [
              0.4444444444444444,
              "#bd3786"
             ],
             [
              0.5555555555555556,
              "#d8576b"
             ],
             [
              0.6666666666666666,
              "#ed7953"
             ],
             [
              0.7777777777777778,
              "#fb9f3a"
             ],
             [
              0.8888888888888888,
              "#fdca26"
             ],
             [
              1,
              "#f0f921"
             ]
            ],
            "type": "heatmap"
           }
          ],
          "heatmapgl": [
           {
            "colorbar": {
             "outlinewidth": 0,
             "ticks": ""
            },
            "colorscale": [
             [
              0,
              "#0d0887"
             ],
             [
              0.1111111111111111,
              "#46039f"
             ],
             [
              0.2222222222222222,
              "#7201a8"
             ],
             [
              0.3333333333333333,
              "#9c179e"
             ],
             [
              0.4444444444444444,
              "#bd3786"
             ],
             [
              0.5555555555555556,
              "#d8576b"
             ],
             [
              0.6666666666666666,
              "#ed7953"
             ],
             [
              0.7777777777777778,
              "#fb9f3a"
             ],
             [
              0.8888888888888888,
              "#fdca26"
             ],
             [
              1,
              "#f0f921"
             ]
            ],
            "type": "heatmapgl"
           }
          ],
          "histogram": [
           {
            "marker": {
             "pattern": {
              "fillmode": "overlay",
              "size": 10,
              "solidity": 0.2
             }
            },
            "type": "histogram"
           }
          ],
          "histogram2d": [
           {
            "colorbar": {
             "outlinewidth": 0,
             "ticks": ""
            },
            "colorscale": [
             [
              0,
              "#0d0887"
             ],
             [
              0.1111111111111111,
              "#46039f"
             ],
             [
              0.2222222222222222,
              "#7201a8"
             ],
             [
              0.3333333333333333,
              "#9c179e"
             ],
             [
              0.4444444444444444,
              "#bd3786"
             ],
             [
              0.5555555555555556,
              "#d8576b"
             ],
             [
              0.6666666666666666,
              "#ed7953"
             ],
             [
              0.7777777777777778,
              "#fb9f3a"
             ],
             [
              0.8888888888888888,
              "#fdca26"
             ],
             [
              1,
              "#f0f921"
             ]
            ],
            "type": "histogram2d"
           }
          ],
          "histogram2dcontour": [
           {
            "colorbar": {
             "outlinewidth": 0,
             "ticks": ""
            },
            "colorscale": [
             [
              0,
              "#0d0887"
             ],
             [
              0.1111111111111111,
              "#46039f"
             ],
             [
              0.2222222222222222,
              "#7201a8"
             ],
             [
              0.3333333333333333,
              "#9c179e"
             ],
             [
              0.4444444444444444,
              "#bd3786"
             ],
             [
              0.5555555555555556,
              "#d8576b"
             ],
             [
              0.6666666666666666,
              "#ed7953"
             ],
             [
              0.7777777777777778,
              "#fb9f3a"
             ],
             [
              0.8888888888888888,
              "#fdca26"
             ],
             [
              1,
              "#f0f921"
             ]
            ],
            "type": "histogram2dcontour"
           }
          ],
          "mesh3d": [
           {
            "colorbar": {
             "outlinewidth": 0,
             "ticks": ""
            },
            "type": "mesh3d"
           }
          ],
          "parcoords": [
           {
            "line": {
             "colorbar": {
              "outlinewidth": 0,
              "ticks": ""
             }
            },
            "type": "parcoords"
           }
          ],
          "pie": [
           {
            "automargin": true,
            "type": "pie"
           }
          ],
          "scatter": [
           {
            "fillpattern": {
             "fillmode": "overlay",
             "size": 10,
             "solidity": 0.2
            },
            "type": "scatter"
           }
          ],
          "scatter3d": [
           {
            "line": {
             "colorbar": {
              "outlinewidth": 0,
              "ticks": ""
             }
            },
            "marker": {
             "colorbar": {
              "outlinewidth": 0,
              "ticks": ""
             }
            },
            "type": "scatter3d"
           }
          ],
          "scattercarpet": [
           {
            "marker": {
             "colorbar": {
              "outlinewidth": 0,
              "ticks": ""
             }
            },
            "type": "scattercarpet"
           }
          ],
          "scattergeo": [
           {
            "marker": {
             "colorbar": {
              "outlinewidth": 0,
              "ticks": ""
             }
            },
            "type": "scattergeo"
           }
          ],
          "scattergl": [
           {
            "marker": {
             "colorbar": {
              "outlinewidth": 0,
              "ticks": ""
             }
            },
            "type": "scattergl"
           }
          ],
          "scattermapbox": [
           {
            "marker": {
             "colorbar": {
              "outlinewidth": 0,
              "ticks": ""
             }
            },
            "type": "scattermapbox"
           }
          ],
          "scatterpolar": [
           {
            "marker": {
             "colorbar": {
              "outlinewidth": 0,
              "ticks": ""
             }
            },
            "type": "scatterpolar"
           }
          ],
          "scatterpolargl": [
           {
            "marker": {
             "colorbar": {
              "outlinewidth": 0,
              "ticks": ""
             }
            },
            "type": "scatterpolargl"
           }
          ],
          "scatterternary": [
           {
            "marker": {
             "colorbar": {
              "outlinewidth": 0,
              "ticks": ""
             }
            },
            "type": "scatterternary"
           }
          ],
          "surface": [
           {
            "colorbar": {
             "outlinewidth": 0,
             "ticks": ""
            },
            "colorscale": [
             [
              0,
              "#0d0887"
             ],
             [
              0.1111111111111111,
              "#46039f"
             ],
             [
              0.2222222222222222,
              "#7201a8"
             ],
             [
              0.3333333333333333,
              "#9c179e"
             ],
             [
              0.4444444444444444,
              "#bd3786"
             ],
             [
              0.5555555555555556,
              "#d8576b"
             ],
             [
              0.6666666666666666,
              "#ed7953"
             ],
             [
              0.7777777777777778,
              "#fb9f3a"
             ],
             [
              0.8888888888888888,
              "#fdca26"
             ],
             [
              1,
              "#f0f921"
             ]
            ],
            "type": "surface"
           }
          ],
          "table": [
           {
            "cells": {
             "fill": {
              "color": "#EBF0F8"
             },
             "line": {
              "color": "white"
             }
            },
            "header": {
             "fill": {
              "color": "#C8D4E3"
             },
             "line": {
              "color": "white"
             }
            },
            "type": "table"
           }
          ]
         },
         "layout": {
          "annotationdefaults": {
           "arrowcolor": "#2a3f5f",
           "arrowhead": 0,
           "arrowwidth": 1
          },
          "autotypenumbers": "strict",
          "coloraxis": {
           "colorbar": {
            "outlinewidth": 0,
            "ticks": ""
           }
          },
          "colorscale": {
           "diverging": [
            [
             0,
             "#8e0152"
            ],
            [
             0.1,
             "#c51b7d"
            ],
            [
             0.2,
             "#de77ae"
            ],
            [
             0.3,
             "#f1b6da"
            ],
            [
             0.4,
             "#fde0ef"
            ],
            [
             0.5,
             "#f7f7f7"
            ],
            [
             0.6,
             "#e6f5d0"
            ],
            [
             0.7,
             "#b8e186"
            ],
            [
             0.8,
             "#7fbc41"
            ],
            [
             0.9,
             "#4d9221"
            ],
            [
             1,
             "#276419"
            ]
           ],
           "sequential": [
            [
             0,
             "#0d0887"
            ],
            [
             0.1111111111111111,
             "#46039f"
            ],
            [
             0.2222222222222222,
             "#7201a8"
            ],
            [
             0.3333333333333333,
             "#9c179e"
            ],
            [
             0.4444444444444444,
             "#bd3786"
            ],
            [
             0.5555555555555556,
             "#d8576b"
            ],
            [
             0.6666666666666666,
             "#ed7953"
            ],
            [
             0.7777777777777778,
             "#fb9f3a"
            ],
            [
             0.8888888888888888,
             "#fdca26"
            ],
            [
             1,
             "#f0f921"
            ]
           ],
           "sequentialminus": [
            [
             0,
             "#0d0887"
            ],
            [
             0.1111111111111111,
             "#46039f"
            ],
            [
             0.2222222222222222,
             "#7201a8"
            ],
            [
             0.3333333333333333,
             "#9c179e"
            ],
            [
             0.4444444444444444,
             "#bd3786"
            ],
            [
             0.5555555555555556,
             "#d8576b"
            ],
            [
             0.6666666666666666,
             "#ed7953"
            ],
            [
             0.7777777777777778,
             "#fb9f3a"
            ],
            [
             0.8888888888888888,
             "#fdca26"
            ],
            [
             1,
             "#f0f921"
            ]
           ]
          },
          "colorway": [
           "#636efa",
           "#EF553B",
           "#00cc96",
           "#ab63fa",
           "#FFA15A",
           "#19d3f3",
           "#FF6692",
           "#B6E880",
           "#FF97FF",
           "#FECB52"
          ],
          "font": {
           "color": "#2a3f5f"
          },
          "geo": {
           "bgcolor": "white",
           "lakecolor": "white",
           "landcolor": "#E5ECF6",
           "showlakes": true,
           "showland": true,
           "subunitcolor": "white"
          },
          "hoverlabel": {
           "align": "left"
          },
          "hovermode": "closest",
          "mapbox": {
           "style": "light"
          },
          "paper_bgcolor": "white",
          "plot_bgcolor": "#E5ECF6",
          "polar": {
           "angularaxis": {
            "gridcolor": "white",
            "linecolor": "white",
            "ticks": ""
           },
           "bgcolor": "#E5ECF6",
           "radialaxis": {
            "gridcolor": "white",
            "linecolor": "white",
            "ticks": ""
           }
          },
          "scene": {
           "xaxis": {
            "backgroundcolor": "#E5ECF6",
            "gridcolor": "white",
            "gridwidth": 2,
            "linecolor": "white",
            "showbackground": true,
            "ticks": "",
            "zerolinecolor": "white"
           },
           "yaxis": {
            "backgroundcolor": "#E5ECF6",
            "gridcolor": "white",
            "gridwidth": 2,
            "linecolor": "white",
            "showbackground": true,
            "ticks": "",
            "zerolinecolor": "white"
           },
           "zaxis": {
            "backgroundcolor": "#E5ECF6",
            "gridcolor": "white",
            "gridwidth": 2,
            "linecolor": "white",
            "showbackground": true,
            "ticks": "",
            "zerolinecolor": "white"
           }
          },
          "shapedefaults": {
           "line": {
            "color": "#2a3f5f"
           }
          },
          "ternary": {
           "aaxis": {
            "gridcolor": "white",
            "linecolor": "white",
            "ticks": ""
           },
           "baxis": {
            "gridcolor": "white",
            "linecolor": "white",
            "ticks": ""
           },
           "bgcolor": "#E5ECF6",
           "caxis": {
            "gridcolor": "white",
            "linecolor": "white",
            "ticks": ""
           }
          },
          "title": {
           "x": 0.05
          },
          "xaxis": {
           "automargin": true,
           "gridcolor": "white",
           "linecolor": "white",
           "ticks": "",
           "title": {
            "standoff": 15
           },
           "zerolinecolor": "white",
           "zerolinewidth": 2
          },
          "yaxis": {
           "automargin": true,
           "gridcolor": "white",
           "linecolor": "white",
           "ticks": "",
           "title": {
            "standoff": 15
           },
           "zerolinecolor": "white",
           "zerolinewidth": 2
          }
         }
        },
        "xaxis": {
         "anchor": "y",
         "domain": [
          0,
          0.49
         ],
         "title": {
          "text": "Recall@K"
         }
        },
        "xaxis2": {
         "anchor": "y2",
         "domain": [
          0.51,
          1
         ],
         "matches": "x",
         "title": {
          "text": "Recall@K"
         }
        },
        "yaxis": {
         "anchor": "x",
         "domain": [
          0,
          1
         ],
         "title": {
          "text": "Value"
         }
        },
        "yaxis2": {
         "anchor": "x2",
         "domain": [
          0,
          1
         ],
         "matches": "y",
         "showticklabels": false
        }
       }
      }
     },
     "metadata": {},
     "output_type": "display_data"
    }
   ],
   "source": [
    "plot_metric(coat_df, 'Recall', methods=_methods, propensities=_propensities)\n"
   ]
  },
  {
   "attachments": {},
   "cell_type": "markdown",
   "metadata": {},
   "source": [
    "## Plot metrics for Yahoo! C3 dataset"
   ]
  },
  {
   "cell_type": "code",
   "execution_count": 11,
   "metadata": {},
   "outputs": [],
   "source": [
    "yahoo_df =load_results(\"logs\", \"yahoo\")"
   ]
  },
  {
   "attachments": {},
   "cell_type": "markdown",
   "metadata": {},
   "source": [
    "### DCG@K"
   ]
  },
  {
   "cell_type": "code",
   "execution_count": 12,
   "metadata": {},
   "outputs": [
    {
     "data": {
      "application/vnd.plotly.v1+json": {
       "config": {
        "plotlyServerURL": "https://plot.ly"
       },
       "data": [
        {
         "alignmentgroup": "True",
         "hovertemplate": "Method=bpr<br>Propensity=Original<br>Metric@K=%{x}<br>Value=%{y}<extra></extra>",
         "legendgroup": "bpr",
         "marker": {
          "color": "#636efa"
         },
         "name": "bpr",
         "notched": false,
         "offsetgroup": "bpr",
         "orientation": "v",
         "quartilemethod": "exclusive",
         "showlegend": true,
         "type": "box",
         "x": [
          "DCG@3",
          "DCG@3",
          "DCG@3",
          "DCG@3",
          "DCG@3",
          "DCG@3",
          "DCG@3",
          "DCG@3",
          "DCG@3",
          "DCG@3",
          "DCG@5",
          "DCG@5",
          "DCG@5",
          "DCG@5",
          "DCG@5",
          "DCG@5",
          "DCG@5",
          "DCG@5",
          "DCG@5",
          "DCG@5",
          "DCG@8",
          "DCG@8",
          "DCG@8",
          "DCG@8",
          "DCG@8",
          "DCG@8",
          "DCG@8",
          "DCG@8",
          "DCG@8",
          "DCG@8"
         ],
         "x0": " ",
         "xaxis": "x",
         "y": [
          0.0940929544223981,
          0.0923267258304731,
          0.0927156811638725,
          0.0920005375577438,
          0.0926674414001868,
          0.0924610846338572,
          0.0921107292449792,
          0.0932640808833942,
          0.0901077286198617,
          0.090441378245964,
          0.1057975707842501,
          0.1052958905064523,
          0.1060781810328642,
          0.1051517302135564,
          0.104857803307933,
          0.1060653326925282,
          0.1051911280309241,
          0.1050049455109097,
          0.1030580505965058,
          0.1033854678868029,
          0.1167494461369514,
          0.1161169276515423,
          0.1161136584620958,
          0.1154536609493814,
          0.1153019188764114,
          0.1165763357705947,
          0.1151115683417479,
          0.1150648102130102,
          0.113817274740917,
          0.1139073392403191
         ],
         "y0": " ",
         "yaxis": "y"
        },
        {
         "alignmentgroup": "True",
         "hovertemplate": "Method=bpr<br>Propensity=BB Item-User<br>Metric@K=%{x}<br>Value=%{y}<extra></extra>",
         "legendgroup": "bpr",
         "marker": {
          "color": "#636efa"
         },
         "name": "bpr",
         "notched": false,
         "offsetgroup": "bpr",
         "orientation": "v",
         "quartilemethod": "exclusive",
         "showlegend": false,
         "type": "box",
         "x": [
          "DCG@3",
          "DCG@3",
          "DCG@3",
          "DCG@3",
          "DCG@3",
          "DCG@3",
          "DCG@3",
          "DCG@3",
          "DCG@3",
          "DCG@3",
          "DCG@5",
          "DCG@5",
          "DCG@5",
          "DCG@5",
          "DCG@5",
          "DCG@5",
          "DCG@5",
          "DCG@5",
          "DCG@5",
          "DCG@5",
          "DCG@8",
          "DCG@8",
          "DCG@8",
          "DCG@8",
          "DCG@8",
          "DCG@8",
          "DCG@8",
          "DCG@8",
          "DCG@8",
          "DCG@8"
         ],
         "x0": " ",
         "xaxis": "x2",
         "y": [
          0.0954063022286701,
          0.0952029996784449,
          0.0952787165065203,
          0.0945596060840556,
          0.0972473837537142,
          0.0940668136373845,
          0.0949988362628033,
          0.0963897632278544,
          0.0936304541658724,
          0.0931752843525116,
          0.1082891198371434,
          0.1075853219907836,
          0.1080345684103197,
          0.1075987591590021,
          0.1094439360767591,
          0.1081244695091252,
          0.1071359616669329,
          0.1081567261297248,
          0.106300668529858,
          0.1069450385899241,
          0.1184744428311277,
          0.1177006469004394,
          0.1182017347069792,
          0.1175236262900143,
          0.118532897421258,
          0.1180814667616974,
          0.117970343941296,
          0.1184190591982708,
          0.116315625415038,
          0.1167193718764185
         ],
         "y0": " ",
         "yaxis": "y2"
        },
        {
         "alignmentgroup": "True",
         "hovertemplate": "Method=ubpr<br>Propensity=Original<br>Metric@K=%{x}<br>Value=%{y}<extra></extra>",
         "legendgroup": "ubpr",
         "marker": {
          "color": "#EF553B"
         },
         "name": "ubpr",
         "notched": false,
         "offsetgroup": "ubpr",
         "orientation": "v",
         "quartilemethod": "exclusive",
         "showlegend": true,
         "type": "box",
         "x": [
          "DCG@3",
          "DCG@3",
          "DCG@3",
          "DCG@3",
          "DCG@3",
          "DCG@3",
          "DCG@3",
          "DCG@3",
          "DCG@3",
          "DCG@3",
          "DCG@5",
          "DCG@5",
          "DCG@5",
          "DCG@5",
          "DCG@5",
          "DCG@5",
          "DCG@5",
          "DCG@5",
          "DCG@5",
          "DCG@5",
          "DCG@8",
          "DCG@8",
          "DCG@8",
          "DCG@8",
          "DCG@8",
          "DCG@8",
          "DCG@8",
          "DCG@8",
          "DCG@8",
          "DCG@8"
         ],
         "x0": " ",
         "xaxis": "x",
         "y": [
          0.0972967800995318,
          0.0985772276459639,
          0.0971072591481807,
          0.0979223061537793,
          0.0969578342013616,
          0.0989325972958831,
          0.0993852507239034,
          0.0972412089412352,
          0.0969943775274749,
          0.0952454074139864,
          0.1093247443780824,
          0.1111792497155375,
          0.1101571476335487,
          0.1103165930347336,
          0.1092779972996255,
          0.1106636762420779,
          0.1123341826247212,
          0.1095958128324092,
          0.110311271780675,
          0.108043056439021,
          0.1189303642692651,
          0.120923732970216,
          0.1198678145463974,
          0.1189447479875717,
          0.119020723789838,
          0.1204683621022551,
          0.1212464050781476,
          0.1190774559239263,
          0.1193322588332497,
          0.1185579915325622
         ],
         "y0": " ",
         "yaxis": "y"
        },
        {
         "alignmentgroup": "True",
         "hovertemplate": "Method=ubpr<br>Propensity=BB Item-User<br>Metric@K=%{x}<br>Value=%{y}<extra></extra>",
         "legendgroup": "ubpr",
         "marker": {
          "color": "#EF553B"
         },
         "name": "ubpr",
         "notched": false,
         "offsetgroup": "ubpr",
         "orientation": "v",
         "quartilemethod": "exclusive",
         "showlegend": false,
         "type": "box",
         "x": [
          "DCG@3",
          "DCG@3",
          "DCG@3",
          "DCG@3",
          "DCG@3",
          "DCG@3",
          "DCG@3",
          "DCG@3",
          "DCG@3",
          "DCG@3",
          "DCG@5",
          "DCG@5",
          "DCG@5",
          "DCG@5",
          "DCG@5",
          "DCG@5",
          "DCG@5",
          "DCG@5",
          "DCG@5",
          "DCG@5",
          "DCG@8",
          "DCG@8",
          "DCG@8",
          "DCG@8",
          "DCG@8",
          "DCG@8",
          "DCG@8",
          "DCG@8",
          "DCG@8",
          "DCG@8"
         ],
         "x0": " ",
         "xaxis": "x2",
         "y": [
          0.0500771430646047,
          0.048427730706073,
          0.0482697580974043,
          0.0565098868461807,
          0.0528992649797932,
          0.054698216154007,
          0.0496114291447131,
          0.0527538127915888,
          0.0510268781391149,
          0.0513217795274952,
          0.0619246189045193,
          0.0620432146422497,
          0.0615415431167424,
          0.0685062147945657,
          0.0651821760534811,
          0.0663926733654549,
          0.0627149227771727,
          0.0662290299318523,
          0.0640143363430428,
          0.0652055215328603,
          0.078921726057621,
          0.0775056387171126,
          0.078246820605952,
          0.08405666889003,
          0.0815615258097008,
          0.0819766368363666,
          0.0794326290198986,
          0.0810811874438533,
          0.0793693791613965,
          0.0810659516606907
         ],
         "y0": " ",
         "yaxis": "y2"
        },
        {
         "alignmentgroup": "True",
         "hovertemplate": "Method=dubpr<br>Propensity=Original<br>Metric@K=%{x}<br>Value=%{y}<extra></extra>",
         "legendgroup": "dubpr",
         "marker": {
          "color": "#00cc96"
         },
         "name": "dubpr",
         "notched": false,
         "offsetgroup": "dubpr",
         "orientation": "v",
         "quartilemethod": "exclusive",
         "showlegend": true,
         "type": "box",
         "x": [
          "DCG@3",
          "DCG@3",
          "DCG@3",
          "DCG@3",
          "DCG@3",
          "DCG@3",
          "DCG@3",
          "DCG@3",
          "DCG@3",
          "DCG@3",
          "DCG@5",
          "DCG@5",
          "DCG@5",
          "DCG@5",
          "DCG@5",
          "DCG@5",
          "DCG@5",
          "DCG@5",
          "DCG@5",
          "DCG@5",
          "DCG@8",
          "DCG@8",
          "DCG@8",
          "DCG@8",
          "DCG@8",
          "DCG@8",
          "DCG@8",
          "DCG@8",
          "DCG@8",
          "DCG@8"
         ],
         "x0": " ",
         "xaxis": "x",
         "y": [
          0.0421670022818225,
          0.0421670022818225,
          0.0421670022818225,
          0.0421670022818225,
          0.0421670022818225,
          0.0421670022818225,
          0.0421670022818225,
          0.0421670022818225,
          0.0421670022818225,
          0.0421670022818225,
          0.0556625529874109,
          0.0556625529874109,
          0.0556625529874109,
          0.0556625529874109,
          0.0556625529874109,
          0.0556625529874109,
          0.0556625529874109,
          0.0556625529874109,
          0.0556625529874109,
          0.0556625529874109,
          0.0742010975870358,
          0.0742010975870358,
          0.0742010975870358,
          0.0742010975870358,
          0.0742010975870358,
          0.0742010975870358,
          0.0742010975870358,
          0.0742010975870358,
          0.0742010975870358,
          0.0742010975870358
         ],
         "y0": " ",
         "yaxis": "y"
        },
        {
         "alignmentgroup": "True",
         "hovertemplate": "Method=dubpr<br>Propensity=BB Item-User<br>Metric@K=%{x}<br>Value=%{y}<extra></extra>",
         "legendgroup": "dubpr",
         "marker": {
          "color": "#00cc96"
         },
         "name": "dubpr",
         "notched": false,
         "offsetgroup": "dubpr",
         "orientation": "v",
         "quartilemethod": "exclusive",
         "showlegend": false,
         "type": "box",
         "x": [
          "DCG@3",
          "DCG@3",
          "DCG@3",
          "DCG@3",
          "DCG@3",
          "DCG@3",
          "DCG@3",
          "DCG@3",
          "DCG@3",
          "DCG@3",
          "DCG@5",
          "DCG@5",
          "DCG@5",
          "DCG@5",
          "DCG@5",
          "DCG@5",
          "DCG@5",
          "DCG@5",
          "DCG@5",
          "DCG@5",
          "DCG@8",
          "DCG@8",
          "DCG@8",
          "DCG@8",
          "DCG@8",
          "DCG@8",
          "DCG@8",
          "DCG@8",
          "DCG@8",
          "DCG@8"
         ],
         "x0": " ",
         "xaxis": "x2",
         "y": [
          0.0497662071384021,
          0.052496519981399,
          0.0564090248320209,
          0.0498360779907685,
          0.0518744594117487,
          0.0514818857117104,
          0.0489650342156362,
          0.048115459754651,
          0.0488723491147528,
          0.0486670641749663,
          0.0636171740008441,
          0.0655429213263381,
          0.0696106482366178,
          0.0624596551056891,
          0.0651956546321872,
          0.0642978317316077,
          0.0630224042786721,
          0.06254927268297,
          0.0637796933449069,
          0.0616716001681525,
          0.0791043704003592,
          0.0815943186270326,
          0.084079684432065,
          0.077302959824706,
          0.0813112082173901,
          0.0804418407700035,
          0.0786132835062897,
          0.0794043369216716,
          0.0802589898087456,
          0.0779918260194011
         ],
         "y0": " ",
         "yaxis": "y2"
        },
        {
         "alignmentgroup": "True",
         "hovertemplate": "Method=relmf<br>Propensity=Original<br>Metric@K=%{x}<br>Value=%{y}<extra></extra>",
         "legendgroup": "relmf",
         "marker": {
          "color": "#ab63fa"
         },
         "name": "relmf",
         "notched": false,
         "offsetgroup": "relmf",
         "orientation": "v",
         "quartilemethod": "exclusive",
         "showlegend": true,
         "type": "box",
         "x": [
          "DCG@3",
          "DCG@3",
          "DCG@3",
          "DCG@3",
          "DCG@3",
          "DCG@3",
          "DCG@3",
          "DCG@3",
          "DCG@3",
          "DCG@3",
          "DCG@5",
          "DCG@5",
          "DCG@5",
          "DCG@5",
          "DCG@5",
          "DCG@5",
          "DCG@5",
          "DCG@5",
          "DCG@5",
          "DCG@5",
          "DCG@8",
          "DCG@8",
          "DCG@8",
          "DCG@8",
          "DCG@8",
          "DCG@8",
          "DCG@8",
          "DCG@8",
          "DCG@8",
          "DCG@8"
         ],
         "x0": " ",
         "xaxis": "x",
         "y": [
          0.0890601430159338,
          0.0844489762532622,
          0.0891604858374506,
          0.0895881217965335,
          0.0867539431421244,
          0.088836523936183,
          0.085638322539082,
          0.0896775997350302,
          0.0865472584904709,
          0.0899134005418855,
          0.1018144537643988,
          0.0975430802152252,
          0.1021116958604322,
          0.1018008073086459,
          0.0996403627978327,
          0.1002994226205696,
          0.0997308238213813,
          0.1024801588166292,
          0.1004928731432792,
          0.1014774208524129,
          0.1128792536279974,
          0.1094081317358937,
          0.1129081102410242,
          0.1127317783180134,
          0.1102970023534655,
          0.1115834151759444,
          0.1107872950209628,
          0.1128062932335014,
          0.1109723701446108,
          0.1126359895854846
         ],
         "y0": " ",
         "yaxis": "y"
        },
        {
         "alignmentgroup": "True",
         "hovertemplate": "Method=relmf<br>Propensity=BB Item-User<br>Metric@K=%{x}<br>Value=%{y}<extra></extra>",
         "legendgroup": "relmf",
         "marker": {
          "color": "#ab63fa"
         },
         "name": "relmf",
         "notched": false,
         "offsetgroup": "relmf",
         "orientation": "v",
         "quartilemethod": "exclusive",
         "showlegend": false,
         "type": "box",
         "x": [
          "DCG@3",
          "DCG@3",
          "DCG@3",
          "DCG@3",
          "DCG@3",
          "DCG@3",
          "DCG@3",
          "DCG@3",
          "DCG@3",
          "DCG@3",
          "DCG@5",
          "DCG@5",
          "DCG@5",
          "DCG@5",
          "DCG@5",
          "DCG@5",
          "DCG@5",
          "DCG@5",
          "DCG@5",
          "DCG@5",
          "DCG@8",
          "DCG@8",
          "DCG@8",
          "DCG@8",
          "DCG@8",
          "DCG@8",
          "DCG@8",
          "DCG@8",
          "DCG@8",
          "DCG@8"
         ],
         "x0": " ",
         "xaxis": "x2",
         "y": [
          0.0544630392728278,
          0.053260677578103,
          0.0551449766355457,
          0.0524944214438853,
          0.053959799254651,
          0.0548841976756423,
          0.0552163393678849,
          0.0542840745734231,
          0.0566097845603341,
          0.0557926649140747,
          0.0673543155095052,
          0.0656792339612183,
          0.0664014901691579,
          0.0637843801546388,
          0.0656706756171401,
          0.0680759055923389,
          0.0671143340534771,
          0.0662703700822687,
          0.0685259535717479,
          0.068038948281462,
          0.0818499434614177,
          0.0819281496644503,
          0.0809041455422933,
          0.0798160356716658,
          0.0789304728845392,
          0.0825333342335136,
          0.081427761496677,
          0.0823136288800094,
          0.0832746871504007,
          0.0823738807534337
         ],
         "y0": " ",
         "yaxis": "y2"
        },
        {
         "alignmentgroup": "True",
         "hovertemplate": "Method=dumf<br>Propensity=Original<br>Metric@K=%{x}<br>Value=%{y}<extra></extra>",
         "legendgroup": "dumf",
         "marker": {
          "color": "#FFA15A"
         },
         "name": "dumf",
         "notched": false,
         "offsetgroup": "dumf",
         "orientation": "v",
         "quartilemethod": "exclusive",
         "showlegend": true,
         "type": "box",
         "x": [
          "DCG@3",
          "DCG@3",
          "DCG@3",
          "DCG@3",
          "DCG@3",
          "DCG@3",
          "DCG@3",
          "DCG@3",
          "DCG@3",
          "DCG@3",
          "DCG@5",
          "DCG@5",
          "DCG@5",
          "DCG@5",
          "DCG@5",
          "DCG@5",
          "DCG@5",
          "DCG@5",
          "DCG@5",
          "DCG@5",
          "DCG@8",
          "DCG@8",
          "DCG@8",
          "DCG@8",
          "DCG@8",
          "DCG@8",
          "DCG@8",
          "DCG@8",
          "DCG@8",
          "DCG@8"
         ],
         "x0": " ",
         "xaxis": "x",
         "y": [
          0.0915183121700833,
          0.0892207152179106,
          0.0897168201644506,
          0.0913239977019211,
          0.090114411989715,
          0.0913161283772654,
          0.088964826143888,
          0.0922851207605656,
          0.0893161957790621,
          0.0911051529548117,
          0.1031374146324923,
          0.1016850969788861,
          0.1024207850482619,
          0.1041142612295996,
          0.1032921720916057,
          0.1036453336927075,
          0.100838320255258,
          0.1058693630400371,
          0.1022884419360119,
          0.1044059387038181,
          0.1137935810454431,
          0.1134718822909005,
          0.1136632062325873,
          0.1143783510481391,
          0.1132536039386127,
          0.1138919048161055,
          0.1123699863848801,
          0.1151984060257188,
          0.1126197503653369,
          0.1149564091875887
         ],
         "y0": " ",
         "yaxis": "y"
        },
        {
         "alignmentgroup": "True",
         "hovertemplate": "Method=dumf<br>Propensity=BB Item-User<br>Metric@K=%{x}<br>Value=%{y}<extra></extra>",
         "legendgroup": "dumf",
         "marker": {
          "color": "#FFA15A"
         },
         "name": "dumf",
         "notched": false,
         "offsetgroup": "dumf",
         "orientation": "v",
         "quartilemethod": "exclusive",
         "showlegend": false,
         "type": "box",
         "x": [
          "DCG@3",
          "DCG@3",
          "DCG@3",
          "DCG@3",
          "DCG@3",
          "DCG@3",
          "DCG@3",
          "DCG@3",
          "DCG@3",
          "DCG@3",
          "DCG@5",
          "DCG@5",
          "DCG@5",
          "DCG@5",
          "DCG@5",
          "DCG@5",
          "DCG@5",
          "DCG@5",
          "DCG@5",
          "DCG@5",
          "DCG@8",
          "DCG@8",
          "DCG@8",
          "DCG@8",
          "DCG@8",
          "DCG@8",
          "DCG@8",
          "DCG@8",
          "DCG@8",
          "DCG@8"
         ],
         "x0": " ",
         "xaxis": "x2",
         "y": [
          0.0904408237734122,
          0.0882839280371136,
          0.0870217286525347,
          0.0917195220141125,
          0.0878603164196192,
          0.0922788064130569,
          0.0910959120450769,
          0.0900789220354996,
          0.0884885491308857,
          0.0917685339908347,
          0.1025195119196608,
          0.1013636421975334,
          0.1004097240001584,
          0.1028326160351446,
          0.1007678804351175,
          0.1050003570140897,
          0.102581224066207,
          0.1039248223749175,
          0.1017076616621607,
          0.1050866620487102,
          0.1134751641462431,
          0.1119967174872387,
          0.1111253052063935,
          0.11372945857167,
          0.1118492178982809,
          0.1144514067633521,
          0.1137141641237312,
          0.1140857235713599,
          0.113112074346517,
          0.1151244800971159
         ],
         "y0": " ",
         "yaxis": "y2"
        }
       ],
       "layout": {
        "annotations": [
         {
          "font": {},
          "showarrow": false,
          "text": "Propensity=Original",
          "x": 0.245,
          "xanchor": "center",
          "xref": "paper",
          "y": 1,
          "yanchor": "bottom",
          "yref": "paper"
         },
         {
          "font": {},
          "showarrow": false,
          "text": "Propensity=BB Item-User",
          "x": 0.755,
          "xanchor": "center",
          "xref": "paper",
          "y": 1,
          "yanchor": "bottom",
          "yref": "paper"
         }
        ],
        "boxmode": "group",
        "legend": {
         "title": {
          "text": "Method"
         },
         "tracegroupgap": 0
        },
        "margin": {
         "t": 60
        },
        "template": {
         "data": {
          "bar": [
           {
            "error_x": {
             "color": "#2a3f5f"
            },
            "error_y": {
             "color": "#2a3f5f"
            },
            "marker": {
             "line": {
              "color": "#E5ECF6",
              "width": 0.5
             },
             "pattern": {
              "fillmode": "overlay",
              "size": 10,
              "solidity": 0.2
             }
            },
            "type": "bar"
           }
          ],
          "barpolar": [
           {
            "marker": {
             "line": {
              "color": "#E5ECF6",
              "width": 0.5
             },
             "pattern": {
              "fillmode": "overlay",
              "size": 10,
              "solidity": 0.2
             }
            },
            "type": "barpolar"
           }
          ],
          "carpet": [
           {
            "aaxis": {
             "endlinecolor": "#2a3f5f",
             "gridcolor": "white",
             "linecolor": "white",
             "minorgridcolor": "white",
             "startlinecolor": "#2a3f5f"
            },
            "baxis": {
             "endlinecolor": "#2a3f5f",
             "gridcolor": "white",
             "linecolor": "white",
             "minorgridcolor": "white",
             "startlinecolor": "#2a3f5f"
            },
            "type": "carpet"
           }
          ],
          "choropleth": [
           {
            "colorbar": {
             "outlinewidth": 0,
             "ticks": ""
            },
            "type": "choropleth"
           }
          ],
          "contour": [
           {
            "colorbar": {
             "outlinewidth": 0,
             "ticks": ""
            },
            "colorscale": [
             [
              0,
              "#0d0887"
             ],
             [
              0.1111111111111111,
              "#46039f"
             ],
             [
              0.2222222222222222,
              "#7201a8"
             ],
             [
              0.3333333333333333,
              "#9c179e"
             ],
             [
              0.4444444444444444,
              "#bd3786"
             ],
             [
              0.5555555555555556,
              "#d8576b"
             ],
             [
              0.6666666666666666,
              "#ed7953"
             ],
             [
              0.7777777777777778,
              "#fb9f3a"
             ],
             [
              0.8888888888888888,
              "#fdca26"
             ],
             [
              1,
              "#f0f921"
             ]
            ],
            "type": "contour"
           }
          ],
          "contourcarpet": [
           {
            "colorbar": {
             "outlinewidth": 0,
             "ticks": ""
            },
            "type": "contourcarpet"
           }
          ],
          "heatmap": [
           {
            "colorbar": {
             "outlinewidth": 0,
             "ticks": ""
            },
            "colorscale": [
             [
              0,
              "#0d0887"
             ],
             [
              0.1111111111111111,
              "#46039f"
             ],
             [
              0.2222222222222222,
              "#7201a8"
             ],
             [
              0.3333333333333333,
              "#9c179e"
             ],
             [
              0.4444444444444444,
              "#bd3786"
             ],
             [
              0.5555555555555556,
              "#d8576b"
             ],
             [
              0.6666666666666666,
              "#ed7953"
             ],
             [
              0.7777777777777778,
              "#fb9f3a"
             ],
             [
              0.8888888888888888,
              "#fdca26"
             ],
             [
              1,
              "#f0f921"
             ]
            ],
            "type": "heatmap"
           }
          ],
          "heatmapgl": [
           {
            "colorbar": {
             "outlinewidth": 0,
             "ticks": ""
            },
            "colorscale": [
             [
              0,
              "#0d0887"
             ],
             [
              0.1111111111111111,
              "#46039f"
             ],
             [
              0.2222222222222222,
              "#7201a8"
             ],
             [
              0.3333333333333333,
              "#9c179e"
             ],
             [
              0.4444444444444444,
              "#bd3786"
             ],
             [
              0.5555555555555556,
              "#d8576b"
             ],
             [
              0.6666666666666666,
              "#ed7953"
             ],
             [
              0.7777777777777778,
              "#fb9f3a"
             ],
             [
              0.8888888888888888,
              "#fdca26"
             ],
             [
              1,
              "#f0f921"
             ]
            ],
            "type": "heatmapgl"
           }
          ],
          "histogram": [
           {
            "marker": {
             "pattern": {
              "fillmode": "overlay",
              "size": 10,
              "solidity": 0.2
             }
            },
            "type": "histogram"
           }
          ],
          "histogram2d": [
           {
            "colorbar": {
             "outlinewidth": 0,
             "ticks": ""
            },
            "colorscale": [
             [
              0,
              "#0d0887"
             ],
             [
              0.1111111111111111,
              "#46039f"
             ],
             [
              0.2222222222222222,
              "#7201a8"
             ],
             [
              0.3333333333333333,
              "#9c179e"
             ],
             [
              0.4444444444444444,
              "#bd3786"
             ],
             [
              0.5555555555555556,
              "#d8576b"
             ],
             [
              0.6666666666666666,
              "#ed7953"
             ],
             [
              0.7777777777777778,
              "#fb9f3a"
             ],
             [
              0.8888888888888888,
              "#fdca26"
             ],
             [
              1,
              "#f0f921"
             ]
            ],
            "type": "histogram2d"
           }
          ],
          "histogram2dcontour": [
           {
            "colorbar": {
             "outlinewidth": 0,
             "ticks": ""
            },
            "colorscale": [
             [
              0,
              "#0d0887"
             ],
             [
              0.1111111111111111,
              "#46039f"
             ],
             [
              0.2222222222222222,
              "#7201a8"
             ],
             [
              0.3333333333333333,
              "#9c179e"
             ],
             [
              0.4444444444444444,
              "#bd3786"
             ],
             [
              0.5555555555555556,
              "#d8576b"
             ],
             [
              0.6666666666666666,
              "#ed7953"
             ],
             [
              0.7777777777777778,
              "#fb9f3a"
             ],
             [
              0.8888888888888888,
              "#fdca26"
             ],
             [
              1,
              "#f0f921"
             ]
            ],
            "type": "histogram2dcontour"
           }
          ],
          "mesh3d": [
           {
            "colorbar": {
             "outlinewidth": 0,
             "ticks": ""
            },
            "type": "mesh3d"
           }
          ],
          "parcoords": [
           {
            "line": {
             "colorbar": {
              "outlinewidth": 0,
              "ticks": ""
             }
            },
            "type": "parcoords"
           }
          ],
          "pie": [
           {
            "automargin": true,
            "type": "pie"
           }
          ],
          "scatter": [
           {
            "fillpattern": {
             "fillmode": "overlay",
             "size": 10,
             "solidity": 0.2
            },
            "type": "scatter"
           }
          ],
          "scatter3d": [
           {
            "line": {
             "colorbar": {
              "outlinewidth": 0,
              "ticks": ""
             }
            },
            "marker": {
             "colorbar": {
              "outlinewidth": 0,
              "ticks": ""
             }
            },
            "type": "scatter3d"
           }
          ],
          "scattercarpet": [
           {
            "marker": {
             "colorbar": {
              "outlinewidth": 0,
              "ticks": ""
             }
            },
            "type": "scattercarpet"
           }
          ],
          "scattergeo": [
           {
            "marker": {
             "colorbar": {
              "outlinewidth": 0,
              "ticks": ""
             }
            },
            "type": "scattergeo"
           }
          ],
          "scattergl": [
           {
            "marker": {
             "colorbar": {
              "outlinewidth": 0,
              "ticks": ""
             }
            },
            "type": "scattergl"
           }
          ],
          "scattermapbox": [
           {
            "marker": {
             "colorbar": {
              "outlinewidth": 0,
              "ticks": ""
             }
            },
            "type": "scattermapbox"
           }
          ],
          "scatterpolar": [
           {
            "marker": {
             "colorbar": {
              "outlinewidth": 0,
              "ticks": ""
             }
            },
            "type": "scatterpolar"
           }
          ],
          "scatterpolargl": [
           {
            "marker": {
             "colorbar": {
              "outlinewidth": 0,
              "ticks": ""
             }
            },
            "type": "scatterpolargl"
           }
          ],
          "scatterternary": [
           {
            "marker": {
             "colorbar": {
              "outlinewidth": 0,
              "ticks": ""
             }
            },
            "type": "scatterternary"
           }
          ],
          "surface": [
           {
            "colorbar": {
             "outlinewidth": 0,
             "ticks": ""
            },
            "colorscale": [
             [
              0,
              "#0d0887"
             ],
             [
              0.1111111111111111,
              "#46039f"
             ],
             [
              0.2222222222222222,
              "#7201a8"
             ],
             [
              0.3333333333333333,
              "#9c179e"
             ],
             [
              0.4444444444444444,
              "#bd3786"
             ],
             [
              0.5555555555555556,
              "#d8576b"
             ],
             [
              0.6666666666666666,
              "#ed7953"
             ],
             [
              0.7777777777777778,
              "#fb9f3a"
             ],
             [
              0.8888888888888888,
              "#fdca26"
             ],
             [
              1,
              "#f0f921"
             ]
            ],
            "type": "surface"
           }
          ],
          "table": [
           {
            "cells": {
             "fill": {
              "color": "#EBF0F8"
             },
             "line": {
              "color": "white"
             }
            },
            "header": {
             "fill": {
              "color": "#C8D4E3"
             },
             "line": {
              "color": "white"
             }
            },
            "type": "table"
           }
          ]
         },
         "layout": {
          "annotationdefaults": {
           "arrowcolor": "#2a3f5f",
           "arrowhead": 0,
           "arrowwidth": 1
          },
          "autotypenumbers": "strict",
          "coloraxis": {
           "colorbar": {
            "outlinewidth": 0,
            "ticks": ""
           }
          },
          "colorscale": {
           "diverging": [
            [
             0,
             "#8e0152"
            ],
            [
             0.1,
             "#c51b7d"
            ],
            [
             0.2,
             "#de77ae"
            ],
            [
             0.3,
             "#f1b6da"
            ],
            [
             0.4,
             "#fde0ef"
            ],
            [
             0.5,
             "#f7f7f7"
            ],
            [
             0.6,
             "#e6f5d0"
            ],
            [
             0.7,
             "#b8e186"
            ],
            [
             0.8,
             "#7fbc41"
            ],
            [
             0.9,
             "#4d9221"
            ],
            [
             1,
             "#276419"
            ]
           ],
           "sequential": [
            [
             0,
             "#0d0887"
            ],
            [
             0.1111111111111111,
             "#46039f"
            ],
            [
             0.2222222222222222,
             "#7201a8"
            ],
            [
             0.3333333333333333,
             "#9c179e"
            ],
            [
             0.4444444444444444,
             "#bd3786"
            ],
            [
             0.5555555555555556,
             "#d8576b"
            ],
            [
             0.6666666666666666,
             "#ed7953"
            ],
            [
             0.7777777777777778,
             "#fb9f3a"
            ],
            [
             0.8888888888888888,
             "#fdca26"
            ],
            [
             1,
             "#f0f921"
            ]
           ],
           "sequentialminus": [
            [
             0,
             "#0d0887"
            ],
            [
             0.1111111111111111,
             "#46039f"
            ],
            [
             0.2222222222222222,
             "#7201a8"
            ],
            [
             0.3333333333333333,
             "#9c179e"
            ],
            [
             0.4444444444444444,
             "#bd3786"
            ],
            [
             0.5555555555555556,
             "#d8576b"
            ],
            [
             0.6666666666666666,
             "#ed7953"
            ],
            [
             0.7777777777777778,
             "#fb9f3a"
            ],
            [
             0.8888888888888888,
             "#fdca26"
            ],
            [
             1,
             "#f0f921"
            ]
           ]
          },
          "colorway": [
           "#636efa",
           "#EF553B",
           "#00cc96",
           "#ab63fa",
           "#FFA15A",
           "#19d3f3",
           "#FF6692",
           "#B6E880",
           "#FF97FF",
           "#FECB52"
          ],
          "font": {
           "color": "#2a3f5f"
          },
          "geo": {
           "bgcolor": "white",
           "lakecolor": "white",
           "landcolor": "#E5ECF6",
           "showlakes": true,
           "showland": true,
           "subunitcolor": "white"
          },
          "hoverlabel": {
           "align": "left"
          },
          "hovermode": "closest",
          "mapbox": {
           "style": "light"
          },
          "paper_bgcolor": "white",
          "plot_bgcolor": "#E5ECF6",
          "polar": {
           "angularaxis": {
            "gridcolor": "white",
            "linecolor": "white",
            "ticks": ""
           },
           "bgcolor": "#E5ECF6",
           "radialaxis": {
            "gridcolor": "white",
            "linecolor": "white",
            "ticks": ""
           }
          },
          "scene": {
           "xaxis": {
            "backgroundcolor": "#E5ECF6",
            "gridcolor": "white",
            "gridwidth": 2,
            "linecolor": "white",
            "showbackground": true,
            "ticks": "",
            "zerolinecolor": "white"
           },
           "yaxis": {
            "backgroundcolor": "#E5ECF6",
            "gridcolor": "white",
            "gridwidth": 2,
            "linecolor": "white",
            "showbackground": true,
            "ticks": "",
            "zerolinecolor": "white"
           },
           "zaxis": {
            "backgroundcolor": "#E5ECF6",
            "gridcolor": "white",
            "gridwidth": 2,
            "linecolor": "white",
            "showbackground": true,
            "ticks": "",
            "zerolinecolor": "white"
           }
          },
          "shapedefaults": {
           "line": {
            "color": "#2a3f5f"
           }
          },
          "ternary": {
           "aaxis": {
            "gridcolor": "white",
            "linecolor": "white",
            "ticks": ""
           },
           "baxis": {
            "gridcolor": "white",
            "linecolor": "white",
            "ticks": ""
           },
           "bgcolor": "#E5ECF6",
           "caxis": {
            "gridcolor": "white",
            "linecolor": "white",
            "ticks": ""
           }
          },
          "title": {
           "x": 0.05
          },
          "xaxis": {
           "automargin": true,
           "gridcolor": "white",
           "linecolor": "white",
           "ticks": "",
           "title": {
            "standoff": 15
           },
           "zerolinecolor": "white",
           "zerolinewidth": 2
          },
          "yaxis": {
           "automargin": true,
           "gridcolor": "white",
           "linecolor": "white",
           "ticks": "",
           "title": {
            "standoff": 15
           },
           "zerolinecolor": "white",
           "zerolinewidth": 2
          }
         }
        },
        "xaxis": {
         "anchor": "y",
         "domain": [
          0,
          0.49
         ],
         "title": {
          "text": "DCG@K"
         }
        },
        "xaxis2": {
         "anchor": "y2",
         "domain": [
          0.51,
          1
         ],
         "matches": "x",
         "title": {
          "text": "DCG@K"
         }
        },
        "yaxis": {
         "anchor": "x",
         "domain": [
          0,
          1
         ],
         "title": {
          "text": "Value"
         }
        },
        "yaxis2": {
         "anchor": "x2",
         "domain": [
          0,
          1
         ],
         "matches": "y",
         "showticklabels": false
        }
       }
      }
     },
     "metadata": {},
     "output_type": "display_data"
    }
   ],
   "source": [
    "plot_metric(yahoo_df, 'DCG', methods=_methods, propensities=_propensities)\n"
   ]
  },
  {
   "attachments": {},
   "cell_type": "markdown",
   "metadata": {},
   "source": [
    "### MAP@K"
   ]
  },
  {
   "cell_type": "code",
   "execution_count": 13,
   "metadata": {},
   "outputs": [
    {
     "data": {
      "application/vnd.plotly.v1+json": {
       "config": {
        "plotlyServerURL": "https://plot.ly"
       },
       "data": [
        {
         "alignmentgroup": "True",
         "hovertemplate": "Method=bpr<br>Propensity=Original<br>Metric@K=%{x}<br>Value=%{y}<extra></extra>",
         "legendgroup": "bpr",
         "marker": {
          "color": "#636efa"
         },
         "name": "bpr",
         "notched": false,
         "offsetgroup": "bpr",
         "orientation": "v",
         "quartilemethod": "exclusive",
         "showlegend": true,
         "type": "box",
         "x": [
          "MAP@3",
          "MAP@3",
          "MAP@3",
          "MAP@3",
          "MAP@3",
          "MAP@3",
          "MAP@3",
          "MAP@3",
          "MAP@3",
          "MAP@3",
          "MAP@5",
          "MAP@5",
          "MAP@5",
          "MAP@5",
          "MAP@5",
          "MAP@5",
          "MAP@5",
          "MAP@5",
          "MAP@5",
          "MAP@5",
          "MAP@8",
          "MAP@8",
          "MAP@8",
          "MAP@8",
          "MAP@8",
          "MAP@8",
          "MAP@8",
          "MAP@8",
          "MAP@8",
          "MAP@8"
         ],
         "x0": " ",
         "xaxis": "x",
         "y": [
          0.0778750734861846,
          0.0767682980599647,
          0.0769740593768371,
          0.0762868165784832,
          0.0771759994121105,
          0.0768804379776602,
          0.0765640799529688,
          0.0772014256319811,
          0.0746940525181266,
          0.0752876739173035,
          0.085630658436214,
          0.0849810552616108,
          0.0855123236331569,
          0.0846458259847148,
          0.0851864197530864,
          0.0855038359788359,
          0.0849410346854791,
          0.0847978689006466,
          0.083360204781501,
          0.0837005633940819,
          0.0922535990733742,
          0.0917024070224797,
          0.0916297344349262,
          0.0910248047367095,
          0.0917081454186612,
          0.092008789297612,
          0.0912001032305926,
          0.0910767288499762,
          0.0897292086587721,
          0.0902202008272444
         ],
         "y0": " ",
         "yaxis": "y"
        },
        {
         "alignmentgroup": "True",
         "hovertemplate": "Method=bpr<br>Propensity=BB Item-User<br>Metric@K=%{x}<br>Value=%{y}<extra></extra>",
         "legendgroup": "bpr",
         "marker": {
          "color": "#636efa"
         },
         "name": "bpr",
         "notched": false,
         "offsetgroup": "bpr",
         "orientation": "v",
         "quartilemethod": "exclusive",
         "showlegend": false,
         "type": "box",
         "x": [
          "MAP@3",
          "MAP@3",
          "MAP@3",
          "MAP@3",
          "MAP@3",
          "MAP@3",
          "MAP@3",
          "MAP@3",
          "MAP@3",
          "MAP@3",
          "MAP@5",
          "MAP@5",
          "MAP@5",
          "MAP@5",
          "MAP@5",
          "MAP@5",
          "MAP@5",
          "MAP@5",
          "MAP@5",
          "MAP@5",
          "MAP@8",
          "MAP@8",
          "MAP@8",
          "MAP@8",
          "MAP@8",
          "MAP@8",
          "MAP@8",
          "MAP@8",
          "MAP@8",
          "MAP@8"
         ],
         "x0": " ",
         "xaxis": "x2",
         "y": [
          0.0799244562022339,
          0.0796330099941211,
          0.0794046149323927,
          0.0788675778953556,
          0.0814486331569664,
          0.0787477219282774,
          0.0796402116402116,
          0.0808539829512051,
          0.0784959582598471,
          0.0783391142465216,
          0.088323449441505,
          0.0876145282186948,
          0.0876593915343915,
          0.0871365079365079,
          0.0894636757789535,
          0.0876662918871252,
          0.0875239564961787,
          0.0884842592592592,
          0.0867855452674897,
          0.0873474402312365,
          0.094661074717953,
          0.0941154581688642,
          0.093995289010666,
          0.0934918801265362,
          0.0951984755116038,
          0.094080416281739,
          0.0943576686332969,
          0.0949999100669074,
          0.0929466191106072,
          0.0934203735197782
         ],
         "y0": " ",
         "yaxis": "y2"
        },
        {
         "alignmentgroup": "True",
         "hovertemplate": "Method=ubpr<br>Propensity=Original<br>Metric@K=%{x}<br>Value=%{y}<extra></extra>",
         "legendgroup": "ubpr",
         "marker": {
          "color": "#EF553B"
         },
         "name": "ubpr",
         "notched": false,
         "offsetgroup": "ubpr",
         "orientation": "v",
         "quartilemethod": "exclusive",
         "showlegend": true,
         "type": "box",
         "x": [
          "MAP@3",
          "MAP@3",
          "MAP@3",
          "MAP@3",
          "MAP@3",
          "MAP@3",
          "MAP@3",
          "MAP@3",
          "MAP@3",
          "MAP@3",
          "MAP@5",
          "MAP@5",
          "MAP@5",
          "MAP@5",
          "MAP@5",
          "MAP@5",
          "MAP@5",
          "MAP@5",
          "MAP@5",
          "MAP@5",
          "MAP@8",
          "MAP@8",
          "MAP@8",
          "MAP@8",
          "MAP@8",
          "MAP@8",
          "MAP@8",
          "MAP@8",
          "MAP@8",
          "MAP@8"
         ],
         "x0": " ",
         "xaxis": "x",
         "y": [
          0.0816818783068783,
          0.0829332500489907,
          0.0818606701940035,
          0.0811060895551636,
          0.0806345532039976,
          0.08221531452087,
          0.0849071869488536,
          0.0806266656868508,
          0.0809207818930041,
          0.0797477709190672,
          0.0894627351557907,
          0.0913235204781501,
          0.0903916813639035,
          0.0893737188908485,
          0.0888910273368606,
          0.0897627057613168,
          0.0933625146972369,
          0.0888365348814422,
          0.08979341563786,
          0.0880082353517538,
          0.0956821998964194,
          0.0974884584698076,
          0.0964798674099269,
          0.0950007616318132,
          0.0951012459407631,
          0.095908222404188,
          0.099266306409395,
          0.0947284716973209,
          0.09563630042552,
          0.0944999847778617
         ],
         "y0": " ",
         "yaxis": "y"
        },
        {
         "alignmentgroup": "True",
         "hovertemplate": "Method=ubpr<br>Propensity=BB Item-User<br>Metric@K=%{x}<br>Value=%{y}<extra></extra>",
         "legendgroup": "ubpr",
         "marker": {
          "color": "#EF553B"
         },
         "name": "ubpr",
         "notched": false,
         "offsetgroup": "ubpr",
         "orientation": "v",
         "quartilemethod": "exclusive",
         "showlegend": false,
         "type": "box",
         "x": [
          "MAP@3",
          "MAP@3",
          "MAP@3",
          "MAP@3",
          "MAP@3",
          "MAP@3",
          "MAP@3",
          "MAP@3",
          "MAP@3",
          "MAP@3",
          "MAP@5",
          "MAP@5",
          "MAP@5",
          "MAP@5",
          "MAP@5",
          "MAP@5",
          "MAP@5",
          "MAP@5",
          "MAP@5",
          "MAP@5",
          "MAP@8",
          "MAP@8",
          "MAP@8",
          "MAP@8",
          "MAP@8",
          "MAP@8",
          "MAP@8",
          "MAP@8",
          "MAP@8",
          "MAP@8"
         ],
         "x0": " ",
         "xaxis": "x2",
         "y": [
          0.0374894179894179,
          0.0379356995884773,
          0.0363458259847148,
          0.0428298794826572,
          0.0405809572800313,
          0.0420728982951205,
          0.0377946061140505,
          0.0401240446796002,
          0.040254556143445,
          0.0389926513815402,
          0.0444551734273956,
          0.0459193783068783,
          0.0440758230452674,
          0.0500118827160493,
          0.0479379605134234,
          0.0489922251616696,
          0.0454784611992945,
          0.0480687169312169,
          0.0479775205761316,
          0.0469807172251616,
          0.0535848319265978,
          0.0544091191106072,
          0.0530672339100249,
          0.0586081364953388,
          0.0567793493323255,
          0.0577524869824472,
          0.0546101755619943,
          0.0562525776154083,
          0.0562322613098737,
          0.0557443681587861
         ],
         "y0": " ",
         "yaxis": "y2"
        },
        {
         "alignmentgroup": "True",
         "hovertemplate": "Method=dubpr<br>Propensity=Original<br>Metric@K=%{x}<br>Value=%{y}<extra></extra>",
         "legendgroup": "dubpr",
         "marker": {
          "color": "#00cc96"
         },
         "name": "dubpr",
         "notched": false,
         "offsetgroup": "dubpr",
         "orientation": "v",
         "quartilemethod": "exclusive",
         "showlegend": true,
         "type": "box",
         "x": [
          "MAP@3",
          "MAP@3",
          "MAP@3",
          "MAP@3",
          "MAP@3",
          "MAP@3",
          "MAP@3",
          "MAP@3",
          "MAP@3",
          "MAP@3",
          "MAP@5",
          "MAP@5",
          "MAP@5",
          "MAP@5",
          "MAP@5",
          "MAP@5",
          "MAP@5",
          "MAP@5",
          "MAP@5",
          "MAP@5",
          "MAP@8",
          "MAP@8",
          "MAP@8",
          "MAP@8",
          "MAP@8",
          "MAP@8",
          "MAP@8",
          "MAP@8",
          "MAP@8",
          "MAP@8"
         ],
         "x0": " ",
         "xaxis": "x",
         "y": [
          0.0305942092886537,
          0.0305942092886537,
          0.0305942092886537,
          0.0305942092886537,
          0.0305942092886537,
          0.0305942092886537,
          0.0305942092886537,
          0.0305942092886537,
          0.0305942092886537,
          0.0305942092886537,
          0.0383872795414462,
          0.0383872795414462,
          0.0383872795414462,
          0.0383872795414462,
          0.0383872795414462,
          0.0383872795414462,
          0.0383872795414462,
          0.0383872795414462,
          0.0383872795414462,
          0.0383872795414462,
          0.0482854810545617,
          0.0482854810545617,
          0.0482854810545617,
          0.0482854810545617,
          0.0482854810545617,
          0.0482854810545617,
          0.0482854810545617,
          0.0482854810545617,
          0.0482854810545617,
          0.0482854810545617
         ],
         "y0": " ",
         "yaxis": "y"
        },
        {
         "alignmentgroup": "True",
         "hovertemplate": "Method=dubpr<br>Propensity=BB Item-User<br>Metric@K=%{x}<br>Value=%{y}<extra></extra>",
         "legendgroup": "dubpr",
         "marker": {
          "color": "#00cc96"
         },
         "name": "dubpr",
         "notched": false,
         "offsetgroup": "dubpr",
         "orientation": "v",
         "quartilemethod": "exclusive",
         "showlegend": false,
         "type": "box",
         "x": [
          "MAP@3",
          "MAP@3",
          "MAP@3",
          "MAP@3",
          "MAP@3",
          "MAP@3",
          "MAP@3",
          "MAP@3",
          "MAP@3",
          "MAP@3",
          "MAP@5",
          "MAP@5",
          "MAP@5",
          "MAP@5",
          "MAP@5",
          "MAP@5",
          "MAP@5",
          "MAP@5",
          "MAP@5",
          "MAP@5",
          "MAP@8",
          "MAP@8",
          "MAP@8",
          "MAP@8",
          "MAP@8",
          "MAP@8",
          "MAP@8",
          "MAP@8",
          "MAP@8",
          "MAP@8"
         ],
         "x0": " ",
         "xaxis": "x2",
         "y": [
          0.0388183911424652,
          0.0407106848912404,
          0.0424637713109935,
          0.0379584803057025,
          0.0396977268273564,
          0.0402010582010582,
          0.0377079659024103,
          0.0359639917695473,
          0.0376197089947089,
          0.0375149176954732,
          0.0468831765628061,
          0.0483797031158142,
          0.0500510435038212,
          0.0454948045267489,
          0.0476368949637468,
          0.0476735596707818,
          0.0459044312169312,
          0.0445275867136978,
          0.0461388154027042,
          0.0451752498530276,
          0.0553482924960107,
          0.0572946953472747,
          0.0582184529058537,
          0.0534754409171075,
          0.0565737423364407,
          0.0566558836188796,
          0.0545056383149967,
          0.053746200239355,
          0.0551108854035441,
          0.0542240945452254
         ],
         "y0": " ",
         "yaxis": "y2"
        },
        {
         "alignmentgroup": "True",
         "hovertemplate": "Method=relmf<br>Propensity=Original<br>Metric@K=%{x}<br>Value=%{y}<extra></extra>",
         "legendgroup": "relmf",
         "marker": {
          "color": "#ab63fa"
         },
         "name": "relmf",
         "notched": false,
         "offsetgroup": "relmf",
         "orientation": "v",
         "quartilemethod": "exclusive",
         "showlegend": true,
         "type": "box",
         "x": [
          "MAP@3",
          "MAP@3",
          "MAP@3",
          "MAP@3",
          "MAP@3",
          "MAP@3",
          "MAP@3",
          "MAP@3",
          "MAP@3",
          "MAP@3",
          "MAP@5",
          "MAP@5",
          "MAP@5",
          "MAP@5",
          "MAP@5",
          "MAP@5",
          "MAP@5",
          "MAP@5",
          "MAP@5",
          "MAP@5",
          "MAP@8",
          "MAP@8",
          "MAP@8",
          "MAP@8",
          "MAP@8",
          "MAP@8",
          "MAP@8",
          "MAP@8",
          "MAP@8",
          "MAP@8"
         ],
         "x0": " ",
         "xaxis": "x",
         "y": [
          0.0744864050558495,
          0.0698190035273368,
          0.0731216931216931,
          0.074010582010582,
          0.0718655202821869,
          0.0739416519694297,
          0.0713531746031746,
          0.0748179747207525,
          0.0721078042328042,
          0.0737626886145404,
          0.0827877204585537,
          0.0781804526748971,
          0.0814623162845385,
          0.0818557907113462,
          0.0801848618459729,
          0.0816975896531452,
          0.080359670781893,
          0.0831340094062316,
          0.0810281231628454,
          0.0813792377033117,
          0.0894073743386243,
          0.0853442516306934,
          0.088159509462221,
          0.0886595388566949,
          0.0867389170585929,
          0.0884390372609949,
          0.0869554022843705,
          0.0893257462347078,
          0.0872997211024327,
          0.0880999595825984
         ],
         "y0": " ",
         "yaxis": "y"
        },
        {
         "alignmentgroup": "True",
         "hovertemplate": "Method=relmf<br>Propensity=BB Item-User<br>Metric@K=%{x}<br>Value=%{y}<extra></extra>",
         "legendgroup": "relmf",
         "marker": {
          "color": "#ab63fa"
         },
         "name": "relmf",
         "notched": false,
         "offsetgroup": "relmf",
         "orientation": "v",
         "quartilemethod": "exclusive",
         "showlegend": false,
         "type": "box",
         "x": [
          "MAP@3",
          "MAP@3",
          "MAP@3",
          "MAP@3",
          "MAP@3",
          "MAP@3",
          "MAP@3",
          "MAP@3",
          "MAP@3",
          "MAP@3",
          "MAP@5",
          "MAP@5",
          "MAP@5",
          "MAP@5",
          "MAP@5",
          "MAP@5",
          "MAP@5",
          "MAP@5",
          "MAP@5",
          "MAP@5",
          "MAP@8",
          "MAP@8",
          "MAP@8",
          "MAP@8",
          "MAP@8",
          "MAP@8",
          "MAP@8",
          "MAP@8",
          "MAP@8",
          "MAP@8"
         ],
         "x0": " ",
         "xaxis": "x2",
         "y": [
          0.042068783068783,
          0.0404842004703115,
          0.042503282382912,
          0.0387576180678032,
          0.0410566578483245,
          0.042578091318832,
          0.0414266607877718,
          0.0410651087595532,
          0.0429501028806584,
          0.0426606163041348,
          0.0496687977660199,
          0.047831283068783,
          0.0491466392318244,
          0.0456347491671565,
          0.0479470164609053,
          0.0504275328238291,
          0.0484081569664903,
          0.0481213183421516,
          0.0503179306290417,
          0.0496345287086027,
          0.057808851935836,
          0.0566224519540326,
          0.0572361594020324,
          0.0544108297640043,
          0.0553195205551356,
          0.0584599306080456,
          0.0564587259595196,
          0.0568715624212647,
          0.0583710830113938,
          0.0578399523389602
         ],
         "y0": " ",
         "yaxis": "y2"
        },
        {
         "alignmentgroup": "True",
         "hovertemplate": "Method=dumf<br>Propensity=Original<br>Metric@K=%{x}<br>Value=%{y}<extra></extra>",
         "legendgroup": "dumf",
         "marker": {
          "color": "#FFA15A"
         },
         "name": "dumf",
         "notched": false,
         "offsetgroup": "dumf",
         "orientation": "v",
         "quartilemethod": "exclusive",
         "showlegend": true,
         "type": "box",
         "x": [
          "MAP@3",
          "MAP@3",
          "MAP@3",
          "MAP@3",
          "MAP@3",
          "MAP@3",
          "MAP@3",
          "MAP@3",
          "MAP@3",
          "MAP@3",
          "MAP@5",
          "MAP@5",
          "MAP@5",
          "MAP@5",
          "MAP@5",
          "MAP@5",
          "MAP@5",
          "MAP@5",
          "MAP@5",
          "MAP@5",
          "MAP@8",
          "MAP@8",
          "MAP@8",
          "MAP@8",
          "MAP@8",
          "MAP@8",
          "MAP@8",
          "MAP@8",
          "MAP@8",
          "MAP@8"
         ],
         "x0": " ",
         "xaxis": "x",
         "y": [
          0.0753611845972957,
          0.0740788996668626,
          0.0749733245149911,
          0.0753687291789143,
          0.0750067607289829,
          0.0748624338624338,
          0.0741795267489712,
          0.0756283803644914,
          0.0751973104056437,
          0.0751858465608465,
          0.0831214065255731,
          0.0821830589849108,
          0.0830722148736037,
          0.0836048990789731,
          0.0833680188124632,
          0.0828876910640799,
          0.0816975676072898,
          0.0842746252204585,
          0.0833444297472075,
          0.0834407333921222,
          0.0895218432434702,
          0.0892648158646174,
          0.0899397595252092,
          0.0899542558998908,
          0.0895109345693009,
          0.0891688045897371,
          0.0887854369628509,
          0.0900809523809523,
          0.0898600306892304,
          0.0899668796016349
         ],
         "y0": " ",
         "yaxis": "y"
        },
        {
         "alignmentgroup": "True",
         "hovertemplate": "Method=dumf<br>Propensity=BB Item-User<br>Metric@K=%{x}<br>Value=%{y}<extra></extra>",
         "legendgroup": "dumf",
         "marker": {
          "color": "#FFA15A"
         },
         "name": "dumf",
         "notched": false,
         "offsetgroup": "dumf",
         "orientation": "v",
         "quartilemethod": "exclusive",
         "showlegend": false,
         "type": "box",
         "x": [
          "MAP@3",
          "MAP@3",
          "MAP@3",
          "MAP@3",
          "MAP@3",
          "MAP@3",
          "MAP@3",
          "MAP@3",
          "MAP@3",
          "MAP@3",
          "MAP@5",
          "MAP@5",
          "MAP@5",
          "MAP@5",
          "MAP@5",
          "MAP@5",
          "MAP@5",
          "MAP@5",
          "MAP@5",
          "MAP@5",
          "MAP@8",
          "MAP@8",
          "MAP@8",
          "MAP@8",
          "MAP@8",
          "MAP@8",
          "MAP@8",
          "MAP@8",
          "MAP@8",
          "MAP@8"
         ],
         "x0": " ",
         "xaxis": "x2",
         "y": [
          0.0742876249265138,
          0.0732178865373309,
          0.0724208553791887,
          0.0755657456398197,
          0.072638864393494,
          0.0754711934156378,
          0.0752349353321575,
          0.0749611992945326,
          0.0726976043503821,
          0.0744667107583774,
          0.0821928791887125,
          0.0815345679012345,
          0.0811493092298647,
          0.0829202797374093,
          0.0808657529884381,
          0.0838338109935332,
          0.082687676366843,
          0.083604093180482,
          0.0811195693709582,
          0.0830666593180482,
          0.088704139196831,
          0.0880982909213067,
          0.0877908707413006,
          0.0896120270639119,
          0.0874842162173511,
          0.0895203040578371,
          0.0895945413762212,
          0.0899697394389854,
          0.0878469574969905,
          0.0893316539990481
         ],
         "y0": " ",
         "yaxis": "y2"
        }
       ],
       "layout": {
        "annotations": [
         {
          "font": {},
          "showarrow": false,
          "text": "Propensity=Original",
          "x": 0.245,
          "xanchor": "center",
          "xref": "paper",
          "y": 1,
          "yanchor": "bottom",
          "yref": "paper"
         },
         {
          "font": {},
          "showarrow": false,
          "text": "Propensity=BB Item-User",
          "x": 0.755,
          "xanchor": "center",
          "xref": "paper",
          "y": 1,
          "yanchor": "bottom",
          "yref": "paper"
         }
        ],
        "boxmode": "group",
        "legend": {
         "title": {
          "text": "Method"
         },
         "tracegroupgap": 0
        },
        "margin": {
         "t": 60
        },
        "template": {
         "data": {
          "bar": [
           {
            "error_x": {
             "color": "#2a3f5f"
            },
            "error_y": {
             "color": "#2a3f5f"
            },
            "marker": {
             "line": {
              "color": "#E5ECF6",
              "width": 0.5
             },
             "pattern": {
              "fillmode": "overlay",
              "size": 10,
              "solidity": 0.2
             }
            },
            "type": "bar"
           }
          ],
          "barpolar": [
           {
            "marker": {
             "line": {
              "color": "#E5ECF6",
              "width": 0.5
             },
             "pattern": {
              "fillmode": "overlay",
              "size": 10,
              "solidity": 0.2
             }
            },
            "type": "barpolar"
           }
          ],
          "carpet": [
           {
            "aaxis": {
             "endlinecolor": "#2a3f5f",
             "gridcolor": "white",
             "linecolor": "white",
             "minorgridcolor": "white",
             "startlinecolor": "#2a3f5f"
            },
            "baxis": {
             "endlinecolor": "#2a3f5f",
             "gridcolor": "white",
             "linecolor": "white",
             "minorgridcolor": "white",
             "startlinecolor": "#2a3f5f"
            },
            "type": "carpet"
           }
          ],
          "choropleth": [
           {
            "colorbar": {
             "outlinewidth": 0,
             "ticks": ""
            },
            "type": "choropleth"
           }
          ],
          "contour": [
           {
            "colorbar": {
             "outlinewidth": 0,
             "ticks": ""
            },
            "colorscale": [
             [
              0,
              "#0d0887"
             ],
             [
              0.1111111111111111,
              "#46039f"
             ],
             [
              0.2222222222222222,
              "#7201a8"
             ],
             [
              0.3333333333333333,
              "#9c179e"
             ],
             [
              0.4444444444444444,
              "#bd3786"
             ],
             [
              0.5555555555555556,
              "#d8576b"
             ],
             [
              0.6666666666666666,
              "#ed7953"
             ],
             [
              0.7777777777777778,
              "#fb9f3a"
             ],
             [
              0.8888888888888888,
              "#fdca26"
             ],
             [
              1,
              "#f0f921"
             ]
            ],
            "type": "contour"
           }
          ],
          "contourcarpet": [
           {
            "colorbar": {
             "outlinewidth": 0,
             "ticks": ""
            },
            "type": "contourcarpet"
           }
          ],
          "heatmap": [
           {
            "colorbar": {
             "outlinewidth": 0,
             "ticks": ""
            },
            "colorscale": [
             [
              0,
              "#0d0887"
             ],
             [
              0.1111111111111111,
              "#46039f"
             ],
             [
              0.2222222222222222,
              "#7201a8"
             ],
             [
              0.3333333333333333,
              "#9c179e"
             ],
             [
              0.4444444444444444,
              "#bd3786"
             ],
             [
              0.5555555555555556,
              "#d8576b"
             ],
             [
              0.6666666666666666,
              "#ed7953"
             ],
             [
              0.7777777777777778,
              "#fb9f3a"
             ],
             [
              0.8888888888888888,
              "#fdca26"
             ],
             [
              1,
              "#f0f921"
             ]
            ],
            "type": "heatmap"
           }
          ],
          "heatmapgl": [
           {
            "colorbar": {
             "outlinewidth": 0,
             "ticks": ""
            },
            "colorscale": [
             [
              0,
              "#0d0887"
             ],
             [
              0.1111111111111111,
              "#46039f"
             ],
             [
              0.2222222222222222,
              "#7201a8"
             ],
             [
              0.3333333333333333,
              "#9c179e"
             ],
             [
              0.4444444444444444,
              "#bd3786"
             ],
             [
              0.5555555555555556,
              "#d8576b"
             ],
             [
              0.6666666666666666,
              "#ed7953"
             ],
             [
              0.7777777777777778,
              "#fb9f3a"
             ],
             [
              0.8888888888888888,
              "#fdca26"
             ],
             [
              1,
              "#f0f921"
             ]
            ],
            "type": "heatmapgl"
           }
          ],
          "histogram": [
           {
            "marker": {
             "pattern": {
              "fillmode": "overlay",
              "size": 10,
              "solidity": 0.2
             }
            },
            "type": "histogram"
           }
          ],
          "histogram2d": [
           {
            "colorbar": {
             "outlinewidth": 0,
             "ticks": ""
            },
            "colorscale": [
             [
              0,
              "#0d0887"
             ],
             [
              0.1111111111111111,
              "#46039f"
             ],
             [
              0.2222222222222222,
              "#7201a8"
             ],
             [
              0.3333333333333333,
              "#9c179e"
             ],
             [
              0.4444444444444444,
              "#bd3786"
             ],
             [
              0.5555555555555556,
              "#d8576b"
             ],
             [
              0.6666666666666666,
              "#ed7953"
             ],
             [
              0.7777777777777778,
              "#fb9f3a"
             ],
             [
              0.8888888888888888,
              "#fdca26"
             ],
             [
              1,
              "#f0f921"
             ]
            ],
            "type": "histogram2d"
           }
          ],
          "histogram2dcontour": [
           {
            "colorbar": {
             "outlinewidth": 0,
             "ticks": ""
            },
            "colorscale": [
             [
              0,
              "#0d0887"
             ],
             [
              0.1111111111111111,
              "#46039f"
             ],
             [
              0.2222222222222222,
              "#7201a8"
             ],
             [
              0.3333333333333333,
              "#9c179e"
             ],
             [
              0.4444444444444444,
              "#bd3786"
             ],
             [
              0.5555555555555556,
              "#d8576b"
             ],
             [
              0.6666666666666666,
              "#ed7953"
             ],
             [
              0.7777777777777778,
              "#fb9f3a"
             ],
             [
              0.8888888888888888,
              "#fdca26"
             ],
             [
              1,
              "#f0f921"
             ]
            ],
            "type": "histogram2dcontour"
           }
          ],
          "mesh3d": [
           {
            "colorbar": {
             "outlinewidth": 0,
             "ticks": ""
            },
            "type": "mesh3d"
           }
          ],
          "parcoords": [
           {
            "line": {
             "colorbar": {
              "outlinewidth": 0,
              "ticks": ""
             }
            },
            "type": "parcoords"
           }
          ],
          "pie": [
           {
            "automargin": true,
            "type": "pie"
           }
          ],
          "scatter": [
           {
            "fillpattern": {
             "fillmode": "overlay",
             "size": 10,
             "solidity": 0.2
            },
            "type": "scatter"
           }
          ],
          "scatter3d": [
           {
            "line": {
             "colorbar": {
              "outlinewidth": 0,
              "ticks": ""
             }
            },
            "marker": {
             "colorbar": {
              "outlinewidth": 0,
              "ticks": ""
             }
            },
            "type": "scatter3d"
           }
          ],
          "scattercarpet": [
           {
            "marker": {
             "colorbar": {
              "outlinewidth": 0,
              "ticks": ""
             }
            },
            "type": "scattercarpet"
           }
          ],
          "scattergeo": [
           {
            "marker": {
             "colorbar": {
              "outlinewidth": 0,
              "ticks": ""
             }
            },
            "type": "scattergeo"
           }
          ],
          "scattergl": [
           {
            "marker": {
             "colorbar": {
              "outlinewidth": 0,
              "ticks": ""
             }
            },
            "type": "scattergl"
           }
          ],
          "scattermapbox": [
           {
            "marker": {
             "colorbar": {
              "outlinewidth": 0,
              "ticks": ""
             }
            },
            "type": "scattermapbox"
           }
          ],
          "scatterpolar": [
           {
            "marker": {
             "colorbar": {
              "outlinewidth": 0,
              "ticks": ""
             }
            },
            "type": "scatterpolar"
           }
          ],
          "scatterpolargl": [
           {
            "marker": {
             "colorbar": {
              "outlinewidth": 0,
              "ticks": ""
             }
            },
            "type": "scatterpolargl"
           }
          ],
          "scatterternary": [
           {
            "marker": {
             "colorbar": {
              "outlinewidth": 0,
              "ticks": ""
             }
            },
            "type": "scatterternary"
           }
          ],
          "surface": [
           {
            "colorbar": {
             "outlinewidth": 0,
             "ticks": ""
            },
            "colorscale": [
             [
              0,
              "#0d0887"
             ],
             [
              0.1111111111111111,
              "#46039f"
             ],
             [
              0.2222222222222222,
              "#7201a8"
             ],
             [
              0.3333333333333333,
              "#9c179e"
             ],
             [
              0.4444444444444444,
              "#bd3786"
             ],
             [
              0.5555555555555556,
              "#d8576b"
             ],
             [
              0.6666666666666666,
              "#ed7953"
             ],
             [
              0.7777777777777778,
              "#fb9f3a"
             ],
             [
              0.8888888888888888,
              "#fdca26"
             ],
             [
              1,
              "#f0f921"
             ]
            ],
            "type": "surface"
           }
          ],
          "table": [
           {
            "cells": {
             "fill": {
              "color": "#EBF0F8"
             },
             "line": {
              "color": "white"
             }
            },
            "header": {
             "fill": {
              "color": "#C8D4E3"
             },
             "line": {
              "color": "white"
             }
            },
            "type": "table"
           }
          ]
         },
         "layout": {
          "annotationdefaults": {
           "arrowcolor": "#2a3f5f",
           "arrowhead": 0,
           "arrowwidth": 1
          },
          "autotypenumbers": "strict",
          "coloraxis": {
           "colorbar": {
            "outlinewidth": 0,
            "ticks": ""
           }
          },
          "colorscale": {
           "diverging": [
            [
             0,
             "#8e0152"
            ],
            [
             0.1,
             "#c51b7d"
            ],
            [
             0.2,
             "#de77ae"
            ],
            [
             0.3,
             "#f1b6da"
            ],
            [
             0.4,
             "#fde0ef"
            ],
            [
             0.5,
             "#f7f7f7"
            ],
            [
             0.6,
             "#e6f5d0"
            ],
            [
             0.7,
             "#b8e186"
            ],
            [
             0.8,
             "#7fbc41"
            ],
            [
             0.9,
             "#4d9221"
            ],
            [
             1,
             "#276419"
            ]
           ],
           "sequential": [
            [
             0,
             "#0d0887"
            ],
            [
             0.1111111111111111,
             "#46039f"
            ],
            [
             0.2222222222222222,
             "#7201a8"
            ],
            [
             0.3333333333333333,
             "#9c179e"
            ],
            [
             0.4444444444444444,
             "#bd3786"
            ],
            [
             0.5555555555555556,
             "#d8576b"
            ],
            [
             0.6666666666666666,
             "#ed7953"
            ],
            [
             0.7777777777777778,
             "#fb9f3a"
            ],
            [
             0.8888888888888888,
             "#fdca26"
            ],
            [
             1,
             "#f0f921"
            ]
           ],
           "sequentialminus": [
            [
             0,
             "#0d0887"
            ],
            [
             0.1111111111111111,
             "#46039f"
            ],
            [
             0.2222222222222222,
             "#7201a8"
            ],
            [
             0.3333333333333333,
             "#9c179e"
            ],
            [
             0.4444444444444444,
             "#bd3786"
            ],
            [
             0.5555555555555556,
             "#d8576b"
            ],
            [
             0.6666666666666666,
             "#ed7953"
            ],
            [
             0.7777777777777778,
             "#fb9f3a"
            ],
            [
             0.8888888888888888,
             "#fdca26"
            ],
            [
             1,
             "#f0f921"
            ]
           ]
          },
          "colorway": [
           "#636efa",
           "#EF553B",
           "#00cc96",
           "#ab63fa",
           "#FFA15A",
           "#19d3f3",
           "#FF6692",
           "#B6E880",
           "#FF97FF",
           "#FECB52"
          ],
          "font": {
           "color": "#2a3f5f"
          },
          "geo": {
           "bgcolor": "white",
           "lakecolor": "white",
           "landcolor": "#E5ECF6",
           "showlakes": true,
           "showland": true,
           "subunitcolor": "white"
          },
          "hoverlabel": {
           "align": "left"
          },
          "hovermode": "closest",
          "mapbox": {
           "style": "light"
          },
          "paper_bgcolor": "white",
          "plot_bgcolor": "#E5ECF6",
          "polar": {
           "angularaxis": {
            "gridcolor": "white",
            "linecolor": "white",
            "ticks": ""
           },
           "bgcolor": "#E5ECF6",
           "radialaxis": {
            "gridcolor": "white",
            "linecolor": "white",
            "ticks": ""
           }
          },
          "scene": {
           "xaxis": {
            "backgroundcolor": "#E5ECF6",
            "gridcolor": "white",
            "gridwidth": 2,
            "linecolor": "white",
            "showbackground": true,
            "ticks": "",
            "zerolinecolor": "white"
           },
           "yaxis": {
            "backgroundcolor": "#E5ECF6",
            "gridcolor": "white",
            "gridwidth": 2,
            "linecolor": "white",
            "showbackground": true,
            "ticks": "",
            "zerolinecolor": "white"
           },
           "zaxis": {
            "backgroundcolor": "#E5ECF6",
            "gridcolor": "white",
            "gridwidth": 2,
            "linecolor": "white",
            "showbackground": true,
            "ticks": "",
            "zerolinecolor": "white"
           }
          },
          "shapedefaults": {
           "line": {
            "color": "#2a3f5f"
           }
          },
          "ternary": {
           "aaxis": {
            "gridcolor": "white",
            "linecolor": "white",
            "ticks": ""
           },
           "baxis": {
            "gridcolor": "white",
            "linecolor": "white",
            "ticks": ""
           },
           "bgcolor": "#E5ECF6",
           "caxis": {
            "gridcolor": "white",
            "linecolor": "white",
            "ticks": ""
           }
          },
          "title": {
           "x": 0.05
          },
          "xaxis": {
           "automargin": true,
           "gridcolor": "white",
           "linecolor": "white",
           "ticks": "",
           "title": {
            "standoff": 15
           },
           "zerolinecolor": "white",
           "zerolinewidth": 2
          },
          "yaxis": {
           "automargin": true,
           "gridcolor": "white",
           "linecolor": "white",
           "ticks": "",
           "title": {
            "standoff": 15
           },
           "zerolinecolor": "white",
           "zerolinewidth": 2
          }
         }
        },
        "xaxis": {
         "anchor": "y",
         "domain": [
          0,
          0.49
         ],
         "title": {
          "text": "MAP@K"
         }
        },
        "xaxis2": {
         "anchor": "y2",
         "domain": [
          0.51,
          1
         ],
         "matches": "x",
         "title": {
          "text": "MAP@K"
         }
        },
        "yaxis": {
         "anchor": "x",
         "domain": [
          0,
          1
         ],
         "title": {
          "text": "Value"
         }
        },
        "yaxis2": {
         "anchor": "x2",
         "domain": [
          0,
          1
         ],
         "matches": "y",
         "showticklabels": false
        }
       }
      }
     },
     "metadata": {},
     "output_type": "display_data"
    }
   ],
   "source": [
    "plot_metric(yahoo_df, 'MAP', methods=_methods, propensities=_propensities)\n"
   ]
  },
  {
   "attachments": {},
   "cell_type": "markdown",
   "metadata": {},
   "source": [
    "### Recall@K"
   ]
  },
  {
   "cell_type": "code",
   "execution_count": 14,
   "metadata": {},
   "outputs": [
    {
     "data": {
      "application/vnd.plotly.v1+json": {
       "config": {
        "plotlyServerURL": "https://plot.ly"
       },
       "data": [
        {
         "alignmentgroup": "True",
         "hovertemplate": "Method=bpr<br>Propensity=Original<br>Metric@K=%{x}<br>Value=%{y}<extra></extra>",
         "legendgroup": "bpr",
         "marker": {
          "color": "#636efa"
         },
         "name": "bpr",
         "notched": false,
         "offsetgroup": "bpr",
         "orientation": "v",
         "quartilemethod": "exclusive",
         "showlegend": true,
         "type": "box",
         "x": [
          "Recall@3",
          "Recall@3",
          "Recall@3",
          "Recall@3",
          "Recall@3",
          "Recall@3",
          "Recall@3",
          "Recall@3",
          "Recall@3",
          "Recall@3",
          "Recall@5",
          "Recall@5",
          "Recall@5",
          "Recall@5",
          "Recall@5",
          "Recall@5",
          "Recall@5",
          "Recall@5",
          "Recall@5",
          "Recall@5",
          "Recall@8",
          "Recall@8",
          "Recall@8",
          "Recall@8",
          "Recall@8",
          "Recall@8",
          "Recall@8",
          "Recall@8",
          "Recall@8",
          "Recall@8"
         ],
         "x0": " ",
         "xaxis": "x",
         "y": [
          0.1011477072310405,
          0.0993593474426807,
          0.0990640799529688,
          0.0987574955908289,
          0.0995798059964726,
          0.0996679894179894,
          0.0982821869488536,
          0.100263668430335,
          0.0972770429159318,
          0.0972461787184009,
          0.1261920928865373,
          0.1268697824808936,
          0.1274037330981775,
          0.1267192827748383,
          0.125586125808348,
          0.1284994121105232,
          0.1260086713697824,
          0.1254544385655496,
          0.1248203997648442,
          0.1248001175778953,
          0.1568076131687243,
          0.1569156378600823,
          0.1553909465020576,
          0.1554632569077013,
          0.1544681069958847,
          0.1576471193415637,
          0.1535267489711934,
          0.153308935920047,
          0.1547242798353909,
          0.154014403292181
         ],
         "y0": " ",
         "yaxis": "y"
        },
        {
         "alignmentgroup": "True",
         "hovertemplate": "Method=bpr<br>Propensity=BB Item-User<br>Metric@K=%{x}<br>Value=%{y}<extra></extra>",
         "legendgroup": "bpr",
         "marker": {
          "color": "#636efa"
         },
         "name": "bpr",
         "notched": false,
         "offsetgroup": "bpr",
         "orientation": "v",
         "quartilemethod": "exclusive",
         "showlegend": false,
         "type": "box",
         "x": [
          "Recall@3",
          "Recall@3",
          "Recall@3",
          "Recall@3",
          "Recall@3",
          "Recall@3",
          "Recall@3",
          "Recall@3",
          "Recall@3",
          "Recall@3",
          "Recall@5",
          "Recall@5",
          "Recall@5",
          "Recall@5",
          "Recall@5",
          "Recall@5",
          "Recall@5",
          "Recall@5",
          "Recall@5",
          "Recall@5",
          "Recall@8",
          "Recall@8",
          "Recall@8",
          "Recall@8",
          "Recall@8",
          "Recall@8",
          "Recall@8",
          "Recall@8",
          "Recall@8",
          "Recall@8"
         ],
         "x0": " ",
         "xaxis": "x2",
         "y": [
          0.1018174603174603,
          0.101834656084656,
          0.102084656084656,
          0.1013511169900058,
          0.1043328924162257,
          0.1003624338624338,
          0.1013377425044091,
          0.1028761022927689,
          0.1003298059964726,
          0.0999869194591416,
          0.1292291299235743,
          0.1281643151087595,
          0.1290693709582598,
          0.1288389182833627,
          0.1304606114050558,
          0.1301475602586713,
          0.1270950911228689,
          0.1281149323927101,
          0.1272466196355085,
          0.1290148442092886,
          0.157532480893592,
          0.1562256025867137,
          0.1573631687242798,
          0.1562935038212816,
          0.155808935920047,
          0.157548353909465,
          0.1570606995884773,
          0.1566224279835391,
          0.1550792181069958,
          0.1560267489711934
         ],
         "y0": " ",
         "yaxis": "y2"
        },
        {
         "alignmentgroup": "True",
         "hovertemplate": "Method=ubpr<br>Propensity=Original<br>Metric@K=%{x}<br>Value=%{y}<extra></extra>",
         "legendgroup": "ubpr",
         "marker": {
          "color": "#EF553B"
         },
         "name": "ubpr",
         "notched": false,
         "offsetgroup": "ubpr",
         "orientation": "v",
         "quartilemethod": "exclusive",
         "showlegend": true,
         "type": "box",
         "x": [
          "Recall@3",
          "Recall@3",
          "Recall@3",
          "Recall@3",
          "Recall@3",
          "Recall@3",
          "Recall@3",
          "Recall@3",
          "Recall@3",
          "Recall@3",
          "Recall@5",
          "Recall@5",
          "Recall@5",
          "Recall@5",
          "Recall@5",
          "Recall@5",
          "Recall@5",
          "Recall@5",
          "Recall@5",
          "Recall@5",
          "Recall@8",
          "Recall@8",
          "Recall@8",
          "Recall@8",
          "Recall@8",
          "Recall@8",
          "Recall@8",
          "Recall@8",
          "Recall@8",
          "Recall@8"
         ],
         "x0": " ",
         "xaxis": "x",
         "y": [
          0.1047307466196355,
          0.1046165490887712,
          0.1039717813051146,
          0.10596531452087,
          0.1044426807760141,
          0.1055270429159318,
          0.1059303350970017,
          0.1045301293356849,
          0.1039419459141681,
          0.1011765138154027,
          0.1301043503821281,
          0.1316599059376837,
          0.1314393004115226,
          0.1322260435038212,
          0.1307648442092886,
          0.1305792181069958,
          0.1335902410346854,
          0.1306969429747207,
          0.1323292181069958,
          0.1286890064667842,
          0.1567564667842445,
          0.1584385655496766,
          0.15839050558495,
          0.1561528512639623,
          0.1578367136978248,
          0.1577820399764844,
          0.1583428865373309,
          0.1569676660787771,
          0.1574024103468548,
          0.1578071722516167
         ],
         "y0": " ",
         "yaxis": "y"
        },
        {
         "alignmentgroup": "True",
         "hovertemplate": "Method=ubpr<br>Propensity=BB Item-User<br>Metric@K=%{x}<br>Value=%{y}<extra></extra>",
         "legendgroup": "ubpr",
         "marker": {
          "color": "#EF553B"
         },
         "name": "ubpr",
         "notched": false,
         "offsetgroup": "ubpr",
         "orientation": "v",
         "quartilemethod": "exclusive",
         "showlegend": false,
         "type": "box",
         "x": [
          "Recall@3",
          "Recall@3",
          "Recall@3",
          "Recall@3",
          "Recall@3",
          "Recall@3",
          "Recall@3",
          "Recall@3",
          "Recall@3",
          "Recall@3",
          "Recall@5",
          "Recall@5",
          "Recall@5",
          "Recall@5",
          "Recall@5",
          "Recall@5",
          "Recall@5",
          "Recall@5",
          "Recall@5",
          "Recall@5",
          "Recall@8",
          "Recall@8",
          "Recall@8",
          "Recall@8",
          "Recall@8",
          "Recall@8",
          "Recall@8",
          "Recall@8",
          "Recall@8",
          "Recall@8"
         ],
         "x0": " ",
         "xaxis": "x2",
         "y": [
          0.0555268959435626,
          0.0541212522045855,
          0.0543637566137566,
          0.0623977072310405,
          0.0579988242210464,
          0.0608434744268077,
          0.0554113756613756,
          0.0580577601410934,
          0.0560546737213403,
          0.0569842739564961,
          0.0810023515579071,
          0.0832214873603762,
          0.0827860082304526,
          0.0882898295120517,
          0.0844632569077013,
          0.0859825102880658,
          0.0837965902410346,
          0.0871206643151087,
          0.0836947383891828,
          0.0869751616696061,
          0.1286716637272192,
          0.1265567313345091,
          0.1295492357436801,
          0.1318702233980011,
          0.1300276308054085,
          0.1294936801881246,
          0.1305121987066431,
          0.1285135214579658,
          0.1268869782480893,
          0.131340681951793
         ],
         "y0": " ",
         "yaxis": "y2"
        },
        {
         "alignmentgroup": "True",
         "hovertemplate": "Method=dubpr<br>Propensity=Original<br>Metric@K=%{x}<br>Value=%{y}<extra></extra>",
         "legendgroup": "dubpr",
         "marker": {
          "color": "#00cc96"
         },
         "name": "dubpr",
         "notched": false,
         "offsetgroup": "dubpr",
         "orientation": "v",
         "quartilemethod": "exclusive",
         "showlegend": true,
         "type": "box",
         "x": [
          "Recall@3",
          "Recall@3",
          "Recall@3",
          "Recall@3",
          "Recall@3",
          "Recall@3",
          "Recall@3",
          "Recall@3",
          "Recall@3",
          "Recall@3",
          "Recall@5",
          "Recall@5",
          "Recall@5",
          "Recall@5",
          "Recall@5",
          "Recall@5",
          "Recall@5",
          "Recall@5",
          "Recall@5",
          "Recall@5",
          "Recall@8",
          "Recall@8",
          "Recall@8",
          "Recall@8",
          "Recall@8",
          "Recall@8",
          "Recall@8",
          "Recall@8",
          "Recall@8",
          "Recall@8"
         ],
         "x0": " ",
         "xaxis": "x",
         "y": [
          0.0478514109347442,
          0.0478514109347442,
          0.0478514109347442,
          0.0478514109347442,
          0.0478514109347442,
          0.0478514109347442,
          0.0478514109347442,
          0.0478514109347442,
          0.0478514109347442,
          0.0478514109347442,
          0.0769390064667842,
          0.0769390064667842,
          0.0769390064667842,
          0.0769390064667842,
          0.0769390064667842,
          0.0769390064667842,
          0.0769390064667842,
          0.0769390064667842,
          0.0769390064667842,
          0.0769390064667842,
          0.1285047031158142,
          0.1285047031158142,
          0.1285047031158142,
          0.1285047031158142,
          0.1285047031158142,
          0.1285047031158142,
          0.1285047031158142,
          0.1285047031158142,
          0.1285047031158142,
          0.1285047031158142
         ],
         "y0": " ",
         "yaxis": "y"
        },
        {
         "alignmentgroup": "True",
         "hovertemplate": "Method=dubpr<br>Propensity=BB Item-User<br>Metric@K=%{x}<br>Value=%{y}<extra></extra>",
         "legendgroup": "dubpr",
         "marker": {
          "color": "#00cc96"
         },
         "name": "dubpr",
         "notched": false,
         "offsetgroup": "dubpr",
         "orientation": "v",
         "quartilemethod": "exclusive",
         "showlegend": false,
         "type": "box",
         "x": [
          "Recall@3",
          "Recall@3",
          "Recall@3",
          "Recall@3",
          "Recall@3",
          "Recall@3",
          "Recall@3",
          "Recall@3",
          "Recall@3",
          "Recall@3",
          "Recall@5",
          "Recall@5",
          "Recall@5",
          "Recall@5",
          "Recall@5",
          "Recall@5",
          "Recall@5",
          "Recall@5",
          "Recall@5",
          "Recall@5",
          "Recall@8",
          "Recall@8",
          "Recall@8",
          "Recall@8",
          "Recall@8",
          "Recall@8",
          "Recall@8",
          "Recall@8",
          "Recall@8",
          "Recall@8"
         ],
         "x0": " ",
         "xaxis": "x2",
         "y": [
          0.055046884185773,
          0.0588593474426807,
          0.0615626102292768,
          0.0565520282186948,
          0.0570389476778365,
          0.0570745149911816,
          0.0546785714285714,
          0.0536688712522045,
          0.0551529982363315,
          0.0545405643738977,
          0.0848525867136978,
          0.0869904467960023,
          0.0897876249265138,
          0.0836725455614344,
          0.0855002939447383,
          0.0845592298647854,
          0.084895796590241,
          0.0843696355085243,
          0.0872272192827748,
          0.0824234273956496,
          0.128524985302763,
          0.1316937095825984,
          0.1301047912992357,
          0.1252388300999412,
          0.1303719870664315,
          0.1295412992357436,
          0.1283252498530276,
          0.1313825690770135,
          0.1334548794826572,
          0.1280351263962375
         ],
         "y0": " ",
         "yaxis": "y2"
        },
        {
         "alignmentgroup": "True",
         "hovertemplate": "Method=relmf<br>Propensity=Original<br>Metric@K=%{x}<br>Value=%{y}<extra></extra>",
         "legendgroup": "relmf",
         "marker": {
          "color": "#ab63fa"
         },
         "name": "relmf",
         "notched": false,
         "offsetgroup": "relmf",
         "orientation": "v",
         "quartilemethod": "exclusive",
         "showlegend": true,
         "type": "box",
         "x": [
          "Recall@3",
          "Recall@3",
          "Recall@3",
          "Recall@3",
          "Recall@3",
          "Recall@3",
          "Recall@3",
          "Recall@3",
          "Recall@3",
          "Recall@3",
          "Recall@5",
          "Recall@5",
          "Recall@5",
          "Recall@5",
          "Recall@5",
          "Recall@5",
          "Recall@5",
          "Recall@5",
          "Recall@5",
          "Recall@5",
          "Recall@8",
          "Recall@8",
          "Recall@8",
          "Recall@8",
          "Recall@8",
          "Recall@8",
          "Recall@8",
          "Recall@8",
          "Recall@8",
          "Recall@8"
         ],
         "x0": " ",
         "xaxis": "x",
         "y": [
          0.095084656084656,
          0.0906106701940035,
          0.0950270429159318,
          0.0963295120517342,
          0.0936988536155202,
          0.0954704585537918,
          0.0918223104056437,
          0.0957094356261022,
          0.0929704585537918,
          0.0963833039388595,
          0.1223422986478542,
          0.1189235743680188,
          0.1225933274544385,
          0.1223759553203997,
          0.1214068195179306,
          0.1197119341563785,
          0.1218065843621399,
          0.1227648442092886,
          0.1228574368018812,
          0.1209469429747207,
          0.153035567313345,
          0.1518830099941211,
          0.1524337154614932,
          0.1527366255144032,
          0.1508768371546149,
          0.1512176660787772,
          0.1529138741916519,
          0.1514526748971193,
          0.1518689006466784,
          0.1519182833627278
         ],
         "y0": " ",
         "yaxis": "y"
        },
        {
         "alignmentgroup": "True",
         "hovertemplate": "Method=relmf<br>Propensity=BB Item-User<br>Metric@K=%{x}<br>Value=%{y}<extra></extra>",
         "legendgroup": "relmf",
         "marker": {
          "color": "#ab63fa"
         },
         "name": "relmf",
         "notched": false,
         "offsetgroup": "relmf",
         "orientation": "v",
         "quartilemethod": "exclusive",
         "showlegend": false,
         "type": "box",
         "x": [
          "Recall@3",
          "Recall@3",
          "Recall@3",
          "Recall@3",
          "Recall@3",
          "Recall@3",
          "Recall@3",
          "Recall@3",
          "Recall@3",
          "Recall@3",
          "Recall@5",
          "Recall@5",
          "Recall@5",
          "Recall@5",
          "Recall@5",
          "Recall@5",
          "Recall@5",
          "Recall@5",
          "Recall@5",
          "Recall@5",
          "Recall@8",
          "Recall@8",
          "Recall@8",
          "Recall@8",
          "Recall@8",
          "Recall@8",
          "Recall@8",
          "Recall@8",
          "Recall@8",
          "Recall@8"
         ],
         "x0": " ",
         "xaxis": "x2",
         "y": [
          0.0595824514991181,
          0.05823721340388,
          0.0609278365667254,
          0.058154908877131,
          0.0597865961199294,
          0.0598555261610817,
          0.0612169312169312,
          0.0598249559082892,
          0.0624079952968841,
          0.0628264256319811,
          0.0871906231628453,
          0.0846735743680188,
          0.0851316872427983,
          0.0824359200470311,
          0.0848264256319811,
          0.0880174897119341,
          0.0868392122281011,
          0.0856460905349794,
          0.0880792181069958,
          0.0892445620223398,
          0.1277961493239271,
          0.1303190770135214,
          0.1256572604350382,
          0.1273256907701352,
          0.1219041740152851,
          0.1285355673133451,
          0.1265152851263962,
          0.1304813345091122,
          0.1294363609641387,
          0.129282480893592
         ],
         "y0": " ",
         "yaxis": "y2"
        },
        {
         "alignmentgroup": "True",
         "hovertemplate": "Method=dumf<br>Propensity=Original<br>Metric@K=%{x}<br>Value=%{y}<extra></extra>",
         "legendgroup": "dumf",
         "marker": {
          "color": "#FFA15A"
         },
         "name": "dumf",
         "notched": false,
         "offsetgroup": "dumf",
         "orientation": "v",
         "quartilemethod": "exclusive",
         "showlegend": true,
         "type": "box",
         "x": [
          "Recall@3",
          "Recall@3",
          "Recall@3",
          "Recall@3",
          "Recall@3",
          "Recall@3",
          "Recall@3",
          "Recall@3",
          "Recall@3",
          "Recall@3",
          "Recall@5",
          "Recall@5",
          "Recall@5",
          "Recall@5",
          "Recall@5",
          "Recall@5",
          "Recall@5",
          "Recall@5",
          "Recall@5",
          "Recall@5",
          "Recall@8",
          "Recall@8",
          "Recall@8",
          "Recall@8",
          "Recall@8",
          "Recall@8",
          "Recall@8",
          "Recall@8",
          "Recall@8",
          "Recall@8"
         ],
         "x0": " ",
         "xaxis": "x",
         "y": [
          0.099450176366843,
          0.0951654908877131,
          0.0970931804820693,
          0.0977351557907113,
          0.0969758965314521,
          0.0980013227513227,
          0.096274250440917,
          0.0983130511463844,
          0.0955013227513227,
          0.0971353615520282,
          0.1241218400940623,
          0.1218415637860082,
          0.1243464138741916,
          0.1254081422692533,
          0.1250915637860082,
          0.1242823339212228,
          0.1216568195179306,
          0.1272761610817166,
          0.1234870664315108,
          0.1253539094650205,
          0.1537441211052322,
          0.1543830099941211,
          0.1554738389182833,
          0.1539138741916519,
          0.152703997648442,
          0.1525867136978248,
          0.1535126396237507,
          0.153200911228689,
          0.1520540858318636,
          0.1544663433274544
         ],
         "y0": " ",
         "yaxis": "y"
        },
        {
         "alignmentgroup": "True",
         "hovertemplate": "Method=dumf<br>Propensity=BB Item-User<br>Metric@K=%{x}<br>Value=%{y}<extra></extra>",
         "legendgroup": "dumf",
         "marker": {
          "color": "#FFA15A"
         },
         "name": "dumf",
         "notched": false,
         "offsetgroup": "dumf",
         "orientation": "v",
         "quartilemethod": "exclusive",
         "showlegend": false,
         "type": "box",
         "x": [
          "Recall@3",
          "Recall@3",
          "Recall@3",
          "Recall@3",
          "Recall@3",
          "Recall@3",
          "Recall@3",
          "Recall@3",
          "Recall@3",
          "Recall@3",
          "Recall@5",
          "Recall@5",
          "Recall@5",
          "Recall@5",
          "Recall@5",
          "Recall@5",
          "Recall@5",
          "Recall@5",
          "Recall@5",
          "Recall@5",
          "Recall@8",
          "Recall@8",
          "Recall@8",
          "Recall@8",
          "Recall@8",
          "Recall@8",
          "Recall@8",
          "Recall@8",
          "Recall@8",
          "Recall@8"
         ],
         "x0": " ",
         "xaxis": "x2",
         "y": [
          0.0977279541446208,
          0.0950163139329806,
          0.0935654027042915,
          0.098975896531452,
          0.0947721928277483,
          0.099416225749559,
          0.0976829805996472,
          0.0972482363315696,
          0.0952402998236331,
          0.0986507936507936,
          0.1234883891828336,
          0.1231077307466196,
          0.1221687242798354,
          0.1227397119341563,
          0.1223759553203997,
          0.1264544385655497,
          0.1218711052322163,
          0.126515138154027,
          0.1235113168724279,
          0.1270298353909465,
          0.1538737507348618,
          0.1526854791299235,
          0.1518627278071722,
          0.1529046149323927,
          0.1530898001175779,
          0.1526991475602586,
          0.1527423574368019,
          0.1547317754262198,
          0.1552670487948265,
          0.1547811581422692
         ],
         "y0": " ",
         "yaxis": "y2"
        }
       ],
       "layout": {
        "annotations": [
         {
          "font": {},
          "showarrow": false,
          "text": "Propensity=Original",
          "x": 0.245,
          "xanchor": "center",
          "xref": "paper",
          "y": 1,
          "yanchor": "bottom",
          "yref": "paper"
         },
         {
          "font": {},
          "showarrow": false,
          "text": "Propensity=BB Item-User",
          "x": 0.755,
          "xanchor": "center",
          "xref": "paper",
          "y": 1,
          "yanchor": "bottom",
          "yref": "paper"
         }
        ],
        "boxmode": "group",
        "legend": {
         "title": {
          "text": "Method"
         },
         "tracegroupgap": 0
        },
        "margin": {
         "t": 60
        },
        "template": {
         "data": {
          "bar": [
           {
            "error_x": {
             "color": "#2a3f5f"
            },
            "error_y": {
             "color": "#2a3f5f"
            },
            "marker": {
             "line": {
              "color": "#E5ECF6",
              "width": 0.5
             },
             "pattern": {
              "fillmode": "overlay",
              "size": 10,
              "solidity": 0.2
             }
            },
            "type": "bar"
           }
          ],
          "barpolar": [
           {
            "marker": {
             "line": {
              "color": "#E5ECF6",
              "width": 0.5
             },
             "pattern": {
              "fillmode": "overlay",
              "size": 10,
              "solidity": 0.2
             }
            },
            "type": "barpolar"
           }
          ],
          "carpet": [
           {
            "aaxis": {
             "endlinecolor": "#2a3f5f",
             "gridcolor": "white",
             "linecolor": "white",
             "minorgridcolor": "white",
             "startlinecolor": "#2a3f5f"
            },
            "baxis": {
             "endlinecolor": "#2a3f5f",
             "gridcolor": "white",
             "linecolor": "white",
             "minorgridcolor": "white",
             "startlinecolor": "#2a3f5f"
            },
            "type": "carpet"
           }
          ],
          "choropleth": [
           {
            "colorbar": {
             "outlinewidth": 0,
             "ticks": ""
            },
            "type": "choropleth"
           }
          ],
          "contour": [
           {
            "colorbar": {
             "outlinewidth": 0,
             "ticks": ""
            },
            "colorscale": [
             [
              0,
              "#0d0887"
             ],
             [
              0.1111111111111111,
              "#46039f"
             ],
             [
              0.2222222222222222,
              "#7201a8"
             ],
             [
              0.3333333333333333,
              "#9c179e"
             ],
             [
              0.4444444444444444,
              "#bd3786"
             ],
             [
              0.5555555555555556,
              "#d8576b"
             ],
             [
              0.6666666666666666,
              "#ed7953"
             ],
             [
              0.7777777777777778,
              "#fb9f3a"
             ],
             [
              0.8888888888888888,
              "#fdca26"
             ],
             [
              1,
              "#f0f921"
             ]
            ],
            "type": "contour"
           }
          ],
          "contourcarpet": [
           {
            "colorbar": {
             "outlinewidth": 0,
             "ticks": ""
            },
            "type": "contourcarpet"
           }
          ],
          "heatmap": [
           {
            "colorbar": {
             "outlinewidth": 0,
             "ticks": ""
            },
            "colorscale": [
             [
              0,
              "#0d0887"
             ],
             [
              0.1111111111111111,
              "#46039f"
             ],
             [
              0.2222222222222222,
              "#7201a8"
             ],
             [
              0.3333333333333333,
              "#9c179e"
             ],
             [
              0.4444444444444444,
              "#bd3786"
             ],
             [
              0.5555555555555556,
              "#d8576b"
             ],
             [
              0.6666666666666666,
              "#ed7953"
             ],
             [
              0.7777777777777778,
              "#fb9f3a"
             ],
             [
              0.8888888888888888,
              "#fdca26"
             ],
             [
              1,
              "#f0f921"
             ]
            ],
            "type": "heatmap"
           }
          ],
          "heatmapgl": [
           {
            "colorbar": {
             "outlinewidth": 0,
             "ticks": ""
            },
            "colorscale": [
             [
              0,
              "#0d0887"
             ],
             [
              0.1111111111111111,
              "#46039f"
             ],
             [
              0.2222222222222222,
              "#7201a8"
             ],
             [
              0.3333333333333333,
              "#9c179e"
             ],
             [
              0.4444444444444444,
              "#bd3786"
             ],
             [
              0.5555555555555556,
              "#d8576b"
             ],
             [
              0.6666666666666666,
              "#ed7953"
             ],
             [
              0.7777777777777778,
              "#fb9f3a"
             ],
             [
              0.8888888888888888,
              "#fdca26"
             ],
             [
              1,
              "#f0f921"
             ]
            ],
            "type": "heatmapgl"
           }
          ],
          "histogram": [
           {
            "marker": {
             "pattern": {
              "fillmode": "overlay",
              "size": 10,
              "solidity": 0.2
             }
            },
            "type": "histogram"
           }
          ],
          "histogram2d": [
           {
            "colorbar": {
             "outlinewidth": 0,
             "ticks": ""
            },
            "colorscale": [
             [
              0,
              "#0d0887"
             ],
             [
              0.1111111111111111,
              "#46039f"
             ],
             [
              0.2222222222222222,
              "#7201a8"
             ],
             [
              0.3333333333333333,
              "#9c179e"
             ],
             [
              0.4444444444444444,
              "#bd3786"
             ],
             [
              0.5555555555555556,
              "#d8576b"
             ],
             [
              0.6666666666666666,
              "#ed7953"
             ],
             [
              0.7777777777777778,
              "#fb9f3a"
             ],
             [
              0.8888888888888888,
              "#fdca26"
             ],
             [
              1,
              "#f0f921"
             ]
            ],
            "type": "histogram2d"
           }
          ],
          "histogram2dcontour": [
           {
            "colorbar": {
             "outlinewidth": 0,
             "ticks": ""
            },
            "colorscale": [
             [
              0,
              "#0d0887"
             ],
             [
              0.1111111111111111,
              "#46039f"
             ],
             [
              0.2222222222222222,
              "#7201a8"
             ],
             [
              0.3333333333333333,
              "#9c179e"
             ],
             [
              0.4444444444444444,
              "#bd3786"
             ],
             [
              0.5555555555555556,
              "#d8576b"
             ],
             [
              0.6666666666666666,
              "#ed7953"
             ],
             [
              0.7777777777777778,
              "#fb9f3a"
             ],
             [
              0.8888888888888888,
              "#fdca26"
             ],
             [
              1,
              "#f0f921"
             ]
            ],
            "type": "histogram2dcontour"
           }
          ],
          "mesh3d": [
           {
            "colorbar": {
             "outlinewidth": 0,
             "ticks": ""
            },
            "type": "mesh3d"
           }
          ],
          "parcoords": [
           {
            "line": {
             "colorbar": {
              "outlinewidth": 0,
              "ticks": ""
             }
            },
            "type": "parcoords"
           }
          ],
          "pie": [
           {
            "automargin": true,
            "type": "pie"
           }
          ],
          "scatter": [
           {
            "fillpattern": {
             "fillmode": "overlay",
             "size": 10,
             "solidity": 0.2
            },
            "type": "scatter"
           }
          ],
          "scatter3d": [
           {
            "line": {
             "colorbar": {
              "outlinewidth": 0,
              "ticks": ""
             }
            },
            "marker": {
             "colorbar": {
              "outlinewidth": 0,
              "ticks": ""
             }
            },
            "type": "scatter3d"
           }
          ],
          "scattercarpet": [
           {
            "marker": {
             "colorbar": {
              "outlinewidth": 0,
              "ticks": ""
             }
            },
            "type": "scattercarpet"
           }
          ],
          "scattergeo": [
           {
            "marker": {
             "colorbar": {
              "outlinewidth": 0,
              "ticks": ""
             }
            },
            "type": "scattergeo"
           }
          ],
          "scattergl": [
           {
            "marker": {
             "colorbar": {
              "outlinewidth": 0,
              "ticks": ""
             }
            },
            "type": "scattergl"
           }
          ],
          "scattermapbox": [
           {
            "marker": {
             "colorbar": {
              "outlinewidth": 0,
              "ticks": ""
             }
            },
            "type": "scattermapbox"
           }
          ],
          "scatterpolar": [
           {
            "marker": {
             "colorbar": {
              "outlinewidth": 0,
              "ticks": ""
             }
            },
            "type": "scatterpolar"
           }
          ],
          "scatterpolargl": [
           {
            "marker": {
             "colorbar": {
              "outlinewidth": 0,
              "ticks": ""
             }
            },
            "type": "scatterpolargl"
           }
          ],
          "scatterternary": [
           {
            "marker": {
             "colorbar": {
              "outlinewidth": 0,
              "ticks": ""
             }
            },
            "type": "scatterternary"
           }
          ],
          "surface": [
           {
            "colorbar": {
             "outlinewidth": 0,
             "ticks": ""
            },
            "colorscale": [
             [
              0,
              "#0d0887"
             ],
             [
              0.1111111111111111,
              "#46039f"
             ],
             [
              0.2222222222222222,
              "#7201a8"
             ],
             [
              0.3333333333333333,
              "#9c179e"
             ],
             [
              0.4444444444444444,
              "#bd3786"
             ],
             [
              0.5555555555555556,
              "#d8576b"
             ],
             [
              0.6666666666666666,
              "#ed7953"
             ],
             [
              0.7777777777777778,
              "#fb9f3a"
             ],
             [
              0.8888888888888888,
              "#fdca26"
             ],
             [
              1,
              "#f0f921"
             ]
            ],
            "type": "surface"
           }
          ],
          "table": [
           {
            "cells": {
             "fill": {
              "color": "#EBF0F8"
             },
             "line": {
              "color": "white"
             }
            },
            "header": {
             "fill": {
              "color": "#C8D4E3"
             },
             "line": {
              "color": "white"
             }
            },
            "type": "table"
           }
          ]
         },
         "layout": {
          "annotationdefaults": {
           "arrowcolor": "#2a3f5f",
           "arrowhead": 0,
           "arrowwidth": 1
          },
          "autotypenumbers": "strict",
          "coloraxis": {
           "colorbar": {
            "outlinewidth": 0,
            "ticks": ""
           }
          },
          "colorscale": {
           "diverging": [
            [
             0,
             "#8e0152"
            ],
            [
             0.1,
             "#c51b7d"
            ],
            [
             0.2,
             "#de77ae"
            ],
            [
             0.3,
             "#f1b6da"
            ],
            [
             0.4,
             "#fde0ef"
            ],
            [
             0.5,
             "#f7f7f7"
            ],
            [
             0.6,
             "#e6f5d0"
            ],
            [
             0.7,
             "#b8e186"
            ],
            [
             0.8,
             "#7fbc41"
            ],
            [
             0.9,
             "#4d9221"
            ],
            [
             1,
             "#276419"
            ]
           ],
           "sequential": [
            [
             0,
             "#0d0887"
            ],
            [
             0.1111111111111111,
             "#46039f"
            ],
            [
             0.2222222222222222,
             "#7201a8"
            ],
            [
             0.3333333333333333,
             "#9c179e"
            ],
            [
             0.4444444444444444,
             "#bd3786"
            ],
            [
             0.5555555555555556,
             "#d8576b"
            ],
            [
             0.6666666666666666,
             "#ed7953"
            ],
            [
             0.7777777777777778,
             "#fb9f3a"
            ],
            [
             0.8888888888888888,
             "#fdca26"
            ],
            [
             1,
             "#f0f921"
            ]
           ],
           "sequentialminus": [
            [
             0,
             "#0d0887"
            ],
            [
             0.1111111111111111,
             "#46039f"
            ],
            [
             0.2222222222222222,
             "#7201a8"
            ],
            [
             0.3333333333333333,
             "#9c179e"
            ],
            [
             0.4444444444444444,
             "#bd3786"
            ],
            [
             0.5555555555555556,
             "#d8576b"
            ],
            [
             0.6666666666666666,
             "#ed7953"
            ],
            [
             0.7777777777777778,
             "#fb9f3a"
            ],
            [
             0.8888888888888888,
             "#fdca26"
            ],
            [
             1,
             "#f0f921"
            ]
           ]
          },
          "colorway": [
           "#636efa",
           "#EF553B",
           "#00cc96",
           "#ab63fa",
           "#FFA15A",
           "#19d3f3",
           "#FF6692",
           "#B6E880",
           "#FF97FF",
           "#FECB52"
          ],
          "font": {
           "color": "#2a3f5f"
          },
          "geo": {
           "bgcolor": "white",
           "lakecolor": "white",
           "landcolor": "#E5ECF6",
           "showlakes": true,
           "showland": true,
           "subunitcolor": "white"
          },
          "hoverlabel": {
           "align": "left"
          },
          "hovermode": "closest",
          "mapbox": {
           "style": "light"
          },
          "paper_bgcolor": "white",
          "plot_bgcolor": "#E5ECF6",
          "polar": {
           "angularaxis": {
            "gridcolor": "white",
            "linecolor": "white",
            "ticks": ""
           },
           "bgcolor": "#E5ECF6",
           "radialaxis": {
            "gridcolor": "white",
            "linecolor": "white",
            "ticks": ""
           }
          },
          "scene": {
           "xaxis": {
            "backgroundcolor": "#E5ECF6",
            "gridcolor": "white",
            "gridwidth": 2,
            "linecolor": "white",
            "showbackground": true,
            "ticks": "",
            "zerolinecolor": "white"
           },
           "yaxis": {
            "backgroundcolor": "#E5ECF6",
            "gridcolor": "white",
            "gridwidth": 2,
            "linecolor": "white",
            "showbackground": true,
            "ticks": "",
            "zerolinecolor": "white"
           },
           "zaxis": {
            "backgroundcolor": "#E5ECF6",
            "gridcolor": "white",
            "gridwidth": 2,
            "linecolor": "white",
            "showbackground": true,
            "ticks": "",
            "zerolinecolor": "white"
           }
          },
          "shapedefaults": {
           "line": {
            "color": "#2a3f5f"
           }
          },
          "ternary": {
           "aaxis": {
            "gridcolor": "white",
            "linecolor": "white",
            "ticks": ""
           },
           "baxis": {
            "gridcolor": "white",
            "linecolor": "white",
            "ticks": ""
           },
           "bgcolor": "#E5ECF6",
           "caxis": {
            "gridcolor": "white",
            "linecolor": "white",
            "ticks": ""
           }
          },
          "title": {
           "x": 0.05
          },
          "xaxis": {
           "automargin": true,
           "gridcolor": "white",
           "linecolor": "white",
           "ticks": "",
           "title": {
            "standoff": 15
           },
           "zerolinecolor": "white",
           "zerolinewidth": 2
          },
          "yaxis": {
           "automargin": true,
           "gridcolor": "white",
           "linecolor": "white",
           "ticks": "",
           "title": {
            "standoff": 15
           },
           "zerolinecolor": "white",
           "zerolinewidth": 2
          }
         }
        },
        "xaxis": {
         "anchor": "y",
         "domain": [
          0,
          0.49
         ],
         "title": {
          "text": "Recall@K"
         }
        },
        "xaxis2": {
         "anchor": "y2",
         "domain": [
          0.51,
          1
         ],
         "matches": "x",
         "title": {
          "text": "Recall@K"
         }
        },
        "yaxis": {
         "anchor": "x",
         "domain": [
          0,
          1
         ],
         "title": {
          "text": "Value"
         }
        },
        "yaxis2": {
         "anchor": "x2",
         "domain": [
          0,
          1
         ],
         "matches": "y",
         "showticklabels": false
        }
       }
      }
     },
     "metadata": {},
     "output_type": "display_data"
    }
   ],
   "source": [
    "plot_metric(yahoo_df, 'Recall', methods=_methods, propensities=_propensities)\n"
   ]
  }
 ],
 "metadata": {
  "kernelspec": {
   "display_name": "subnetwork_inference",
   "language": "python",
   "name": "python3"
  },
  "language_info": {
   "codemirror_mode": {
    "name": "ipython",
    "version": 3
   },
   "file_extension": ".py",
   "mimetype": "text/x-python",
   "name": "python",
   "nbconvert_exporter": "python",
   "pygments_lexer": "ipython3",
   "version": "3.8.16"
  },
  "orig_nbformat": 4
 },
 "nbformat": 4,
 "nbformat_minor": 2
}
