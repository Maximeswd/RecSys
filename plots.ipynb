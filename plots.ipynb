{
 "cells": [
  {
   "attachments": {},
   "cell_type": "markdown",
   "metadata": {},
   "source": [
    "## Imports and constants"
   ]
  },
  {
   "cell_type": "code",
   "execution_count": 1,
   "metadata": {},
   "outputs": [],
   "source": [
    "import pandas as pd\n",
    "import numpy as np\n",
    "import plotly.express as px\n",
    "import plotly.graph_objects as go\n",
    "import plotly.io as pio "
   ]
  },
  {
   "cell_type": "code",
   "execution_count": 2,
   "metadata": {},
   "outputs": [],
   "source": [
    "RESULTS_FILE = 'aoa_all.csv'\n",
    "ALL_PROPENSITIES = {'original': \"Original\", 'bb-item-user': \"BB Item-User\", 'bb-item': 'BB Item'}\n",
    "ALL_METHODS = { 'bpr': 'BPR',\n",
    "            'ubpr' : 'UBPR',\n",
    "            'dubpr': 'DUBPR',\n",
    "            'relmf' : 'RelMF',\n",
    "            'dumf': 'DUMF',\n",
    "            'expomf' : 'ExpoMF',\n",
    "            'ip' : 'ItemPop',\n",
    "            'wmf' : 'WMF',\n",
    "            'ngcf-b': 'NGCF-BPR',\n",
    "            'ngcf-u': 'NGCF-UBPR',\n",
    "        }"
   ]
  },
  {
   "attachments": {},
   "cell_type": "markdown",
   "metadata": {},
   "source": [
    "## Define functions for loading and plotting results"
   ]
  },
  {
   "cell_type": "code",
   "execution_count": 3,
   "metadata": {},
   "outputs": [],
   "source": [
    "def load_df(results_path, data, propensity, method, results_file):\n",
    "    try :\n",
    "        df = pd.read_csv(f\"{results_path}/{data}/{propensity}/{method}/results/{results_file}\")\n",
    "    except:\n",
    "        print(f\"Error loading {results_path}/{data}/{propensity}/{method}/results/{results_file}\")\n",
    "        print(f\"It is required to run the models for {data} dataset with {propensity} propensity and {method} method\")\n",
    "        raise Exception(\"Missing results\")\n",
    "    df = df.rename(columns={'Unnamed: 0': 'Metric@K'})\n",
    "    metrics =  df['Metric@K'].to_list()\n",
    "    df = df.iloc[:, 1:].transpose()\n",
    "    df.columns = metrics\n",
    "    df.reset_index(inplace=True, drop=True)\n",
    "    df['Method'] = method\n",
    "    df = df.melt(id_vars=['Method'], var_name='Metric@K', value_name='Value')\n",
    "    df['Propensity'] = ALL_PROPENSITIES[propensity]\n",
    "    df['Metric'] = df['Metric@K'].apply(lambda x: x.split('@')[0])\n",
    "    df['K'] = df['Metric@K'].apply(lambda x: x.split('@')[1])\n",
    "    return df"
   ]
  },
  {
   "cell_type": "code",
   "execution_count": 4,
   "metadata": {},
   "outputs": [],
   "source": [
    "def load_results(results_path, data, propensities, methods):\n",
    "    \"\"\"Load all results for a given dataset\"\"\"\n",
    "    dfs = []\n",
    "    for propensity in propensities:\n",
    "        for method in methods:\n",
    "            df = load_df(results_path, data, propensity, method, RESULTS_FILE)\n",
    "            dfs.append(df)\n",
    "    return pd.concat(dfs)\n",
    "\n",
    "def plot_metric(df, data, metric, methods=None, propensities=None):\n",
    "    \"\"\"Plot a metric for given methods and propensities\"\"\"\n",
    "    if methods:\n",
    "        df = df[df['Method'].isin(methods)]\n",
    "    if propensities:\n",
    "        df = df[df['Propensity'].isin(propensities)]\n",
    "    df = df[df['Metric'] == metric]\n",
    "    if len(propensities) == 1:\n",
    "       fig = px.box(df, x=\"Metric@K\", y=\"Value\", color=\"Method\")\n",
    "    else:\n",
    "       fig = px.box(df, x=\"Metric@K\", y=\"Value\", color=\"Method\", facet_col='Propensity')\n",
    "    fig.update_traces(quartilemethod=\"exclusive\")\n",
    "    fig.for_each_xaxis(lambda x: x.update({'title': \"\"}) if x.title.text == 'Metric@K' else x)\n",
    "    pio.write_image(fig, f\"{data}_{metric}.png\", format='png', scale=2, width=1400, height=650)\n",
    "    fig.show()\n",
    "\n",
    "def plot_barplot(df, data, metric, methods=None, propensities=None):\n",
    "    \"\"\"Plot a metric for given methods and propensities\"\"\"\n",
    "    if methods:\n",
    "        df = df[df['Method'].isin(methods)]\n",
    "    if propensities:\n",
    "        df = df[df['Propensity'].isin(propensities)]\n",
    "    df = df[df['Metric'] == metric]  \n",
    "\n",
    "    dfm = df.groupby(['Propensity', 'Method', 'Metric@K']).mean(numeric_only=True).reset_index()\n",
    "    dfv = df.groupby(['Propensity', 'Method', 'Metric@K']).var(numeric_only=True).reset_index()\n",
    "    dfm['var'] = dfv['Value']\n",
    "   \n",
    "    fig = px.bar(dfm, x=\"Metric@K\", y=\"Value\", color=\"Method\", barmode=\"group\", facet_col='Propensity', opacity=0.85, error_y=\"var\",\n",
    "     category_orders={\"Method\": ['bpr', 'ubpr', 'dubpr', 'relmf', 'dumf'], 'Propensity': ['Original', 'BB Item-User']})\n",
    "    fig.for_each_xaxis(lambda x: x.update({'title': \"\"}) if x.title.text == 'Metric@K' else x)\n",
    "    pio.write_image(fig, f\"{data}_{metric}_bar.png\", format='png', scale=2, width=1400, height=650)\n",
    "    fig.show()"
   ]
  },
  {
   "attachments": {},
   "cell_type": "markdown",
   "metadata": {},
   "source": [
    "## Plots for New Loss functions and propensity estimation methods"
   ]
  },
  {
   "cell_type": "code",
   "execution_count": 5,
   "metadata": {},
   "outputs": [],
   "source": [
    "propensities = ['original', 'bb-item-user']\n",
    "_propensities = [ALL_PROPENSITIES[p] for p in propensities]\n",
    "methods = ['bpr', 'ubpr', 'dubpr', 'relmf', 'dumf']      "
   ]
  },
  {
   "attachments": {},
   "cell_type": "markdown",
   "metadata": {},
   "source": [
    "## Plot metrics for Coat dataset"
   ]
  },
  {
   "cell_type": "code",
   "execution_count": 6,
   "metadata": {},
   "outputs": [],
   "source": [
    "coat_df =load_results(\"logs\", \"coat\", propensities, methods)"
   ]
  },
  {
   "attachments": {},
   "cell_type": "markdown",
   "metadata": {},
   "source": [
    "### DCG@K"
   ]
  },
  {
   "cell_type": "code",
   "execution_count": 7,
   "metadata": {},
   "outputs": [
    {
     "data": {
      "application/vnd.plotly.v1+json": {
       "config": {
        "plotlyServerURL": "https://plot.ly"
       },
       "data": [
        {
         "alignmentgroup": "True",
         "hovertemplate": "Method=bpr<br>Propensity=Original<br>Metric@K=%{x}<br>Value=%{y}<extra></extra>",
         "legendgroup": "bpr",
         "marker": {
          "color": "#636efa"
         },
         "name": "bpr",
         "notched": false,
         "offsetgroup": "bpr",
         "orientation": "v",
         "quartilemethod": "exclusive",
         "showlegend": true,
         "type": "box",
         "x": [
          "DCG@3",
          "DCG@3",
          "DCG@3",
          "DCG@3",
          "DCG@3",
          "DCG@3",
          "DCG@3",
          "DCG@3",
          "DCG@3",
          "DCG@3",
          "DCG@5",
          "DCG@5",
          "DCG@5",
          "DCG@5",
          "DCG@5",
          "DCG@5",
          "DCG@5",
          "DCG@5",
          "DCG@5",
          "DCG@5",
          "DCG@8",
          "DCG@8",
          "DCG@8",
          "DCG@8",
          "DCG@8",
          "DCG@8",
          "DCG@8",
          "DCG@8",
          "DCG@8",
          "DCG@8"
         ],
         "x0": " ",
         "xaxis": "x",
         "y": [
          0.108794932914048,
          0.1194393915352022,
          0.1002814608238047,
          0.1126934913766916,
          0.1157492193177495,
          0.1007206355905181,
          0.1070587806492699,
          0.1089235070601893,
          0.1032040072157725,
          0.0906223085410319,
          0.1323198386097697,
          0.1380067783865629,
          0.1208377369636105,
          0.134132158287854,
          0.1388188203291305,
          0.1208623099998692,
          0.1241711358555762,
          0.1347430898245595,
          0.1185394233385797,
          0.1237082641952888,
          0.146507725376981,
          0.1582765104702015,
          0.1479780852751365,
          0.1556943721520758,
          0.1636322906698723,
          0.1475961104727632,
          0.1448067031904822,
          0.1502714786838173,
          0.1436042954976658,
          0.1406312232544561
         ],
         "y0": " ",
         "yaxis": "y"
        },
        {
         "alignmentgroup": "True",
         "hovertemplate": "Method=bpr<br>Propensity=BB Item-User<br>Metric@K=%{x}<br>Value=%{y}<extra></extra>",
         "legendgroup": "bpr",
         "marker": {
          "color": "#636efa"
         },
         "name": "bpr",
         "notched": false,
         "offsetgroup": "bpr",
         "orientation": "v",
         "quartilemethod": "exclusive",
         "showlegend": false,
         "type": "box",
         "x": [
          "DCG@3",
          "DCG@3",
          "DCG@3",
          "DCG@3",
          "DCG@3",
          "DCG@3",
          "DCG@3",
          "DCG@3",
          "DCG@3",
          "DCG@3",
          "DCG@5",
          "DCG@5",
          "DCG@5",
          "DCG@5",
          "DCG@5",
          "DCG@5",
          "DCG@5",
          "DCG@5",
          "DCG@5",
          "DCG@5",
          "DCG@8",
          "DCG@8",
          "DCG@8",
          "DCG@8",
          "DCG@8",
          "DCG@8",
          "DCG@8",
          "DCG@8",
          "DCG@8",
          "DCG@8"
         ],
         "x0": " ",
         "xaxis": "x2",
         "y": [
          0.1137988310466086,
          0.1039600289120488,
          0.1162294821833422,
          0.1082595981618925,
          0.1011390045034021,
          0.1030800835225105,
          0.0993118833789496,
          0.1045766748986196,
          0.1098718197147456,
          0.1165088690933377,
          0.1242523699383618,
          0.1236875968842369,
          0.1291754492569491,
          0.1244259210289839,
          0.1234300708899549,
          0.1220391348330326,
          0.1270155950266822,
          0.1286161730679906,
          0.1284987272507782,
          0.1311021985820679,
          0.1443411288871118,
          0.1475725397663771,
          0.1504001040012187,
          0.1476697294550478,
          0.1388215526461299,
          0.1403465233645676,
          0.1439744265904847,
          0.1473416080730875,
          0.1521753996253131,
          0.1518150196330444
         ],
         "y0": " ",
         "yaxis": "y2"
        },
        {
         "alignmentgroup": "True",
         "hovertemplate": "Method=ubpr<br>Propensity=Original<br>Metric@K=%{x}<br>Value=%{y}<extra></extra>",
         "legendgroup": "ubpr",
         "marker": {
          "color": "#EF553B"
         },
         "name": "ubpr",
         "notched": false,
         "offsetgroup": "ubpr",
         "orientation": "v",
         "quartilemethod": "exclusive",
         "showlegend": true,
         "type": "box",
         "x": [
          "DCG@3",
          "DCG@3",
          "DCG@3",
          "DCG@3",
          "DCG@3",
          "DCG@3",
          "DCG@3",
          "DCG@3",
          "DCG@3",
          "DCG@3",
          "DCG@5",
          "DCG@5",
          "DCG@5",
          "DCG@5",
          "DCG@5",
          "DCG@5",
          "DCG@5",
          "DCG@5",
          "DCG@5",
          "DCG@5",
          "DCG@8",
          "DCG@8",
          "DCG@8",
          "DCG@8",
          "DCG@8",
          "DCG@8",
          "DCG@8",
          "DCG@8",
          "DCG@8",
          "DCG@8"
         ],
         "x0": " ",
         "xaxis": "x",
         "y": [
          0.1059299848474088,
          0.1077362676889863,
          0.1176456621868654,
          0.1074723671184813,
          0.1129653528813588,
          0.1183649621465668,
          0.1047636565284626,
          0.110714212913193,
          0.1127945930556589,
          0.1137127973511522,
          0.1284980980293749,
          0.1399177685513757,
          0.1363536180178917,
          0.1296570761280447,
          0.1299763385949409,
          0.1418819801363702,
          0.1297945486811645,
          0.1344589058356669,
          0.1299725487736878,
          0.1291195054149735,
          0.1466490664318094,
          0.1557376178180082,
          0.1558343002338548,
          0.1584791943335488,
          0.1553732660114012,
          0.1569428919636031,
          0.1473278321537615,
          0.1580525648176797,
          0.1485582930827185,
          0.1444917395011017
         ],
         "y0": " ",
         "yaxis": "y"
        },
        {
         "alignmentgroup": "True",
         "hovertemplate": "Method=ubpr<br>Propensity=BB Item-User<br>Metric@K=%{x}<br>Value=%{y}<extra></extra>",
         "legendgroup": "ubpr",
         "marker": {
          "color": "#EF553B"
         },
         "name": "ubpr",
         "notched": false,
         "offsetgroup": "ubpr",
         "orientation": "v",
         "quartilemethod": "exclusive",
         "showlegend": false,
         "type": "box",
         "x": [
          "DCG@3",
          "DCG@3",
          "DCG@3",
          "DCG@3",
          "DCG@3",
          "DCG@3",
          "DCG@3",
          "DCG@3",
          "DCG@3",
          "DCG@3",
          "DCG@5",
          "DCG@5",
          "DCG@5",
          "DCG@5",
          "DCG@5",
          "DCG@5",
          "DCG@5",
          "DCG@5",
          "DCG@5",
          "DCG@5",
          "DCG@8",
          "DCG@8",
          "DCG@8",
          "DCG@8",
          "DCG@8",
          "DCG@8",
          "DCG@8",
          "DCG@8",
          "DCG@8",
          "DCG@8"
         ],
         "x0": " ",
         "xaxis": "x2",
         "y": [
          0.1021946413032983,
          0.1047056012150388,
          0.0966936215650125,
          0.0991740037234542,
          0.0989318111975922,
          0.0993950165257941,
          0.0997065940005628,
          0.101417007009887,
          0.1211377750406753,
          0.1133305282775536,
          0.1260244762857344,
          0.1255471316335018,
          0.118795000710507,
          0.1258058093344363,
          0.1179573516360218,
          0.1136992769624694,
          0.1193135221804697,
          0.1242461084594925,
          0.1392569038868203,
          0.1336814174655012,
          0.1485718173411442,
          0.1489171423184035,
          0.1428071769057488,
          0.1463118691008392,
          0.1382518079456493,
          0.1337850903781558,
          0.1422681631378326,
          0.1493770202767119,
          0.1570683440708435,
          0.1538366008475796
         ],
         "y0": " ",
         "yaxis": "y2"
        },
        {
         "alignmentgroup": "True",
         "hovertemplate": "Method=dubpr<br>Propensity=Original<br>Metric@K=%{x}<br>Value=%{y}<extra></extra>",
         "legendgroup": "dubpr",
         "marker": {
          "color": "#00cc96"
         },
         "name": "dubpr",
         "notched": false,
         "offsetgroup": "dubpr",
         "orientation": "v",
         "quartilemethod": "exclusive",
         "showlegend": true,
         "type": "box",
         "x": [
          "DCG@3",
          "DCG@3",
          "DCG@3",
          "DCG@3",
          "DCG@3",
          "DCG@3",
          "DCG@3",
          "DCG@3",
          "DCG@3",
          "DCG@3",
          "DCG@5",
          "DCG@5",
          "DCG@5",
          "DCG@5",
          "DCG@5",
          "DCG@5",
          "DCG@5",
          "DCG@5",
          "DCG@5",
          "DCG@5",
          "DCG@8",
          "DCG@8",
          "DCG@8",
          "DCG@8",
          "DCG@8",
          "DCG@8",
          "DCG@8",
          "DCG@8",
          "DCG@8",
          "DCG@8"
         ],
         "x0": " ",
         "xaxis": "x",
         "y": [
          0.1007860343586291,
          0.1112655248039631,
          0.1173768900369957,
          0.1120504110873854,
          0.1170412323671278,
          0.101813274094276,
          0.1123901404715192,
          0.113289669075994,
          0.1055725622404707,
          0.1058752495804064,
          0.1196603639299266,
          0.131041903265956,
          0.1362563980969604,
          0.1346347911873432,
          0.1366072480950646,
          0.1227357155186248,
          0.1345208056941322,
          0.1332679160663622,
          0.1317281126924708,
          0.1284777667817553,
          0.1386552991507921,
          0.1460992766059302,
          0.153519100566933,
          0.1525576071425681,
          0.1525077119503909,
          0.1428281258982116,
          0.1543324346416748,
          0.1538292731035466,
          0.1466975005589726,
          0.1491668006830186
         ],
         "y0": " ",
         "yaxis": "y"
        },
        {
         "alignmentgroup": "True",
         "hovertemplate": "Method=dubpr<br>Propensity=BB Item-User<br>Metric@K=%{x}<br>Value=%{y}<extra></extra>",
         "legendgroup": "dubpr",
         "marker": {
          "color": "#00cc96"
         },
         "name": "dubpr",
         "notched": false,
         "offsetgroup": "dubpr",
         "orientation": "v",
         "quartilemethod": "exclusive",
         "showlegend": false,
         "type": "box",
         "x": [
          "DCG@3",
          "DCG@3",
          "DCG@3",
          "DCG@3",
          "DCG@3",
          "DCG@3",
          "DCG@3",
          "DCG@3",
          "DCG@3",
          "DCG@3",
          "DCG@5",
          "DCG@5",
          "DCG@5",
          "DCG@5",
          "DCG@5",
          "DCG@5",
          "DCG@5",
          "DCG@5",
          "DCG@5",
          "DCG@5",
          "DCG@8",
          "DCG@8",
          "DCG@8",
          "DCG@8",
          "DCG@8",
          "DCG@8",
          "DCG@8",
          "DCG@8",
          "DCG@8",
          "DCG@8"
         ],
         "x0": " ",
         "xaxis": "x2",
         "y": [
          0.1038735337563096,
          0.1105437875411882,
          0.1041481459934668,
          0.1162206946460883,
          0.0981309485367753,
          0.0995114314519024,
          0.1187986133365645,
          0.1055298944569608,
          0.1022641079342511,
          0.1099521827269586,
          0.1271970108003603,
          0.1376502131966946,
          0.1230590764026848,
          0.134401202854324,
          0.122720324373486,
          0.1167494207650959,
          0.1352118340692825,
          0.1323396384866428,
          0.116764713062451,
          0.1324436927961496,
          0.1475022832394334,
          0.1585812551993989,
          0.1411033830861165,
          0.1574693813273991,
          0.1399702821380506,
          0.1456440190370691,
          0.147601174685684,
          0.149785789505473,
          0.1434779323231993,
          0.1518640252253669
         ],
         "y0": " ",
         "yaxis": "y2"
        },
        {
         "alignmentgroup": "True",
         "hovertemplate": "Method=relmf<br>Propensity=Original<br>Metric@K=%{x}<br>Value=%{y}<extra></extra>",
         "legendgroup": "relmf",
         "marker": {
          "color": "#ab63fa"
         },
         "name": "relmf",
         "notched": false,
         "offsetgroup": "relmf",
         "orientation": "v",
         "quartilemethod": "exclusive",
         "showlegend": true,
         "type": "box",
         "x": [
          "DCG@3",
          "DCG@3",
          "DCG@3",
          "DCG@3",
          "DCG@3",
          "DCG@3",
          "DCG@3",
          "DCG@3",
          "DCG@3",
          "DCG@3",
          "DCG@5",
          "DCG@5",
          "DCG@5",
          "DCG@5",
          "DCG@5",
          "DCG@5",
          "DCG@5",
          "DCG@5",
          "DCG@5",
          "DCG@5",
          "DCG@8",
          "DCG@8",
          "DCG@8",
          "DCG@8",
          "DCG@8",
          "DCG@8",
          "DCG@8",
          "DCG@8",
          "DCG@8",
          "DCG@8"
         ],
         "x0": " ",
         "xaxis": "x",
         "y": [
          0.1162519656840751,
          0.112612791418681,
          0.1036135495786767,
          0.1147729252453293,
          0.1114055674862979,
          0.1136894330101215,
          0.1076768882265477,
          0.098734490116942,
          0.1137775844622485,
          0.109565151418373,
          0.1421449437451885,
          0.1297016990141201,
          0.1272522394615822,
          0.1392924792942247,
          0.1362044928830593,
          0.1439972188762545,
          0.1300788757363493,
          0.1239035527478612,
          0.1410282817491404,
          0.1290159708657189,
          0.1679739432809004,
          0.1493993597193886,
          0.1462538679704688,
          0.1577669453049004,
          0.1561060652496631,
          0.1594422137867863,
          0.1517202682014013,
          0.1510191445221421,
          0.159331350215692,
          0.1472167351002146
         ],
         "y0": " ",
         "yaxis": "y"
        },
        {
         "alignmentgroup": "True",
         "hovertemplate": "Method=relmf<br>Propensity=BB Item-User<br>Metric@K=%{x}<br>Value=%{y}<extra></extra>",
         "legendgroup": "relmf",
         "marker": {
          "color": "#ab63fa"
         },
         "name": "relmf",
         "notched": false,
         "offsetgroup": "relmf",
         "orientation": "v",
         "quartilemethod": "exclusive",
         "showlegend": false,
         "type": "box",
         "x": [
          "DCG@3",
          "DCG@3",
          "DCG@3",
          "DCG@3",
          "DCG@3",
          "DCG@3",
          "DCG@3",
          "DCG@3",
          "DCG@3",
          "DCG@3",
          "DCG@5",
          "DCG@5",
          "DCG@5",
          "DCG@5",
          "DCG@5",
          "DCG@5",
          "DCG@5",
          "DCG@5",
          "DCG@5",
          "DCG@5",
          "DCG@8",
          "DCG@8",
          "DCG@8",
          "DCG@8",
          "DCG@8",
          "DCG@8",
          "DCG@8",
          "DCG@8",
          "DCG@8",
          "DCG@8"
         ],
         "x0": " ",
         "xaxis": "x2",
         "y": [
          0.1116961959835411,
          0.1064413103342185,
          0.1077226903631595,
          0.1157791639321103,
          0.1104119528419011,
          0.1181624856451791,
          0.1127306151573086,
          0.1109438624352915,
          0.1180248054937892,
          0.1079497944793336,
          0.1436470607383486,
          0.1312436184006931,
          0.1353906881574892,
          0.145749481310917,
          0.1332480215606783,
          0.1496324187529366,
          0.1401490528199119,
          0.1331503776192756,
          0.1429566574928709,
          0.1262217951850243,
          0.1687304477766185,
          0.1503563751295377,
          0.1594908515632735,
          0.164098441379951,
          0.1615282905561914,
          0.1650966133682699,
          0.162759985987444,
          0.1595152463001783,
          0.1619404995492005,
          0.151933135534673
         ],
         "y0": " ",
         "yaxis": "y2"
        },
        {
         "alignmentgroup": "True",
         "hovertemplate": "Method=dumf<br>Propensity=Original<br>Metric@K=%{x}<br>Value=%{y}<extra></extra>",
         "legendgroup": "dumf",
         "marker": {
          "color": "#FFA15A"
         },
         "name": "dumf",
         "notched": false,
         "offsetgroup": "dumf",
         "orientation": "v",
         "quartilemethod": "exclusive",
         "showlegend": true,
         "type": "box",
         "x": [
          "DCG@3",
          "DCG@3",
          "DCG@3",
          "DCG@3",
          "DCG@3",
          "DCG@3",
          "DCG@3",
          "DCG@3",
          "DCG@3",
          "DCG@3",
          "DCG@5",
          "DCG@5",
          "DCG@5",
          "DCG@5",
          "DCG@5",
          "DCG@5",
          "DCG@5",
          "DCG@5",
          "DCG@5",
          "DCG@5",
          "DCG@8",
          "DCG@8",
          "DCG@8",
          "DCG@8",
          "DCG@8",
          "DCG@8",
          "DCG@8",
          "DCG@8",
          "DCG@8",
          "DCG@8"
         ],
         "x0": " ",
         "xaxis": "x",
         "y": [
          0.1141559007854704,
          0.1081039691977097,
          0.1032022420099898,
          0.1106829125363648,
          0.1150813565272461,
          0.1195753664090679,
          0.1005954904001932,
          0.1179074821737973,
          0.1284283036526564,
          0.1158308277783895,
          0.140537605609797,
          0.1269658246058791,
          0.1303551554271748,
          0.1433602968313453,
          0.1438108849449134,
          0.1450560746075958,
          0.1258981114692401,
          0.1456847552295519,
          0.1493170179239249,
          0.1307984681036711,
          0.163558168693972,
          0.1505834870064918,
          0.1511846002887069,
          0.1605398289062447,
          0.1582856452188948,
          0.1620949326882667,
          0.1464423260843556,
          0.1662184098159788,
          0.1714632568658652,
          0.1545686086347979
         ],
         "y0": " ",
         "yaxis": "y"
        },
        {
         "alignmentgroup": "True",
         "hovertemplate": "Method=dumf<br>Propensity=BB Item-User<br>Metric@K=%{x}<br>Value=%{y}<extra></extra>",
         "legendgroup": "dumf",
         "marker": {
          "color": "#FFA15A"
         },
         "name": "dumf",
         "notched": false,
         "offsetgroup": "dumf",
         "orientation": "v",
         "quartilemethod": "exclusive",
         "showlegend": false,
         "type": "box",
         "x": [
          "DCG@3",
          "DCG@3",
          "DCG@3",
          "DCG@3",
          "DCG@3",
          "DCG@3",
          "DCG@3",
          "DCG@3",
          "DCG@3",
          "DCG@3",
          "DCG@5",
          "DCG@5",
          "DCG@5",
          "DCG@5",
          "DCG@5",
          "DCG@5",
          "DCG@5",
          "DCG@5",
          "DCG@5",
          "DCG@5",
          "DCG@8",
          "DCG@8",
          "DCG@8",
          "DCG@8",
          "DCG@8",
          "DCG@8",
          "DCG@8",
          "DCG@8",
          "DCG@8",
          "DCG@8"
         ],
         "x0": " ",
         "xaxis": "x2",
         "y": [
          0.1141559007854704,
          0.1073787625844091,
          0.1032022420099898,
          0.1106829125363648,
          0.1150813565272461,
          0.1195753664090679,
          0.1005954904001932,
          0.1179074821737973,
          0.1284283036526564,
          0.1158308277783895,
          0.140537605609797,
          0.1268153306362568,
          0.1303551554271748,
          0.1433602968313453,
          0.1438108849449134,
          0.1450560746075958,
          0.1258981114692401,
          0.1456847552295519,
          0.1493170179239249,
          0.1307984681036711,
          0.163558168693972,
          0.1503935553579476,
          0.1511846002887069,
          0.1593904036188884,
          0.1582856452188948,
          0.1620949326882667,
          0.1464423260843556,
          0.1662184098159788,
          0.1714895486518132,
          0.1545686086347979
         ],
         "y0": " ",
         "yaxis": "y2"
        }
       ],
       "layout": {
        "annotations": [
         {
          "font": {},
          "showarrow": false,
          "text": "Propensity=Original",
          "x": 0.245,
          "xanchor": "center",
          "xref": "paper",
          "y": 1,
          "yanchor": "bottom",
          "yref": "paper"
         },
         {
          "font": {},
          "showarrow": false,
          "text": "Propensity=BB Item-User",
          "x": 0.755,
          "xanchor": "center",
          "xref": "paper",
          "y": 1,
          "yanchor": "bottom",
          "yref": "paper"
         }
        ],
        "boxmode": "group",
        "legend": {
         "title": {
          "text": "Method"
         },
         "tracegroupgap": 0
        },
        "margin": {
         "t": 60
        },
        "template": {
         "data": {
          "bar": [
           {
            "error_x": {
             "color": "#2a3f5f"
            },
            "error_y": {
             "color": "#2a3f5f"
            },
            "marker": {
             "line": {
              "color": "#E5ECF6",
              "width": 0.5
             },
             "pattern": {
              "fillmode": "overlay",
              "size": 10,
              "solidity": 0.2
             }
            },
            "type": "bar"
           }
          ],
          "barpolar": [
           {
            "marker": {
             "line": {
              "color": "#E5ECF6",
              "width": 0.5
             },
             "pattern": {
              "fillmode": "overlay",
              "size": 10,
              "solidity": 0.2
             }
            },
            "type": "barpolar"
           }
          ],
          "carpet": [
           {
            "aaxis": {
             "endlinecolor": "#2a3f5f",
             "gridcolor": "white",
             "linecolor": "white",
             "minorgridcolor": "white",
             "startlinecolor": "#2a3f5f"
            },
            "baxis": {
             "endlinecolor": "#2a3f5f",
             "gridcolor": "white",
             "linecolor": "white",
             "minorgridcolor": "white",
             "startlinecolor": "#2a3f5f"
            },
            "type": "carpet"
           }
          ],
          "choropleth": [
           {
            "colorbar": {
             "outlinewidth": 0,
             "ticks": ""
            },
            "type": "choropleth"
           }
          ],
          "contour": [
           {
            "colorbar": {
             "outlinewidth": 0,
             "ticks": ""
            },
            "colorscale": [
             [
              0,
              "#0d0887"
             ],
             [
              0.1111111111111111,
              "#46039f"
             ],
             [
              0.2222222222222222,
              "#7201a8"
             ],
             [
              0.3333333333333333,
              "#9c179e"
             ],
             [
              0.4444444444444444,
              "#bd3786"
             ],
             [
              0.5555555555555556,
              "#d8576b"
             ],
             [
              0.6666666666666666,
              "#ed7953"
             ],
             [
              0.7777777777777778,
              "#fb9f3a"
             ],
             [
              0.8888888888888888,
              "#fdca26"
             ],
             [
              1,
              "#f0f921"
             ]
            ],
            "type": "contour"
           }
          ],
          "contourcarpet": [
           {
            "colorbar": {
             "outlinewidth": 0,
             "ticks": ""
            },
            "type": "contourcarpet"
           }
          ],
          "heatmap": [
           {
            "colorbar": {
             "outlinewidth": 0,
             "ticks": ""
            },
            "colorscale": [
             [
              0,
              "#0d0887"
             ],
             [
              0.1111111111111111,
              "#46039f"
             ],
             [
              0.2222222222222222,
              "#7201a8"
             ],
             [
              0.3333333333333333,
              "#9c179e"
             ],
             [
              0.4444444444444444,
              "#bd3786"
             ],
             [
              0.5555555555555556,
              "#d8576b"
             ],
             [
              0.6666666666666666,
              "#ed7953"
             ],
             [
              0.7777777777777778,
              "#fb9f3a"
             ],
             [
              0.8888888888888888,
              "#fdca26"
             ],
             [
              1,
              "#f0f921"
             ]
            ],
            "type": "heatmap"
           }
          ],
          "heatmapgl": [
           {
            "colorbar": {
             "outlinewidth": 0,
             "ticks": ""
            },
            "colorscale": [
             [
              0,
              "#0d0887"
             ],
             [
              0.1111111111111111,
              "#46039f"
             ],
             [
              0.2222222222222222,
              "#7201a8"
             ],
             [
              0.3333333333333333,
              "#9c179e"
             ],
             [
              0.4444444444444444,
              "#bd3786"
             ],
             [
              0.5555555555555556,
              "#d8576b"
             ],
             [
              0.6666666666666666,
              "#ed7953"
             ],
             [
              0.7777777777777778,
              "#fb9f3a"
             ],
             [
              0.8888888888888888,
              "#fdca26"
             ],
             [
              1,
              "#f0f921"
             ]
            ],
            "type": "heatmapgl"
           }
          ],
          "histogram": [
           {
            "marker": {
             "pattern": {
              "fillmode": "overlay",
              "size": 10,
              "solidity": 0.2
             }
            },
            "type": "histogram"
           }
          ],
          "histogram2d": [
           {
            "colorbar": {
             "outlinewidth": 0,
             "ticks": ""
            },
            "colorscale": [
             [
              0,
              "#0d0887"
             ],
             [
              0.1111111111111111,
              "#46039f"
             ],
             [
              0.2222222222222222,
              "#7201a8"
             ],
             [
              0.3333333333333333,
              "#9c179e"
             ],
             [
              0.4444444444444444,
              "#bd3786"
             ],
             [
              0.5555555555555556,
              "#d8576b"
             ],
             [
              0.6666666666666666,
              "#ed7953"
             ],
             [
              0.7777777777777778,
              "#fb9f3a"
             ],
             [
              0.8888888888888888,
              "#fdca26"
             ],
             [
              1,
              "#f0f921"
             ]
            ],
            "type": "histogram2d"
           }
          ],
          "histogram2dcontour": [
           {
            "colorbar": {
             "outlinewidth": 0,
             "ticks": ""
            },
            "colorscale": [
             [
              0,
              "#0d0887"
             ],
             [
              0.1111111111111111,
              "#46039f"
             ],
             [
              0.2222222222222222,
              "#7201a8"
             ],
             [
              0.3333333333333333,
              "#9c179e"
             ],
             [
              0.4444444444444444,
              "#bd3786"
             ],
             [
              0.5555555555555556,
              "#d8576b"
             ],
             [
              0.6666666666666666,
              "#ed7953"
             ],
             [
              0.7777777777777778,
              "#fb9f3a"
             ],
             [
              0.8888888888888888,
              "#fdca26"
             ],
             [
              1,
              "#f0f921"
             ]
            ],
            "type": "histogram2dcontour"
           }
          ],
          "mesh3d": [
           {
            "colorbar": {
             "outlinewidth": 0,
             "ticks": ""
            },
            "type": "mesh3d"
           }
          ],
          "parcoords": [
           {
            "line": {
             "colorbar": {
              "outlinewidth": 0,
              "ticks": ""
             }
            },
            "type": "parcoords"
           }
          ],
          "pie": [
           {
            "automargin": true,
            "type": "pie"
           }
          ],
          "scatter": [
           {
            "fillpattern": {
             "fillmode": "overlay",
             "size": 10,
             "solidity": 0.2
            },
            "type": "scatter"
           }
          ],
          "scatter3d": [
           {
            "line": {
             "colorbar": {
              "outlinewidth": 0,
              "ticks": ""
             }
            },
            "marker": {
             "colorbar": {
              "outlinewidth": 0,
              "ticks": ""
             }
            },
            "type": "scatter3d"
           }
          ],
          "scattercarpet": [
           {
            "marker": {
             "colorbar": {
              "outlinewidth": 0,
              "ticks": ""
             }
            },
            "type": "scattercarpet"
           }
          ],
          "scattergeo": [
           {
            "marker": {
             "colorbar": {
              "outlinewidth": 0,
              "ticks": ""
             }
            },
            "type": "scattergeo"
           }
          ],
          "scattergl": [
           {
            "marker": {
             "colorbar": {
              "outlinewidth": 0,
              "ticks": ""
             }
            },
            "type": "scattergl"
           }
          ],
          "scattermapbox": [
           {
            "marker": {
             "colorbar": {
              "outlinewidth": 0,
              "ticks": ""
             }
            },
            "type": "scattermapbox"
           }
          ],
          "scatterpolar": [
           {
            "marker": {
             "colorbar": {
              "outlinewidth": 0,
              "ticks": ""
             }
            },
            "type": "scatterpolar"
           }
          ],
          "scatterpolargl": [
           {
            "marker": {
             "colorbar": {
              "outlinewidth": 0,
              "ticks": ""
             }
            },
            "type": "scatterpolargl"
           }
          ],
          "scatterternary": [
           {
            "marker": {
             "colorbar": {
              "outlinewidth": 0,
              "ticks": ""
             }
            },
            "type": "scatterternary"
           }
          ],
          "surface": [
           {
            "colorbar": {
             "outlinewidth": 0,
             "ticks": ""
            },
            "colorscale": [
             [
              0,
              "#0d0887"
             ],
             [
              0.1111111111111111,
              "#46039f"
             ],
             [
              0.2222222222222222,
              "#7201a8"
             ],
             [
              0.3333333333333333,
              "#9c179e"
             ],
             [
              0.4444444444444444,
              "#bd3786"
             ],
             [
              0.5555555555555556,
              "#d8576b"
             ],
             [
              0.6666666666666666,
              "#ed7953"
             ],
             [
              0.7777777777777778,
              "#fb9f3a"
             ],
             [
              0.8888888888888888,
              "#fdca26"
             ],
             [
              1,
              "#f0f921"
             ]
            ],
            "type": "surface"
           }
          ],
          "table": [
           {
            "cells": {
             "fill": {
              "color": "#EBF0F8"
             },
             "line": {
              "color": "white"
             }
            },
            "header": {
             "fill": {
              "color": "#C8D4E3"
             },
             "line": {
              "color": "white"
             }
            },
            "type": "table"
           }
          ]
         },
         "layout": {
          "annotationdefaults": {
           "arrowcolor": "#2a3f5f",
           "arrowhead": 0,
           "arrowwidth": 1
          },
          "autotypenumbers": "strict",
          "coloraxis": {
           "colorbar": {
            "outlinewidth": 0,
            "ticks": ""
           }
          },
          "colorscale": {
           "diverging": [
            [
             0,
             "#8e0152"
            ],
            [
             0.1,
             "#c51b7d"
            ],
            [
             0.2,
             "#de77ae"
            ],
            [
             0.3,
             "#f1b6da"
            ],
            [
             0.4,
             "#fde0ef"
            ],
            [
             0.5,
             "#f7f7f7"
            ],
            [
             0.6,
             "#e6f5d0"
            ],
            [
             0.7,
             "#b8e186"
            ],
            [
             0.8,
             "#7fbc41"
            ],
            [
             0.9,
             "#4d9221"
            ],
            [
             1,
             "#276419"
            ]
           ],
           "sequential": [
            [
             0,
             "#0d0887"
            ],
            [
             0.1111111111111111,
             "#46039f"
            ],
            [
             0.2222222222222222,
             "#7201a8"
            ],
            [
             0.3333333333333333,
             "#9c179e"
            ],
            [
             0.4444444444444444,
             "#bd3786"
            ],
            [
             0.5555555555555556,
             "#d8576b"
            ],
            [
             0.6666666666666666,
             "#ed7953"
            ],
            [
             0.7777777777777778,
             "#fb9f3a"
            ],
            [
             0.8888888888888888,
             "#fdca26"
            ],
            [
             1,
             "#f0f921"
            ]
           ],
           "sequentialminus": [
            [
             0,
             "#0d0887"
            ],
            [
             0.1111111111111111,
             "#46039f"
            ],
            [
             0.2222222222222222,
             "#7201a8"
            ],
            [
             0.3333333333333333,
             "#9c179e"
            ],
            [
             0.4444444444444444,
             "#bd3786"
            ],
            [
             0.5555555555555556,
             "#d8576b"
            ],
            [
             0.6666666666666666,
             "#ed7953"
            ],
            [
             0.7777777777777778,
             "#fb9f3a"
            ],
            [
             0.8888888888888888,
             "#fdca26"
            ],
            [
             1,
             "#f0f921"
            ]
           ]
          },
          "colorway": [
           "#636efa",
           "#EF553B",
           "#00cc96",
           "#ab63fa",
           "#FFA15A",
           "#19d3f3",
           "#FF6692",
           "#B6E880",
           "#FF97FF",
           "#FECB52"
          ],
          "font": {
           "color": "#2a3f5f"
          },
          "geo": {
           "bgcolor": "white",
           "lakecolor": "white",
           "landcolor": "#E5ECF6",
           "showlakes": true,
           "showland": true,
           "subunitcolor": "white"
          },
          "hoverlabel": {
           "align": "left"
          },
          "hovermode": "closest",
          "mapbox": {
           "style": "light"
          },
          "paper_bgcolor": "white",
          "plot_bgcolor": "#E5ECF6",
          "polar": {
           "angularaxis": {
            "gridcolor": "white",
            "linecolor": "white",
            "ticks": ""
           },
           "bgcolor": "#E5ECF6",
           "radialaxis": {
            "gridcolor": "white",
            "linecolor": "white",
            "ticks": ""
           }
          },
          "scene": {
           "xaxis": {
            "backgroundcolor": "#E5ECF6",
            "gridcolor": "white",
            "gridwidth": 2,
            "linecolor": "white",
            "showbackground": true,
            "ticks": "",
            "zerolinecolor": "white"
           },
           "yaxis": {
            "backgroundcolor": "#E5ECF6",
            "gridcolor": "white",
            "gridwidth": 2,
            "linecolor": "white",
            "showbackground": true,
            "ticks": "",
            "zerolinecolor": "white"
           },
           "zaxis": {
            "backgroundcolor": "#E5ECF6",
            "gridcolor": "white",
            "gridwidth": 2,
            "linecolor": "white",
            "showbackground": true,
            "ticks": "",
            "zerolinecolor": "white"
           }
          },
          "shapedefaults": {
           "line": {
            "color": "#2a3f5f"
           }
          },
          "ternary": {
           "aaxis": {
            "gridcolor": "white",
            "linecolor": "white",
            "ticks": ""
           },
           "baxis": {
            "gridcolor": "white",
            "linecolor": "white",
            "ticks": ""
           },
           "bgcolor": "#E5ECF6",
           "caxis": {
            "gridcolor": "white",
            "linecolor": "white",
            "ticks": ""
           }
          },
          "title": {
           "x": 0.05
          },
          "xaxis": {
           "automargin": true,
           "gridcolor": "white",
           "linecolor": "white",
           "ticks": "",
           "title": {
            "standoff": 15
           },
           "zerolinecolor": "white",
           "zerolinewidth": 2
          },
          "yaxis": {
           "automargin": true,
           "gridcolor": "white",
           "linecolor": "white",
           "ticks": "",
           "title": {
            "standoff": 15
           },
           "zerolinecolor": "white",
           "zerolinewidth": 2
          }
         }
        },
        "xaxis": {
         "anchor": "y",
         "domain": [
          0,
          0.49
         ],
         "title": {
          "text": ""
         }
        },
        "xaxis2": {
         "anchor": "y2",
         "domain": [
          0.51,
          1
         ],
         "matches": "x",
         "title": {
          "text": ""
         }
        },
        "yaxis": {
         "anchor": "x",
         "domain": [
          0,
          1
         ],
         "title": {
          "text": "Value"
         }
        },
        "yaxis2": {
         "anchor": "x2",
         "domain": [
          0,
          1
         ],
         "matches": "y",
         "showticklabels": false
        }
       }
      }
     },
     "metadata": {},
     "output_type": "display_data"
    }
   ],
   "source": [
    "\n",
    "plot_metric(coat_df, 'coat', 'DCG', methods=methods, propensities=_propensities)"
   ]
  },
  {
   "attachments": {},
   "cell_type": "markdown",
   "metadata": {},
   "source": [
    "### MAP@K"
   ]
  },
  {
   "cell_type": "code",
   "execution_count": 8,
   "metadata": {},
   "outputs": [
    {
     "data": {
      "application/vnd.plotly.v1+json": {
       "config": {
        "plotlyServerURL": "https://plot.ly"
       },
       "data": [
        {
         "alignmentgroup": "True",
         "hovertemplate": "Method=bpr<br>Propensity=Original<br>Metric@K=%{x}<br>Value=%{y}<extra></extra>",
         "legendgroup": "bpr",
         "marker": {
          "color": "#636efa"
         },
         "name": "bpr",
         "notched": false,
         "offsetgroup": "bpr",
         "orientation": "v",
         "quartilemethod": "exclusive",
         "showlegend": true,
         "type": "box",
         "x": [
          "MAP@3",
          "MAP@3",
          "MAP@3",
          "MAP@3",
          "MAP@3",
          "MAP@3",
          "MAP@3",
          "MAP@3",
          "MAP@3",
          "MAP@3",
          "MAP@5",
          "MAP@5",
          "MAP@5",
          "MAP@5",
          "MAP@5",
          "MAP@5",
          "MAP@5",
          "MAP@5",
          "MAP@5",
          "MAP@5",
          "MAP@8",
          "MAP@8",
          "MAP@8",
          "MAP@8",
          "MAP@8",
          "MAP@8",
          "MAP@8",
          "MAP@8",
          "MAP@8",
          "MAP@8"
         ],
         "x0": " ",
         "xaxis": "x",
         "y": [
          0.0918803594234628,
          0.100322021528918,
          0.0833043696405765,
          0.0924646506112023,
          0.0956846378398102,
          0.0856045885787265,
          0.0858730158730158,
          0.0920815088487502,
          0.0882149698960043,
          0.0819649698960043,
          0.1072210819193578,
          0.1121646597336252,
          0.0978452837073526,
          0.1064231891990512,
          0.1100636745119503,
          0.0989565316548075,
          0.0972876299945265,
          0.1081525269111476,
          0.0992993979200875,
          0.103693623426382,
          0.1165676883780332,
          0.1256536932780775,
          0.1124076354679802,
          0.1207431125706987,
          0.124525394544791,
          0.1154432585294654,
          0.1103689563948184,
          0.1186909779237365,
          0.112839060911721,
          0.1143401751505199
         ],
         "y0": " ",
         "yaxis": "y"
        },
        {
         "alignmentgroup": "True",
         "hovertemplate": "Method=bpr<br>Propensity=BB Item-User<br>Metric@K=%{x}<br>Value=%{y}<extra></extra>",
         "legendgroup": "bpr",
         "marker": {
          "color": "#636efa"
         },
         "name": "bpr",
         "notched": false,
         "offsetgroup": "bpr",
         "orientation": "v",
         "quartilemethod": "exclusive",
         "showlegend": false,
         "type": "box",
         "x": [
          "MAP@3",
          "MAP@3",
          "MAP@3",
          "MAP@3",
          "MAP@3",
          "MAP@3",
          "MAP@3",
          "MAP@3",
          "MAP@3",
          "MAP@3",
          "MAP@5",
          "MAP@5",
          "MAP@5",
          "MAP@5",
          "MAP@5",
          "MAP@5",
          "MAP@5",
          "MAP@5",
          "MAP@5",
          "MAP@5",
          "MAP@8",
          "MAP@8",
          "MAP@8",
          "MAP@8",
          "MAP@8",
          "MAP@8",
          "MAP@8",
          "MAP@8",
          "MAP@8",
          "MAP@8"
         ],
         "x0": " ",
         "xaxis": "x2",
         "y": [
          0.0957532840722495,
          0.0860755336617405,
          0.0919027093596059,
          0.0914189928845101,
          0.0864461320926838,
          0.0841358784893267,
          0.0823576902025177,
          0.0883187374566685,
          0.0922379584017514,
          0.1054244207261448,
          0.1043248494800219,
          0.099207443897099,
          0.102148056923919,
          0.1016361521620142,
          0.1008121693121693,
          0.0963496168582375,
          0.09909934318555,
          0.1036728699142492,
          0.105045566502463,
          0.1150215061120233,
          0.1176795064769202,
          0.1135753251492167,
          0.1157706280788177,
          0.1153761745119503,
          0.1118514902129434,
          0.1075018277425912,
          0.1099304529282977,
          0.1156902285818541,
          0.119512759989053,
          0.1281215334792921
         ],
         "y0": " ",
         "yaxis": "y2"
        },
        {
         "alignmentgroup": "True",
         "hovertemplate": "Method=ubpr<br>Propensity=Original<br>Metric@K=%{x}<br>Value=%{y}<extra></extra>",
         "legendgroup": "ubpr",
         "marker": {
          "color": "#EF553B"
         },
         "name": "ubpr",
         "notched": false,
         "offsetgroup": "ubpr",
         "orientation": "v",
         "quartilemethod": "exclusive",
         "showlegend": true,
         "type": "box",
         "x": [
          "MAP@3",
          "MAP@3",
          "MAP@3",
          "MAP@3",
          "MAP@3",
          "MAP@3",
          "MAP@3",
          "MAP@3",
          "MAP@3",
          "MAP@3",
          "MAP@5",
          "MAP@5",
          "MAP@5",
          "MAP@5",
          "MAP@5",
          "MAP@5",
          "MAP@5",
          "MAP@5",
          "MAP@5",
          "MAP@5",
          "MAP@8",
          "MAP@8",
          "MAP@8",
          "MAP@8",
          "MAP@8",
          "MAP@8",
          "MAP@8",
          "MAP@8",
          "MAP@8",
          "MAP@8"
         ],
         "x0": " ",
         "xaxis": "x",
         "y": [
          0.0948433223864258,
          0.0916963145411421,
          0.1041632457580733,
          0.091337575259989,
          0.0991995073891625,
          0.0989620963327859,
          0.0878881590950556,
          0.0955696953110746,
          0.0987965243568691,
          0.0970826491516146,
          0.1109723590585659,
          0.1126941251596424,
          0.1177701833607006,
          0.1078627531472359,
          0.1102153119868637,
          0.113045566502463,
          0.104760901295384,
          0.1114778097062579,
          0.1112302955665024,
          0.1084496442255062,
          0.1238377039513123,
          0.1225008926942424,
          0.130660851122058,
          0.1246132320744389,
          0.1272367757447806,
          0.1238803822295201,
          0.117176795814111,
          0.1261398239372377,
          0.1229506216279615,
          0.1186057516876482
         ],
         "y0": " ",
         "yaxis": "y"
        },
        {
         "alignmentgroup": "True",
         "hovertemplate": "Method=ubpr<br>Propensity=BB Item-User<br>Metric@K=%{x}<br>Value=%{y}<extra></extra>",
         "legendgroup": "ubpr",
         "marker": {
          "color": "#EF553B"
         },
         "name": "ubpr",
         "notched": false,
         "offsetgroup": "ubpr",
         "orientation": "v",
         "quartilemethod": "exclusive",
         "showlegend": false,
         "type": "box",
         "x": [
          "MAP@3",
          "MAP@3",
          "MAP@3",
          "MAP@3",
          "MAP@3",
          "MAP@3",
          "MAP@3",
          "MAP@3",
          "MAP@3",
          "MAP@3",
          "MAP@5",
          "MAP@5",
          "MAP@5",
          "MAP@5",
          "MAP@5",
          "MAP@5",
          "MAP@5",
          "MAP@5",
          "MAP@5",
          "MAP@5",
          "MAP@8",
          "MAP@8",
          "MAP@8",
          "MAP@8",
          "MAP@8",
          "MAP@8",
          "MAP@8",
          "MAP@8",
          "MAP@8",
          "MAP@8"
         ],
         "x0": " ",
         "xaxis": "x2",
         "y": [
          0.0899277047983944,
          0.0918913063309615,
          0.0820377212187557,
          0.0881803046889253,
          0.0854353676336435,
          0.084534984491881,
          0.0879004743659916,
          0.0912064404305783,
          0.0979641032658274,
          0.0987002827951103,
          0.1048300036489691,
          0.1060509943440977,
          0.097554962598066,
          0.1057893632548804,
          0.0978613391716839,
          0.0951068235723408,
          0.1010243112570698,
          0.105920726144864,
          0.1112049352307972,
          0.1127580277321656,
          0.1197428274949826,
          0.1218216761800505,
          0.1122402390074803,
          0.1197659984491881,
          0.1123868021346469,
          0.1073447168139286,
          0.1159967159277504,
          0.1216545110381317,
          0.1243683634373289,
          0.1281042888419735
         ],
         "y0": " ",
         "yaxis": "y2"
        },
        {
         "alignmentgroup": "True",
         "hovertemplate": "Method=dubpr<br>Propensity=Original<br>Metric@K=%{x}<br>Value=%{y}<extra></extra>",
         "legendgroup": "dubpr",
         "marker": {
          "color": "#00cc96"
         },
         "name": "dubpr",
         "notched": false,
         "offsetgroup": "dubpr",
         "orientation": "v",
         "quartilemethod": "exclusive",
         "showlegend": true,
         "type": "box",
         "x": [
          "MAP@3",
          "MAP@3",
          "MAP@3",
          "MAP@3",
          "MAP@3",
          "MAP@3",
          "MAP@3",
          "MAP@3",
          "MAP@3",
          "MAP@3",
          "MAP@5",
          "MAP@5",
          "MAP@5",
          "MAP@5",
          "MAP@5",
          "MAP@5",
          "MAP@5",
          "MAP@5",
          "MAP@5",
          "MAP@5",
          "MAP@8",
          "MAP@8",
          "MAP@8",
          "MAP@8",
          "MAP@8",
          "MAP@8",
          "MAP@8",
          "MAP@8",
          "MAP@8",
          "MAP@8"
         ],
         "x0": " ",
         "xaxis": "x",
         "y": [
          0.0865957398284984,
          0.0916201423097974,
          0.0944889162561576,
          0.0940989326765188,
          0.0961163565042875,
          0.0883593322386425,
          0.0947475369458128,
          0.0983634373289545,
          0.0919937055281883,
          0.0912588943623426,
          0.09871273490239,
          0.1039464969896004,
          0.1072137383689107,
          0.1080960591133005,
          0.1096153986498814,
          0.1037491789819376,
          0.1100311986863711,
          0.1107281061850027,
          0.1086626984126984,
          0.1066860974274767,
          0.1118075087314619,
          0.1144781550551255,
          0.1188837037688638,
          0.1207809510777491,
          0.1189158717126697,
          0.1150495722235254,
          0.1232880176975004,
          0.1247834711470795,
          0.1174698275862069,
          0.1193381812495112
         ],
         "y0": " ",
         "yaxis": "y"
        },
        {
         "alignmentgroup": "True",
         "hovertemplate": "Method=dubpr<br>Propensity=BB Item-User<br>Metric@K=%{x}<br>Value=%{y}<extra></extra>",
         "legendgroup": "dubpr",
         "marker": {
          "color": "#00cc96"
         },
         "name": "dubpr",
         "notched": false,
         "offsetgroup": "dubpr",
         "orientation": "v",
         "quartilemethod": "exclusive",
         "showlegend": false,
         "type": "box",
         "x": [
          "MAP@3",
          "MAP@3",
          "MAP@3",
          "MAP@3",
          "MAP@3",
          "MAP@3",
          "MAP@3",
          "MAP@3",
          "MAP@3",
          "MAP@3",
          "MAP@5",
          "MAP@5",
          "MAP@5",
          "MAP@5",
          "MAP@5",
          "MAP@5",
          "MAP@5",
          "MAP@5",
          "MAP@5",
          "MAP@5",
          "MAP@8",
          "MAP@8",
          "MAP@8",
          "MAP@8",
          "MAP@8",
          "MAP@8",
          "MAP@8",
          "MAP@8",
          "MAP@8",
          "MAP@8"
         ],
         "x0": " ",
         "xaxis": "x2",
         "y": [
          0.0922587119138843,
          0.0945589308520343,
          0.0879880496259806,
          0.0960976555373107,
          0.0865991607370917,
          0.0904305783616128,
          0.1027232713008575,
          0.084732713008575,
          0.0910579729976281,
          0.0938631180441525,
          0.1080202061667578,
          0.1134838761174967,
          0.1005031016237912,
          0.1087116402116402,
          0.10202321656632,
          0.1039345466155811,
          0.1145864349571246,
          0.1018553183725597,
          0.1016400748038678,
          0.1092780058383506,
          0.1205640508118956,
          0.1260224509343967,
          0.1128397532384601,
          0.12481582805536,
          0.1146511585477102,
          0.1219334779888967,
          0.1242351076445904,
          0.1136473531941512,
          0.1177545416634086,
          0.1218160919540229
         ],
         "y0": " ",
         "yaxis": "y2"
        },
        {
         "alignmentgroup": "True",
         "hovertemplate": "Method=relmf<br>Propensity=Original<br>Metric@K=%{x}<br>Value=%{y}<extra></extra>",
         "legendgroup": "relmf",
         "marker": {
          "color": "#ab63fa"
         },
         "name": "relmf",
         "notched": false,
         "offsetgroup": "relmf",
         "orientation": "v",
         "quartilemethod": "exclusive",
         "showlegend": true,
         "type": "box",
         "x": [
          "MAP@3",
          "MAP@3",
          "MAP@3",
          "MAP@3",
          "MAP@3",
          "MAP@3",
          "MAP@3",
          "MAP@3",
          "MAP@3",
          "MAP@3",
          "MAP@5",
          "MAP@5",
          "MAP@5",
          "MAP@5",
          "MAP@5",
          "MAP@5",
          "MAP@5",
          "MAP@5",
          "MAP@5",
          "MAP@5",
          "MAP@8",
          "MAP@8",
          "MAP@8",
          "MAP@8",
          "MAP@8",
          "MAP@8",
          "MAP@8",
          "MAP@8",
          "MAP@8",
          "MAP@8"
         ],
         "x0": " ",
         "xaxis": "x",
         "y": [
          0.0928217934683452,
          0.0959396095602992,
          0.0889691662105455,
          0.0964424831235176,
          0.0950843824119686,
          0.0936774767378215,
          0.0888419084108739,
          0.0866217387338077,
          0.0990254971720488,
          0.0969884601350118,
          0.1104747765006385,
          0.1074675241744207,
          0.1074924283889801,
          0.1134961229702609,
          0.1107262817004196,
          0.1148836206896551,
          0.1051405537310709,
          0.104351076445904,
          0.1170329547527823,
          0.1104958492975734,
          0.1260384852216748,
          0.1216225678968905,
          0.1197792569134933,
          0.1268467807621132,
          0.1243869959861339,
          0.1250920110381317,
          0.1191299033023171,
          0.1216101874657909,
          0.1296470990695128,
          0.1222766602809706
         ],
         "y0": " ",
         "yaxis": "y"
        },
        {
         "alignmentgroup": "True",
         "hovertemplate": "Method=relmf<br>Propensity=BB Item-User<br>Metric@K=%{x}<br>Value=%{y}<extra></extra>",
         "legendgroup": "relmf",
         "marker": {
          "color": "#ab63fa"
         },
         "name": "relmf",
         "notched": false,
         "offsetgroup": "relmf",
         "orientation": "v",
         "quartilemethod": "exclusive",
         "showlegend": false,
         "type": "box",
         "x": [
          "MAP@3",
          "MAP@3",
          "MAP@3",
          "MAP@3",
          "MAP@3",
          "MAP@3",
          "MAP@3",
          "MAP@3",
          "MAP@3",
          "MAP@3",
          "MAP@5",
          "MAP@5",
          "MAP@5",
          "MAP@5",
          "MAP@5",
          "MAP@5",
          "MAP@5",
          "MAP@5",
          "MAP@5",
          "MAP@5",
          "MAP@8",
          "MAP@8",
          "MAP@8",
          "MAP@8",
          "MAP@8",
          "MAP@8",
          "MAP@8",
          "MAP@8",
          "MAP@8",
          "MAP@8"
         ],
         "x0": " ",
         "xaxis": "x2",
         "y": [
          0.0947566593687283,
          0.0924030742565225,
          0.0930113118044152,
          0.0978217934683451,
          0.0961619686188651,
          0.099577859879584,
          0.0984763273125342,
          0.0948113939062214,
          0.1035146414887794,
          0.0931283068783068,
          0.1150992975734355,
          0.1088758438241196,
          0.1119389253785805,
          0.1173639390622149,
          0.1122550173326035,
          0.120522509578544,
          0.1163622742200328,
          0.110297299762817,
          0.119588601532567,
          0.1062338761174968,
          0.1306969303046889,
          0.1221476008027732,
          0.1280761494252873,
          0.1301612648890973,
          0.1283121921182266,
          0.1315888638022258,
          0.131714627805145,
          0.1263984332238642,
          0.1326628580550994,
          0.121504584017515
         ],
         "y0": " ",
         "yaxis": "y2"
        },
        {
         "alignmentgroup": "True",
         "hovertemplate": "Method=dumf<br>Propensity=Original<br>Metric@K=%{x}<br>Value=%{y}<extra></extra>",
         "legendgroup": "dumf",
         "marker": {
          "color": "#FFA15A"
         },
         "name": "dumf",
         "notched": false,
         "offsetgroup": "dumf",
         "orientation": "v",
         "quartilemethod": "exclusive",
         "showlegend": true,
         "type": "box",
         "x": [
          "MAP@3",
          "MAP@3",
          "MAP@3",
          "MAP@3",
          "MAP@3",
          "MAP@3",
          "MAP@3",
          "MAP@3",
          "MAP@3",
          "MAP@3",
          "MAP@5",
          "MAP@5",
          "MAP@5",
          "MAP@5",
          "MAP@5",
          "MAP@5",
          "MAP@5",
          "MAP@5",
          "MAP@5",
          "MAP@5",
          "MAP@8",
          "MAP@8",
          "MAP@8",
          "MAP@8",
          "MAP@8",
          "MAP@8",
          "MAP@8",
          "MAP@8",
          "MAP@8",
          "MAP@8"
         ],
         "x0": " ",
         "xaxis": "x",
         "y": [
          0.0917154716292647,
          0.0887125980660463,
          0.087966839992702,
          0.0935654989965334,
          0.101947409231892,
          0.0980357142857142,
          0.0906378854223681,
          0.0998018153621601,
          0.1074131089217296,
          0.0955133643495712,
          0.1081744891443167,
          0.1027473544973544,
          0.1075916347381864,
          0.1151679894179894,
          0.1219398832329866,
          0.1170967432950191,
          0.1074628033205619,
          0.1192173189199051,
          0.1207259852216748,
          0.1060804825761722,
          0.1241118099538666,
          0.1180896164021164,
          0.1211637474913336,
          0.1274867790027888,
          0.131307528279511,
          0.1271822660098522,
          0.1197200654208043,
          0.1328347016967706,
          0.136146642948367,
          0.1206278963692756
         ],
         "y0": " ",
         "yaxis": "y"
        },
        {
         "alignmentgroup": "True",
         "hovertemplate": "Method=dumf<br>Propensity=BB Item-User<br>Metric@K=%{x}<br>Value=%{y}<extra></extra>",
         "legendgroup": "dumf",
         "marker": {
          "color": "#FFA15A"
         },
         "name": "dumf",
         "notched": false,
         "offsetgroup": "dumf",
         "orientation": "v",
         "quartilemethod": "exclusive",
         "showlegend": false,
         "type": "box",
         "x": [
          "MAP@3",
          "MAP@3",
          "MAP@3",
          "MAP@3",
          "MAP@3",
          "MAP@3",
          "MAP@3",
          "MAP@3",
          "MAP@3",
          "MAP@3",
          "MAP@5",
          "MAP@5",
          "MAP@5",
          "MAP@5",
          "MAP@5",
          "MAP@5",
          "MAP@5",
          "MAP@5",
          "MAP@5",
          "MAP@5",
          "MAP@8",
          "MAP@8",
          "MAP@8",
          "MAP@8",
          "MAP@8",
          "MAP@8",
          "MAP@8",
          "MAP@8",
          "MAP@8",
          "MAP@8"
         ],
         "x0": " ",
         "xaxis": "x2",
         "y": [
          0.0917154716292647,
          0.0879463145411421,
          0.087966839992702,
          0.0935654989965334,
          0.101947409231892,
          0.0980357142857142,
          0.0906378854223681,
          0.0998018153621601,
          0.1074131089217296,
          0.0955133643495712,
          0.1081744891443167,
          0.1025557836161284,
          0.1075916347381864,
          0.1151679894179894,
          0.1219398832329866,
          0.1170967432950191,
          0.1074628033205619,
          0.1192173189199051,
          0.1207259852216748,
          0.1060804825761722,
          0.1241118099538666,
          0.1178364691662105,
          0.1211637474913336,
          0.1270557445200302,
          0.131307528279511,
          0.1271822660098522,
          0.1197200654208043,
          0.1328347016967706,
          0.1362082193030468,
          0.1206278963692756
         ],
         "y0": " ",
         "yaxis": "y2"
        }
       ],
       "layout": {
        "annotations": [
         {
          "font": {},
          "showarrow": false,
          "text": "Propensity=Original",
          "x": 0.245,
          "xanchor": "center",
          "xref": "paper",
          "y": 1,
          "yanchor": "bottom",
          "yref": "paper"
         },
         {
          "font": {},
          "showarrow": false,
          "text": "Propensity=BB Item-User",
          "x": 0.755,
          "xanchor": "center",
          "xref": "paper",
          "y": 1,
          "yanchor": "bottom",
          "yref": "paper"
         }
        ],
        "boxmode": "group",
        "legend": {
         "title": {
          "text": "Method"
         },
         "tracegroupgap": 0
        },
        "margin": {
         "t": 60
        },
        "template": {
         "data": {
          "bar": [
           {
            "error_x": {
             "color": "#2a3f5f"
            },
            "error_y": {
             "color": "#2a3f5f"
            },
            "marker": {
             "line": {
              "color": "#E5ECF6",
              "width": 0.5
             },
             "pattern": {
              "fillmode": "overlay",
              "size": 10,
              "solidity": 0.2
             }
            },
            "type": "bar"
           }
          ],
          "barpolar": [
           {
            "marker": {
             "line": {
              "color": "#E5ECF6",
              "width": 0.5
             },
             "pattern": {
              "fillmode": "overlay",
              "size": 10,
              "solidity": 0.2
             }
            },
            "type": "barpolar"
           }
          ],
          "carpet": [
           {
            "aaxis": {
             "endlinecolor": "#2a3f5f",
             "gridcolor": "white",
             "linecolor": "white",
             "minorgridcolor": "white",
             "startlinecolor": "#2a3f5f"
            },
            "baxis": {
             "endlinecolor": "#2a3f5f",
             "gridcolor": "white",
             "linecolor": "white",
             "minorgridcolor": "white",
             "startlinecolor": "#2a3f5f"
            },
            "type": "carpet"
           }
          ],
          "choropleth": [
           {
            "colorbar": {
             "outlinewidth": 0,
             "ticks": ""
            },
            "type": "choropleth"
           }
          ],
          "contour": [
           {
            "colorbar": {
             "outlinewidth": 0,
             "ticks": ""
            },
            "colorscale": [
             [
              0,
              "#0d0887"
             ],
             [
              0.1111111111111111,
              "#46039f"
             ],
             [
              0.2222222222222222,
              "#7201a8"
             ],
             [
              0.3333333333333333,
              "#9c179e"
             ],
             [
              0.4444444444444444,
              "#bd3786"
             ],
             [
              0.5555555555555556,
              "#d8576b"
             ],
             [
              0.6666666666666666,
              "#ed7953"
             ],
             [
              0.7777777777777778,
              "#fb9f3a"
             ],
             [
              0.8888888888888888,
              "#fdca26"
             ],
             [
              1,
              "#f0f921"
             ]
            ],
            "type": "contour"
           }
          ],
          "contourcarpet": [
           {
            "colorbar": {
             "outlinewidth": 0,
             "ticks": ""
            },
            "type": "contourcarpet"
           }
          ],
          "heatmap": [
           {
            "colorbar": {
             "outlinewidth": 0,
             "ticks": ""
            },
            "colorscale": [
             [
              0,
              "#0d0887"
             ],
             [
              0.1111111111111111,
              "#46039f"
             ],
             [
              0.2222222222222222,
              "#7201a8"
             ],
             [
              0.3333333333333333,
              "#9c179e"
             ],
             [
              0.4444444444444444,
              "#bd3786"
             ],
             [
              0.5555555555555556,
              "#d8576b"
             ],
             [
              0.6666666666666666,
              "#ed7953"
             ],
             [
              0.7777777777777778,
              "#fb9f3a"
             ],
             [
              0.8888888888888888,
              "#fdca26"
             ],
             [
              1,
              "#f0f921"
             ]
            ],
            "type": "heatmap"
           }
          ],
          "heatmapgl": [
           {
            "colorbar": {
             "outlinewidth": 0,
             "ticks": ""
            },
            "colorscale": [
             [
              0,
              "#0d0887"
             ],
             [
              0.1111111111111111,
              "#46039f"
             ],
             [
              0.2222222222222222,
              "#7201a8"
             ],
             [
              0.3333333333333333,
              "#9c179e"
             ],
             [
              0.4444444444444444,
              "#bd3786"
             ],
             [
              0.5555555555555556,
              "#d8576b"
             ],
             [
              0.6666666666666666,
              "#ed7953"
             ],
             [
              0.7777777777777778,
              "#fb9f3a"
             ],
             [
              0.8888888888888888,
              "#fdca26"
             ],
             [
              1,
              "#f0f921"
             ]
            ],
            "type": "heatmapgl"
           }
          ],
          "histogram": [
           {
            "marker": {
             "pattern": {
              "fillmode": "overlay",
              "size": 10,
              "solidity": 0.2
             }
            },
            "type": "histogram"
           }
          ],
          "histogram2d": [
           {
            "colorbar": {
             "outlinewidth": 0,
             "ticks": ""
            },
            "colorscale": [
             [
              0,
              "#0d0887"
             ],
             [
              0.1111111111111111,
              "#46039f"
             ],
             [
              0.2222222222222222,
              "#7201a8"
             ],
             [
              0.3333333333333333,
              "#9c179e"
             ],
             [
              0.4444444444444444,
              "#bd3786"
             ],
             [
              0.5555555555555556,
              "#d8576b"
             ],
             [
              0.6666666666666666,
              "#ed7953"
             ],
             [
              0.7777777777777778,
              "#fb9f3a"
             ],
             [
              0.8888888888888888,
              "#fdca26"
             ],
             [
              1,
              "#f0f921"
             ]
            ],
            "type": "histogram2d"
           }
          ],
          "histogram2dcontour": [
           {
            "colorbar": {
             "outlinewidth": 0,
             "ticks": ""
            },
            "colorscale": [
             [
              0,
              "#0d0887"
             ],
             [
              0.1111111111111111,
              "#46039f"
             ],
             [
              0.2222222222222222,
              "#7201a8"
             ],
             [
              0.3333333333333333,
              "#9c179e"
             ],
             [
              0.4444444444444444,
              "#bd3786"
             ],
             [
              0.5555555555555556,
              "#d8576b"
             ],
             [
              0.6666666666666666,
              "#ed7953"
             ],
             [
              0.7777777777777778,
              "#fb9f3a"
             ],
             [
              0.8888888888888888,
              "#fdca26"
             ],
             [
              1,
              "#f0f921"
             ]
            ],
            "type": "histogram2dcontour"
           }
          ],
          "mesh3d": [
           {
            "colorbar": {
             "outlinewidth": 0,
             "ticks": ""
            },
            "type": "mesh3d"
           }
          ],
          "parcoords": [
           {
            "line": {
             "colorbar": {
              "outlinewidth": 0,
              "ticks": ""
             }
            },
            "type": "parcoords"
           }
          ],
          "pie": [
           {
            "automargin": true,
            "type": "pie"
           }
          ],
          "scatter": [
           {
            "fillpattern": {
             "fillmode": "overlay",
             "size": 10,
             "solidity": 0.2
            },
            "type": "scatter"
           }
          ],
          "scatter3d": [
           {
            "line": {
             "colorbar": {
              "outlinewidth": 0,
              "ticks": ""
             }
            },
            "marker": {
             "colorbar": {
              "outlinewidth": 0,
              "ticks": ""
             }
            },
            "type": "scatter3d"
           }
          ],
          "scattercarpet": [
           {
            "marker": {
             "colorbar": {
              "outlinewidth": 0,
              "ticks": ""
             }
            },
            "type": "scattercarpet"
           }
          ],
          "scattergeo": [
           {
            "marker": {
             "colorbar": {
              "outlinewidth": 0,
              "ticks": ""
             }
            },
            "type": "scattergeo"
           }
          ],
          "scattergl": [
           {
            "marker": {
             "colorbar": {
              "outlinewidth": 0,
              "ticks": ""
             }
            },
            "type": "scattergl"
           }
          ],
          "scattermapbox": [
           {
            "marker": {
             "colorbar": {
              "outlinewidth": 0,
              "ticks": ""
             }
            },
            "type": "scattermapbox"
           }
          ],
          "scatterpolar": [
           {
            "marker": {
             "colorbar": {
              "outlinewidth": 0,
              "ticks": ""
             }
            },
            "type": "scatterpolar"
           }
          ],
          "scatterpolargl": [
           {
            "marker": {
             "colorbar": {
              "outlinewidth": 0,
              "ticks": ""
             }
            },
            "type": "scatterpolargl"
           }
          ],
          "scatterternary": [
           {
            "marker": {
             "colorbar": {
              "outlinewidth": 0,
              "ticks": ""
             }
            },
            "type": "scatterternary"
           }
          ],
          "surface": [
           {
            "colorbar": {
             "outlinewidth": 0,
             "ticks": ""
            },
            "colorscale": [
             [
              0,
              "#0d0887"
             ],
             [
              0.1111111111111111,
              "#46039f"
             ],
             [
              0.2222222222222222,
              "#7201a8"
             ],
             [
              0.3333333333333333,
              "#9c179e"
             ],
             [
              0.4444444444444444,
              "#bd3786"
             ],
             [
              0.5555555555555556,
              "#d8576b"
             ],
             [
              0.6666666666666666,
              "#ed7953"
             ],
             [
              0.7777777777777778,
              "#fb9f3a"
             ],
             [
              0.8888888888888888,
              "#fdca26"
             ],
             [
              1,
              "#f0f921"
             ]
            ],
            "type": "surface"
           }
          ],
          "table": [
           {
            "cells": {
             "fill": {
              "color": "#EBF0F8"
             },
             "line": {
              "color": "white"
             }
            },
            "header": {
             "fill": {
              "color": "#C8D4E3"
             },
             "line": {
              "color": "white"
             }
            },
            "type": "table"
           }
          ]
         },
         "layout": {
          "annotationdefaults": {
           "arrowcolor": "#2a3f5f",
           "arrowhead": 0,
           "arrowwidth": 1
          },
          "autotypenumbers": "strict",
          "coloraxis": {
           "colorbar": {
            "outlinewidth": 0,
            "ticks": ""
           }
          },
          "colorscale": {
           "diverging": [
            [
             0,
             "#8e0152"
            ],
            [
             0.1,
             "#c51b7d"
            ],
            [
             0.2,
             "#de77ae"
            ],
            [
             0.3,
             "#f1b6da"
            ],
            [
             0.4,
             "#fde0ef"
            ],
            [
             0.5,
             "#f7f7f7"
            ],
            [
             0.6,
             "#e6f5d0"
            ],
            [
             0.7,
             "#b8e186"
            ],
            [
             0.8,
             "#7fbc41"
            ],
            [
             0.9,
             "#4d9221"
            ],
            [
             1,
             "#276419"
            ]
           ],
           "sequential": [
            [
             0,
             "#0d0887"
            ],
            [
             0.1111111111111111,
             "#46039f"
            ],
            [
             0.2222222222222222,
             "#7201a8"
            ],
            [
             0.3333333333333333,
             "#9c179e"
            ],
            [
             0.4444444444444444,
             "#bd3786"
            ],
            [
             0.5555555555555556,
             "#d8576b"
            ],
            [
             0.6666666666666666,
             "#ed7953"
            ],
            [
             0.7777777777777778,
             "#fb9f3a"
            ],
            [
             0.8888888888888888,
             "#fdca26"
            ],
            [
             1,
             "#f0f921"
            ]
           ],
           "sequentialminus": [
            [
             0,
             "#0d0887"
            ],
            [
             0.1111111111111111,
             "#46039f"
            ],
            [
             0.2222222222222222,
             "#7201a8"
            ],
            [
             0.3333333333333333,
             "#9c179e"
            ],
            [
             0.4444444444444444,
             "#bd3786"
            ],
            [
             0.5555555555555556,
             "#d8576b"
            ],
            [
             0.6666666666666666,
             "#ed7953"
            ],
            [
             0.7777777777777778,
             "#fb9f3a"
            ],
            [
             0.8888888888888888,
             "#fdca26"
            ],
            [
             1,
             "#f0f921"
            ]
           ]
          },
          "colorway": [
           "#636efa",
           "#EF553B",
           "#00cc96",
           "#ab63fa",
           "#FFA15A",
           "#19d3f3",
           "#FF6692",
           "#B6E880",
           "#FF97FF",
           "#FECB52"
          ],
          "font": {
           "color": "#2a3f5f"
          },
          "geo": {
           "bgcolor": "white",
           "lakecolor": "white",
           "landcolor": "#E5ECF6",
           "showlakes": true,
           "showland": true,
           "subunitcolor": "white"
          },
          "hoverlabel": {
           "align": "left"
          },
          "hovermode": "closest",
          "mapbox": {
           "style": "light"
          },
          "paper_bgcolor": "white",
          "plot_bgcolor": "#E5ECF6",
          "polar": {
           "angularaxis": {
            "gridcolor": "white",
            "linecolor": "white",
            "ticks": ""
           },
           "bgcolor": "#E5ECF6",
           "radialaxis": {
            "gridcolor": "white",
            "linecolor": "white",
            "ticks": ""
           }
          },
          "scene": {
           "xaxis": {
            "backgroundcolor": "#E5ECF6",
            "gridcolor": "white",
            "gridwidth": 2,
            "linecolor": "white",
            "showbackground": true,
            "ticks": "",
            "zerolinecolor": "white"
           },
           "yaxis": {
            "backgroundcolor": "#E5ECF6",
            "gridcolor": "white",
            "gridwidth": 2,
            "linecolor": "white",
            "showbackground": true,
            "ticks": "",
            "zerolinecolor": "white"
           },
           "zaxis": {
            "backgroundcolor": "#E5ECF6",
            "gridcolor": "white",
            "gridwidth": 2,
            "linecolor": "white",
            "showbackground": true,
            "ticks": "",
            "zerolinecolor": "white"
           }
          },
          "shapedefaults": {
           "line": {
            "color": "#2a3f5f"
           }
          },
          "ternary": {
           "aaxis": {
            "gridcolor": "white",
            "linecolor": "white",
            "ticks": ""
           },
           "baxis": {
            "gridcolor": "white",
            "linecolor": "white",
            "ticks": ""
           },
           "bgcolor": "#E5ECF6",
           "caxis": {
            "gridcolor": "white",
            "linecolor": "white",
            "ticks": ""
           }
          },
          "title": {
           "x": 0.05
          },
          "xaxis": {
           "automargin": true,
           "gridcolor": "white",
           "linecolor": "white",
           "ticks": "",
           "title": {
            "standoff": 15
           },
           "zerolinecolor": "white",
           "zerolinewidth": 2
          },
          "yaxis": {
           "automargin": true,
           "gridcolor": "white",
           "linecolor": "white",
           "ticks": "",
           "title": {
            "standoff": 15
           },
           "zerolinecolor": "white",
           "zerolinewidth": 2
          }
         }
        },
        "xaxis": {
         "anchor": "y",
         "domain": [
          0,
          0.49
         ],
         "title": {
          "text": ""
         }
        },
        "xaxis2": {
         "anchor": "y2",
         "domain": [
          0.51,
          1
         ],
         "matches": "x",
         "title": {
          "text": ""
         }
        },
        "yaxis": {
         "anchor": "x",
         "domain": [
          0,
          1
         ],
         "title": {
          "text": "Value"
         }
        },
        "yaxis2": {
         "anchor": "x2",
         "domain": [
          0,
          1
         ],
         "matches": "y",
         "showticklabels": false
        }
       }
      }
     },
     "metadata": {},
     "output_type": "display_data"
    }
   ],
   "source": [
    "plot_metric(coat_df, 'coat', 'MAP', methods=methods, propensities=_propensities)\n"
   ]
  },
  {
   "attachments": {},
   "cell_type": "markdown",
   "metadata": {},
   "source": [
    "### Recall@K"
   ]
  },
  {
   "cell_type": "code",
   "execution_count": 9,
   "metadata": {},
   "outputs": [
    {
     "data": {
      "application/vnd.plotly.v1+json": {
       "config": {
        "plotlyServerURL": "https://plot.ly"
       },
       "data": [
        {
         "alignmentgroup": "True",
         "hovertemplate": "Method=bpr<br>Propensity=Original<br>Metric@K=%{x}<br>Value=%{y}<extra></extra>",
         "legendgroup": "bpr",
         "marker": {
          "color": "#636efa"
         },
         "name": "bpr",
         "notched": false,
         "offsetgroup": "bpr",
         "orientation": "v",
         "quartilemethod": "exclusive",
         "showlegend": true,
         "type": "box",
         "x": [
          "Recall@3",
          "Recall@3",
          "Recall@3",
          "Recall@3",
          "Recall@3",
          "Recall@3",
          "Recall@3",
          "Recall@3",
          "Recall@3",
          "Recall@3",
          "Recall@5",
          "Recall@5",
          "Recall@5",
          "Recall@5",
          "Recall@5",
          "Recall@5",
          "Recall@5",
          "Recall@5",
          "Recall@5",
          "Recall@5",
          "Recall@8",
          "Recall@8",
          "Recall@8",
          "Recall@8",
          "Recall@8",
          "Recall@8",
          "Recall@8",
          "Recall@8",
          "Recall@8",
          "Recall@8"
         ],
         "x0": " ",
         "xaxis": "x",
         "y": [
          0.1193418171866447,
          0.1330391351943076,
          0.1140736179529283,
          0.121755610290093,
          0.127579365079365,
          0.1124644225506294,
          0.1201368363437328,
          0.1203188286808976,
          0.1178092501368363,
          0.0986521620142309,
          0.1684838533114395,
          0.1723152709359606,
          0.1584072249589491,
          0.1684263820470717,
          0.177051176792556,
          0.1550684181718664,
          0.1577599890530925,
          0.1756486042692939,
          0.1499781061850027,
          0.1705856595511768,
          0.2074671592775041,
          0.2282813355227148,
          0.2330569239189928,
          0.2294499178981938,
          0.2451737821565407,
          0.2287739463601532,
          0.2155883962780514,
          0.2189367816091954,
          0.2202353585112205,
          0.2176204159824849
         ],
         "y0": " ",
         "yaxis": "y"
        },
        {
         "alignmentgroup": "True",
         "hovertemplate": "Method=bpr<br>Propensity=BB Item-User<br>Metric@K=%{x}<br>Value=%{y}<extra></extra>",
         "legendgroup": "bpr",
         "marker": {
          "color": "#636efa"
         },
         "name": "bpr",
         "notched": false,
         "offsetgroup": "bpr",
         "orientation": "v",
         "quartilemethod": "exclusive",
         "showlegend": false,
         "type": "box",
         "x": [
          "Recall@3",
          "Recall@3",
          "Recall@3",
          "Recall@3",
          "Recall@3",
          "Recall@3",
          "Recall@3",
          "Recall@3",
          "Recall@3",
          "Recall@3",
          "Recall@5",
          "Recall@5",
          "Recall@5",
          "Recall@5",
          "Recall@5",
          "Recall@5",
          "Recall@5",
          "Recall@5",
          "Recall@5",
          "Recall@5",
          "Recall@8",
          "Recall@8",
          "Recall@8",
          "Recall@8",
          "Recall@8",
          "Recall@8",
          "Recall@8",
          "Recall@8",
          "Recall@8",
          "Recall@8"
         ],
         "x0": " ",
         "xaxis": "x2",
         "y": [
          0.1295812807881773,
          0.1097824302134646,
          0.1304529282977559,
          0.114475916803503,
          0.1106253420908593,
          0.1159126984126984,
          0.1108839627805145,
          0.1140736179529282,
          0.1169471811713191,
          0.1249452654625068,
          0.1527558839627805,
          0.1523576902025177,
          0.1576888341543514,
          0.1499685276409414,
          0.1585700602079912,
          0.1568746579091406,
          0.1692925561029009,
          0.1657827038861521,
          0.1574493705528188,
          0.1572235905856595,
          0.208544061302682,
          0.2186453201970443,
          0.2167775041050903,
          0.214459496442255,
          0.2011644772851669,
          0.2075779967159277,
          0.2161590038314176,
          0.2182676518883415,
          0.2234250136836343,
          0.214143404488232
         ],
         "y0": " ",
         "yaxis": "y2"
        },
        {
         "alignmentgroup": "True",
         "hovertemplate": "Method=ubpr<br>Propensity=Original<br>Metric@K=%{x}<br>Value=%{y}<extra></extra>",
         "legendgroup": "ubpr",
         "marker": {
          "color": "#EF553B"
         },
         "name": "ubpr",
         "notched": false,
         "offsetgroup": "ubpr",
         "orientation": "v",
         "quartilemethod": "exclusive",
         "showlegend": true,
         "type": "box",
         "x": [
          "Recall@3",
          "Recall@3",
          "Recall@3",
          "Recall@3",
          "Recall@3",
          "Recall@3",
          "Recall@3",
          "Recall@3",
          "Recall@3",
          "Recall@3",
          "Recall@5",
          "Recall@5",
          "Recall@5",
          "Recall@5",
          "Recall@5",
          "Recall@5",
          "Recall@5",
          "Recall@5",
          "Recall@5",
          "Recall@5",
          "Recall@8",
          "Recall@8",
          "Recall@8",
          "Recall@8",
          "Recall@8",
          "Recall@8",
          "Recall@8",
          "Recall@8",
          "Recall@8",
          "Recall@8"
         ],
         "x0": " ",
         "xaxis": "x",
         "y": [
          0.1173111658456486,
          0.1165544608648057,
          0.1275314723590585,
          0.1149931581828133,
          0.1231390257252326,
          0.1245812807881773,
          0.1133894362342638,
          0.1243897099069512,
          0.1230925013683634,
          0.1242788724685276,
          0.1656910235358511,
          0.185715654077723,
          0.1673152709359606,
          0.1620224411603721,
          0.1602367268746579,
          0.1762328954570333,
          0.1661617405582922,
          0.1747482211275314,
          0.1602750410509031,
          0.158511220580186,
          0.2165804597701149,
          0.2300766283524904,
          0.2211070060207991,
          0.2427449370552818,
          0.2309209085933223,
          0.2186261631089217,
          0.2156376573617952,
          0.2406472359058565,
          0.211139846743295,
          0.2020826491516146
         ],
         "y0": " ",
         "yaxis": "y"
        },
        {
         "alignmentgroup": "True",
         "hovertemplate": "Method=ubpr<br>Propensity=BB Item-User<br>Metric@K=%{x}<br>Value=%{y}<extra></extra>",
         "legendgroup": "ubpr",
         "marker": {
          "color": "#EF553B"
         },
         "name": "ubpr",
         "notched": false,
         "offsetgroup": "ubpr",
         "orientation": "v",
         "quartilemethod": "exclusive",
         "showlegend": false,
         "type": "box",
         "x": [
          "Recall@3",
          "Recall@3",
          "Recall@3",
          "Recall@3",
          "Recall@3",
          "Recall@3",
          "Recall@3",
          "Recall@3",
          "Recall@3",
          "Recall@3",
          "Recall@5",
          "Recall@5",
          "Recall@5",
          "Recall@5",
          "Recall@5",
          "Recall@5",
          "Recall@5",
          "Recall@5",
          "Recall@5",
          "Recall@5",
          "Recall@8",
          "Recall@8",
          "Recall@8",
          "Recall@8",
          "Recall@8",
          "Recall@8",
          "Recall@8",
          "Recall@8",
          "Recall@8",
          "Recall@8"
         ],
         "x0": " ",
         "xaxis": "x2",
         "y": [
          0.1093992884510125,
          0.1116981390257252,
          0.1047482211275314,
          0.1059756431308155,
          0.1056061850027367,
          0.1058360700602079,
          0.1104337712096332,
          0.1096291735084838,
          0.1307498631636562,
          0.1213533114395183,
          0.1611904761904762,
          0.1556527093596059,
          0.152707991242474,
          0.1623248494800219,
          0.1462328954570333,
          0.1361617405582922,
          0.1533388067870826,
          0.1589573070607553,
          0.168535851122058,
          0.1643404488232074,
          0.2245689655172413,
          0.2210727969348658,
          0.2195799124247399,
          0.2190298303229337,
          0.2012411056376573,
          0.1922523262178434,
          0.2166187739463601,
          0.2278215654077723,
          0.2164039408866994,
          0.2190708812260536
         ],
         "y0": " ",
         "yaxis": "y2"
        },
        {
         "alignmentgroup": "True",
         "hovertemplate": "Method=dubpr<br>Propensity=Original<br>Metric@K=%{x}<br>Value=%{y}<extra></extra>",
         "legendgroup": "dubpr",
         "marker": {
          "color": "#00cc96"
         },
         "name": "dubpr",
         "notched": false,
         "offsetgroup": "dubpr",
         "orientation": "v",
         "quartilemethod": "exclusive",
         "showlegend": true,
         "type": "box",
         "x": [
          "Recall@3",
          "Recall@3",
          "Recall@3",
          "Recall@3",
          "Recall@3",
          "Recall@3",
          "Recall@3",
          "Recall@3",
          "Recall@3",
          "Recall@3",
          "Recall@5",
          "Recall@5",
          "Recall@5",
          "Recall@5",
          "Recall@5",
          "Recall@5",
          "Recall@5",
          "Recall@5",
          "Recall@5",
          "Recall@5",
          "Recall@8",
          "Recall@8",
          "Recall@8",
          "Recall@8",
          "Recall@8",
          "Recall@8",
          "Recall@8",
          "Recall@8",
          "Recall@8",
          "Recall@8"
         ],
         "x0": " ",
         "xaxis": "x",
         "y": [
          0.1091694033935413,
          0.1216215106732348,
          0.131027640941434,
          0.1221483305966064,
          0.1275259989053092,
          0.1106294471811713,
          0.121947181171319,
          0.1256253420908593,
          0.1103571428571428,
          0.1116885604816639,
          0.1498344280240832,
          0.164039408866995,
          0.1720183360700602,
          0.170711548987411,
          0.1695279146141215,
          0.1551888341543514,
          0.1682443897099069,
          0.169575807334428,
          0.1656143951833607,
          0.160491242474001,
          0.2035782703886152,
          0.2064764641488779,
          0.2184250136836343,
          0.2206622879036672,
          0.2129652435686918,
          0.2104611384783798,
          0.2228653530377668,
          0.2269882320744389,
          0.2075725232621784,
          0.2180514504652435
         ],
         "y0": " ",
         "yaxis": "y"
        },
        {
         "alignmentgroup": "True",
         "hovertemplate": "Method=dubpr<br>Propensity=BB Item-User<br>Metric@K=%{x}<br>Value=%{y}<extra></extra>",
         "legendgroup": "dubpr",
         "marker": {
          "color": "#00cc96"
         },
         "name": "dubpr",
         "notched": false,
         "offsetgroup": "dubpr",
         "orientation": "v",
         "quartilemethod": "exclusive",
         "showlegend": false,
         "type": "box",
         "x": [
          "Recall@3",
          "Recall@3",
          "Recall@3",
          "Recall@3",
          "Recall@3",
          "Recall@3",
          "Recall@3",
          "Recall@3",
          "Recall@3",
          "Recall@3",
          "Recall@5",
          "Recall@5",
          "Recall@5",
          "Recall@5",
          "Recall@5",
          "Recall@5",
          "Recall@5",
          "Recall@5",
          "Recall@5",
          "Recall@5",
          "Recall@8",
          "Recall@8",
          "Recall@8",
          "Recall@8",
          "Recall@8",
          "Recall@8",
          "Recall@8",
          "Recall@8",
          "Recall@8",
          "Recall@8"
         ],
         "x0": " ",
         "xaxis": "x2",
         "y": [
          0.1101464148877942,
          0.1164969896004378,
          0.1142268746579091,
          0.1268418171866447,
          0.1052613574165298,
          0.104255610290093,
          0.1306923918992884,
          0.1156964969896004,
          0.1146866447728516,
          0.1212096332785988,
          0.1595238095238095,
          0.175719759168035,
          0.1542214012041598,
          0.1667460317460317,
          0.1579666119321292,
          0.141031746031746,
          0.1655719759168035,
          0.1739627805145046,
          0.1456486042692939,
          0.1695087575259989,
          0.2162848932676518,
          0.2346606458675424,
          0.2054802955665024,
          0.2299767378215654,
          0.2057991242474001,
          0.2216297208538587,
          0.199871373836891,
          0.2222085385878489,
          0.2203598795840175,
          0.222807881773399
         ],
         "y0": " ",
         "yaxis": "y2"
        },
        {
         "alignmentgroup": "True",
         "hovertemplate": "Method=relmf<br>Propensity=Original<br>Metric@K=%{x}<br>Value=%{y}<extra></extra>",
         "legendgroup": "relmf",
         "marker": {
          "color": "#ab63fa"
         },
         "name": "relmf",
         "notched": false,
         "offsetgroup": "relmf",
         "orientation": "v",
         "quartilemethod": "exclusive",
         "showlegend": true,
         "type": "box",
         "x": [
          "Recall@3",
          "Recall@3",
          "Recall@3",
          "Recall@3",
          "Recall@3",
          "Recall@3",
          "Recall@3",
          "Recall@3",
          "Recall@3",
          "Recall@3",
          "Recall@5",
          "Recall@5",
          "Recall@5",
          "Recall@5",
          "Recall@5",
          "Recall@5",
          "Recall@5",
          "Recall@5",
          "Recall@5",
          "Recall@5",
          "Recall@8",
          "Recall@8",
          "Recall@8",
          "Recall@8",
          "Recall@8",
          "Recall@8",
          "Recall@8",
          "Recall@8",
          "Recall@8",
          "Recall@8"
         ],
         "x0": " ",
         "xaxis": "x",
         "y": [
          0.1277654625068418,
          0.1243171866447728,
          0.112995347564313,
          0.1316406677613574,
          0.1252613574165298,
          0.1203420908593322,
          0.1141406677613574,
          0.1075314723590585,
          0.1227230432402846,
          0.120495347564313,
          0.1841105637657361,
          0.1612889983579638,
          0.1626491516146688,
          0.1842747673782156,
          0.1779282977558839,
          0.1863136288998358,
          0.1619458128078817,
          0.1608675424192665,
          0.1813464696223317,
          0.1625205254515599,
          0.2560550082101806,
          0.2153735632183907,
          0.2155938697318007,
          0.2350205254515599,
          0.2319074986316365,
          0.2294211822660098,
          0.221643404488232,
          0.2355268199233716,
          0.2320361247947454,
          0.2130760810071155
         ],
         "y0": " ",
         "yaxis": "y"
        },
        {
         "alignmentgroup": "True",
         "hovertemplate": "Method=relmf<br>Propensity=BB Item-User<br>Metric@K=%{x}<br>Value=%{y}<extra></extra>",
         "legendgroup": "relmf",
         "marker": {
          "color": "#ab63fa"
         },
         "name": "relmf",
         "notched": false,
         "offsetgroup": "relmf",
         "orientation": "v",
         "quartilemethod": "exclusive",
         "showlegend": false,
         "type": "box",
         "x": [
          "Recall@3",
          "Recall@3",
          "Recall@3",
          "Recall@3",
          "Recall@3",
          "Recall@3",
          "Recall@3",
          "Recall@3",
          "Recall@3",
          "Recall@3",
          "Recall@5",
          "Recall@5",
          "Recall@5",
          "Recall@5",
          "Recall@5",
          "Recall@5",
          "Recall@5",
          "Recall@5",
          "Recall@5",
          "Recall@5",
          "Recall@8",
          "Recall@8",
          "Recall@8",
          "Recall@8",
          "Recall@8",
          "Recall@8",
          "Recall@8",
          "Recall@8",
          "Recall@8",
          "Recall@8"
         ],
         "x0": " ",
         "xaxis": "x2",
         "y": [
          0.1200068418171866,
          0.115207991242474,
          0.117995347564313,
          0.1246291735084838,
          0.1216694033935413,
          0.1268938149972632,
          0.1207498631636562,
          0.1173015873015873,
          0.1261713191023536,
          0.118943623426382,
          0.1878461959496442,
          0.1693404488232074,
          0.177591680350301,
          0.1897345374931582,
          0.1717214012041598,
          0.194675697865353,
          0.1814094143404488,
          0.1641434044882321,
          0.180307881773399,
          0.1581622879036672,
          0.2577791461412151,
          0.222175697865353,
          0.2447126436781609,
          0.2409633278598795,
          0.2488423645320197,
          0.2377298850574712,
          0.2440571975916803,
          0.2388847837985769,
          0.2337889983579638,
          0.2298385331143952
         ],
         "y0": " ",
         "yaxis": "y2"
        },
        {
         "alignmentgroup": "True",
         "hovertemplate": "Method=dumf<br>Propensity=Original<br>Metric@K=%{x}<br>Value=%{y}<extra></extra>",
         "legendgroup": "dumf",
         "marker": {
          "color": "#FFA15A"
         },
         "name": "dumf",
         "notched": false,
         "offsetgroup": "dumf",
         "orientation": "v",
         "quartilemethod": "exclusive",
         "showlegend": true,
         "type": "box",
         "x": [
          "Recall@3",
          "Recall@3",
          "Recall@3",
          "Recall@3",
          "Recall@3",
          "Recall@3",
          "Recall@3",
          "Recall@3",
          "Recall@3",
          "Recall@3",
          "Recall@5",
          "Recall@5",
          "Recall@5",
          "Recall@5",
          "Recall@5",
          "Recall@5",
          "Recall@5",
          "Recall@5",
          "Recall@5",
          "Recall@5",
          "Recall@8",
          "Recall@8",
          "Recall@8",
          "Recall@8",
          "Recall@8",
          "Recall@8",
          "Recall@8",
          "Recall@8",
          "Recall@8",
          "Recall@8"
         ],
         "x0": " ",
         "xaxis": "x",
         "y": [
          0.1212999452654624,
          0.1176751505199781,
          0.1136521620142309,
          0.1183648056923919,
          0.1285659551176792,
          0.1275643130815544,
          0.1089682539682539,
          0.1239682539682539,
          0.1393322386425834,
          0.1277367268746579,
          0.1779611384783798,
          0.1585686918445538,
          0.171227422003284,
          0.186975916803503,
          0.1884168035030103,
          0.1808059660645867,
          0.1644991789819376,
          0.182907772304324,
          0.1844417077175698,
          0.1583538587848932,
          0.2404748221127531,
          0.224243295019157,
          0.2290613026819923,
          0.2347892720306513,
          0.2287506841817186,
          0.2282621784345921,
          0.221988232074439,
          0.2396401204159825,
          0.2455897646414887,
          0.2244170771756978
         ],
         "y0": " ",
         "yaxis": "y"
        },
        {
         "alignmentgroup": "True",
         "hovertemplate": "Method=dumf<br>Propensity=BB Item-User<br>Metric@K=%{x}<br>Value=%{y}<extra></extra>",
         "legendgroup": "dumf",
         "marker": {
          "color": "#FFA15A"
         },
         "name": "dumf",
         "notched": false,
         "offsetgroup": "dumf",
         "orientation": "v",
         "quartilemethod": "exclusive",
         "showlegend": false,
         "type": "box",
         "x": [
          "Recall@3",
          "Recall@3",
          "Recall@3",
          "Recall@3",
          "Recall@3",
          "Recall@3",
          "Recall@3",
          "Recall@3",
          "Recall@3",
          "Recall@3",
          "Recall@5",
          "Recall@5",
          "Recall@5",
          "Recall@5",
          "Recall@5",
          "Recall@5",
          "Recall@5",
          "Recall@5",
          "Recall@5",
          "Recall@5",
          "Recall@8",
          "Recall@8",
          "Recall@8",
          "Recall@8",
          "Recall@8",
          "Recall@8",
          "Recall@8",
          "Recall@8",
          "Recall@8",
          "Recall@8"
         ],
         "x0": " ",
         "xaxis": "x2",
         "y": [
          0.1212999452654624,
          0.1165257252326217,
          0.1136521620142309,
          0.1183648056923919,
          0.1285659551176792,
          0.1275643130815544,
          0.1089682539682539,
          0.1239682539682539,
          0.1393322386425834,
          0.1277367268746579,
          0.1779611384783798,
          0.1585686918445538,
          0.171227422003284,
          0.186975916803503,
          0.1884168035030103,
          0.1808059660645867,
          0.1644991789819376,
          0.182907772304324,
          0.1844417077175698,
          0.1583538587848932,
          0.2404748221127531,
          0.224243295019157,
          0.2290613026819923,
          0.2313409961685823,
          0.2287506841817186,
          0.2282621784345921,
          0.221988232074439,
          0.2396401204159825,
          0.2455897646414887,
          0.2244170771756978
         ],
         "y0": " ",
         "yaxis": "y2"
        }
       ],
       "layout": {
        "annotations": [
         {
          "font": {},
          "showarrow": false,
          "text": "Propensity=Original",
          "x": 0.245,
          "xanchor": "center",
          "xref": "paper",
          "y": 1,
          "yanchor": "bottom",
          "yref": "paper"
         },
         {
          "font": {},
          "showarrow": false,
          "text": "Propensity=BB Item-User",
          "x": 0.755,
          "xanchor": "center",
          "xref": "paper",
          "y": 1,
          "yanchor": "bottom",
          "yref": "paper"
         }
        ],
        "boxmode": "group",
        "legend": {
         "title": {
          "text": "Method"
         },
         "tracegroupgap": 0
        },
        "margin": {
         "t": 60
        },
        "template": {
         "data": {
          "bar": [
           {
            "error_x": {
             "color": "#2a3f5f"
            },
            "error_y": {
             "color": "#2a3f5f"
            },
            "marker": {
             "line": {
              "color": "#E5ECF6",
              "width": 0.5
             },
             "pattern": {
              "fillmode": "overlay",
              "size": 10,
              "solidity": 0.2
             }
            },
            "type": "bar"
           }
          ],
          "barpolar": [
           {
            "marker": {
             "line": {
              "color": "#E5ECF6",
              "width": 0.5
             },
             "pattern": {
              "fillmode": "overlay",
              "size": 10,
              "solidity": 0.2
             }
            },
            "type": "barpolar"
           }
          ],
          "carpet": [
           {
            "aaxis": {
             "endlinecolor": "#2a3f5f",
             "gridcolor": "white",
             "linecolor": "white",
             "minorgridcolor": "white",
             "startlinecolor": "#2a3f5f"
            },
            "baxis": {
             "endlinecolor": "#2a3f5f",
             "gridcolor": "white",
             "linecolor": "white",
             "minorgridcolor": "white",
             "startlinecolor": "#2a3f5f"
            },
            "type": "carpet"
           }
          ],
          "choropleth": [
           {
            "colorbar": {
             "outlinewidth": 0,
             "ticks": ""
            },
            "type": "choropleth"
           }
          ],
          "contour": [
           {
            "colorbar": {
             "outlinewidth": 0,
             "ticks": ""
            },
            "colorscale": [
             [
              0,
              "#0d0887"
             ],
             [
              0.1111111111111111,
              "#46039f"
             ],
             [
              0.2222222222222222,
              "#7201a8"
             ],
             [
              0.3333333333333333,
              "#9c179e"
             ],
             [
              0.4444444444444444,
              "#bd3786"
             ],
             [
              0.5555555555555556,
              "#d8576b"
             ],
             [
              0.6666666666666666,
              "#ed7953"
             ],
             [
              0.7777777777777778,
              "#fb9f3a"
             ],
             [
              0.8888888888888888,
              "#fdca26"
             ],
             [
              1,
              "#f0f921"
             ]
            ],
            "type": "contour"
           }
          ],
          "contourcarpet": [
           {
            "colorbar": {
             "outlinewidth": 0,
             "ticks": ""
            },
            "type": "contourcarpet"
           }
          ],
          "heatmap": [
           {
            "colorbar": {
             "outlinewidth": 0,
             "ticks": ""
            },
            "colorscale": [
             [
              0,
              "#0d0887"
             ],
             [
              0.1111111111111111,
              "#46039f"
             ],
             [
              0.2222222222222222,
              "#7201a8"
             ],
             [
              0.3333333333333333,
              "#9c179e"
             ],
             [
              0.4444444444444444,
              "#bd3786"
             ],
             [
              0.5555555555555556,
              "#d8576b"
             ],
             [
              0.6666666666666666,
              "#ed7953"
             ],
             [
              0.7777777777777778,
              "#fb9f3a"
             ],
             [
              0.8888888888888888,
              "#fdca26"
             ],
             [
              1,
              "#f0f921"
             ]
            ],
            "type": "heatmap"
           }
          ],
          "heatmapgl": [
           {
            "colorbar": {
             "outlinewidth": 0,
             "ticks": ""
            },
            "colorscale": [
             [
              0,
              "#0d0887"
             ],
             [
              0.1111111111111111,
              "#46039f"
             ],
             [
              0.2222222222222222,
              "#7201a8"
             ],
             [
              0.3333333333333333,
              "#9c179e"
             ],
             [
              0.4444444444444444,
              "#bd3786"
             ],
             [
              0.5555555555555556,
              "#d8576b"
             ],
             [
              0.6666666666666666,
              "#ed7953"
             ],
             [
              0.7777777777777778,
              "#fb9f3a"
             ],
             [
              0.8888888888888888,
              "#fdca26"
             ],
             [
              1,
              "#f0f921"
             ]
            ],
            "type": "heatmapgl"
           }
          ],
          "histogram": [
           {
            "marker": {
             "pattern": {
              "fillmode": "overlay",
              "size": 10,
              "solidity": 0.2
             }
            },
            "type": "histogram"
           }
          ],
          "histogram2d": [
           {
            "colorbar": {
             "outlinewidth": 0,
             "ticks": ""
            },
            "colorscale": [
             [
              0,
              "#0d0887"
             ],
             [
              0.1111111111111111,
              "#46039f"
             ],
             [
              0.2222222222222222,
              "#7201a8"
             ],
             [
              0.3333333333333333,
              "#9c179e"
             ],
             [
              0.4444444444444444,
              "#bd3786"
             ],
             [
              0.5555555555555556,
              "#d8576b"
             ],
             [
              0.6666666666666666,
              "#ed7953"
             ],
             [
              0.7777777777777778,
              "#fb9f3a"
             ],
             [
              0.8888888888888888,
              "#fdca26"
             ],
             [
              1,
              "#f0f921"
             ]
            ],
            "type": "histogram2d"
           }
          ],
          "histogram2dcontour": [
           {
            "colorbar": {
             "outlinewidth": 0,
             "ticks": ""
            },
            "colorscale": [
             [
              0,
              "#0d0887"
             ],
             [
              0.1111111111111111,
              "#46039f"
             ],
             [
              0.2222222222222222,
              "#7201a8"
             ],
             [
              0.3333333333333333,
              "#9c179e"
             ],
             [
              0.4444444444444444,
              "#bd3786"
             ],
             [
              0.5555555555555556,
              "#d8576b"
             ],
             [
              0.6666666666666666,
              "#ed7953"
             ],
             [
              0.7777777777777778,
              "#fb9f3a"
             ],
             [
              0.8888888888888888,
              "#fdca26"
             ],
             [
              1,
              "#f0f921"
             ]
            ],
            "type": "histogram2dcontour"
           }
          ],
          "mesh3d": [
           {
            "colorbar": {
             "outlinewidth": 0,
             "ticks": ""
            },
            "type": "mesh3d"
           }
          ],
          "parcoords": [
           {
            "line": {
             "colorbar": {
              "outlinewidth": 0,
              "ticks": ""
             }
            },
            "type": "parcoords"
           }
          ],
          "pie": [
           {
            "automargin": true,
            "type": "pie"
           }
          ],
          "scatter": [
           {
            "fillpattern": {
             "fillmode": "overlay",
             "size": 10,
             "solidity": 0.2
            },
            "type": "scatter"
           }
          ],
          "scatter3d": [
           {
            "line": {
             "colorbar": {
              "outlinewidth": 0,
              "ticks": ""
             }
            },
            "marker": {
             "colorbar": {
              "outlinewidth": 0,
              "ticks": ""
             }
            },
            "type": "scatter3d"
           }
          ],
          "scattercarpet": [
           {
            "marker": {
             "colorbar": {
              "outlinewidth": 0,
              "ticks": ""
             }
            },
            "type": "scattercarpet"
           }
          ],
          "scattergeo": [
           {
            "marker": {
             "colorbar": {
              "outlinewidth": 0,
              "ticks": ""
             }
            },
            "type": "scattergeo"
           }
          ],
          "scattergl": [
           {
            "marker": {
             "colorbar": {
              "outlinewidth": 0,
              "ticks": ""
             }
            },
            "type": "scattergl"
           }
          ],
          "scattermapbox": [
           {
            "marker": {
             "colorbar": {
              "outlinewidth": 0,
              "ticks": ""
             }
            },
            "type": "scattermapbox"
           }
          ],
          "scatterpolar": [
           {
            "marker": {
             "colorbar": {
              "outlinewidth": 0,
              "ticks": ""
             }
            },
            "type": "scatterpolar"
           }
          ],
          "scatterpolargl": [
           {
            "marker": {
             "colorbar": {
              "outlinewidth": 0,
              "ticks": ""
             }
            },
            "type": "scatterpolargl"
           }
          ],
          "scatterternary": [
           {
            "marker": {
             "colorbar": {
              "outlinewidth": 0,
              "ticks": ""
             }
            },
            "type": "scatterternary"
           }
          ],
          "surface": [
           {
            "colorbar": {
             "outlinewidth": 0,
             "ticks": ""
            },
            "colorscale": [
             [
              0,
              "#0d0887"
             ],
             [
              0.1111111111111111,
              "#46039f"
             ],
             [
              0.2222222222222222,
              "#7201a8"
             ],
             [
              0.3333333333333333,
              "#9c179e"
             ],
             [
              0.4444444444444444,
              "#bd3786"
             ],
             [
              0.5555555555555556,
              "#d8576b"
             ],
             [
              0.6666666666666666,
              "#ed7953"
             ],
             [
              0.7777777777777778,
              "#fb9f3a"
             ],
             [
              0.8888888888888888,
              "#fdca26"
             ],
             [
              1,
              "#f0f921"
             ]
            ],
            "type": "surface"
           }
          ],
          "table": [
           {
            "cells": {
             "fill": {
              "color": "#EBF0F8"
             },
             "line": {
              "color": "white"
             }
            },
            "header": {
             "fill": {
              "color": "#C8D4E3"
             },
             "line": {
              "color": "white"
             }
            },
            "type": "table"
           }
          ]
         },
         "layout": {
          "annotationdefaults": {
           "arrowcolor": "#2a3f5f",
           "arrowhead": 0,
           "arrowwidth": 1
          },
          "autotypenumbers": "strict",
          "coloraxis": {
           "colorbar": {
            "outlinewidth": 0,
            "ticks": ""
           }
          },
          "colorscale": {
           "diverging": [
            [
             0,
             "#8e0152"
            ],
            [
             0.1,
             "#c51b7d"
            ],
            [
             0.2,
             "#de77ae"
            ],
            [
             0.3,
             "#f1b6da"
            ],
            [
             0.4,
             "#fde0ef"
            ],
            [
             0.5,
             "#f7f7f7"
            ],
            [
             0.6,
             "#e6f5d0"
            ],
            [
             0.7,
             "#b8e186"
            ],
            [
             0.8,
             "#7fbc41"
            ],
            [
             0.9,
             "#4d9221"
            ],
            [
             1,
             "#276419"
            ]
           ],
           "sequential": [
            [
             0,
             "#0d0887"
            ],
            [
             0.1111111111111111,
             "#46039f"
            ],
            [
             0.2222222222222222,
             "#7201a8"
            ],
            [
             0.3333333333333333,
             "#9c179e"
            ],
            [
             0.4444444444444444,
             "#bd3786"
            ],
            [
             0.5555555555555556,
             "#d8576b"
            ],
            [
             0.6666666666666666,
             "#ed7953"
            ],
            [
             0.7777777777777778,
             "#fb9f3a"
            ],
            [
             0.8888888888888888,
             "#fdca26"
            ],
            [
             1,
             "#f0f921"
            ]
           ],
           "sequentialminus": [
            [
             0,
             "#0d0887"
            ],
            [
             0.1111111111111111,
             "#46039f"
            ],
            [
             0.2222222222222222,
             "#7201a8"
            ],
            [
             0.3333333333333333,
             "#9c179e"
            ],
            [
             0.4444444444444444,
             "#bd3786"
            ],
            [
             0.5555555555555556,
             "#d8576b"
            ],
            [
             0.6666666666666666,
             "#ed7953"
            ],
            [
             0.7777777777777778,
             "#fb9f3a"
            ],
            [
             0.8888888888888888,
             "#fdca26"
            ],
            [
             1,
             "#f0f921"
            ]
           ]
          },
          "colorway": [
           "#636efa",
           "#EF553B",
           "#00cc96",
           "#ab63fa",
           "#FFA15A",
           "#19d3f3",
           "#FF6692",
           "#B6E880",
           "#FF97FF",
           "#FECB52"
          ],
          "font": {
           "color": "#2a3f5f"
          },
          "geo": {
           "bgcolor": "white",
           "lakecolor": "white",
           "landcolor": "#E5ECF6",
           "showlakes": true,
           "showland": true,
           "subunitcolor": "white"
          },
          "hoverlabel": {
           "align": "left"
          },
          "hovermode": "closest",
          "mapbox": {
           "style": "light"
          },
          "paper_bgcolor": "white",
          "plot_bgcolor": "#E5ECF6",
          "polar": {
           "angularaxis": {
            "gridcolor": "white",
            "linecolor": "white",
            "ticks": ""
           },
           "bgcolor": "#E5ECF6",
           "radialaxis": {
            "gridcolor": "white",
            "linecolor": "white",
            "ticks": ""
           }
          },
          "scene": {
           "xaxis": {
            "backgroundcolor": "#E5ECF6",
            "gridcolor": "white",
            "gridwidth": 2,
            "linecolor": "white",
            "showbackground": true,
            "ticks": "",
            "zerolinecolor": "white"
           },
           "yaxis": {
            "backgroundcolor": "#E5ECF6",
            "gridcolor": "white",
            "gridwidth": 2,
            "linecolor": "white",
            "showbackground": true,
            "ticks": "",
            "zerolinecolor": "white"
           },
           "zaxis": {
            "backgroundcolor": "#E5ECF6",
            "gridcolor": "white",
            "gridwidth": 2,
            "linecolor": "white",
            "showbackground": true,
            "ticks": "",
            "zerolinecolor": "white"
           }
          },
          "shapedefaults": {
           "line": {
            "color": "#2a3f5f"
           }
          },
          "ternary": {
           "aaxis": {
            "gridcolor": "white",
            "linecolor": "white",
            "ticks": ""
           },
           "baxis": {
            "gridcolor": "white",
            "linecolor": "white",
            "ticks": ""
           },
           "bgcolor": "#E5ECF6",
           "caxis": {
            "gridcolor": "white",
            "linecolor": "white",
            "ticks": ""
           }
          },
          "title": {
           "x": 0.05
          },
          "xaxis": {
           "automargin": true,
           "gridcolor": "white",
           "linecolor": "white",
           "ticks": "",
           "title": {
            "standoff": 15
           },
           "zerolinecolor": "white",
           "zerolinewidth": 2
          },
          "yaxis": {
           "automargin": true,
           "gridcolor": "white",
           "linecolor": "white",
           "ticks": "",
           "title": {
            "standoff": 15
           },
           "zerolinecolor": "white",
           "zerolinewidth": 2
          }
         }
        },
        "xaxis": {
         "anchor": "y",
         "domain": [
          0,
          0.49
         ],
         "title": {
          "text": ""
         }
        },
        "xaxis2": {
         "anchor": "y2",
         "domain": [
          0.51,
          1
         ],
         "matches": "x",
         "title": {
          "text": ""
         }
        },
        "yaxis": {
         "anchor": "x",
         "domain": [
          0,
          1
         ],
         "title": {
          "text": "Value"
         }
        },
        "yaxis2": {
         "anchor": "x2",
         "domain": [
          0,
          1
         ],
         "matches": "y",
         "showticklabels": false
        }
       }
      }
     },
     "metadata": {},
     "output_type": "display_data"
    }
   ],
   "source": [
    "plot_metric(coat_df, 'coat', 'Recall', methods=methods, propensities=_propensities)\n"
   ]
  },
  {
   "attachments": {},
   "cell_type": "markdown",
   "metadata": {},
   "source": [
    "## Plot metrics for Yahoo! C3 dataset"
   ]
  },
  {
   "cell_type": "code",
   "execution_count": 10,
   "metadata": {},
   "outputs": [],
   "source": [
    "yahoo_df =load_results(\"logs\", \"yahoo\", propensities, methods)"
   ]
  },
  {
   "attachments": {},
   "cell_type": "markdown",
   "metadata": {},
   "source": [
    "### DCG@K"
   ]
  },
  {
   "cell_type": "code",
   "execution_count": 11,
   "metadata": {},
   "outputs": [
    {
     "data": {
      "application/vnd.plotly.v1+json": {
       "config": {
        "plotlyServerURL": "https://plot.ly"
       },
       "data": [
        {
         "alignmentgroup": "True",
         "error_y": {
          "array": [
           0.0000014220838870773949,
           0.0000010530509882682484,
           0.0000010182922030464956
          ]
         },
         "hovertemplate": "Method=bpr<br>Propensity=Original<br>Metric@K=%{x}<br>Value=%{y}<extra></extra>",
         "legendgroup": "bpr",
         "marker": {
          "color": "#636efa",
          "opacity": 0.85,
          "pattern": {
           "shape": ""
          }
         },
         "name": "bpr",
         "offsetgroup": "bpr",
         "orientation": "v",
         "showlegend": true,
         "textposition": "auto",
         "type": "bar",
         "x": [
          "DCG@3",
          "DCG@5",
          "DCG@8"
         ],
         "xaxis": "x",
         "y": [
          0.09221883420027306,
          0.10498861005627266,
          0.11542129403829712
         ],
         "yaxis": "y"
        },
        {
         "alignmentgroup": "True",
         "error_y": {
          "array": [
           0.0000015039982845331978,
           7.467722264458235e-7,
           5.668762736710943e-7
          ]
         },
         "hovertemplate": "Method=bpr<br>Propensity=BB Item-User<br>Metric@K=%{x}<br>Value=%{y}<extra></extra>",
         "legendgroup": "bpr",
         "marker": {
          "color": "#636efa",
          "opacity": 0.85,
          "pattern": {
           "shape": ""
          }
         },
         "name": "bpr",
         "offsetgroup": "bpr",
         "orientation": "v",
         "showlegend": false,
         "textposition": "auto",
         "type": "bar",
         "x": [
          "DCG@3",
          "DCG@5",
          "DCG@8"
         ],
         "xaxis": "x2",
         "y": [
          0.09499561598978314,
          0.10776145698995729,
          0.11779392153425391
         ],
         "yaxis": "y2"
        },
        {
         "alignmentgroup": "True",
         "error_y": {
          "array": [
           0.0000014218862646992346,
           0.0000013696308416411924,
           8.798737818352015e-7
          ]
         },
         "hovertemplate": "Method=ubpr<br>Propensity=Original<br>Metric@K=%{x}<br>Value=%{y}<extra></extra>",
         "legendgroup": "ubpr",
         "marker": {
          "color": "#EF553B",
          "opacity": 0.85,
          "pattern": {
           "shape": ""
          }
         },
         "name": "ubpr",
         "offsetgroup": "ubpr",
         "orientation": "v",
         "showlegend": true,
         "textposition": "auto",
         "type": "bar",
         "x": [
          "DCG@3",
          "DCG@5",
          "DCG@8"
         ],
         "xaxis": "x",
         "y": [
          0.09756602491513003,
          0.1101203731980432,
          0.11963698570334291
         ],
         "yaxis": "y"
        },
        {
         "alignmentgroup": "True",
         "error_y": {
          "array": [
           0.0000071713513437273665,
           0.000005363629878140185,
           0.0000039165914479988694
          ]
         },
         "hovertemplate": "Method=ubpr<br>Propensity=BB Item-User<br>Metric@K=%{x}<br>Value=%{y}<extra></extra>",
         "legendgroup": "ubpr",
         "marker": {
          "color": "#EF553B",
          "opacity": 0.85,
          "pattern": {
           "shape": ""
          }
         },
         "name": "ubpr",
         "offsetgroup": "ubpr",
         "orientation": "v",
         "showlegend": false,
         "textposition": "auto",
         "type": "bar",
         "x": [
          "DCG@3",
          "DCG@5",
          "DCG@8"
         ],
         "xaxis": "x2",
         "y": [
          0.051559589945097496,
          0.06437542514619413,
          0.08032181642026222
         ],
         "yaxis": "y2"
        },
        {
         "alignmentgroup": "True",
         "error_y": {
          "array": [
           0,
           0,
           0
          ]
         },
         "hovertemplate": "Method=dubpr<br>Propensity=Original<br>Metric@K=%{x}<br>Value=%{y}<extra></extra>",
         "legendgroup": "dubpr",
         "marker": {
          "color": "#00cc96",
          "opacity": 0.85,
          "pattern": {
           "shape": ""
          }
         },
         "name": "dubpr",
         "offsetgroup": "dubpr",
         "orientation": "v",
         "showlegend": true,
         "textposition": "auto",
         "type": "bar",
         "x": [
          "DCG@3",
          "DCG@5",
          "DCG@8"
         ],
         "xaxis": "x",
         "y": [
          0.0421670022818225,
          0.05566255298741089,
          0.0742010975870358
         ],
         "yaxis": "y"
        },
        {
         "alignmentgroup": "True",
         "error_y": {
          "array": [
           0.000006285105819309799,
           0.00000512473613984416,
           0.00000395032485791834
          ]
         },
         "hovertemplate": "Method=dubpr<br>Propensity=BB Item-User<br>Metric@K=%{x}<br>Value=%{y}<extra></extra>",
         "legendgroup": "dubpr",
         "marker": {
          "color": "#00cc96",
          "opacity": 0.85,
          "pattern": {
           "shape": ""
          }
         },
         "name": "dubpr",
         "offsetgroup": "dubpr",
         "orientation": "v",
         "showlegend": false,
         "textposition": "auto",
         "type": "bar",
         "x": [
          "DCG@3",
          "DCG@5",
          "DCG@8"
         ],
         "xaxis": "x2",
         "y": [
          0.05064840823260559,
          0.06417468555079855,
          0.08001028185276644
         ],
         "yaxis": "y2"
        },
        {
         "alignmentgroup": "True",
         "error_y": {
          "array": [
           0.000003778255837963155,
           0.000002270706847380216,
           0.0000016235353382777185
          ]
         },
         "hovertemplate": "Method=relmf<br>Propensity=Original<br>Metric@K=%{x}<br>Value=%{y}<extra></extra>",
         "legendgroup": "relmf",
         "marker": {
          "color": "#ab63fa",
          "opacity": 0.85,
          "pattern": {
           "shape": ""
          }
         },
         "name": "relmf",
         "offsetgroup": "relmf",
         "orientation": "v",
         "showlegend": true,
         "textposition": "auto",
         "type": "bar",
         "x": [
          "DCG@3",
          "DCG@5",
          "DCG@8"
         ],
         "xaxis": "x",
         "y": [
          0.08796247752879562,
          0.1007391099200807,
          0.11170096394368982
         ],
         "yaxis": "y"
        },
        {
         "alignmentgroup": "True",
         "error_y": {
          "array": [
           0.0000014415317671859542,
           0.00000205501060895419,
           0.0000017483110446104442
          ]
         },
         "hovertemplate": "Method=relmf<br>Propensity=BB Item-User<br>Metric@K=%{x}<br>Value=%{y}<extra></extra>",
         "legendgroup": "relmf",
         "marker": {
          "color": "#ab63fa",
          "opacity": 0.85,
          "pattern": {
           "shape": ""
          }
         },
         "name": "relmf",
         "offsetgroup": "relmf",
         "orientation": "v",
         "showlegend": false,
         "textposition": "auto",
         "type": "bar",
         "x": [
          "DCG@3",
          "DCG@5",
          "DCG@8"
         ],
         "xaxis": "x2",
         "y": [
          0.05461099752763719,
          0.0666915606992955,
          0.08153520397384008
         ],
         "yaxis": "y2"
        },
        {
         "alignmentgroup": "True",
         "error_y": {
          "array": [
           0.0000013433592485499684,
           0.000002103088752220581,
           8.313794968037062e-7
          ]
         },
         "hovertemplate": "Method=dumf<br>Propensity=Original<br>Metric@K=%{x}<br>Value=%{y}<extra></extra>",
         "legendgroup": "dumf",
         "marker": {
          "color": "#FFA15A",
          "opacity": 0.85,
          "pattern": {
           "shape": ""
          }
         },
         "name": "dumf",
         "offsetgroup": "dumf",
         "orientation": "v",
         "showlegend": true,
         "textposition": "auto",
         "type": "bar",
         "x": [
          "DCG@3",
          "DCG@5",
          "DCG@8"
         ],
         "xaxis": "x",
         "y": [
          0.09048816812596734,
          0.10316971276086781,
          0.11375970813353127
         ],
         "yaxis": "y"
        },
        {
         "alignmentgroup": "True",
         "error_y": {
          "array": [
           0.0000034737787379861953,
           0.0000026929276869518227,
           0.0000015794549242247998
          ]
         },
         "hovertemplate": "Method=dumf<br>Propensity=BB Item-User<br>Metric@K=%{x}<br>Value=%{y}<extra></extra>",
         "legendgroup": "dumf",
         "marker": {
          "color": "#FFA15A",
          "opacity": 0.85,
          "pattern": {
           "shape": ""
          }
         },
         "name": "dumf",
         "offsetgroup": "dumf",
         "orientation": "v",
         "showlegend": false,
         "textposition": "auto",
         "type": "bar",
         "x": [
          "DCG@3",
          "DCG@5",
          "DCG@8"
         ],
         "xaxis": "x2",
         "y": [
          0.0899037042512146,
          0.10261941017536998,
          0.11326637122119024
         ],
         "yaxis": "y2"
        }
       ],
       "layout": {
        "annotations": [
         {
          "font": {},
          "showarrow": false,
          "text": "Propensity=Original",
          "x": 0.245,
          "xanchor": "center",
          "xref": "paper",
          "y": 1,
          "yanchor": "bottom",
          "yref": "paper"
         },
         {
          "font": {},
          "showarrow": false,
          "text": "Propensity=BB Item-User",
          "x": 0.755,
          "xanchor": "center",
          "xref": "paper",
          "y": 1,
          "yanchor": "bottom",
          "yref": "paper"
         }
        ],
        "barmode": "group",
        "legend": {
         "title": {
          "text": "Method"
         },
         "tracegroupgap": 0
        },
        "margin": {
         "t": 60
        },
        "template": {
         "data": {
          "bar": [
           {
            "error_x": {
             "color": "#2a3f5f"
            },
            "error_y": {
             "color": "#2a3f5f"
            },
            "marker": {
             "line": {
              "color": "#E5ECF6",
              "width": 0.5
             },
             "pattern": {
              "fillmode": "overlay",
              "size": 10,
              "solidity": 0.2
             }
            },
            "type": "bar"
           }
          ],
          "barpolar": [
           {
            "marker": {
             "line": {
              "color": "#E5ECF6",
              "width": 0.5
             },
             "pattern": {
              "fillmode": "overlay",
              "size": 10,
              "solidity": 0.2
             }
            },
            "type": "barpolar"
           }
          ],
          "carpet": [
           {
            "aaxis": {
             "endlinecolor": "#2a3f5f",
             "gridcolor": "white",
             "linecolor": "white",
             "minorgridcolor": "white",
             "startlinecolor": "#2a3f5f"
            },
            "baxis": {
             "endlinecolor": "#2a3f5f",
             "gridcolor": "white",
             "linecolor": "white",
             "minorgridcolor": "white",
             "startlinecolor": "#2a3f5f"
            },
            "type": "carpet"
           }
          ],
          "choropleth": [
           {
            "colorbar": {
             "outlinewidth": 0,
             "ticks": ""
            },
            "type": "choropleth"
           }
          ],
          "contour": [
           {
            "colorbar": {
             "outlinewidth": 0,
             "ticks": ""
            },
            "colorscale": [
             [
              0,
              "#0d0887"
             ],
             [
              0.1111111111111111,
              "#46039f"
             ],
             [
              0.2222222222222222,
              "#7201a8"
             ],
             [
              0.3333333333333333,
              "#9c179e"
             ],
             [
              0.4444444444444444,
              "#bd3786"
             ],
             [
              0.5555555555555556,
              "#d8576b"
             ],
             [
              0.6666666666666666,
              "#ed7953"
             ],
             [
              0.7777777777777778,
              "#fb9f3a"
             ],
             [
              0.8888888888888888,
              "#fdca26"
             ],
             [
              1,
              "#f0f921"
             ]
            ],
            "type": "contour"
           }
          ],
          "contourcarpet": [
           {
            "colorbar": {
             "outlinewidth": 0,
             "ticks": ""
            },
            "type": "contourcarpet"
           }
          ],
          "heatmap": [
           {
            "colorbar": {
             "outlinewidth": 0,
             "ticks": ""
            },
            "colorscale": [
             [
              0,
              "#0d0887"
             ],
             [
              0.1111111111111111,
              "#46039f"
             ],
             [
              0.2222222222222222,
              "#7201a8"
             ],
             [
              0.3333333333333333,
              "#9c179e"
             ],
             [
              0.4444444444444444,
              "#bd3786"
             ],
             [
              0.5555555555555556,
              "#d8576b"
             ],
             [
              0.6666666666666666,
              "#ed7953"
             ],
             [
              0.7777777777777778,
              "#fb9f3a"
             ],
             [
              0.8888888888888888,
              "#fdca26"
             ],
             [
              1,
              "#f0f921"
             ]
            ],
            "type": "heatmap"
           }
          ],
          "heatmapgl": [
           {
            "colorbar": {
             "outlinewidth": 0,
             "ticks": ""
            },
            "colorscale": [
             [
              0,
              "#0d0887"
             ],
             [
              0.1111111111111111,
              "#46039f"
             ],
             [
              0.2222222222222222,
              "#7201a8"
             ],
             [
              0.3333333333333333,
              "#9c179e"
             ],
             [
              0.4444444444444444,
              "#bd3786"
             ],
             [
              0.5555555555555556,
              "#d8576b"
             ],
             [
              0.6666666666666666,
              "#ed7953"
             ],
             [
              0.7777777777777778,
              "#fb9f3a"
             ],
             [
              0.8888888888888888,
              "#fdca26"
             ],
             [
              1,
              "#f0f921"
             ]
            ],
            "type": "heatmapgl"
           }
          ],
          "histogram": [
           {
            "marker": {
             "pattern": {
              "fillmode": "overlay",
              "size": 10,
              "solidity": 0.2
             }
            },
            "type": "histogram"
           }
          ],
          "histogram2d": [
           {
            "colorbar": {
             "outlinewidth": 0,
             "ticks": ""
            },
            "colorscale": [
             [
              0,
              "#0d0887"
             ],
             [
              0.1111111111111111,
              "#46039f"
             ],
             [
              0.2222222222222222,
              "#7201a8"
             ],
             [
              0.3333333333333333,
              "#9c179e"
             ],
             [
              0.4444444444444444,
              "#bd3786"
             ],
             [
              0.5555555555555556,
              "#d8576b"
             ],
             [
              0.6666666666666666,
              "#ed7953"
             ],
             [
              0.7777777777777778,
              "#fb9f3a"
             ],
             [
              0.8888888888888888,
              "#fdca26"
             ],
             [
              1,
              "#f0f921"
             ]
            ],
            "type": "histogram2d"
           }
          ],
          "histogram2dcontour": [
           {
            "colorbar": {
             "outlinewidth": 0,
             "ticks": ""
            },
            "colorscale": [
             [
              0,
              "#0d0887"
             ],
             [
              0.1111111111111111,
              "#46039f"
             ],
             [
              0.2222222222222222,
              "#7201a8"
             ],
             [
              0.3333333333333333,
              "#9c179e"
             ],
             [
              0.4444444444444444,
              "#bd3786"
             ],
             [
              0.5555555555555556,
              "#d8576b"
             ],
             [
              0.6666666666666666,
              "#ed7953"
             ],
             [
              0.7777777777777778,
              "#fb9f3a"
             ],
             [
              0.8888888888888888,
              "#fdca26"
             ],
             [
              1,
              "#f0f921"
             ]
            ],
            "type": "histogram2dcontour"
           }
          ],
          "mesh3d": [
           {
            "colorbar": {
             "outlinewidth": 0,
             "ticks": ""
            },
            "type": "mesh3d"
           }
          ],
          "parcoords": [
           {
            "line": {
             "colorbar": {
              "outlinewidth": 0,
              "ticks": ""
             }
            },
            "type": "parcoords"
           }
          ],
          "pie": [
           {
            "automargin": true,
            "type": "pie"
           }
          ],
          "scatter": [
           {
            "fillpattern": {
             "fillmode": "overlay",
             "size": 10,
             "solidity": 0.2
            },
            "type": "scatter"
           }
          ],
          "scatter3d": [
           {
            "line": {
             "colorbar": {
              "outlinewidth": 0,
              "ticks": ""
             }
            },
            "marker": {
             "colorbar": {
              "outlinewidth": 0,
              "ticks": ""
             }
            },
            "type": "scatter3d"
           }
          ],
          "scattercarpet": [
           {
            "marker": {
             "colorbar": {
              "outlinewidth": 0,
              "ticks": ""
             }
            },
            "type": "scattercarpet"
           }
          ],
          "scattergeo": [
           {
            "marker": {
             "colorbar": {
              "outlinewidth": 0,
              "ticks": ""
             }
            },
            "type": "scattergeo"
           }
          ],
          "scattergl": [
           {
            "marker": {
             "colorbar": {
              "outlinewidth": 0,
              "ticks": ""
             }
            },
            "type": "scattergl"
           }
          ],
          "scattermapbox": [
           {
            "marker": {
             "colorbar": {
              "outlinewidth": 0,
              "ticks": ""
             }
            },
            "type": "scattermapbox"
           }
          ],
          "scatterpolar": [
           {
            "marker": {
             "colorbar": {
              "outlinewidth": 0,
              "ticks": ""
             }
            },
            "type": "scatterpolar"
           }
          ],
          "scatterpolargl": [
           {
            "marker": {
             "colorbar": {
              "outlinewidth": 0,
              "ticks": ""
             }
            },
            "type": "scatterpolargl"
           }
          ],
          "scatterternary": [
           {
            "marker": {
             "colorbar": {
              "outlinewidth": 0,
              "ticks": ""
             }
            },
            "type": "scatterternary"
           }
          ],
          "surface": [
           {
            "colorbar": {
             "outlinewidth": 0,
             "ticks": ""
            },
            "colorscale": [
             [
              0,
              "#0d0887"
             ],
             [
              0.1111111111111111,
              "#46039f"
             ],
             [
              0.2222222222222222,
              "#7201a8"
             ],
             [
              0.3333333333333333,
              "#9c179e"
             ],
             [
              0.4444444444444444,
              "#bd3786"
             ],
             [
              0.5555555555555556,
              "#d8576b"
             ],
             [
              0.6666666666666666,
              "#ed7953"
             ],
             [
              0.7777777777777778,
              "#fb9f3a"
             ],
             [
              0.8888888888888888,
              "#fdca26"
             ],
             [
              1,
              "#f0f921"
             ]
            ],
            "type": "surface"
           }
          ],
          "table": [
           {
            "cells": {
             "fill": {
              "color": "#EBF0F8"
             },
             "line": {
              "color": "white"
             }
            },
            "header": {
             "fill": {
              "color": "#C8D4E3"
             },
             "line": {
              "color": "white"
             }
            },
            "type": "table"
           }
          ]
         },
         "layout": {
          "annotationdefaults": {
           "arrowcolor": "#2a3f5f",
           "arrowhead": 0,
           "arrowwidth": 1
          },
          "autotypenumbers": "strict",
          "coloraxis": {
           "colorbar": {
            "outlinewidth": 0,
            "ticks": ""
           }
          },
          "colorscale": {
           "diverging": [
            [
             0,
             "#8e0152"
            ],
            [
             0.1,
             "#c51b7d"
            ],
            [
             0.2,
             "#de77ae"
            ],
            [
             0.3,
             "#f1b6da"
            ],
            [
             0.4,
             "#fde0ef"
            ],
            [
             0.5,
             "#f7f7f7"
            ],
            [
             0.6,
             "#e6f5d0"
            ],
            [
             0.7,
             "#b8e186"
            ],
            [
             0.8,
             "#7fbc41"
            ],
            [
             0.9,
             "#4d9221"
            ],
            [
             1,
             "#276419"
            ]
           ],
           "sequential": [
            [
             0,
             "#0d0887"
            ],
            [
             0.1111111111111111,
             "#46039f"
            ],
            [
             0.2222222222222222,
             "#7201a8"
            ],
            [
             0.3333333333333333,
             "#9c179e"
            ],
            [
             0.4444444444444444,
             "#bd3786"
            ],
            [
             0.5555555555555556,
             "#d8576b"
            ],
            [
             0.6666666666666666,
             "#ed7953"
            ],
            [
             0.7777777777777778,
             "#fb9f3a"
            ],
            [
             0.8888888888888888,
             "#fdca26"
            ],
            [
             1,
             "#f0f921"
            ]
           ],
           "sequentialminus": [
            [
             0,
             "#0d0887"
            ],
            [
             0.1111111111111111,
             "#46039f"
            ],
            [
             0.2222222222222222,
             "#7201a8"
            ],
            [
             0.3333333333333333,
             "#9c179e"
            ],
            [
             0.4444444444444444,
             "#bd3786"
            ],
            [
             0.5555555555555556,
             "#d8576b"
            ],
            [
             0.6666666666666666,
             "#ed7953"
            ],
            [
             0.7777777777777778,
             "#fb9f3a"
            ],
            [
             0.8888888888888888,
             "#fdca26"
            ],
            [
             1,
             "#f0f921"
            ]
           ]
          },
          "colorway": [
           "#636efa",
           "#EF553B",
           "#00cc96",
           "#ab63fa",
           "#FFA15A",
           "#19d3f3",
           "#FF6692",
           "#B6E880",
           "#FF97FF",
           "#FECB52"
          ],
          "font": {
           "color": "#2a3f5f"
          },
          "geo": {
           "bgcolor": "white",
           "lakecolor": "white",
           "landcolor": "#E5ECF6",
           "showlakes": true,
           "showland": true,
           "subunitcolor": "white"
          },
          "hoverlabel": {
           "align": "left"
          },
          "hovermode": "closest",
          "mapbox": {
           "style": "light"
          },
          "paper_bgcolor": "white",
          "plot_bgcolor": "#E5ECF6",
          "polar": {
           "angularaxis": {
            "gridcolor": "white",
            "linecolor": "white",
            "ticks": ""
           },
           "bgcolor": "#E5ECF6",
           "radialaxis": {
            "gridcolor": "white",
            "linecolor": "white",
            "ticks": ""
           }
          },
          "scene": {
           "xaxis": {
            "backgroundcolor": "#E5ECF6",
            "gridcolor": "white",
            "gridwidth": 2,
            "linecolor": "white",
            "showbackground": true,
            "ticks": "",
            "zerolinecolor": "white"
           },
           "yaxis": {
            "backgroundcolor": "#E5ECF6",
            "gridcolor": "white",
            "gridwidth": 2,
            "linecolor": "white",
            "showbackground": true,
            "ticks": "",
            "zerolinecolor": "white"
           },
           "zaxis": {
            "backgroundcolor": "#E5ECF6",
            "gridcolor": "white",
            "gridwidth": 2,
            "linecolor": "white",
            "showbackground": true,
            "ticks": "",
            "zerolinecolor": "white"
           }
          },
          "shapedefaults": {
           "line": {
            "color": "#2a3f5f"
           }
          },
          "ternary": {
           "aaxis": {
            "gridcolor": "white",
            "linecolor": "white",
            "ticks": ""
           },
           "baxis": {
            "gridcolor": "white",
            "linecolor": "white",
            "ticks": ""
           },
           "bgcolor": "#E5ECF6",
           "caxis": {
            "gridcolor": "white",
            "linecolor": "white",
            "ticks": ""
           }
          },
          "title": {
           "x": 0.05
          },
          "xaxis": {
           "automargin": true,
           "gridcolor": "white",
           "linecolor": "white",
           "ticks": "",
           "title": {
            "standoff": 15
           },
           "zerolinecolor": "white",
           "zerolinewidth": 2
          },
          "yaxis": {
           "automargin": true,
           "gridcolor": "white",
           "linecolor": "white",
           "ticks": "",
           "title": {
            "standoff": 15
           },
           "zerolinecolor": "white",
           "zerolinewidth": 2
          }
         }
        },
        "xaxis": {
         "anchor": "y",
         "domain": [
          0,
          0.49
         ],
         "title": {
          "text": ""
         }
        },
        "xaxis2": {
         "anchor": "y2",
         "domain": [
          0.51,
          1
         ],
         "matches": "x",
         "title": {
          "text": ""
         }
        },
        "yaxis": {
         "anchor": "x",
         "domain": [
          0,
          1
         ],
         "title": {
          "text": "Value"
         }
        },
        "yaxis2": {
         "anchor": "x2",
         "domain": [
          0,
          1
         ],
         "matches": "y",
         "showticklabels": false
        }
       }
      }
     },
     "metadata": {},
     "output_type": "display_data"
    }
   ],
   "source": [
    "plot_barplot(yahoo_df, 'yahoo', 'DCG', methods=methods, propensities=_propensities)\n"
   ]
  },
  {
   "attachments": {},
   "cell_type": "markdown",
   "metadata": {},
   "source": [
    "### MAP@K"
   ]
  },
  {
   "cell_type": "code",
   "execution_count": 12,
   "metadata": {},
   "outputs": [
    {
     "data": {
      "application/vnd.plotly.v1+json": {
       "config": {
        "plotlyServerURL": "https://plot.ly"
       },
       "data": [
        {
         "alignmentgroup": "True",
         "error_y": {
          "array": [
           8.902076695170314e-7,
           5.770635178566172e-7,
           6.219966003163398e-7
          ]
         },
         "hovertemplate": "Method=bpr<br>Propensity=Original<br>Metric@K=%{x}<br>Value=%{y}<extra></extra>",
         "legendgroup": "bpr",
         "marker": {
          "color": "#636efa",
          "opacity": 0.85,
          "pattern": {
           "shape": ""
          }
         },
         "name": "bpr",
         "offsetgroup": "bpr",
         "orientation": "v",
         "showlegend": true,
         "textposition": "auto",
         "type": "bar",
         "x": [
          "MAP@3",
          "MAP@5",
          "MAP@8"
         ],
         "xaxis": "x",
         "y": [
          0.07657079169116203,
          0.08482597908093274,
          0.0912553721550348
         ],
         "yaxis": "y"
        },
        {
         "alignmentgroup": "True",
         "error_y": {
          "array": [
           0.000001018451827169874,
           5.924914963946174e-7,
           5.071247886252617e-7
          ]
         },
         "hovertemplate": "Method=bpr<br>Propensity=BB Item-User<br>Metric@K=%{x}<br>Value=%{y}<extra></extra>",
         "legendgroup": "bpr",
         "marker": {
          "color": "#636efa",
          "opacity": 0.85,
          "pattern": {
           "shape": ""
          }
         },
         "name": "bpr",
         "offsetgroup": "bpr",
         "orientation": "v",
         "showlegend": false,
         "textposition": "auto",
         "type": "bar",
         "x": [
          "MAP@3",
          "MAP@5",
          "MAP@8"
         ],
         "xaxis": "x2",
         "y": [
          0.07953552812071325,
          0.0878005046051342,
          0.09412671651479519
         ],
         "yaxis": "y2"
        },
        {
         "alignmentgroup": "True",
         "error_y": {
          "array": [
           0.0000021270660728523118,
           0.000002275451279466091,
           0.000002113885384141358
          ]
         },
         "hovertemplate": "Method=ubpr<br>Propensity=Original<br>Metric@K=%{x}<br>Value=%{y}<extra></extra>",
         "legendgroup": "ubpr",
         "marker": {
          "color": "#EF553B",
          "opacity": 0.85,
          "pattern": {
           "shape": ""
          }
         },
         "name": "ubpr",
         "offsetgroup": "ubpr",
         "orientation": "v",
         "showlegend": true,
         "textposition": "auto",
         "type": "bar",
         "x": [
          "MAP@3",
          "MAP@5",
          "MAP@8"
         ],
         "xaxis": "x",
         "y": [
          0.08166341612776794,
          0.08992060895551632,
          0.09597918190630159
         ],
         "yaxis": "y"
        },
        {
         "alignmentgroup": "True",
         "error_y": {
          "array": [
           0.000004378404564834427,
           0.000003836330681403226,
           0.0000031872097792763256
          ]
         },
         "hovertemplate": "Method=ubpr<br>Propensity=BB Item-User<br>Metric@K=%{x}<br>Value=%{y}<extra></extra>",
         "legendgroup": "ubpr",
         "marker": {
          "color": "#EF553B",
          "opacity": 0.85,
          "pattern": {
           "shape": ""
          }
         },
         "name": "ubpr",
         "offsetgroup": "ubpr",
         "orientation": "v",
         "showlegend": false,
         "textposition": "auto",
         "type": "bar",
         "x": [
          "MAP@3",
          "MAP@5",
          "MAP@8"
         ],
         "xaxis": "x2",
         "y": [
          0.039442053693905486,
          0.04698978591024882,
          0.05570405404034038
         ],
         "yaxis": "y2"
        },
        {
         "alignmentgroup": "True",
         "error_y": {
          "array": [
           0,
           0,
           0
          ]
         },
         "hovertemplate": "Method=dubpr<br>Propensity=Original<br>Metric@K=%{x}<br>Value=%{y}<extra></extra>",
         "legendgroup": "dubpr",
         "marker": {
          "color": "#00cc96",
          "opacity": 0.85,
          "pattern": {
           "shape": ""
          }
         },
         "name": "dubpr",
         "offsetgroup": "dubpr",
         "orientation": "v",
         "showlegend": true,
         "textposition": "auto",
         "type": "bar",
         "x": [
          "MAP@3",
          "MAP@5",
          "MAP@8"
         ],
         "xaxis": "x",
         "y": [
          0.030594209288653702,
          0.0383872795414462,
          0.0482854810545617
         ],
         "yaxis": "y"
        },
        {
         "alignmentgroup": "True",
         "error_y": {
          "array": [
           0.000003643131953545103,
           0.0000028088630448474883,
           0.0000025625916169900967
          ]
         },
         "hovertemplate": "Method=dubpr<br>Propensity=BB Item-User<br>Metric@K=%{x}<br>Value=%{y}<extra></extra>",
         "legendgroup": "dubpr",
         "marker": {
          "color": "#00cc96",
          "opacity": 0.85,
          "pattern": {
           "shape": ""
          }
         },
         "name": "dubpr",
         "offsetgroup": "dubpr",
         "orientation": "v",
         "showlegend": false,
         "textposition": "auto",
         "type": "bar",
         "x": [
          "MAP@3",
          "MAP@5",
          "MAP@8"
         ],
         "xaxis": "x2",
         "y": [
          0.03886566970409559,
          0.04678652655300798,
          0.05551533261246881
         ],
         "yaxis": "y2"
        },
        {
         "alignmentgroup": "True",
         "error_y": {
          "array": [
           0.000002542426790978686,
           0.000001991469009428509,
           0.0000015977478051324796
          ]
         },
         "hovertemplate": "Method=relmf<br>Propensity=Original<br>Metric@K=%{x}<br>Value=%{y}<extra></extra>",
         "legendgroup": "relmf",
         "marker": {
          "color": "#ab63fa",
          "opacity": 0.85,
          "pattern": {
           "shape": ""
          }
         },
         "name": "relmf",
         "offsetgroup": "relmf",
         "orientation": "v",
         "showlegend": true,
         "textposition": "auto",
         "type": "bar",
         "x": [
          "MAP@3",
          "MAP@5",
          "MAP@8"
         ],
         "xaxis": "x",
         "y": [
          0.07292864981383497,
          0.08120697726827353,
          0.08784294578119309
         ],
         "yaxis": "y"
        },
        {
         "alignmentgroup": "True",
         "error_y": {
          "array": [
           0.000001650599365362876,
           0.000002083225166066607,
           0.0000017078351913017767
          ]
         },
         "hovertemplate": "Method=relmf<br>Propensity=BB Item-User<br>Metric@K=%{x}<br>Value=%{y}<extra></extra>",
         "legendgroup": "relmf",
         "marker": {
          "color": "#ab63fa",
          "opacity": 0.85,
          "pattern": {
           "shape": ""
          }
         },
         "name": "relmf",
         "offsetgroup": "relmf",
         "orientation": "v",
         "showlegend": false,
         "textposition": "auto",
         "type": "bar",
         "x": [
          "MAP@3",
          "MAP@5",
          "MAP@8"
         ],
         "xaxis": "x2",
         "y": [
          0.041555112188908436,
          0.04871379531648045,
          0.05693990679502248
         ],
         "yaxis": "y2"
        },
        {
         "alignmentgroup": "True",
         "error_y": {
          "array": [
           2.5261641909094516e-7,
           5.26249625445048e-7,
           1.833343352311916e-7
          ]
         },
         "hovertemplate": "Method=dumf<br>Propensity=Original<br>Metric@K=%{x}<br>Value=%{y}<extra></extra>",
         "legendgroup": "dumf",
         "marker": {
          "color": "#FFA15A",
          "opacity": 0.85,
          "pattern": {
           "shape": ""
          }
         },
         "name": "dumf",
         "offsetgroup": "dumf",
         "orientation": "v",
         "showlegend": true,
         "textposition": "auto",
         "type": "bar",
         "x": [
          "MAP@3",
          "MAP@5",
          "MAP@8"
         ],
         "xaxis": "x",
         "y": [
          0.07498423966294332,
          0.08309946453066817,
          0.0896053713326894
         ],
         "yaxis": "y"
        },
        {
         "alignmentgroup": "True",
         "error_y": {
          "array": [
           0.0000015474606556927123,
           0.000001171989829462433,
           8.466387368180228e-7
          ]
         },
         "hovertemplate": "Method=dumf<br>Propensity=BB Item-User<br>Metric@K=%{x}<br>Value=%{y}<extra></extra>",
         "legendgroup": "dumf",
         "marker": {
          "color": "#FFA15A",
          "opacity": 0.85,
          "pattern": {
           "shape": ""
          }
         },
         "name": "dumf",
         "offsetgroup": "dumf",
         "orientation": "v",
         "showlegend": false,
         "textposition": "auto",
         "type": "bar",
         "x": [
          "MAP@3",
          "MAP@5",
          "MAP@8"
         ],
         "xaxis": "x2",
         "y": [
          0.07409626200274345,
          0.08229745982755236,
          0.08879527405097835
         ],
         "yaxis": "y2"
        }
       ],
       "layout": {
        "annotations": [
         {
          "font": {},
          "showarrow": false,
          "text": "Propensity=Original",
          "x": 0.245,
          "xanchor": "center",
          "xref": "paper",
          "y": 1,
          "yanchor": "bottom",
          "yref": "paper"
         },
         {
          "font": {},
          "showarrow": false,
          "text": "Propensity=BB Item-User",
          "x": 0.755,
          "xanchor": "center",
          "xref": "paper",
          "y": 1,
          "yanchor": "bottom",
          "yref": "paper"
         }
        ],
        "barmode": "group",
        "legend": {
         "title": {
          "text": "Method"
         },
         "tracegroupgap": 0
        },
        "margin": {
         "t": 60
        },
        "template": {
         "data": {
          "bar": [
           {
            "error_x": {
             "color": "#2a3f5f"
            },
            "error_y": {
             "color": "#2a3f5f"
            },
            "marker": {
             "line": {
              "color": "#E5ECF6",
              "width": 0.5
             },
             "pattern": {
              "fillmode": "overlay",
              "size": 10,
              "solidity": 0.2
             }
            },
            "type": "bar"
           }
          ],
          "barpolar": [
           {
            "marker": {
             "line": {
              "color": "#E5ECF6",
              "width": 0.5
             },
             "pattern": {
              "fillmode": "overlay",
              "size": 10,
              "solidity": 0.2
             }
            },
            "type": "barpolar"
           }
          ],
          "carpet": [
           {
            "aaxis": {
             "endlinecolor": "#2a3f5f",
             "gridcolor": "white",
             "linecolor": "white",
             "minorgridcolor": "white",
             "startlinecolor": "#2a3f5f"
            },
            "baxis": {
             "endlinecolor": "#2a3f5f",
             "gridcolor": "white",
             "linecolor": "white",
             "minorgridcolor": "white",
             "startlinecolor": "#2a3f5f"
            },
            "type": "carpet"
           }
          ],
          "choropleth": [
           {
            "colorbar": {
             "outlinewidth": 0,
             "ticks": ""
            },
            "type": "choropleth"
           }
          ],
          "contour": [
           {
            "colorbar": {
             "outlinewidth": 0,
             "ticks": ""
            },
            "colorscale": [
             [
              0,
              "#0d0887"
             ],
             [
              0.1111111111111111,
              "#46039f"
             ],
             [
              0.2222222222222222,
              "#7201a8"
             ],
             [
              0.3333333333333333,
              "#9c179e"
             ],
             [
              0.4444444444444444,
              "#bd3786"
             ],
             [
              0.5555555555555556,
              "#d8576b"
             ],
             [
              0.6666666666666666,
              "#ed7953"
             ],
             [
              0.7777777777777778,
              "#fb9f3a"
             ],
             [
              0.8888888888888888,
              "#fdca26"
             ],
             [
              1,
              "#f0f921"
             ]
            ],
            "type": "contour"
           }
          ],
          "contourcarpet": [
           {
            "colorbar": {
             "outlinewidth": 0,
             "ticks": ""
            },
            "type": "contourcarpet"
           }
          ],
          "heatmap": [
           {
            "colorbar": {
             "outlinewidth": 0,
             "ticks": ""
            },
            "colorscale": [
             [
              0,
              "#0d0887"
             ],
             [
              0.1111111111111111,
              "#46039f"
             ],
             [
              0.2222222222222222,
              "#7201a8"
             ],
             [
              0.3333333333333333,
              "#9c179e"
             ],
             [
              0.4444444444444444,
              "#bd3786"
             ],
             [
              0.5555555555555556,
              "#d8576b"
             ],
             [
              0.6666666666666666,
              "#ed7953"
             ],
             [
              0.7777777777777778,
              "#fb9f3a"
             ],
             [
              0.8888888888888888,
              "#fdca26"
             ],
             [
              1,
              "#f0f921"
             ]
            ],
            "type": "heatmap"
           }
          ],
          "heatmapgl": [
           {
            "colorbar": {
             "outlinewidth": 0,
             "ticks": ""
            },
            "colorscale": [
             [
              0,
              "#0d0887"
             ],
             [
              0.1111111111111111,
              "#46039f"
             ],
             [
              0.2222222222222222,
              "#7201a8"
             ],
             [
              0.3333333333333333,
              "#9c179e"
             ],
             [
              0.4444444444444444,
              "#bd3786"
             ],
             [
              0.5555555555555556,
              "#d8576b"
             ],
             [
              0.6666666666666666,
              "#ed7953"
             ],
             [
              0.7777777777777778,
              "#fb9f3a"
             ],
             [
              0.8888888888888888,
              "#fdca26"
             ],
             [
              1,
              "#f0f921"
             ]
            ],
            "type": "heatmapgl"
           }
          ],
          "histogram": [
           {
            "marker": {
             "pattern": {
              "fillmode": "overlay",
              "size": 10,
              "solidity": 0.2
             }
            },
            "type": "histogram"
           }
          ],
          "histogram2d": [
           {
            "colorbar": {
             "outlinewidth": 0,
             "ticks": ""
            },
            "colorscale": [
             [
              0,
              "#0d0887"
             ],
             [
              0.1111111111111111,
              "#46039f"
             ],
             [
              0.2222222222222222,
              "#7201a8"
             ],
             [
              0.3333333333333333,
              "#9c179e"
             ],
             [
              0.4444444444444444,
              "#bd3786"
             ],
             [
              0.5555555555555556,
              "#d8576b"
             ],
             [
              0.6666666666666666,
              "#ed7953"
             ],
             [
              0.7777777777777778,
              "#fb9f3a"
             ],
             [
              0.8888888888888888,
              "#fdca26"
             ],
             [
              1,
              "#f0f921"
             ]
            ],
            "type": "histogram2d"
           }
          ],
          "histogram2dcontour": [
           {
            "colorbar": {
             "outlinewidth": 0,
             "ticks": ""
            },
            "colorscale": [
             [
              0,
              "#0d0887"
             ],
             [
              0.1111111111111111,
              "#46039f"
             ],
             [
              0.2222222222222222,
              "#7201a8"
             ],
             [
              0.3333333333333333,
              "#9c179e"
             ],
             [
              0.4444444444444444,
              "#bd3786"
             ],
             [
              0.5555555555555556,
              "#d8576b"
             ],
             [
              0.6666666666666666,
              "#ed7953"
             ],
             [
              0.7777777777777778,
              "#fb9f3a"
             ],
             [
              0.8888888888888888,
              "#fdca26"
             ],
             [
              1,
              "#f0f921"
             ]
            ],
            "type": "histogram2dcontour"
           }
          ],
          "mesh3d": [
           {
            "colorbar": {
             "outlinewidth": 0,
             "ticks": ""
            },
            "type": "mesh3d"
           }
          ],
          "parcoords": [
           {
            "line": {
             "colorbar": {
              "outlinewidth": 0,
              "ticks": ""
             }
            },
            "type": "parcoords"
           }
          ],
          "pie": [
           {
            "automargin": true,
            "type": "pie"
           }
          ],
          "scatter": [
           {
            "fillpattern": {
             "fillmode": "overlay",
             "size": 10,
             "solidity": 0.2
            },
            "type": "scatter"
           }
          ],
          "scatter3d": [
           {
            "line": {
             "colorbar": {
              "outlinewidth": 0,
              "ticks": ""
             }
            },
            "marker": {
             "colorbar": {
              "outlinewidth": 0,
              "ticks": ""
             }
            },
            "type": "scatter3d"
           }
          ],
          "scattercarpet": [
           {
            "marker": {
             "colorbar": {
              "outlinewidth": 0,
              "ticks": ""
             }
            },
            "type": "scattercarpet"
           }
          ],
          "scattergeo": [
           {
            "marker": {
             "colorbar": {
              "outlinewidth": 0,
              "ticks": ""
             }
            },
            "type": "scattergeo"
           }
          ],
          "scattergl": [
           {
            "marker": {
             "colorbar": {
              "outlinewidth": 0,
              "ticks": ""
             }
            },
            "type": "scattergl"
           }
          ],
          "scattermapbox": [
           {
            "marker": {
             "colorbar": {
              "outlinewidth": 0,
              "ticks": ""
             }
            },
            "type": "scattermapbox"
           }
          ],
          "scatterpolar": [
           {
            "marker": {
             "colorbar": {
              "outlinewidth": 0,
              "ticks": ""
             }
            },
            "type": "scatterpolar"
           }
          ],
          "scatterpolargl": [
           {
            "marker": {
             "colorbar": {
              "outlinewidth": 0,
              "ticks": ""
             }
            },
            "type": "scatterpolargl"
           }
          ],
          "scatterternary": [
           {
            "marker": {
             "colorbar": {
              "outlinewidth": 0,
              "ticks": ""
             }
            },
            "type": "scatterternary"
           }
          ],
          "surface": [
           {
            "colorbar": {
             "outlinewidth": 0,
             "ticks": ""
            },
            "colorscale": [
             [
              0,
              "#0d0887"
             ],
             [
              0.1111111111111111,
              "#46039f"
             ],
             [
              0.2222222222222222,
              "#7201a8"
             ],
             [
              0.3333333333333333,
              "#9c179e"
             ],
             [
              0.4444444444444444,
              "#bd3786"
             ],
             [
              0.5555555555555556,
              "#d8576b"
             ],
             [
              0.6666666666666666,
              "#ed7953"
             ],
             [
              0.7777777777777778,
              "#fb9f3a"
             ],
             [
              0.8888888888888888,
              "#fdca26"
             ],
             [
              1,
              "#f0f921"
             ]
            ],
            "type": "surface"
           }
          ],
          "table": [
           {
            "cells": {
             "fill": {
              "color": "#EBF0F8"
             },
             "line": {
              "color": "white"
             }
            },
            "header": {
             "fill": {
              "color": "#C8D4E3"
             },
             "line": {
              "color": "white"
             }
            },
            "type": "table"
           }
          ]
         },
         "layout": {
          "annotationdefaults": {
           "arrowcolor": "#2a3f5f",
           "arrowhead": 0,
           "arrowwidth": 1
          },
          "autotypenumbers": "strict",
          "coloraxis": {
           "colorbar": {
            "outlinewidth": 0,
            "ticks": ""
           }
          },
          "colorscale": {
           "diverging": [
            [
             0,
             "#8e0152"
            ],
            [
             0.1,
             "#c51b7d"
            ],
            [
             0.2,
             "#de77ae"
            ],
            [
             0.3,
             "#f1b6da"
            ],
            [
             0.4,
             "#fde0ef"
            ],
            [
             0.5,
             "#f7f7f7"
            ],
            [
             0.6,
             "#e6f5d0"
            ],
            [
             0.7,
             "#b8e186"
            ],
            [
             0.8,
             "#7fbc41"
            ],
            [
             0.9,
             "#4d9221"
            ],
            [
             1,
             "#276419"
            ]
           ],
           "sequential": [
            [
             0,
             "#0d0887"
            ],
            [
             0.1111111111111111,
             "#46039f"
            ],
            [
             0.2222222222222222,
             "#7201a8"
            ],
            [
             0.3333333333333333,
             "#9c179e"
            ],
            [
             0.4444444444444444,
             "#bd3786"
            ],
            [
             0.5555555555555556,
             "#d8576b"
            ],
            [
             0.6666666666666666,
             "#ed7953"
            ],
            [
             0.7777777777777778,
             "#fb9f3a"
            ],
            [
             0.8888888888888888,
             "#fdca26"
            ],
            [
             1,
             "#f0f921"
            ]
           ],
           "sequentialminus": [
            [
             0,
             "#0d0887"
            ],
            [
             0.1111111111111111,
             "#46039f"
            ],
            [
             0.2222222222222222,
             "#7201a8"
            ],
            [
             0.3333333333333333,
             "#9c179e"
            ],
            [
             0.4444444444444444,
             "#bd3786"
            ],
            [
             0.5555555555555556,
             "#d8576b"
            ],
            [
             0.6666666666666666,
             "#ed7953"
            ],
            [
             0.7777777777777778,
             "#fb9f3a"
            ],
            [
             0.8888888888888888,
             "#fdca26"
            ],
            [
             1,
             "#f0f921"
            ]
           ]
          },
          "colorway": [
           "#636efa",
           "#EF553B",
           "#00cc96",
           "#ab63fa",
           "#FFA15A",
           "#19d3f3",
           "#FF6692",
           "#B6E880",
           "#FF97FF",
           "#FECB52"
          ],
          "font": {
           "color": "#2a3f5f"
          },
          "geo": {
           "bgcolor": "white",
           "lakecolor": "white",
           "landcolor": "#E5ECF6",
           "showlakes": true,
           "showland": true,
           "subunitcolor": "white"
          },
          "hoverlabel": {
           "align": "left"
          },
          "hovermode": "closest",
          "mapbox": {
           "style": "light"
          },
          "paper_bgcolor": "white",
          "plot_bgcolor": "#E5ECF6",
          "polar": {
           "angularaxis": {
            "gridcolor": "white",
            "linecolor": "white",
            "ticks": ""
           },
           "bgcolor": "#E5ECF6",
           "radialaxis": {
            "gridcolor": "white",
            "linecolor": "white",
            "ticks": ""
           }
          },
          "scene": {
           "xaxis": {
            "backgroundcolor": "#E5ECF6",
            "gridcolor": "white",
            "gridwidth": 2,
            "linecolor": "white",
            "showbackground": true,
            "ticks": "",
            "zerolinecolor": "white"
           },
           "yaxis": {
            "backgroundcolor": "#E5ECF6",
            "gridcolor": "white",
            "gridwidth": 2,
            "linecolor": "white",
            "showbackground": true,
            "ticks": "",
            "zerolinecolor": "white"
           },
           "zaxis": {
            "backgroundcolor": "#E5ECF6",
            "gridcolor": "white",
            "gridwidth": 2,
            "linecolor": "white",
            "showbackground": true,
            "ticks": "",
            "zerolinecolor": "white"
           }
          },
          "shapedefaults": {
           "line": {
            "color": "#2a3f5f"
           }
          },
          "ternary": {
           "aaxis": {
            "gridcolor": "white",
            "linecolor": "white",
            "ticks": ""
           },
           "baxis": {
            "gridcolor": "white",
            "linecolor": "white",
            "ticks": ""
           },
           "bgcolor": "#E5ECF6",
           "caxis": {
            "gridcolor": "white",
            "linecolor": "white",
            "ticks": ""
           }
          },
          "title": {
           "x": 0.05
          },
          "xaxis": {
           "automargin": true,
           "gridcolor": "white",
           "linecolor": "white",
           "ticks": "",
           "title": {
            "standoff": 15
           },
           "zerolinecolor": "white",
           "zerolinewidth": 2
          },
          "yaxis": {
           "automargin": true,
           "gridcolor": "white",
           "linecolor": "white",
           "ticks": "",
           "title": {
            "standoff": 15
           },
           "zerolinecolor": "white",
           "zerolinewidth": 2
          }
         }
        },
        "xaxis": {
         "anchor": "y",
         "domain": [
          0,
          0.49
         ],
         "title": {
          "text": ""
         }
        },
        "xaxis2": {
         "anchor": "y2",
         "domain": [
          0.51,
          1
         ],
         "matches": "x",
         "title": {
          "text": ""
         }
        },
        "yaxis": {
         "anchor": "x",
         "domain": [
          0,
          1
         ],
         "title": {
          "text": "Value"
         }
        },
        "yaxis2": {
         "anchor": "x2",
         "domain": [
          0,
          1
         ],
         "matches": "y",
         "showticklabels": false
        }
       }
      }
     },
     "metadata": {},
     "output_type": "display_data"
    }
   ],
   "source": [
    "plot_barplot(yahoo_df, 'yahoo', 'MAP', methods=methods, propensities=_propensities)\n"
   ]
  },
  {
   "attachments": {},
   "cell_type": "markdown",
   "metadata": {},
   "source": [
    "### Recall@K"
   ]
  },
  {
   "cell_type": "code",
   "execution_count": 13,
   "metadata": {},
   "outputs": [
    {
     "data": {
      "application/vnd.plotly.v1+json": {
       "config": {
        "plotlyServerURL": "https://plot.ly"
       },
       "data": [
        {
         "alignmentgroup": "True",
         "error_y": {
          "array": [
           0.0000015224436369748031,
           0.0000013638152387776357,
           0.0000022398187396942223
          ]
         },
         "hovertemplate": "Method=bpr<br>Propensity=Original<br>Metric@K=%{x}<br>Value=%{y}<extra></extra>",
         "legendgroup": "bpr",
         "marker": {
          "color": "#636efa",
          "opacity": 0.85,
          "pattern": {
           "shape": ""
          }
         },
         "name": "bpr",
         "offsetgroup": "bpr",
         "orientation": "v",
         "showlegend": true,
         "textposition": "auto",
         "type": "bar",
         "x": [
          "Recall@3",
          "Recall@5",
          "Recall@8"
         ],
         "xaxis": "x",
         "y": [
          0.09906455026455022,
          0.12623540564373895,
          0.15522670487948262
         ],
         "yaxis": "y"
        },
        {
         "alignmentgroup": "True",
         "error_y": {
          "array": [
           0.0000017002499079898814,
           0.000001225865008811788,
           6.717888481410074e-7
          ]
         },
         "hovertemplate": "Method=bpr<br>Propensity=BB Item-User<br>Metric@K=%{x}<br>Value=%{y}<extra></extra>",
         "legendgroup": "bpr",
         "marker": {
          "color": "#636efa",
          "opacity": 0.85,
          "pattern": {
           "shape": ""
          }
         },
         "name": "bpr",
         "offsetgroup": "bpr",
         "orientation": "v",
         "showlegend": false,
         "textposition": "auto",
         "type": "bar",
         "x": [
          "Recall@3",
          "Recall@5",
          "Recall@8"
         ],
         "xaxis": "x2",
         "y": [
          0.10163137860082298,
          0.12873813932980596,
          0.15655611405055847
         ],
         "yaxis": "y2"
        },
        {
         "alignmentgroup": "True",
         "error_y": {
          "array": [
           0.000001883561715088886,
           0.0000018491819603757855,
           5.839148311105297e-7
          ]
         },
         "hovertemplate": "Method=ubpr<br>Propensity=Original<br>Metric@K=%{x}<br>Value=%{y}<extra></extra>",
         "legendgroup": "ubpr",
         "marker": {
          "color": "#EF553B",
          "opacity": 0.85,
          "pattern": {
           "shape": ""
          }
         },
         "name": "ubpr",
         "offsetgroup": "ubpr",
         "orientation": "v",
         "showlegend": true,
         "textposition": "auto",
         "type": "bar",
         "x": [
          "Recall@3",
          "Recall@5",
          "Recall@8"
         ],
         "xaxis": "x",
         "y": [
          0.10448330393885945,
          0.13120790711346259,
          0.1575877278071722
         ],
         "yaxis": "y"
        },
        {
         "alignmentgroup": "True",
         "error_y": {
          "array": [
           0.000007393211936066799,
           0.00000521792647231292,
           0.0000030236257053838403
          ]
         },
         "hovertemplate": "Method=ubpr<br>Propensity=BB Item-User<br>Metric@K=%{x}<br>Value=%{y}<extra></extra>",
         "legendgroup": "ubpr",
         "marker": {
          "color": "#EF553B",
          "opacity": 0.85,
          "pattern": {
           "shape": ""
          }
         },
         "name": "ubpr",
         "offsetgroup": "ubpr",
         "orientation": "v",
         "showlegend": false,
         "textposition": "auto",
         "type": "bar",
         "x": [
          "Recall@3",
          "Recall@5",
          "Recall@8"
         ],
         "xaxis": "x2",
         "y": [
          0.05717599941211047,
          0.08473325984714869,
          0.1293422545561434
         ],
         "yaxis": "y2"
        },
        {
         "alignmentgroup": "True",
         "error_y": {
          "array": [
           0,
           0,
           0
          ]
         },
         "hovertemplate": "Method=dubpr<br>Propensity=Original<br>Metric@K=%{x}<br>Value=%{y}<extra></extra>",
         "legendgroup": "dubpr",
         "marker": {
          "color": "#00cc96",
          "opacity": 0.85,
          "pattern": {
           "shape": ""
          }
         },
         "name": "dubpr",
         "offsetgroup": "dubpr",
         "orientation": "v",
         "showlegend": true,
         "textposition": "auto",
         "type": "bar",
         "x": [
          "Recall@3",
          "Recall@5",
          "Recall@8"
         ],
         "xaxis": "x",
         "y": [
          0.0478514109347442,
          0.0769390064667842,
          0.1285047031158142
         ],
         "yaxis": "y"
        },
        {
         "alignmentgroup": "True",
         "error_y": {
          "array": [
           0.000005650001587184399,
           0.000004365366719390101,
           0.000005275490956259849
          ]
         },
         "hovertemplate": "Method=dubpr<br>Propensity=BB Item-User<br>Metric@K=%{x}<br>Value=%{y}<extra></extra>",
         "legendgroup": "dubpr",
         "marker": {
          "color": "#00cc96",
          "opacity": 0.85,
          "pattern": {
           "shape": ""
          }
         },
         "name": "dubpr",
         "offsetgroup": "dubpr",
         "orientation": "v",
         "showlegend": false,
         "textposition": "auto",
         "type": "bar",
         "x": [
          "Recall@3",
          "Recall@5",
          "Recall@8"
         ],
         "xaxis": "x2",
         "y": [
          0.05641753380364485,
          0.08542788065843618,
          0.1296673427395649
         ],
         "yaxis": "y2"
        },
        {
         "alignmentgroup": "True",
         "error_y": {
          "array": [
           0.00000387087245540223,
           0.0000018116715043511506,
           5.375090939692936e-7
          ]
         },
         "hovertemplate": "Method=relmf<br>Propensity=Original<br>Metric@K=%{x}<br>Value=%{y}<extra></extra>",
         "legendgroup": "relmf",
         "marker": {
          "color": "#ab63fa",
          "opacity": 0.85,
          "pattern": {
           "shape": ""
          }
         },
         "name": "relmf",
         "offsetgroup": "relmf",
         "orientation": "v",
         "showlegend": true,
         "textposition": "auto",
         "type": "bar",
         "x": [
          "Recall@3",
          "Recall@5",
          "Recall@8"
         ],
         "xaxis": "x",
         "y": [
          0.09431067019400347,
          0.12157297178130506,
          0.1520337154614932
         ],
         "yaxis": "y"
        },
        {
         "alignmentgroup": "True",
         "error_y": {
          "array": [
           0.0000024573766883197673,
           0.0000041473758123802265,
           0.000006680402111563499
          ]
         },
         "hovertemplate": "Method=relmf<br>Propensity=BB Item-User<br>Metric@K=%{x}<br>Value=%{y}<extra></extra>",
         "legendgroup": "relmf",
         "marker": {
          "color": "#ab63fa",
          "opacity": 0.85,
          "pattern": {
           "shape": ""
          }
         },
         "name": "relmf",
         "offsetgroup": "relmf",
         "orientation": "v",
         "showlegend": false,
         "textposition": "auto",
         "type": "bar",
         "x": [
          "Recall@3",
          "Recall@5",
          "Recall@8"
         ],
         "xaxis": "x2",
         "y": [
          0.060282084068195116,
          0.08620848030570248,
          0.12772533803644912
         ],
         "yaxis": "y2"
        },
        {
         "alignmentgroup": "True",
         "error_y": {
          "array": [
           0.0000016850726215734738,
           0.0000028384879816462615,
           0.0000010422647711982952
          ]
         },
         "hovertemplate": "Method=dumf<br>Propensity=Original<br>Metric@K=%{x}<br>Value=%{y}<extra></extra>",
         "legendgroup": "dumf",
         "marker": {
          "color": "#FFA15A",
          "opacity": 0.85,
          "pattern": {
           "shape": ""
          }
         },
         "name": "dumf",
         "offsetgroup": "dumf",
         "orientation": "v",
         "showlegend": true,
         "textposition": "auto",
         "type": "bar",
         "x": [
          "Recall@3",
          "Recall@5",
          "Recall@8"
         ],
         "xaxis": "x",
         "y": [
          0.09716452087007639,
          0.12428658142269249,
          0.15360395355673132
         ],
         "yaxis": "y"
        },
        {
         "alignmentgroup": "True",
         "error_y": {
          "array": [
           0.0000041140347264919846,
           0.000003875998865128383,
           0.0000012766568996139752
          ]
         },
         "hovertemplate": "Method=dumf<br>Propensity=BB Item-User<br>Metric@K=%{x}<br>Value=%{y}<extra></extra>",
         "legendgroup": "dumf",
         "marker": {
          "color": "#FFA15A",
          "opacity": 0.85,
          "pattern": {
           "shape": ""
          }
         },
         "name": "dumf",
         "offsetgroup": "dumf",
         "orientation": "v",
         "showlegend": false,
         "textposition": "auto",
         "type": "bar",
         "x": [
          "Recall@3",
          "Recall@5",
          "Recall@8"
         ],
         "xaxis": "x2",
         "y": [
          0.09682962962962957,
          0.1239262345679012,
          0.1534637860082304
         ],
         "yaxis": "y2"
        }
       ],
       "layout": {
        "annotations": [
         {
          "font": {},
          "showarrow": false,
          "text": "Propensity=Original",
          "x": 0.245,
          "xanchor": "center",
          "xref": "paper",
          "y": 1,
          "yanchor": "bottom",
          "yref": "paper"
         },
         {
          "font": {},
          "showarrow": false,
          "text": "Propensity=BB Item-User",
          "x": 0.755,
          "xanchor": "center",
          "xref": "paper",
          "y": 1,
          "yanchor": "bottom",
          "yref": "paper"
         }
        ],
        "barmode": "group",
        "legend": {
         "title": {
          "text": "Method"
         },
         "tracegroupgap": 0
        },
        "margin": {
         "t": 60
        },
        "template": {
         "data": {
          "bar": [
           {
            "error_x": {
             "color": "#2a3f5f"
            },
            "error_y": {
             "color": "#2a3f5f"
            },
            "marker": {
             "line": {
              "color": "#E5ECF6",
              "width": 0.5
             },
             "pattern": {
              "fillmode": "overlay",
              "size": 10,
              "solidity": 0.2
             }
            },
            "type": "bar"
           }
          ],
          "barpolar": [
           {
            "marker": {
             "line": {
              "color": "#E5ECF6",
              "width": 0.5
             },
             "pattern": {
              "fillmode": "overlay",
              "size": 10,
              "solidity": 0.2
             }
            },
            "type": "barpolar"
           }
          ],
          "carpet": [
           {
            "aaxis": {
             "endlinecolor": "#2a3f5f",
             "gridcolor": "white",
             "linecolor": "white",
             "minorgridcolor": "white",
             "startlinecolor": "#2a3f5f"
            },
            "baxis": {
             "endlinecolor": "#2a3f5f",
             "gridcolor": "white",
             "linecolor": "white",
             "minorgridcolor": "white",
             "startlinecolor": "#2a3f5f"
            },
            "type": "carpet"
           }
          ],
          "choropleth": [
           {
            "colorbar": {
             "outlinewidth": 0,
             "ticks": ""
            },
            "type": "choropleth"
           }
          ],
          "contour": [
           {
            "colorbar": {
             "outlinewidth": 0,
             "ticks": ""
            },
            "colorscale": [
             [
              0,
              "#0d0887"
             ],
             [
              0.1111111111111111,
              "#46039f"
             ],
             [
              0.2222222222222222,
              "#7201a8"
             ],
             [
              0.3333333333333333,
              "#9c179e"
             ],
             [
              0.4444444444444444,
              "#bd3786"
             ],
             [
              0.5555555555555556,
              "#d8576b"
             ],
             [
              0.6666666666666666,
              "#ed7953"
             ],
             [
              0.7777777777777778,
              "#fb9f3a"
             ],
             [
              0.8888888888888888,
              "#fdca26"
             ],
             [
              1,
              "#f0f921"
             ]
            ],
            "type": "contour"
           }
          ],
          "contourcarpet": [
           {
            "colorbar": {
             "outlinewidth": 0,
             "ticks": ""
            },
            "type": "contourcarpet"
           }
          ],
          "heatmap": [
           {
            "colorbar": {
             "outlinewidth": 0,
             "ticks": ""
            },
            "colorscale": [
             [
              0,
              "#0d0887"
             ],
             [
              0.1111111111111111,
              "#46039f"
             ],
             [
              0.2222222222222222,
              "#7201a8"
             ],
             [
              0.3333333333333333,
              "#9c179e"
             ],
             [
              0.4444444444444444,
              "#bd3786"
             ],
             [
              0.5555555555555556,
              "#d8576b"
             ],
             [
              0.6666666666666666,
              "#ed7953"
             ],
             [
              0.7777777777777778,
              "#fb9f3a"
             ],
             [
              0.8888888888888888,
              "#fdca26"
             ],
             [
              1,
              "#f0f921"
             ]
            ],
            "type": "heatmap"
           }
          ],
          "heatmapgl": [
           {
            "colorbar": {
             "outlinewidth": 0,
             "ticks": ""
            },
            "colorscale": [
             [
              0,
              "#0d0887"
             ],
             [
              0.1111111111111111,
              "#46039f"
             ],
             [
              0.2222222222222222,
              "#7201a8"
             ],
             [
              0.3333333333333333,
              "#9c179e"
             ],
             [
              0.4444444444444444,
              "#bd3786"
             ],
             [
              0.5555555555555556,
              "#d8576b"
             ],
             [
              0.6666666666666666,
              "#ed7953"
             ],
             [
              0.7777777777777778,
              "#fb9f3a"
             ],
             [
              0.8888888888888888,
              "#fdca26"
             ],
             [
              1,
              "#f0f921"
             ]
            ],
            "type": "heatmapgl"
           }
          ],
          "histogram": [
           {
            "marker": {
             "pattern": {
              "fillmode": "overlay",
              "size": 10,
              "solidity": 0.2
             }
            },
            "type": "histogram"
           }
          ],
          "histogram2d": [
           {
            "colorbar": {
             "outlinewidth": 0,
             "ticks": ""
            },
            "colorscale": [
             [
              0,
              "#0d0887"
             ],
             [
              0.1111111111111111,
              "#46039f"
             ],
             [
              0.2222222222222222,
              "#7201a8"
             ],
             [
              0.3333333333333333,
              "#9c179e"
             ],
             [
              0.4444444444444444,
              "#bd3786"
             ],
             [
              0.5555555555555556,
              "#d8576b"
             ],
             [
              0.6666666666666666,
              "#ed7953"
             ],
             [
              0.7777777777777778,
              "#fb9f3a"
             ],
             [
              0.8888888888888888,
              "#fdca26"
             ],
             [
              1,
              "#f0f921"
             ]
            ],
            "type": "histogram2d"
           }
          ],
          "histogram2dcontour": [
           {
            "colorbar": {
             "outlinewidth": 0,
             "ticks": ""
            },
            "colorscale": [
             [
              0,
              "#0d0887"
             ],
             [
              0.1111111111111111,
              "#46039f"
             ],
             [
              0.2222222222222222,
              "#7201a8"
             ],
             [
              0.3333333333333333,
              "#9c179e"
             ],
             [
              0.4444444444444444,
              "#bd3786"
             ],
             [
              0.5555555555555556,
              "#d8576b"
             ],
             [
              0.6666666666666666,
              "#ed7953"
             ],
             [
              0.7777777777777778,
              "#fb9f3a"
             ],
             [
              0.8888888888888888,
              "#fdca26"
             ],
             [
              1,
              "#f0f921"
             ]
            ],
            "type": "histogram2dcontour"
           }
          ],
          "mesh3d": [
           {
            "colorbar": {
             "outlinewidth": 0,
             "ticks": ""
            },
            "type": "mesh3d"
           }
          ],
          "parcoords": [
           {
            "line": {
             "colorbar": {
              "outlinewidth": 0,
              "ticks": ""
             }
            },
            "type": "parcoords"
           }
          ],
          "pie": [
           {
            "automargin": true,
            "type": "pie"
           }
          ],
          "scatter": [
           {
            "fillpattern": {
             "fillmode": "overlay",
             "size": 10,
             "solidity": 0.2
            },
            "type": "scatter"
           }
          ],
          "scatter3d": [
           {
            "line": {
             "colorbar": {
              "outlinewidth": 0,
              "ticks": ""
             }
            },
            "marker": {
             "colorbar": {
              "outlinewidth": 0,
              "ticks": ""
             }
            },
            "type": "scatter3d"
           }
          ],
          "scattercarpet": [
           {
            "marker": {
             "colorbar": {
              "outlinewidth": 0,
              "ticks": ""
             }
            },
            "type": "scattercarpet"
           }
          ],
          "scattergeo": [
           {
            "marker": {
             "colorbar": {
              "outlinewidth": 0,
              "ticks": ""
             }
            },
            "type": "scattergeo"
           }
          ],
          "scattergl": [
           {
            "marker": {
             "colorbar": {
              "outlinewidth": 0,
              "ticks": ""
             }
            },
            "type": "scattergl"
           }
          ],
          "scattermapbox": [
           {
            "marker": {
             "colorbar": {
              "outlinewidth": 0,
              "ticks": ""
             }
            },
            "type": "scattermapbox"
           }
          ],
          "scatterpolar": [
           {
            "marker": {
             "colorbar": {
              "outlinewidth": 0,
              "ticks": ""
             }
            },
            "type": "scatterpolar"
           }
          ],
          "scatterpolargl": [
           {
            "marker": {
             "colorbar": {
              "outlinewidth": 0,
              "ticks": ""
             }
            },
            "type": "scatterpolargl"
           }
          ],
          "scatterternary": [
           {
            "marker": {
             "colorbar": {
              "outlinewidth": 0,
              "ticks": ""
             }
            },
            "type": "scatterternary"
           }
          ],
          "surface": [
           {
            "colorbar": {
             "outlinewidth": 0,
             "ticks": ""
            },
            "colorscale": [
             [
              0,
              "#0d0887"
             ],
             [
              0.1111111111111111,
              "#46039f"
             ],
             [
              0.2222222222222222,
              "#7201a8"
             ],
             [
              0.3333333333333333,
              "#9c179e"
             ],
             [
              0.4444444444444444,
              "#bd3786"
             ],
             [
              0.5555555555555556,
              "#d8576b"
             ],
             [
              0.6666666666666666,
              "#ed7953"
             ],
             [
              0.7777777777777778,
              "#fb9f3a"
             ],
             [
              0.8888888888888888,
              "#fdca26"
             ],
             [
              1,
              "#f0f921"
             ]
            ],
            "type": "surface"
           }
          ],
          "table": [
           {
            "cells": {
             "fill": {
              "color": "#EBF0F8"
             },
             "line": {
              "color": "white"
             }
            },
            "header": {
             "fill": {
              "color": "#C8D4E3"
             },
             "line": {
              "color": "white"
             }
            },
            "type": "table"
           }
          ]
         },
         "layout": {
          "annotationdefaults": {
           "arrowcolor": "#2a3f5f",
           "arrowhead": 0,
           "arrowwidth": 1
          },
          "autotypenumbers": "strict",
          "coloraxis": {
           "colorbar": {
            "outlinewidth": 0,
            "ticks": ""
           }
          },
          "colorscale": {
           "diverging": [
            [
             0,
             "#8e0152"
            ],
            [
             0.1,
             "#c51b7d"
            ],
            [
             0.2,
             "#de77ae"
            ],
            [
             0.3,
             "#f1b6da"
            ],
            [
             0.4,
             "#fde0ef"
            ],
            [
             0.5,
             "#f7f7f7"
            ],
            [
             0.6,
             "#e6f5d0"
            ],
            [
             0.7,
             "#b8e186"
            ],
            [
             0.8,
             "#7fbc41"
            ],
            [
             0.9,
             "#4d9221"
            ],
            [
             1,
             "#276419"
            ]
           ],
           "sequential": [
            [
             0,
             "#0d0887"
            ],
            [
             0.1111111111111111,
             "#46039f"
            ],
            [
             0.2222222222222222,
             "#7201a8"
            ],
            [
             0.3333333333333333,
             "#9c179e"
            ],
            [
             0.4444444444444444,
             "#bd3786"
            ],
            [
             0.5555555555555556,
             "#d8576b"
            ],
            [
             0.6666666666666666,
             "#ed7953"
            ],
            [
             0.7777777777777778,
             "#fb9f3a"
            ],
            [
             0.8888888888888888,
             "#fdca26"
            ],
            [
             1,
             "#f0f921"
            ]
           ],
           "sequentialminus": [
            [
             0,
             "#0d0887"
            ],
            [
             0.1111111111111111,
             "#46039f"
            ],
            [
             0.2222222222222222,
             "#7201a8"
            ],
            [
             0.3333333333333333,
             "#9c179e"
            ],
            [
             0.4444444444444444,
             "#bd3786"
            ],
            [
             0.5555555555555556,
             "#d8576b"
            ],
            [
             0.6666666666666666,
             "#ed7953"
            ],
            [
             0.7777777777777778,
             "#fb9f3a"
            ],
            [
             0.8888888888888888,
             "#fdca26"
            ],
            [
             1,
             "#f0f921"
            ]
           ]
          },
          "colorway": [
           "#636efa",
           "#EF553B",
           "#00cc96",
           "#ab63fa",
           "#FFA15A",
           "#19d3f3",
           "#FF6692",
           "#B6E880",
           "#FF97FF",
           "#FECB52"
          ],
          "font": {
           "color": "#2a3f5f"
          },
          "geo": {
           "bgcolor": "white",
           "lakecolor": "white",
           "landcolor": "#E5ECF6",
           "showlakes": true,
           "showland": true,
           "subunitcolor": "white"
          },
          "hoverlabel": {
           "align": "left"
          },
          "hovermode": "closest",
          "mapbox": {
           "style": "light"
          },
          "paper_bgcolor": "white",
          "plot_bgcolor": "#E5ECF6",
          "polar": {
           "angularaxis": {
            "gridcolor": "white",
            "linecolor": "white",
            "ticks": ""
           },
           "bgcolor": "#E5ECF6",
           "radialaxis": {
            "gridcolor": "white",
            "linecolor": "white",
            "ticks": ""
           }
          },
          "scene": {
           "xaxis": {
            "backgroundcolor": "#E5ECF6",
            "gridcolor": "white",
            "gridwidth": 2,
            "linecolor": "white",
            "showbackground": true,
            "ticks": "",
            "zerolinecolor": "white"
           },
           "yaxis": {
            "backgroundcolor": "#E5ECF6",
            "gridcolor": "white",
            "gridwidth": 2,
            "linecolor": "white",
            "showbackground": true,
            "ticks": "",
            "zerolinecolor": "white"
           },
           "zaxis": {
            "backgroundcolor": "#E5ECF6",
            "gridcolor": "white",
            "gridwidth": 2,
            "linecolor": "white",
            "showbackground": true,
            "ticks": "",
            "zerolinecolor": "white"
           }
          },
          "shapedefaults": {
           "line": {
            "color": "#2a3f5f"
           }
          },
          "ternary": {
           "aaxis": {
            "gridcolor": "white",
            "linecolor": "white",
            "ticks": ""
           },
           "baxis": {
            "gridcolor": "white",
            "linecolor": "white",
            "ticks": ""
           },
           "bgcolor": "#E5ECF6",
           "caxis": {
            "gridcolor": "white",
            "linecolor": "white",
            "ticks": ""
           }
          },
          "title": {
           "x": 0.05
          },
          "xaxis": {
           "automargin": true,
           "gridcolor": "white",
           "linecolor": "white",
           "ticks": "",
           "title": {
            "standoff": 15
           },
           "zerolinecolor": "white",
           "zerolinewidth": 2
          },
          "yaxis": {
           "automargin": true,
           "gridcolor": "white",
           "linecolor": "white",
           "ticks": "",
           "title": {
            "standoff": 15
           },
           "zerolinecolor": "white",
           "zerolinewidth": 2
          }
         }
        },
        "xaxis": {
         "anchor": "y",
         "domain": [
          0,
          0.49
         ],
         "title": {
          "text": ""
         }
        },
        "xaxis2": {
         "anchor": "y2",
         "domain": [
          0.51,
          1
         ],
         "matches": "x",
         "title": {
          "text": ""
         }
        },
        "yaxis": {
         "anchor": "x",
         "domain": [
          0,
          1
         ],
         "title": {
          "text": "Value"
         }
        },
        "yaxis2": {
         "anchor": "x2",
         "domain": [
          0,
          1
         ],
         "matches": "y",
         "showticklabels": false
        }
       }
      }
     },
     "metadata": {},
     "output_type": "display_data"
    }
   ],
   "source": [
    "plot_barplot(yahoo_df, 'yahoo', 'Recall', methods=methods, propensities=_propensities)\n"
   ]
  },
  {
   "attachments": {},
   "cell_type": "markdown",
   "metadata": {},
   "source": [
    "## Plots for NGCF results"
   ]
  },
  {
   "cell_type": "code",
   "execution_count": 14,
   "metadata": {},
   "outputs": [],
   "source": [
    "propensities = ['original']\n",
    "_propensities = [ALL_PROPENSITIES[p] for p in propensities]\n",
    "methods = ['bpr', 'ubpr', 'ngcf_bpr', 'ngcf_ubpr']      "
   ]
  },
  {
   "cell_type": "code",
   "execution_count": 15,
   "metadata": {},
   "outputs": [],
   "source": [
    "coat_df =load_results(\"logs\", \"coat\", propensities, methods)"
   ]
  },
  {
   "attachments": {},
   "cell_type": "markdown",
   "metadata": {},
   "source": [
    "### DCG@K"
   ]
  },
  {
   "cell_type": "code",
   "execution_count": 16,
   "metadata": {},
   "outputs": [
    {
     "data": {
      "application/vnd.plotly.v1+json": {
       "config": {
        "plotlyServerURL": "https://plot.ly"
       },
       "data": [
        {
         "alignmentgroup": "True",
         "hovertemplate": "Method=bpr<br>Metric@K=%{x}<br>Value=%{y}<extra></extra>",
         "legendgroup": "bpr",
         "marker": {
          "color": "#636efa"
         },
         "name": "bpr",
         "notched": false,
         "offsetgroup": "bpr",
         "orientation": "v",
         "quartilemethod": "exclusive",
         "showlegend": true,
         "type": "box",
         "x": [
          "DCG@3",
          "DCG@3",
          "DCG@3",
          "DCG@3",
          "DCG@3",
          "DCG@3",
          "DCG@3",
          "DCG@3",
          "DCG@3",
          "DCG@3",
          "DCG@5",
          "DCG@5",
          "DCG@5",
          "DCG@5",
          "DCG@5",
          "DCG@5",
          "DCG@5",
          "DCG@5",
          "DCG@5",
          "DCG@5",
          "DCG@8",
          "DCG@8",
          "DCG@8",
          "DCG@8",
          "DCG@8",
          "DCG@8",
          "DCG@8",
          "DCG@8",
          "DCG@8",
          "DCG@8"
         ],
         "x0": " ",
         "xaxis": "x",
         "y": [
          0.108794932914048,
          0.1194393915352022,
          0.1002814608238047,
          0.1126934913766916,
          0.1157492193177495,
          0.1007206355905181,
          0.1070587806492699,
          0.1089235070601893,
          0.1032040072157725,
          0.0906223085410319,
          0.1323198386097697,
          0.1380067783865629,
          0.1208377369636105,
          0.134132158287854,
          0.1388188203291305,
          0.1208623099998692,
          0.1241711358555762,
          0.1347430898245595,
          0.1185394233385797,
          0.1237082641952888,
          0.146507725376981,
          0.1582765104702015,
          0.1479780852751365,
          0.1556943721520758,
          0.1636322906698723,
          0.1475961104727632,
          0.1448067031904822,
          0.1502714786838173,
          0.1436042954976658,
          0.1406312232544561
         ],
         "y0": " ",
         "yaxis": "y"
        },
        {
         "alignmentgroup": "True",
         "hovertemplate": "Method=ubpr<br>Metric@K=%{x}<br>Value=%{y}<extra></extra>",
         "legendgroup": "ubpr",
         "marker": {
          "color": "#EF553B"
         },
         "name": "ubpr",
         "notched": false,
         "offsetgroup": "ubpr",
         "orientation": "v",
         "quartilemethod": "exclusive",
         "showlegend": true,
         "type": "box",
         "x": [
          "DCG@3",
          "DCG@3",
          "DCG@3",
          "DCG@3",
          "DCG@3",
          "DCG@3",
          "DCG@3",
          "DCG@3",
          "DCG@3",
          "DCG@3",
          "DCG@5",
          "DCG@5",
          "DCG@5",
          "DCG@5",
          "DCG@5",
          "DCG@5",
          "DCG@5",
          "DCG@5",
          "DCG@5",
          "DCG@5",
          "DCG@8",
          "DCG@8",
          "DCG@8",
          "DCG@8",
          "DCG@8",
          "DCG@8",
          "DCG@8",
          "DCG@8",
          "DCG@8",
          "DCG@8"
         ],
         "x0": " ",
         "xaxis": "x",
         "y": [
          0.1059299848474088,
          0.1077362676889863,
          0.1176456621868654,
          0.1074723671184813,
          0.1129653528813588,
          0.1183649621465668,
          0.1047636565284626,
          0.110714212913193,
          0.1127945930556589,
          0.1137127973511522,
          0.1284980980293749,
          0.1399177685513757,
          0.1363536180178917,
          0.1296570761280447,
          0.1299763385949409,
          0.1418819801363702,
          0.1297945486811645,
          0.1344589058356669,
          0.1299725487736878,
          0.1291195054149735,
          0.1466490664318094,
          0.1557376178180082,
          0.1558343002338548,
          0.1584791943335488,
          0.1553732660114012,
          0.1569428919636031,
          0.1473278321537615,
          0.1580525648176797,
          0.1485582930827185,
          0.1444917395011017
         ],
         "y0": " ",
         "yaxis": "y"
        },
        {
         "alignmentgroup": "True",
         "hovertemplate": "Method=ngcf_bpr<br>Metric@K=%{x}<br>Value=%{y}<extra></extra>",
         "legendgroup": "ngcf_bpr",
         "marker": {
          "color": "#00cc96"
         },
         "name": "ngcf_bpr",
         "notched": false,
         "offsetgroup": "ngcf_bpr",
         "orientation": "v",
         "quartilemethod": "exclusive",
         "showlegend": true,
         "type": "box",
         "x": [
          "DCG@3",
          "DCG@3",
          "DCG@3",
          "DCG@3",
          "DCG@3",
          "DCG@3",
          "DCG@3",
          "DCG@3",
          "DCG@3",
          "DCG@3",
          "DCG@5",
          "DCG@5",
          "DCG@5",
          "DCG@5",
          "DCG@5",
          "DCG@5",
          "DCG@5",
          "DCG@5",
          "DCG@5",
          "DCG@5",
          "DCG@8",
          "DCG@8",
          "DCG@8",
          "DCG@8",
          "DCG@8",
          "DCG@8",
          "DCG@8",
          "DCG@8",
          "DCG@8",
          "DCG@8"
         ],
         "x0": " ",
         "xaxis": "x",
         "y": [
          0.1249439216394861,
          0.1247180837241533,
          0.1212307435087239,
          0.1285221600884116,
          0.1105703263355037,
          0.1301712803125645,
          0.1208342087000701,
          0.1280105010178726,
          0.115135953600385,
          0.1184100010474486,
          0.1490584077063058,
          0.1488320992135953,
          0.1392445091589404,
          0.146003643205203,
          0.1412389111025126,
          0.1430520528533428,
          0.1417343527509413,
          0.148792530765234,
          0.1304524060753349,
          0.136489177297402,
          0.1631770000060349,
          0.1648996821721534,
          0.1614618195614951,
          0.1654703341145792,
          0.1605548503660232,
          0.1620743923583379,
          0.1593300050993737,
          0.1665646648202912,
          0.1549506294789539,
          0.1533483959913781
         ],
         "y0": " ",
         "yaxis": "y"
        },
        {
         "alignmentgroup": "True",
         "hovertemplate": "Method=ngcf_ubpr<br>Metric@K=%{x}<br>Value=%{y}<extra></extra>",
         "legendgroup": "ngcf_ubpr",
         "marker": {
          "color": "#ab63fa"
         },
         "name": "ngcf_ubpr",
         "notched": false,
         "offsetgroup": "ngcf_ubpr",
         "orientation": "v",
         "quartilemethod": "exclusive",
         "showlegend": true,
         "type": "box",
         "x": [
          "DCG@3",
          "DCG@3",
          "DCG@3",
          "DCG@3",
          "DCG@3",
          "DCG@3",
          "DCG@3",
          "DCG@3",
          "DCG@3",
          "DCG@3",
          "DCG@5",
          "DCG@5",
          "DCG@5",
          "DCG@5",
          "DCG@5",
          "DCG@5",
          "DCG@5",
          "DCG@5",
          "DCG@5",
          "DCG@5",
          "DCG@8",
          "DCG@8",
          "DCG@8",
          "DCG@8",
          "DCG@8",
          "DCG@8",
          "DCG@8",
          "DCG@8",
          "DCG@8",
          "DCG@8"
         ],
         "x0": " ",
         "xaxis": "x",
         "y": [
          0.1219024070902786,
          0.1320105428317214,
          0.1097250061132669,
          0.129730803531234,
          0.1246933101356204,
          0.1217068377535242,
          0.1219595693430446,
          0.1210451179132127,
          0.1164370027039699,
          0.1107889787183915,
          0.1524227904167432,
          0.1457410786644273,
          0.1367086163576109,
          0.150854160696761,
          0.1536273939673474,
          0.1437748766926667,
          0.1417283767756372,
          0.1430051834050958,
          0.1448611283133302,
          0.1352926692271384,
          0.1651702072550042,
          0.1709567145784128,
          0.1586556784621456,
          0.1689771745796333,
          0.1681503179073112,
          0.1654147466205827,
          0.1612715530764461,
          0.1629402321269649,
          0.164008528375814,
          0.1562583061184456
         ],
         "y0": " ",
         "yaxis": "y"
        }
       ],
       "layout": {
        "boxmode": "group",
        "legend": {
         "title": {
          "text": "Method"
         },
         "tracegroupgap": 0
        },
        "margin": {
         "t": 60
        },
        "template": {
         "data": {
          "bar": [
           {
            "error_x": {
             "color": "#2a3f5f"
            },
            "error_y": {
             "color": "#2a3f5f"
            },
            "marker": {
             "line": {
              "color": "#E5ECF6",
              "width": 0.5
             },
             "pattern": {
              "fillmode": "overlay",
              "size": 10,
              "solidity": 0.2
             }
            },
            "type": "bar"
           }
          ],
          "barpolar": [
           {
            "marker": {
             "line": {
              "color": "#E5ECF6",
              "width": 0.5
             },
             "pattern": {
              "fillmode": "overlay",
              "size": 10,
              "solidity": 0.2
             }
            },
            "type": "barpolar"
           }
          ],
          "carpet": [
           {
            "aaxis": {
             "endlinecolor": "#2a3f5f",
             "gridcolor": "white",
             "linecolor": "white",
             "minorgridcolor": "white",
             "startlinecolor": "#2a3f5f"
            },
            "baxis": {
             "endlinecolor": "#2a3f5f",
             "gridcolor": "white",
             "linecolor": "white",
             "minorgridcolor": "white",
             "startlinecolor": "#2a3f5f"
            },
            "type": "carpet"
           }
          ],
          "choropleth": [
           {
            "colorbar": {
             "outlinewidth": 0,
             "ticks": ""
            },
            "type": "choropleth"
           }
          ],
          "contour": [
           {
            "colorbar": {
             "outlinewidth": 0,
             "ticks": ""
            },
            "colorscale": [
             [
              0,
              "#0d0887"
             ],
             [
              0.1111111111111111,
              "#46039f"
             ],
             [
              0.2222222222222222,
              "#7201a8"
             ],
             [
              0.3333333333333333,
              "#9c179e"
             ],
             [
              0.4444444444444444,
              "#bd3786"
             ],
             [
              0.5555555555555556,
              "#d8576b"
             ],
             [
              0.6666666666666666,
              "#ed7953"
             ],
             [
              0.7777777777777778,
              "#fb9f3a"
             ],
             [
              0.8888888888888888,
              "#fdca26"
             ],
             [
              1,
              "#f0f921"
             ]
            ],
            "type": "contour"
           }
          ],
          "contourcarpet": [
           {
            "colorbar": {
             "outlinewidth": 0,
             "ticks": ""
            },
            "type": "contourcarpet"
           }
          ],
          "heatmap": [
           {
            "colorbar": {
             "outlinewidth": 0,
             "ticks": ""
            },
            "colorscale": [
             [
              0,
              "#0d0887"
             ],
             [
              0.1111111111111111,
              "#46039f"
             ],
             [
              0.2222222222222222,
              "#7201a8"
             ],
             [
              0.3333333333333333,
              "#9c179e"
             ],
             [
              0.4444444444444444,
              "#bd3786"
             ],
             [
              0.5555555555555556,
              "#d8576b"
             ],
             [
              0.6666666666666666,
              "#ed7953"
             ],
             [
              0.7777777777777778,
              "#fb9f3a"
             ],
             [
              0.8888888888888888,
              "#fdca26"
             ],
             [
              1,
              "#f0f921"
             ]
            ],
            "type": "heatmap"
           }
          ],
          "heatmapgl": [
           {
            "colorbar": {
             "outlinewidth": 0,
             "ticks": ""
            },
            "colorscale": [
             [
              0,
              "#0d0887"
             ],
             [
              0.1111111111111111,
              "#46039f"
             ],
             [
              0.2222222222222222,
              "#7201a8"
             ],
             [
              0.3333333333333333,
              "#9c179e"
             ],
             [
              0.4444444444444444,
              "#bd3786"
             ],
             [
              0.5555555555555556,
              "#d8576b"
             ],
             [
              0.6666666666666666,
              "#ed7953"
             ],
             [
              0.7777777777777778,
              "#fb9f3a"
             ],
             [
              0.8888888888888888,
              "#fdca26"
             ],
             [
              1,
              "#f0f921"
             ]
            ],
            "type": "heatmapgl"
           }
          ],
          "histogram": [
           {
            "marker": {
             "pattern": {
              "fillmode": "overlay",
              "size": 10,
              "solidity": 0.2
             }
            },
            "type": "histogram"
           }
          ],
          "histogram2d": [
           {
            "colorbar": {
             "outlinewidth": 0,
             "ticks": ""
            },
            "colorscale": [
             [
              0,
              "#0d0887"
             ],
             [
              0.1111111111111111,
              "#46039f"
             ],
             [
              0.2222222222222222,
              "#7201a8"
             ],
             [
              0.3333333333333333,
              "#9c179e"
             ],
             [
              0.4444444444444444,
              "#bd3786"
             ],
             [
              0.5555555555555556,
              "#d8576b"
             ],
             [
              0.6666666666666666,
              "#ed7953"
             ],
             [
              0.7777777777777778,
              "#fb9f3a"
             ],
             [
              0.8888888888888888,
              "#fdca26"
             ],
             [
              1,
              "#f0f921"
             ]
            ],
            "type": "histogram2d"
           }
          ],
          "histogram2dcontour": [
           {
            "colorbar": {
             "outlinewidth": 0,
             "ticks": ""
            },
            "colorscale": [
             [
              0,
              "#0d0887"
             ],
             [
              0.1111111111111111,
              "#46039f"
             ],
             [
              0.2222222222222222,
              "#7201a8"
             ],
             [
              0.3333333333333333,
              "#9c179e"
             ],
             [
              0.4444444444444444,
              "#bd3786"
             ],
             [
              0.5555555555555556,
              "#d8576b"
             ],
             [
              0.6666666666666666,
              "#ed7953"
             ],
             [
              0.7777777777777778,
              "#fb9f3a"
             ],
             [
              0.8888888888888888,
              "#fdca26"
             ],
             [
              1,
              "#f0f921"
             ]
            ],
            "type": "histogram2dcontour"
           }
          ],
          "mesh3d": [
           {
            "colorbar": {
             "outlinewidth": 0,
             "ticks": ""
            },
            "type": "mesh3d"
           }
          ],
          "parcoords": [
           {
            "line": {
             "colorbar": {
              "outlinewidth": 0,
              "ticks": ""
             }
            },
            "type": "parcoords"
           }
          ],
          "pie": [
           {
            "automargin": true,
            "type": "pie"
           }
          ],
          "scatter": [
           {
            "fillpattern": {
             "fillmode": "overlay",
             "size": 10,
             "solidity": 0.2
            },
            "type": "scatter"
           }
          ],
          "scatter3d": [
           {
            "line": {
             "colorbar": {
              "outlinewidth": 0,
              "ticks": ""
             }
            },
            "marker": {
             "colorbar": {
              "outlinewidth": 0,
              "ticks": ""
             }
            },
            "type": "scatter3d"
           }
          ],
          "scattercarpet": [
           {
            "marker": {
             "colorbar": {
              "outlinewidth": 0,
              "ticks": ""
             }
            },
            "type": "scattercarpet"
           }
          ],
          "scattergeo": [
           {
            "marker": {
             "colorbar": {
              "outlinewidth": 0,
              "ticks": ""
             }
            },
            "type": "scattergeo"
           }
          ],
          "scattergl": [
           {
            "marker": {
             "colorbar": {
              "outlinewidth": 0,
              "ticks": ""
             }
            },
            "type": "scattergl"
           }
          ],
          "scattermapbox": [
           {
            "marker": {
             "colorbar": {
              "outlinewidth": 0,
              "ticks": ""
             }
            },
            "type": "scattermapbox"
           }
          ],
          "scatterpolar": [
           {
            "marker": {
             "colorbar": {
              "outlinewidth": 0,
              "ticks": ""
             }
            },
            "type": "scatterpolar"
           }
          ],
          "scatterpolargl": [
           {
            "marker": {
             "colorbar": {
              "outlinewidth": 0,
              "ticks": ""
             }
            },
            "type": "scatterpolargl"
           }
          ],
          "scatterternary": [
           {
            "marker": {
             "colorbar": {
              "outlinewidth": 0,
              "ticks": ""
             }
            },
            "type": "scatterternary"
           }
          ],
          "surface": [
           {
            "colorbar": {
             "outlinewidth": 0,
             "ticks": ""
            },
            "colorscale": [
             [
              0,
              "#0d0887"
             ],
             [
              0.1111111111111111,
              "#46039f"
             ],
             [
              0.2222222222222222,
              "#7201a8"
             ],
             [
              0.3333333333333333,
              "#9c179e"
             ],
             [
              0.4444444444444444,
              "#bd3786"
             ],
             [
              0.5555555555555556,
              "#d8576b"
             ],
             [
              0.6666666666666666,
              "#ed7953"
             ],
             [
              0.7777777777777778,
              "#fb9f3a"
             ],
             [
              0.8888888888888888,
              "#fdca26"
             ],
             [
              1,
              "#f0f921"
             ]
            ],
            "type": "surface"
           }
          ],
          "table": [
           {
            "cells": {
             "fill": {
              "color": "#EBF0F8"
             },
             "line": {
              "color": "white"
             }
            },
            "header": {
             "fill": {
              "color": "#C8D4E3"
             },
             "line": {
              "color": "white"
             }
            },
            "type": "table"
           }
          ]
         },
         "layout": {
          "annotationdefaults": {
           "arrowcolor": "#2a3f5f",
           "arrowhead": 0,
           "arrowwidth": 1
          },
          "autotypenumbers": "strict",
          "coloraxis": {
           "colorbar": {
            "outlinewidth": 0,
            "ticks": ""
           }
          },
          "colorscale": {
           "diverging": [
            [
             0,
             "#8e0152"
            ],
            [
             0.1,
             "#c51b7d"
            ],
            [
             0.2,
             "#de77ae"
            ],
            [
             0.3,
             "#f1b6da"
            ],
            [
             0.4,
             "#fde0ef"
            ],
            [
             0.5,
             "#f7f7f7"
            ],
            [
             0.6,
             "#e6f5d0"
            ],
            [
             0.7,
             "#b8e186"
            ],
            [
             0.8,
             "#7fbc41"
            ],
            [
             0.9,
             "#4d9221"
            ],
            [
             1,
             "#276419"
            ]
           ],
           "sequential": [
            [
             0,
             "#0d0887"
            ],
            [
             0.1111111111111111,
             "#46039f"
            ],
            [
             0.2222222222222222,
             "#7201a8"
            ],
            [
             0.3333333333333333,
             "#9c179e"
            ],
            [
             0.4444444444444444,
             "#bd3786"
            ],
            [
             0.5555555555555556,
             "#d8576b"
            ],
            [
             0.6666666666666666,
             "#ed7953"
            ],
            [
             0.7777777777777778,
             "#fb9f3a"
            ],
            [
             0.8888888888888888,
             "#fdca26"
            ],
            [
             1,
             "#f0f921"
            ]
           ],
           "sequentialminus": [
            [
             0,
             "#0d0887"
            ],
            [
             0.1111111111111111,
             "#46039f"
            ],
            [
             0.2222222222222222,
             "#7201a8"
            ],
            [
             0.3333333333333333,
             "#9c179e"
            ],
            [
             0.4444444444444444,
             "#bd3786"
            ],
            [
             0.5555555555555556,
             "#d8576b"
            ],
            [
             0.6666666666666666,
             "#ed7953"
            ],
            [
             0.7777777777777778,
             "#fb9f3a"
            ],
            [
             0.8888888888888888,
             "#fdca26"
            ],
            [
             1,
             "#f0f921"
            ]
           ]
          },
          "colorway": [
           "#636efa",
           "#EF553B",
           "#00cc96",
           "#ab63fa",
           "#FFA15A",
           "#19d3f3",
           "#FF6692",
           "#B6E880",
           "#FF97FF",
           "#FECB52"
          ],
          "font": {
           "color": "#2a3f5f"
          },
          "geo": {
           "bgcolor": "white",
           "lakecolor": "white",
           "landcolor": "#E5ECF6",
           "showlakes": true,
           "showland": true,
           "subunitcolor": "white"
          },
          "hoverlabel": {
           "align": "left"
          },
          "hovermode": "closest",
          "mapbox": {
           "style": "light"
          },
          "paper_bgcolor": "white",
          "plot_bgcolor": "#E5ECF6",
          "polar": {
           "angularaxis": {
            "gridcolor": "white",
            "linecolor": "white",
            "ticks": ""
           },
           "bgcolor": "#E5ECF6",
           "radialaxis": {
            "gridcolor": "white",
            "linecolor": "white",
            "ticks": ""
           }
          },
          "scene": {
           "xaxis": {
            "backgroundcolor": "#E5ECF6",
            "gridcolor": "white",
            "gridwidth": 2,
            "linecolor": "white",
            "showbackground": true,
            "ticks": "",
            "zerolinecolor": "white"
           },
           "yaxis": {
            "backgroundcolor": "#E5ECF6",
            "gridcolor": "white",
            "gridwidth": 2,
            "linecolor": "white",
            "showbackground": true,
            "ticks": "",
            "zerolinecolor": "white"
           },
           "zaxis": {
            "backgroundcolor": "#E5ECF6",
            "gridcolor": "white",
            "gridwidth": 2,
            "linecolor": "white",
            "showbackground": true,
            "ticks": "",
            "zerolinecolor": "white"
           }
          },
          "shapedefaults": {
           "line": {
            "color": "#2a3f5f"
           }
          },
          "ternary": {
           "aaxis": {
            "gridcolor": "white",
            "linecolor": "white",
            "ticks": ""
           },
           "baxis": {
            "gridcolor": "white",
            "linecolor": "white",
            "ticks": ""
           },
           "bgcolor": "#E5ECF6",
           "caxis": {
            "gridcolor": "white",
            "linecolor": "white",
            "ticks": ""
           }
          },
          "title": {
           "x": 0.05
          },
          "xaxis": {
           "automargin": true,
           "gridcolor": "white",
           "linecolor": "white",
           "ticks": "",
           "title": {
            "standoff": 15
           },
           "zerolinecolor": "white",
           "zerolinewidth": 2
          },
          "yaxis": {
           "automargin": true,
           "gridcolor": "white",
           "linecolor": "white",
           "ticks": "",
           "title": {
            "standoff": 15
           },
           "zerolinecolor": "white",
           "zerolinewidth": 2
          }
         }
        },
        "xaxis": {
         "anchor": "y",
         "domain": [
          0,
          1
         ],
         "title": {
          "text": ""
         }
        },
        "yaxis": {
         "anchor": "x",
         "domain": [
          0,
          1
         ],
         "title": {
          "text": "Value"
         }
        }
       }
      }
     },
     "metadata": {},
     "output_type": "display_data"
    }
   ],
   "source": [
    "\n",
    "plot_metric(coat_df, 'coat', 'DCG', methods=methods, propensities=_propensities)"
   ]
  },
  {
   "attachments": {},
   "cell_type": "markdown",
   "metadata": {},
   "source": [
    "### MAP@K"
   ]
  },
  {
   "cell_type": "code",
   "execution_count": 17,
   "metadata": {},
   "outputs": [
    {
     "data": {
      "application/vnd.plotly.v1+json": {
       "config": {
        "plotlyServerURL": "https://plot.ly"
       },
       "data": [
        {
         "alignmentgroup": "True",
         "hovertemplate": "Method=bpr<br>Metric@K=%{x}<br>Value=%{y}<extra></extra>",
         "legendgroup": "bpr",
         "marker": {
          "color": "#636efa"
         },
         "name": "bpr",
         "notched": false,
         "offsetgroup": "bpr",
         "orientation": "v",
         "quartilemethod": "exclusive",
         "showlegend": true,
         "type": "box",
         "x": [
          "MAP@3",
          "MAP@3",
          "MAP@3",
          "MAP@3",
          "MAP@3",
          "MAP@3",
          "MAP@3",
          "MAP@3",
          "MAP@3",
          "MAP@3",
          "MAP@5",
          "MAP@5",
          "MAP@5",
          "MAP@5",
          "MAP@5",
          "MAP@5",
          "MAP@5",
          "MAP@5",
          "MAP@5",
          "MAP@5",
          "MAP@8",
          "MAP@8",
          "MAP@8",
          "MAP@8",
          "MAP@8",
          "MAP@8",
          "MAP@8",
          "MAP@8",
          "MAP@8",
          "MAP@8"
         ],
         "x0": " ",
         "xaxis": "x",
         "y": [
          0.0918803594234628,
          0.100322021528918,
          0.0833043696405765,
          0.0924646506112023,
          0.0956846378398102,
          0.0856045885787265,
          0.0858730158730158,
          0.0920815088487502,
          0.0882149698960043,
          0.0819649698960043,
          0.1072210819193578,
          0.1121646597336252,
          0.0978452837073526,
          0.1064231891990512,
          0.1100636745119503,
          0.0989565316548075,
          0.0972876299945265,
          0.1081525269111476,
          0.0992993979200875,
          0.103693623426382,
          0.1165676883780332,
          0.1256536932780775,
          0.1124076354679802,
          0.1207431125706987,
          0.124525394544791,
          0.1154432585294654,
          0.1103689563948184,
          0.1186909779237365,
          0.112839060911721,
          0.1143401751505199
         ],
         "y0": " ",
         "yaxis": "y"
        },
        {
         "alignmentgroup": "True",
         "hovertemplate": "Method=ubpr<br>Metric@K=%{x}<br>Value=%{y}<extra></extra>",
         "legendgroup": "ubpr",
         "marker": {
          "color": "#EF553B"
         },
         "name": "ubpr",
         "notched": false,
         "offsetgroup": "ubpr",
         "orientation": "v",
         "quartilemethod": "exclusive",
         "showlegend": true,
         "type": "box",
         "x": [
          "MAP@3",
          "MAP@3",
          "MAP@3",
          "MAP@3",
          "MAP@3",
          "MAP@3",
          "MAP@3",
          "MAP@3",
          "MAP@3",
          "MAP@3",
          "MAP@5",
          "MAP@5",
          "MAP@5",
          "MAP@5",
          "MAP@5",
          "MAP@5",
          "MAP@5",
          "MAP@5",
          "MAP@5",
          "MAP@5",
          "MAP@8",
          "MAP@8",
          "MAP@8",
          "MAP@8",
          "MAP@8",
          "MAP@8",
          "MAP@8",
          "MAP@8",
          "MAP@8",
          "MAP@8"
         ],
         "x0": " ",
         "xaxis": "x",
         "y": [
          0.0948433223864258,
          0.0916963145411421,
          0.1041632457580733,
          0.091337575259989,
          0.0991995073891625,
          0.0989620963327859,
          0.0878881590950556,
          0.0955696953110746,
          0.0987965243568691,
          0.0970826491516146,
          0.1109723590585659,
          0.1126941251596424,
          0.1177701833607006,
          0.1078627531472359,
          0.1102153119868637,
          0.113045566502463,
          0.104760901295384,
          0.1114778097062579,
          0.1112302955665024,
          0.1084496442255062,
          0.1238377039513123,
          0.1225008926942424,
          0.130660851122058,
          0.1246132320744389,
          0.1272367757447806,
          0.1238803822295201,
          0.117176795814111,
          0.1261398239372377,
          0.1229506216279615,
          0.1186057516876482
         ],
         "y0": " ",
         "yaxis": "y"
        },
        {
         "alignmentgroup": "True",
         "hovertemplate": "Method=ngcf_bpr<br>Metric@K=%{x}<br>Value=%{y}<extra></extra>",
         "legendgroup": "ngcf_bpr",
         "marker": {
          "color": "#00cc96"
         },
         "name": "ngcf_bpr",
         "notched": false,
         "offsetgroup": "ngcf_bpr",
         "orientation": "v",
         "quartilemethod": "exclusive",
         "showlegend": true,
         "type": "box",
         "x": [
          "MAP@3",
          "MAP@3",
          "MAP@3",
          "MAP@3",
          "MAP@3",
          "MAP@3",
          "MAP@3",
          "MAP@3",
          "MAP@3",
          "MAP@3",
          "MAP@5",
          "MAP@5",
          "MAP@5",
          "MAP@5",
          "MAP@5",
          "MAP@5",
          "MAP@5",
          "MAP@5",
          "MAP@5",
          "MAP@5",
          "MAP@8",
          "MAP@8",
          "MAP@8",
          "MAP@8",
          "MAP@8",
          "MAP@8",
          "MAP@8",
          "MAP@8",
          "MAP@8",
          "MAP@8"
         ],
         "x0": " ",
         "xaxis": "x",
         "y": [
          0.1030281882868089,
          0.1032957033388067,
          0.1078906677613574,
          0.1051347837985769,
          0.0991440886699507,
          0.107805829228243,
          0.102656905674147,
          0.1135322021528918,
          0.1034585385878489,
          0.1047463966429483,
          0.120010194307608,
          0.1199913108921729,
          0.120390873015873,
          0.1157492474001094,
          0.1172788724685276,
          0.1169265188834154,
          0.1188079729976281,
          0.1269936143039591,
          0.1136845922276957,
          0.1175337529647874,
          0.1297074927672218,
          0.1297594058696275,
          0.1345283479292099,
          0.1297179411994683,
          0.1310450647692027,
          0.1292621360804858,
          0.1302659642401021,
          0.1386515983788151,
          0.1297611521620142,
          0.1275076888993145
         ],
         "y0": " ",
         "yaxis": "y"
        },
        {
         "alignmentgroup": "True",
         "hovertemplate": "Method=ngcf_ubpr<br>Metric@K=%{x}<br>Value=%{y}<extra></extra>",
         "legendgroup": "ngcf_ubpr",
         "marker": {
          "color": "#ab63fa"
         },
         "name": "ngcf_ubpr",
         "notched": false,
         "offsetgroup": "ngcf_ubpr",
         "orientation": "v",
         "quartilemethod": "exclusive",
         "showlegend": true,
         "type": "box",
         "x": [
          "MAP@3",
          "MAP@3",
          "MAP@3",
          "MAP@3",
          "MAP@3",
          "MAP@3",
          "MAP@3",
          "MAP@3",
          "MAP@3",
          "MAP@3",
          "MAP@5",
          "MAP@5",
          "MAP@5",
          "MAP@5",
          "MAP@5",
          "MAP@5",
          "MAP@5",
          "MAP@5",
          "MAP@5",
          "MAP@5",
          "MAP@8",
          "MAP@8",
          "MAP@8",
          "MAP@8",
          "MAP@8",
          "MAP@8",
          "MAP@8",
          "MAP@8",
          "MAP@8",
          "MAP@8"
         ],
         "x0": " ",
         "xaxis": "x",
         "y": [
          0.097491789819376,
          0.1071093322386425,
          0.0972208538587849,
          0.1040430578361612,
          0.1012342638204707,
          0.1035618500273672,
          0.106871921182266,
          0.0991887885422368,
          0.099732713008575,
          0.0932991242474001,
          0.1178702791461412,
          0.1173526272577996,
          0.1145389983579638,
          0.1193513501185914,
          0.119982074438971,
          0.1184163929939791,
          0.1192167487684729,
          0.1141846834519248,
          0.118499133369823,
          0.1090990695128626,
          0.1265224167253108,
          0.1334895173586676,
          0.1279696809758386,
          0.1314134738186462,
          0.1306007213230119,
          0.1328844172726561,
          0.1310655788177339,
          0.1282630662418223,
          0.1305640426668752,
          0.1234548554095967
         ],
         "y0": " ",
         "yaxis": "y"
        }
       ],
       "layout": {
        "boxmode": "group",
        "legend": {
         "title": {
          "text": "Method"
         },
         "tracegroupgap": 0
        },
        "margin": {
         "t": 60
        },
        "template": {
         "data": {
          "bar": [
           {
            "error_x": {
             "color": "#2a3f5f"
            },
            "error_y": {
             "color": "#2a3f5f"
            },
            "marker": {
             "line": {
              "color": "#E5ECF6",
              "width": 0.5
             },
             "pattern": {
              "fillmode": "overlay",
              "size": 10,
              "solidity": 0.2
             }
            },
            "type": "bar"
           }
          ],
          "barpolar": [
           {
            "marker": {
             "line": {
              "color": "#E5ECF6",
              "width": 0.5
             },
             "pattern": {
              "fillmode": "overlay",
              "size": 10,
              "solidity": 0.2
             }
            },
            "type": "barpolar"
           }
          ],
          "carpet": [
           {
            "aaxis": {
             "endlinecolor": "#2a3f5f",
             "gridcolor": "white",
             "linecolor": "white",
             "minorgridcolor": "white",
             "startlinecolor": "#2a3f5f"
            },
            "baxis": {
             "endlinecolor": "#2a3f5f",
             "gridcolor": "white",
             "linecolor": "white",
             "minorgridcolor": "white",
             "startlinecolor": "#2a3f5f"
            },
            "type": "carpet"
           }
          ],
          "choropleth": [
           {
            "colorbar": {
             "outlinewidth": 0,
             "ticks": ""
            },
            "type": "choropleth"
           }
          ],
          "contour": [
           {
            "colorbar": {
             "outlinewidth": 0,
             "ticks": ""
            },
            "colorscale": [
             [
              0,
              "#0d0887"
             ],
             [
              0.1111111111111111,
              "#46039f"
             ],
             [
              0.2222222222222222,
              "#7201a8"
             ],
             [
              0.3333333333333333,
              "#9c179e"
             ],
             [
              0.4444444444444444,
              "#bd3786"
             ],
             [
              0.5555555555555556,
              "#d8576b"
             ],
             [
              0.6666666666666666,
              "#ed7953"
             ],
             [
              0.7777777777777778,
              "#fb9f3a"
             ],
             [
              0.8888888888888888,
              "#fdca26"
             ],
             [
              1,
              "#f0f921"
             ]
            ],
            "type": "contour"
           }
          ],
          "contourcarpet": [
           {
            "colorbar": {
             "outlinewidth": 0,
             "ticks": ""
            },
            "type": "contourcarpet"
           }
          ],
          "heatmap": [
           {
            "colorbar": {
             "outlinewidth": 0,
             "ticks": ""
            },
            "colorscale": [
             [
              0,
              "#0d0887"
             ],
             [
              0.1111111111111111,
              "#46039f"
             ],
             [
              0.2222222222222222,
              "#7201a8"
             ],
             [
              0.3333333333333333,
              "#9c179e"
             ],
             [
              0.4444444444444444,
              "#bd3786"
             ],
             [
              0.5555555555555556,
              "#d8576b"
             ],
             [
              0.6666666666666666,
              "#ed7953"
             ],
             [
              0.7777777777777778,
              "#fb9f3a"
             ],
             [
              0.8888888888888888,
              "#fdca26"
             ],
             [
              1,
              "#f0f921"
             ]
            ],
            "type": "heatmap"
           }
          ],
          "heatmapgl": [
           {
            "colorbar": {
             "outlinewidth": 0,
             "ticks": ""
            },
            "colorscale": [
             [
              0,
              "#0d0887"
             ],
             [
              0.1111111111111111,
              "#46039f"
             ],
             [
              0.2222222222222222,
              "#7201a8"
             ],
             [
              0.3333333333333333,
              "#9c179e"
             ],
             [
              0.4444444444444444,
              "#bd3786"
             ],
             [
              0.5555555555555556,
              "#d8576b"
             ],
             [
              0.6666666666666666,
              "#ed7953"
             ],
             [
              0.7777777777777778,
              "#fb9f3a"
             ],
             [
              0.8888888888888888,
              "#fdca26"
             ],
             [
              1,
              "#f0f921"
             ]
            ],
            "type": "heatmapgl"
           }
          ],
          "histogram": [
           {
            "marker": {
             "pattern": {
              "fillmode": "overlay",
              "size": 10,
              "solidity": 0.2
             }
            },
            "type": "histogram"
           }
          ],
          "histogram2d": [
           {
            "colorbar": {
             "outlinewidth": 0,
             "ticks": ""
            },
            "colorscale": [
             [
              0,
              "#0d0887"
             ],
             [
              0.1111111111111111,
              "#46039f"
             ],
             [
              0.2222222222222222,
              "#7201a8"
             ],
             [
              0.3333333333333333,
              "#9c179e"
             ],
             [
              0.4444444444444444,
              "#bd3786"
             ],
             [
              0.5555555555555556,
              "#d8576b"
             ],
             [
              0.6666666666666666,
              "#ed7953"
             ],
             [
              0.7777777777777778,
              "#fb9f3a"
             ],
             [
              0.8888888888888888,
              "#fdca26"
             ],
             [
              1,
              "#f0f921"
             ]
            ],
            "type": "histogram2d"
           }
          ],
          "histogram2dcontour": [
           {
            "colorbar": {
             "outlinewidth": 0,
             "ticks": ""
            },
            "colorscale": [
             [
              0,
              "#0d0887"
             ],
             [
              0.1111111111111111,
              "#46039f"
             ],
             [
              0.2222222222222222,
              "#7201a8"
             ],
             [
              0.3333333333333333,
              "#9c179e"
             ],
             [
              0.4444444444444444,
              "#bd3786"
             ],
             [
              0.5555555555555556,
              "#d8576b"
             ],
             [
              0.6666666666666666,
              "#ed7953"
             ],
             [
              0.7777777777777778,
              "#fb9f3a"
             ],
             [
              0.8888888888888888,
              "#fdca26"
             ],
             [
              1,
              "#f0f921"
             ]
            ],
            "type": "histogram2dcontour"
           }
          ],
          "mesh3d": [
           {
            "colorbar": {
             "outlinewidth": 0,
             "ticks": ""
            },
            "type": "mesh3d"
           }
          ],
          "parcoords": [
           {
            "line": {
             "colorbar": {
              "outlinewidth": 0,
              "ticks": ""
             }
            },
            "type": "parcoords"
           }
          ],
          "pie": [
           {
            "automargin": true,
            "type": "pie"
           }
          ],
          "scatter": [
           {
            "fillpattern": {
             "fillmode": "overlay",
             "size": 10,
             "solidity": 0.2
            },
            "type": "scatter"
           }
          ],
          "scatter3d": [
           {
            "line": {
             "colorbar": {
              "outlinewidth": 0,
              "ticks": ""
             }
            },
            "marker": {
             "colorbar": {
              "outlinewidth": 0,
              "ticks": ""
             }
            },
            "type": "scatter3d"
           }
          ],
          "scattercarpet": [
           {
            "marker": {
             "colorbar": {
              "outlinewidth": 0,
              "ticks": ""
             }
            },
            "type": "scattercarpet"
           }
          ],
          "scattergeo": [
           {
            "marker": {
             "colorbar": {
              "outlinewidth": 0,
              "ticks": ""
             }
            },
            "type": "scattergeo"
           }
          ],
          "scattergl": [
           {
            "marker": {
             "colorbar": {
              "outlinewidth": 0,
              "ticks": ""
             }
            },
            "type": "scattergl"
           }
          ],
          "scattermapbox": [
           {
            "marker": {
             "colorbar": {
              "outlinewidth": 0,
              "ticks": ""
             }
            },
            "type": "scattermapbox"
           }
          ],
          "scatterpolar": [
           {
            "marker": {
             "colorbar": {
              "outlinewidth": 0,
              "ticks": ""
             }
            },
            "type": "scatterpolar"
           }
          ],
          "scatterpolargl": [
           {
            "marker": {
             "colorbar": {
              "outlinewidth": 0,
              "ticks": ""
             }
            },
            "type": "scatterpolargl"
           }
          ],
          "scatterternary": [
           {
            "marker": {
             "colorbar": {
              "outlinewidth": 0,
              "ticks": ""
             }
            },
            "type": "scatterternary"
           }
          ],
          "surface": [
           {
            "colorbar": {
             "outlinewidth": 0,
             "ticks": ""
            },
            "colorscale": [
             [
              0,
              "#0d0887"
             ],
             [
              0.1111111111111111,
              "#46039f"
             ],
             [
              0.2222222222222222,
              "#7201a8"
             ],
             [
              0.3333333333333333,
              "#9c179e"
             ],
             [
              0.4444444444444444,
              "#bd3786"
             ],
             [
              0.5555555555555556,
              "#d8576b"
             ],
             [
              0.6666666666666666,
              "#ed7953"
             ],
             [
              0.7777777777777778,
              "#fb9f3a"
             ],
             [
              0.8888888888888888,
              "#fdca26"
             ],
             [
              1,
              "#f0f921"
             ]
            ],
            "type": "surface"
           }
          ],
          "table": [
           {
            "cells": {
             "fill": {
              "color": "#EBF0F8"
             },
             "line": {
              "color": "white"
             }
            },
            "header": {
             "fill": {
              "color": "#C8D4E3"
             },
             "line": {
              "color": "white"
             }
            },
            "type": "table"
           }
          ]
         },
         "layout": {
          "annotationdefaults": {
           "arrowcolor": "#2a3f5f",
           "arrowhead": 0,
           "arrowwidth": 1
          },
          "autotypenumbers": "strict",
          "coloraxis": {
           "colorbar": {
            "outlinewidth": 0,
            "ticks": ""
           }
          },
          "colorscale": {
           "diverging": [
            [
             0,
             "#8e0152"
            ],
            [
             0.1,
             "#c51b7d"
            ],
            [
             0.2,
             "#de77ae"
            ],
            [
             0.3,
             "#f1b6da"
            ],
            [
             0.4,
             "#fde0ef"
            ],
            [
             0.5,
             "#f7f7f7"
            ],
            [
             0.6,
             "#e6f5d0"
            ],
            [
             0.7,
             "#b8e186"
            ],
            [
             0.8,
             "#7fbc41"
            ],
            [
             0.9,
             "#4d9221"
            ],
            [
             1,
             "#276419"
            ]
           ],
           "sequential": [
            [
             0,
             "#0d0887"
            ],
            [
             0.1111111111111111,
             "#46039f"
            ],
            [
             0.2222222222222222,
             "#7201a8"
            ],
            [
             0.3333333333333333,
             "#9c179e"
            ],
            [
             0.4444444444444444,
             "#bd3786"
            ],
            [
             0.5555555555555556,
             "#d8576b"
            ],
            [
             0.6666666666666666,
             "#ed7953"
            ],
            [
             0.7777777777777778,
             "#fb9f3a"
            ],
            [
             0.8888888888888888,
             "#fdca26"
            ],
            [
             1,
             "#f0f921"
            ]
           ],
           "sequentialminus": [
            [
             0,
             "#0d0887"
            ],
            [
             0.1111111111111111,
             "#46039f"
            ],
            [
             0.2222222222222222,
             "#7201a8"
            ],
            [
             0.3333333333333333,
             "#9c179e"
            ],
            [
             0.4444444444444444,
             "#bd3786"
            ],
            [
             0.5555555555555556,
             "#d8576b"
            ],
            [
             0.6666666666666666,
             "#ed7953"
            ],
            [
             0.7777777777777778,
             "#fb9f3a"
            ],
            [
             0.8888888888888888,
             "#fdca26"
            ],
            [
             1,
             "#f0f921"
            ]
           ]
          },
          "colorway": [
           "#636efa",
           "#EF553B",
           "#00cc96",
           "#ab63fa",
           "#FFA15A",
           "#19d3f3",
           "#FF6692",
           "#B6E880",
           "#FF97FF",
           "#FECB52"
          ],
          "font": {
           "color": "#2a3f5f"
          },
          "geo": {
           "bgcolor": "white",
           "lakecolor": "white",
           "landcolor": "#E5ECF6",
           "showlakes": true,
           "showland": true,
           "subunitcolor": "white"
          },
          "hoverlabel": {
           "align": "left"
          },
          "hovermode": "closest",
          "mapbox": {
           "style": "light"
          },
          "paper_bgcolor": "white",
          "plot_bgcolor": "#E5ECF6",
          "polar": {
           "angularaxis": {
            "gridcolor": "white",
            "linecolor": "white",
            "ticks": ""
           },
           "bgcolor": "#E5ECF6",
           "radialaxis": {
            "gridcolor": "white",
            "linecolor": "white",
            "ticks": ""
           }
          },
          "scene": {
           "xaxis": {
            "backgroundcolor": "#E5ECF6",
            "gridcolor": "white",
            "gridwidth": 2,
            "linecolor": "white",
            "showbackground": true,
            "ticks": "",
            "zerolinecolor": "white"
           },
           "yaxis": {
            "backgroundcolor": "#E5ECF6",
            "gridcolor": "white",
            "gridwidth": 2,
            "linecolor": "white",
            "showbackground": true,
            "ticks": "",
            "zerolinecolor": "white"
           },
           "zaxis": {
            "backgroundcolor": "#E5ECF6",
            "gridcolor": "white",
            "gridwidth": 2,
            "linecolor": "white",
            "showbackground": true,
            "ticks": "",
            "zerolinecolor": "white"
           }
          },
          "shapedefaults": {
           "line": {
            "color": "#2a3f5f"
           }
          },
          "ternary": {
           "aaxis": {
            "gridcolor": "white",
            "linecolor": "white",
            "ticks": ""
           },
           "baxis": {
            "gridcolor": "white",
            "linecolor": "white",
            "ticks": ""
           },
           "bgcolor": "#E5ECF6",
           "caxis": {
            "gridcolor": "white",
            "linecolor": "white",
            "ticks": ""
           }
          },
          "title": {
           "x": 0.05
          },
          "xaxis": {
           "automargin": true,
           "gridcolor": "white",
           "linecolor": "white",
           "ticks": "",
           "title": {
            "standoff": 15
           },
           "zerolinecolor": "white",
           "zerolinewidth": 2
          },
          "yaxis": {
           "automargin": true,
           "gridcolor": "white",
           "linecolor": "white",
           "ticks": "",
           "title": {
            "standoff": 15
           },
           "zerolinecolor": "white",
           "zerolinewidth": 2
          }
         }
        },
        "xaxis": {
         "anchor": "y",
         "domain": [
          0,
          1
         ],
         "title": {
          "text": ""
         }
        },
        "yaxis": {
         "anchor": "x",
         "domain": [
          0,
          1
         ],
         "title": {
          "text": "Value"
         }
        }
       }
      }
     },
     "metadata": {},
     "output_type": "display_data"
    }
   ],
   "source": [
    "\n",
    "plot_metric(coat_df, 'coat', 'MAP', methods=methods, propensities=_propensities)"
   ]
  },
  {
   "attachments": {},
   "cell_type": "markdown",
   "metadata": {},
   "source": [
    "### Recall@K"
   ]
  },
  {
   "cell_type": "code",
   "execution_count": 18,
   "metadata": {},
   "outputs": [
    {
     "data": {
      "application/vnd.plotly.v1+json": {
       "config": {
        "plotlyServerURL": "https://plot.ly"
       },
       "data": [
        {
         "alignmentgroup": "True",
         "hovertemplate": "Method=bpr<br>Metric@K=%{x}<br>Value=%{y}<extra></extra>",
         "legendgroup": "bpr",
         "marker": {
          "color": "#636efa"
         },
         "name": "bpr",
         "notched": false,
         "offsetgroup": "bpr",
         "orientation": "v",
         "quartilemethod": "exclusive",
         "showlegend": true,
         "type": "box",
         "x": [
          "Recall@3",
          "Recall@3",
          "Recall@3",
          "Recall@3",
          "Recall@3",
          "Recall@3",
          "Recall@3",
          "Recall@3",
          "Recall@3",
          "Recall@3",
          "Recall@5",
          "Recall@5",
          "Recall@5",
          "Recall@5",
          "Recall@5",
          "Recall@5",
          "Recall@5",
          "Recall@5",
          "Recall@5",
          "Recall@5",
          "Recall@8",
          "Recall@8",
          "Recall@8",
          "Recall@8",
          "Recall@8",
          "Recall@8",
          "Recall@8",
          "Recall@8",
          "Recall@8",
          "Recall@8"
         ],
         "x0": " ",
         "xaxis": "x",
         "y": [
          0.1193418171866447,
          0.1330391351943076,
          0.1140736179529283,
          0.121755610290093,
          0.127579365079365,
          0.1124644225506294,
          0.1201368363437328,
          0.1203188286808976,
          0.1178092501368363,
          0.0986521620142309,
          0.1684838533114395,
          0.1723152709359606,
          0.1584072249589491,
          0.1684263820470717,
          0.177051176792556,
          0.1550684181718664,
          0.1577599890530925,
          0.1756486042692939,
          0.1499781061850027,
          0.1705856595511768,
          0.2074671592775041,
          0.2282813355227148,
          0.2330569239189928,
          0.2294499178981938,
          0.2451737821565407,
          0.2287739463601532,
          0.2155883962780514,
          0.2189367816091954,
          0.2202353585112205,
          0.2176204159824849
         ],
         "y0": " ",
         "yaxis": "y"
        },
        {
         "alignmentgroup": "True",
         "hovertemplate": "Method=ubpr<br>Metric@K=%{x}<br>Value=%{y}<extra></extra>",
         "legendgroup": "ubpr",
         "marker": {
          "color": "#EF553B"
         },
         "name": "ubpr",
         "notched": false,
         "offsetgroup": "ubpr",
         "orientation": "v",
         "quartilemethod": "exclusive",
         "showlegend": true,
         "type": "box",
         "x": [
          "Recall@3",
          "Recall@3",
          "Recall@3",
          "Recall@3",
          "Recall@3",
          "Recall@3",
          "Recall@3",
          "Recall@3",
          "Recall@3",
          "Recall@3",
          "Recall@5",
          "Recall@5",
          "Recall@5",
          "Recall@5",
          "Recall@5",
          "Recall@5",
          "Recall@5",
          "Recall@5",
          "Recall@5",
          "Recall@5",
          "Recall@8",
          "Recall@8",
          "Recall@8",
          "Recall@8",
          "Recall@8",
          "Recall@8",
          "Recall@8",
          "Recall@8",
          "Recall@8",
          "Recall@8"
         ],
         "x0": " ",
         "xaxis": "x",
         "y": [
          0.1173111658456486,
          0.1165544608648057,
          0.1275314723590585,
          0.1149931581828133,
          0.1231390257252326,
          0.1245812807881773,
          0.1133894362342638,
          0.1243897099069512,
          0.1230925013683634,
          0.1242788724685276,
          0.1656910235358511,
          0.185715654077723,
          0.1673152709359606,
          0.1620224411603721,
          0.1602367268746579,
          0.1762328954570333,
          0.1661617405582922,
          0.1747482211275314,
          0.1602750410509031,
          0.158511220580186,
          0.2165804597701149,
          0.2300766283524904,
          0.2211070060207991,
          0.2427449370552818,
          0.2309209085933223,
          0.2186261631089217,
          0.2156376573617952,
          0.2406472359058565,
          0.211139846743295,
          0.2020826491516146
         ],
         "y0": " ",
         "yaxis": "y"
        },
        {
         "alignmentgroup": "True",
         "hovertemplate": "Method=ngcf_bpr<br>Metric@K=%{x}<br>Value=%{y}<extra></extra>",
         "legendgroup": "ngcf_bpr",
         "marker": {
          "color": "#00cc96"
         },
         "name": "ngcf_bpr",
         "notched": false,
         "offsetgroup": "ngcf_bpr",
         "orientation": "v",
         "quartilemethod": "exclusive",
         "showlegend": true,
         "type": "box",
         "x": [
          "Recall@3",
          "Recall@3",
          "Recall@3",
          "Recall@3",
          "Recall@3",
          "Recall@3",
          "Recall@3",
          "Recall@3",
          "Recall@3",
          "Recall@3",
          "Recall@5",
          "Recall@5",
          "Recall@5",
          "Recall@5",
          "Recall@5",
          "Recall@5",
          "Recall@5",
          "Recall@5",
          "Recall@5",
          "Recall@5",
          "Recall@8",
          "Recall@8",
          "Recall@8",
          "Recall@8",
          "Recall@8",
          "Recall@8",
          "Recall@8",
          "Recall@8",
          "Recall@8",
          "Recall@8"
         ],
         "x0": " ",
         "xaxis": "x",
         "y": [
          0.1388916256157635,
          0.1340311986863711,
          0.128431855500821,
          0.1374110563765736,
          0.1183456486042693,
          0.1438765736179529,
          0.130203886152162,
          0.138843732895457,
          0.1271428571428571,
          0.127067597153804,
          0.1891105637657361,
          0.185299671592775,
          0.1666830870279146,
          0.1761562671045429,
          0.1823248494800219,
          0.1724110563765736,
          0.1741256157635468,
          0.1840777230432403,
          0.1603229337712096,
          0.1663587848932676,
          0.2283771209633278,
          0.2293500273672687,
          0.2284674329501916,
          0.2307183908045977,
          0.2359975369458128,
          0.2243103448275862,
          0.2234783798576902,
          0.2337889983579638,
          0.2281622879036672,
          0.2129324028461959
         ],
         "y0": " ",
         "yaxis": "y"
        },
        {
         "alignmentgroup": "True",
         "hovertemplate": "Method=ngcf_ubpr<br>Metric@K=%{x}<br>Value=%{y}<extra></extra>",
         "legendgroup": "ngcf_ubpr",
         "marker": {
          "color": "#ab63fa"
         },
         "name": "ngcf_ubpr",
         "notched": false,
         "offsetgroup": "ngcf_ubpr",
         "orientation": "v",
         "quartilemethod": "exclusive",
         "showlegend": true,
         "type": "box",
         "x": [
          "Recall@3",
          "Recall@3",
          "Recall@3",
          "Recall@3",
          "Recall@3",
          "Recall@3",
          "Recall@3",
          "Recall@3",
          "Recall@3",
          "Recall@3",
          "Recall@5",
          "Recall@5",
          "Recall@5",
          "Recall@5",
          "Recall@5",
          "Recall@5",
          "Recall@5",
          "Recall@5",
          "Recall@5",
          "Recall@5",
          "Recall@8",
          "Recall@8",
          "Recall@8",
          "Recall@8",
          "Recall@8",
          "Recall@8",
          "Recall@8",
          "Recall@8",
          "Recall@8",
          "Recall@8"
         ],
         "x0": " ",
         "xaxis": "x",
         "y": [
          0.1324124247400109,
          0.1427463054187192,
          0.1182553366174055,
          0.1441365626710454,
          0.136339627805145,
          0.1304775588396278,
          0.1327271483305966,
          0.1354296661193212,
          0.1253188286808976,
          0.1200369458128078,
          0.1974452654625068,
          0.1719896004378763,
          0.1763341543513957,
          0.1900930487137383,
          0.2007635467980295,
          0.176535303776683,
          0.1748823207443897,
          0.1828762999452654,
          0.1859838533114395,
          0.1717747673782156,
          0.2329515599343186,
          0.2435426929392446,
          0.2376546250684181,
          0.2409304871373836,
          0.2414956212370005,
          0.2372126436781609,
          0.2308442802408319,
          0.238028188286809,
          0.2385207991242474,
          0.2300205254515599
         ],
         "y0": " ",
         "yaxis": "y"
        }
       ],
       "layout": {
        "boxmode": "group",
        "legend": {
         "title": {
          "text": "Method"
         },
         "tracegroupgap": 0
        },
        "margin": {
         "t": 60
        },
        "template": {
         "data": {
          "bar": [
           {
            "error_x": {
             "color": "#2a3f5f"
            },
            "error_y": {
             "color": "#2a3f5f"
            },
            "marker": {
             "line": {
              "color": "#E5ECF6",
              "width": 0.5
             },
             "pattern": {
              "fillmode": "overlay",
              "size": 10,
              "solidity": 0.2
             }
            },
            "type": "bar"
           }
          ],
          "barpolar": [
           {
            "marker": {
             "line": {
              "color": "#E5ECF6",
              "width": 0.5
             },
             "pattern": {
              "fillmode": "overlay",
              "size": 10,
              "solidity": 0.2
             }
            },
            "type": "barpolar"
           }
          ],
          "carpet": [
           {
            "aaxis": {
             "endlinecolor": "#2a3f5f",
             "gridcolor": "white",
             "linecolor": "white",
             "minorgridcolor": "white",
             "startlinecolor": "#2a3f5f"
            },
            "baxis": {
             "endlinecolor": "#2a3f5f",
             "gridcolor": "white",
             "linecolor": "white",
             "minorgridcolor": "white",
             "startlinecolor": "#2a3f5f"
            },
            "type": "carpet"
           }
          ],
          "choropleth": [
           {
            "colorbar": {
             "outlinewidth": 0,
             "ticks": ""
            },
            "type": "choropleth"
           }
          ],
          "contour": [
           {
            "colorbar": {
             "outlinewidth": 0,
             "ticks": ""
            },
            "colorscale": [
             [
              0,
              "#0d0887"
             ],
             [
              0.1111111111111111,
              "#46039f"
             ],
             [
              0.2222222222222222,
              "#7201a8"
             ],
             [
              0.3333333333333333,
              "#9c179e"
             ],
             [
              0.4444444444444444,
              "#bd3786"
             ],
             [
              0.5555555555555556,
              "#d8576b"
             ],
             [
              0.6666666666666666,
              "#ed7953"
             ],
             [
              0.7777777777777778,
              "#fb9f3a"
             ],
             [
              0.8888888888888888,
              "#fdca26"
             ],
             [
              1,
              "#f0f921"
             ]
            ],
            "type": "contour"
           }
          ],
          "contourcarpet": [
           {
            "colorbar": {
             "outlinewidth": 0,
             "ticks": ""
            },
            "type": "contourcarpet"
           }
          ],
          "heatmap": [
           {
            "colorbar": {
             "outlinewidth": 0,
             "ticks": ""
            },
            "colorscale": [
             [
              0,
              "#0d0887"
             ],
             [
              0.1111111111111111,
              "#46039f"
             ],
             [
              0.2222222222222222,
              "#7201a8"
             ],
             [
              0.3333333333333333,
              "#9c179e"
             ],
             [
              0.4444444444444444,
              "#bd3786"
             ],
             [
              0.5555555555555556,
              "#d8576b"
             ],
             [
              0.6666666666666666,
              "#ed7953"
             ],
             [
              0.7777777777777778,
              "#fb9f3a"
             ],
             [
              0.8888888888888888,
              "#fdca26"
             ],
             [
              1,
              "#f0f921"
             ]
            ],
            "type": "heatmap"
           }
          ],
          "heatmapgl": [
           {
            "colorbar": {
             "outlinewidth": 0,
             "ticks": ""
            },
            "colorscale": [
             [
              0,
              "#0d0887"
             ],
             [
              0.1111111111111111,
              "#46039f"
             ],
             [
              0.2222222222222222,
              "#7201a8"
             ],
             [
              0.3333333333333333,
              "#9c179e"
             ],
             [
              0.4444444444444444,
              "#bd3786"
             ],
             [
              0.5555555555555556,
              "#d8576b"
             ],
             [
              0.6666666666666666,
              "#ed7953"
             ],
             [
              0.7777777777777778,
              "#fb9f3a"
             ],
             [
              0.8888888888888888,
              "#fdca26"
             ],
             [
              1,
              "#f0f921"
             ]
            ],
            "type": "heatmapgl"
           }
          ],
          "histogram": [
           {
            "marker": {
             "pattern": {
              "fillmode": "overlay",
              "size": 10,
              "solidity": 0.2
             }
            },
            "type": "histogram"
           }
          ],
          "histogram2d": [
           {
            "colorbar": {
             "outlinewidth": 0,
             "ticks": ""
            },
            "colorscale": [
             [
              0,
              "#0d0887"
             ],
             [
              0.1111111111111111,
              "#46039f"
             ],
             [
              0.2222222222222222,
              "#7201a8"
             ],
             [
              0.3333333333333333,
              "#9c179e"
             ],
             [
              0.4444444444444444,
              "#bd3786"
             ],
             [
              0.5555555555555556,
              "#d8576b"
             ],
             [
              0.6666666666666666,
              "#ed7953"
             ],
             [
              0.7777777777777778,
              "#fb9f3a"
             ],
             [
              0.8888888888888888,
              "#fdca26"
             ],
             [
              1,
              "#f0f921"
             ]
            ],
            "type": "histogram2d"
           }
          ],
          "histogram2dcontour": [
           {
            "colorbar": {
             "outlinewidth": 0,
             "ticks": ""
            },
            "colorscale": [
             [
              0,
              "#0d0887"
             ],
             [
              0.1111111111111111,
              "#46039f"
             ],
             [
              0.2222222222222222,
              "#7201a8"
             ],
             [
              0.3333333333333333,
              "#9c179e"
             ],
             [
              0.4444444444444444,
              "#bd3786"
             ],
             [
              0.5555555555555556,
              "#d8576b"
             ],
             [
              0.6666666666666666,
              "#ed7953"
             ],
             [
              0.7777777777777778,
              "#fb9f3a"
             ],
             [
              0.8888888888888888,
              "#fdca26"
             ],
             [
              1,
              "#f0f921"
             ]
            ],
            "type": "histogram2dcontour"
           }
          ],
          "mesh3d": [
           {
            "colorbar": {
             "outlinewidth": 0,
             "ticks": ""
            },
            "type": "mesh3d"
           }
          ],
          "parcoords": [
           {
            "line": {
             "colorbar": {
              "outlinewidth": 0,
              "ticks": ""
             }
            },
            "type": "parcoords"
           }
          ],
          "pie": [
           {
            "automargin": true,
            "type": "pie"
           }
          ],
          "scatter": [
           {
            "fillpattern": {
             "fillmode": "overlay",
             "size": 10,
             "solidity": 0.2
            },
            "type": "scatter"
           }
          ],
          "scatter3d": [
           {
            "line": {
             "colorbar": {
              "outlinewidth": 0,
              "ticks": ""
             }
            },
            "marker": {
             "colorbar": {
              "outlinewidth": 0,
              "ticks": ""
             }
            },
            "type": "scatter3d"
           }
          ],
          "scattercarpet": [
           {
            "marker": {
             "colorbar": {
              "outlinewidth": 0,
              "ticks": ""
             }
            },
            "type": "scattercarpet"
           }
          ],
          "scattergeo": [
           {
            "marker": {
             "colorbar": {
              "outlinewidth": 0,
              "ticks": ""
             }
            },
            "type": "scattergeo"
           }
          ],
          "scattergl": [
           {
            "marker": {
             "colorbar": {
              "outlinewidth": 0,
              "ticks": ""
             }
            },
            "type": "scattergl"
           }
          ],
          "scattermapbox": [
           {
            "marker": {
             "colorbar": {
              "outlinewidth": 0,
              "ticks": ""
             }
            },
            "type": "scattermapbox"
           }
          ],
          "scatterpolar": [
           {
            "marker": {
             "colorbar": {
              "outlinewidth": 0,
              "ticks": ""
             }
            },
            "type": "scatterpolar"
           }
          ],
          "scatterpolargl": [
           {
            "marker": {
             "colorbar": {
              "outlinewidth": 0,
              "ticks": ""
             }
            },
            "type": "scatterpolargl"
           }
          ],
          "scatterternary": [
           {
            "marker": {
             "colorbar": {
              "outlinewidth": 0,
              "ticks": ""
             }
            },
            "type": "scatterternary"
           }
          ],
          "surface": [
           {
            "colorbar": {
             "outlinewidth": 0,
             "ticks": ""
            },
            "colorscale": [
             [
              0,
              "#0d0887"
             ],
             [
              0.1111111111111111,
              "#46039f"
             ],
             [
              0.2222222222222222,
              "#7201a8"
             ],
             [
              0.3333333333333333,
              "#9c179e"
             ],
             [
              0.4444444444444444,
              "#bd3786"
             ],
             [
              0.5555555555555556,
              "#d8576b"
             ],
             [
              0.6666666666666666,
              "#ed7953"
             ],
             [
              0.7777777777777778,
              "#fb9f3a"
             ],
             [
              0.8888888888888888,
              "#fdca26"
             ],
             [
              1,
              "#f0f921"
             ]
            ],
            "type": "surface"
           }
          ],
          "table": [
           {
            "cells": {
             "fill": {
              "color": "#EBF0F8"
             },
             "line": {
              "color": "white"
             }
            },
            "header": {
             "fill": {
              "color": "#C8D4E3"
             },
             "line": {
              "color": "white"
             }
            },
            "type": "table"
           }
          ]
         },
         "layout": {
          "annotationdefaults": {
           "arrowcolor": "#2a3f5f",
           "arrowhead": 0,
           "arrowwidth": 1
          },
          "autotypenumbers": "strict",
          "coloraxis": {
           "colorbar": {
            "outlinewidth": 0,
            "ticks": ""
           }
          },
          "colorscale": {
           "diverging": [
            [
             0,
             "#8e0152"
            ],
            [
             0.1,
             "#c51b7d"
            ],
            [
             0.2,
             "#de77ae"
            ],
            [
             0.3,
             "#f1b6da"
            ],
            [
             0.4,
             "#fde0ef"
            ],
            [
             0.5,
             "#f7f7f7"
            ],
            [
             0.6,
             "#e6f5d0"
            ],
            [
             0.7,
             "#b8e186"
            ],
            [
             0.8,
             "#7fbc41"
            ],
            [
             0.9,
             "#4d9221"
            ],
            [
             1,
             "#276419"
            ]
           ],
           "sequential": [
            [
             0,
             "#0d0887"
            ],
            [
             0.1111111111111111,
             "#46039f"
            ],
            [
             0.2222222222222222,
             "#7201a8"
            ],
            [
             0.3333333333333333,
             "#9c179e"
            ],
            [
             0.4444444444444444,
             "#bd3786"
            ],
            [
             0.5555555555555556,
             "#d8576b"
            ],
            [
             0.6666666666666666,
             "#ed7953"
            ],
            [
             0.7777777777777778,
             "#fb9f3a"
            ],
            [
             0.8888888888888888,
             "#fdca26"
            ],
            [
             1,
             "#f0f921"
            ]
           ],
           "sequentialminus": [
            [
             0,
             "#0d0887"
            ],
            [
             0.1111111111111111,
             "#46039f"
            ],
            [
             0.2222222222222222,
             "#7201a8"
            ],
            [
             0.3333333333333333,
             "#9c179e"
            ],
            [
             0.4444444444444444,
             "#bd3786"
            ],
            [
             0.5555555555555556,
             "#d8576b"
            ],
            [
             0.6666666666666666,
             "#ed7953"
            ],
            [
             0.7777777777777778,
             "#fb9f3a"
            ],
            [
             0.8888888888888888,
             "#fdca26"
            ],
            [
             1,
             "#f0f921"
            ]
           ]
          },
          "colorway": [
           "#636efa",
           "#EF553B",
           "#00cc96",
           "#ab63fa",
           "#FFA15A",
           "#19d3f3",
           "#FF6692",
           "#B6E880",
           "#FF97FF",
           "#FECB52"
          ],
          "font": {
           "color": "#2a3f5f"
          },
          "geo": {
           "bgcolor": "white",
           "lakecolor": "white",
           "landcolor": "#E5ECF6",
           "showlakes": true,
           "showland": true,
           "subunitcolor": "white"
          },
          "hoverlabel": {
           "align": "left"
          },
          "hovermode": "closest",
          "mapbox": {
           "style": "light"
          },
          "paper_bgcolor": "white",
          "plot_bgcolor": "#E5ECF6",
          "polar": {
           "angularaxis": {
            "gridcolor": "white",
            "linecolor": "white",
            "ticks": ""
           },
           "bgcolor": "#E5ECF6",
           "radialaxis": {
            "gridcolor": "white",
            "linecolor": "white",
            "ticks": ""
           }
          },
          "scene": {
           "xaxis": {
            "backgroundcolor": "#E5ECF6",
            "gridcolor": "white",
            "gridwidth": 2,
            "linecolor": "white",
            "showbackground": true,
            "ticks": "",
            "zerolinecolor": "white"
           },
           "yaxis": {
            "backgroundcolor": "#E5ECF6",
            "gridcolor": "white",
            "gridwidth": 2,
            "linecolor": "white",
            "showbackground": true,
            "ticks": "",
            "zerolinecolor": "white"
           },
           "zaxis": {
            "backgroundcolor": "#E5ECF6",
            "gridcolor": "white",
            "gridwidth": 2,
            "linecolor": "white",
            "showbackground": true,
            "ticks": "",
            "zerolinecolor": "white"
           }
          },
          "shapedefaults": {
           "line": {
            "color": "#2a3f5f"
           }
          },
          "ternary": {
           "aaxis": {
            "gridcolor": "white",
            "linecolor": "white",
            "ticks": ""
           },
           "baxis": {
            "gridcolor": "white",
            "linecolor": "white",
            "ticks": ""
           },
           "bgcolor": "#E5ECF6",
           "caxis": {
            "gridcolor": "white",
            "linecolor": "white",
            "ticks": ""
           }
          },
          "title": {
           "x": 0.05
          },
          "xaxis": {
           "automargin": true,
           "gridcolor": "white",
           "linecolor": "white",
           "ticks": "",
           "title": {
            "standoff": 15
           },
           "zerolinecolor": "white",
           "zerolinewidth": 2
          },
          "yaxis": {
           "automargin": true,
           "gridcolor": "white",
           "linecolor": "white",
           "ticks": "",
           "title": {
            "standoff": 15
           },
           "zerolinecolor": "white",
           "zerolinewidth": 2
          }
         }
        },
        "xaxis": {
         "anchor": "y",
         "domain": [
          0,
          1
         ],
         "title": {
          "text": ""
         }
        },
        "yaxis": {
         "anchor": "x",
         "domain": [
          0,
          1
         ],
         "title": {
          "text": "Value"
         }
        }
       }
      }
     },
     "metadata": {},
     "output_type": "display_data"
    }
   ],
   "source": [
    "\n",
    "plot_metric(coat_df, 'coat', 'Recall', methods=methods, propensities=_propensities)"
   ]
  }
 ],
 "metadata": {
  "kernelspec": {
   "display_name": "subnetwork_inference",
   "language": "python",
   "name": "python3"
  },
  "language_info": {
   "codemirror_mode": {
    "name": "ipython",
    "version": 3
   },
   "file_extension": ".py",
   "mimetype": "text/x-python",
   "name": "python",
   "nbconvert_exporter": "python",
   "pygments_lexer": "ipython3",
   "version": "3.8.16"
  },
  "orig_nbformat": 4
 },
 "nbformat": 4,
 "nbformat_minor": 2
}
